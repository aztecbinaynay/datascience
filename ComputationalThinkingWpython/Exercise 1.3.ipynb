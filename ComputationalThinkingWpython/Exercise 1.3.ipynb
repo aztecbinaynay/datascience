{
 "metadata": {
  "language_info": {
   "codemirror_mode": {
    "name": "ipython",
    "version": 3
   },
   "file_extension": ".py",
   "mimetype": "text/x-python",
   "name": "python",
   "nbconvert_exporter": "python",
   "pygments_lexer": "ipython3",
   "version": "3.9.2"
  },
  "orig_nbformat": 2,
  "kernelspec": {
   "name": "python392jvsc74a57bd08432bf4ecb8928d64f270203b8f351837d7762493b2a0af9890ef9f49c0ffb02",
   "display_name": "Python 3.9.2 64-bit"
  },
  "metadata": {
   "interpreter": {
    "hash": "8432bf4ecb8928d64f270203b8f351837d7762493b2a0af9890ef9f49c0ffb02"
   }
  }
 },
 "nbformat": 4,
 "nbformat_minor": 2,
 "cells": [
  {
   "source": [
    "# Exercise 1.3"
   ],
   "cell_type": "markdown",
   "metadata": {}
  },
  {
   "cell_type": "code",
   "execution_count": 2,
   "metadata": {},
   "outputs": [],
   "source": [
    "class Node(object):\n",
    "    def __init__(self, name):\n",
    "        \"\"\"Assumes name is a string\"\"\"\n",
    "        self.name = name\n",
    "    def getName(self):\n",
    "        return self.name\n",
    "    def __str__(self):\n",
    "        return self.name\n",
    "\n",
    "class Edge(object):\n",
    "    def __init__(self, src, dest):\n",
    "        \"\"\"Assumes src and dest are nodes\"\"\"\n",
    "        self.src = src\n",
    "        self.dest = dest\n",
    "    def getSource(self):\n",
    "        return self.src\n",
    "    def getDestination(self):\n",
    "        return self.dest\n",
    "    def __str__(self):\n",
    "        return self.src.getName() + '->' + self.dest.getName()\n",
    "\n",
    "class Digraph(object):\n",
    "    \"\"\"edges is a dict mapping each node to a list of\n",
    "    its children\"\"\"\n",
    "    def __init__(self):\n",
    "        self.edges = {}\n",
    "    def addNode(self, node):\n",
    "        if node in self.edges:\n",
    "            raise ValueError('Duplicate node')\n",
    "        else:\n",
    "            self.edges[node] = []\n",
    "    def addEdge(self, edge):\n",
    "        src = edge.getSource()\n",
    "        dest = edge.getDestination()\n",
    "        if not (src in self.edges and dest in self.edges):\n",
    "            raise ValueError('Node not in graph')\n",
    "        self.edges[src].append(dest)\n",
    "    def childrenOf(self, node):\n",
    "        return self.edges[node]\n",
    "    def hasNode(self, node):\n",
    "        return node in self.edges\n",
    "    def getNode(self, name):\n",
    "        for n in self.edges:\n",
    "            if n.getName() == name:\n",
    "                return n\n",
    "        raise NameError(name)\n",
    "    def __str__(self):\n",
    "        result = ''\n",
    "        for src in self.edges:\n",
    "            for dest in self.edges[src]:\n",
    "                result = result + src.getName() + '->'\\\n",
    "                         + dest.getName() + '\\n'\n",
    "        return result[:-1]\n",
    "    \n",
    "class Graph(Digraph):    \n",
    "    def addEdge(self, edge):        \n",
    "        Digraph.addEdge(self, edge)        \n",
    "        rev = Edge(edge.getDestination(), edge.getSource())        \n",
    "        Digraph.addEdge(self, rev)\n",
    "\n",
    "def buildCityGraph(graphType):    \n",
    "    g = graphType()    \n",
    "    for name in ('Boston', 'Providence', 'New York', 'Chicago', 'Denver', 'Phoenix', 'Los Angeles'): \n",
    "        #Create 7 nodes        \n",
    "        g.addNode(Node(name))    \n",
    "    g.addEdge(Edge(g.getNode('Boston'), g.getNode('Providence')))    \n",
    "    g.addEdge(Edge(g.getNode('Boston'), g.getNode('New York')))    \n",
    "    g.addEdge(Edge(g.getNode('Providence'), g.getNode('Boston')))    \n",
    "    g.addEdge(Edge(g.getNode('Providence'), g.getNode('New York')))    \n",
    "    g.addEdge(Edge(g.getNode('New York'), g.getNode('Chicago')))    \n",
    "    g.addEdge(Edge(g.getNode('Chicago'), g.getNode('Denver')))    \n",
    "    g.addEdge(Edge(g.getNode('Denver'), g.getNode('Phoenix')))    \n",
    "    g.addEdge(Edge(g.getNode('Denver'), g.getNode('New York')))    \n",
    "    g.addEdge(Edge(g.getNode('Los Angeles'), g.getNode('Boston')))    \n",
    "    return g\n",
    "\n",
    "def printPath(path):    \n",
    "    \"\"\"Assumes path is a list of nodes\"\"\"    \n",
    "    result = ''    \n",
    "    for i in range(len(path)):        \n",
    "        result = result + str(path[i])        \n",
    "        if i != len(path) - 1:            \n",
    "            result = result + '->'    \n",
    "    return result\n",
    "\n",
    "def DFS(graph, start, end, path, shortest, toPrint = False):\n",
    "    \"\"\"Assumes graph is a Digraph; start and end are nodes;\n",
    "          path and shortest are lists of nodes\n",
    "       Returns a shortest path from start to end in graph\"\"\"\n",
    "    path = path + [start]\n",
    "    if toPrint:\n",
    "        print('Current DFS path:', printPath(path))\n",
    "    if start == end:\n",
    "        return path\n",
    "    for node in graph.childrenOf(start):\n",
    "        if node not in path: #avoid cycles\n",
    "            if shortest == None or len(path) < len(shortest):\n",
    "                newPath = DFS(graph, node, end, path, shortest,\n",
    "                              toPrint)\n",
    "                if newPath != None:\n",
    "                    shortest = newPath\n",
    "        elif toPrint:\n",
    "            print('Already visited', node)\n",
    "    return shortest\n",
    "\n",
    "def shortestPath(graph, start, end, toPrint = False):\n",
    "    \"\"\"Assumes graph is a Digraph; start and end are nodes\n",
    "       Returns a shortest path from start to end in graph\"\"\"\n",
    "    return DFS(graph, start, end, [], None, toPrint)\n",
    "\n",
    "def testSP(source, destination):\n",
    "    g = buildCityGraph(Digraph)\n",
    "    sp = shortestPath(g, g.getNode(source), g.getNode(destination),\n",
    "                      toPrint = True)\n",
    "    if sp != None:\n",
    "        print('Shortest path from', source, 'to',\n",
    "              destination, 'is', printPath(sp))\n",
    "    else:\n",
    "        print('There is no path from', source, 'to', destination)"
   ]
  },
  {
   "cell_type": "code",
   "execution_count": 3,
   "metadata": {},
   "outputs": [
    {
     "output_type": "stream",
     "name": "stdout",
     "text": [
      "Current DFS path: Boston\nCurrent DFS path: Boston->Providence\nAlready visited Boston\nCurrent DFS path: Boston->Providence->New York\nCurrent DFS path: Boston->Providence->New York->Chicago\nCurrent DFS path: Boston->Providence->New York->Chicago->Denver\nCurrent DFS path: Boston->Providence->New York->Chicago->Denver->Phoenix\nAlready visited New York\nCurrent DFS path: Boston->New York\nCurrent DFS path: Boston->New York->Chicago\nCurrent DFS path: Boston->New York->Chicago->Denver\nCurrent DFS path: Boston->New York->Chicago->Denver->Phoenix\nAlready visited New York\nShortest path from Boston to Phoenix is Boston->New York->Chicago->Denver->Phoenix\n"
     ]
    }
   ],
   "source": [
    "testSP('Boston', 'Phoenix')"
   ]
  },
  {
   "cell_type": "code",
   "execution_count": 4,
   "metadata": {},
   "outputs": [],
   "source": [
    "def BFS(graph, start, end, toPrint = False):\n",
    "    \"\"\"Assumes graph is a Digraph; start and end are nodes\n",
    "       Returns a shortest path from start to end in graph\"\"\"\n",
    "    initPath = [start]\n",
    "    pathQueue = [initPath]\n",
    "    while len(pathQueue) != 0:\n",
    "        #Get and remove oldest element in pathQueue\n",
    "        tmpPath = pathQueue.pop(0)\n",
    "        if toPrint:\n",
    "            print('Current BFS path:', printPath(tmpPath))\n",
    "        lastNode = tmpPath[-1]\n",
    "        if lastNode == end:\n",
    "            return tmpPath\n",
    "        for nextNode in graph.childrenOf(lastNode):\n",
    "            if nextNode not in tmpPath:\n",
    "                newPath = tmpPath + [nextNode]\n",
    "                pathQueue.append(newPath)\n",
    "    return None\n",
    "\n",
    "def shortestPath(graph, start, end, toPrint = False):\n",
    "    \"\"\"Assumes graph is a Digraph; start and end are nodes\n",
    "       Returns a shortest path from start to end in graph\"\"\"\n",
    "    return BFS(graph, start, end, toPrint)"
   ]
  },
  {
   "cell_type": "code",
   "execution_count": 5,
   "metadata": {},
   "outputs": [
    {
     "output_type": "stream",
     "name": "stdout",
     "text": [
      "Current BFS path: Boston\nCurrent BFS path: Boston->Providence\nCurrent BFS path: Boston->New York\nCurrent BFS path: Boston->Providence->New York\nCurrent BFS path: Boston->New York->Chicago\nCurrent BFS path: Boston->Providence->New York->Chicago\nCurrent BFS path: Boston->New York->Chicago->Denver\nCurrent BFS path: Boston->Providence->New York->Chicago->Denver\nCurrent BFS path: Boston->New York->Chicago->Denver->Phoenix\nShortest path from Boston to Phoenix is Boston->New York->Chicago->Denver->Phoenix\n"
     ]
    }
   ],
   "source": [
    "testSP('Boston', 'Phoenix')"
   ]
  }
 ]
}