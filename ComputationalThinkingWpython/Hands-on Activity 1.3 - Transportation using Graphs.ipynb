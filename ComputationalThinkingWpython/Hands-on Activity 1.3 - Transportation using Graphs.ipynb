{
 "cells": [
  {
   "cell_type": "markdown",
   "metadata": {},
   "source": [
    "# Hands-on Activity 1.3 | Transportation using Graphs"
   ]
  },
  {
   "cell_type": "markdown",
   "metadata": {},
   "source": [
    "#### Objective(s):\n",
    "\n",
    "This activity aims to demonstrate how to solve transportation related problem using Graphs"
   ]
  },
  {
   "cell_type": "markdown",
   "metadata": {},
   "source": [
    "#### Intended Learning Outcomes (ILOs):\n",
    "* Demonstrate how to compute the shortest path from source to destination using graphs\n",
    "* Apply DFS and BFS to compute the shortest path"
   ]
  },
  {
   "cell_type": "markdown",
   "metadata": {},
   "source": [
    "#### Resources:\n",
    "* Jupyter Notebook"
   ]
  },
  {
   "cell_type": "markdown",
   "metadata": {},
   "source": [
    "#### What do you need to create?\r\n",
    "* Node class (to create the nodes themselves)\r\n",
    "* Edge class (takes in two Node objects, one for source and one for destination)\r\n",
    "* Create a Digraph class (used to add nodes and edges, used to check stored known nodes, used to ask for childrend nodes, etc...)\r\n",
    "* Graph class that inherits methods from Digraph (used to ;drive' Digraph class to add edges)\r\n",
    "* function: buildCityGraph that takes in Digraph class as an argument (calls the classes to actually create the graphs)\r\n",
    "* function printPath____?\r\n"
   ]
  },
  {
   "cell_type": "markdown",
   "metadata": {},
   "source": [
    "#### Procedures:"
   ]
  },
  {
   "cell_type": "markdown",
   "metadata": {},
   "source": [
    "1. Create a Node class"
   ]
  },
  {
   "cell_type": "code",
   "execution_count": 1,
   "metadata": {},
   "outputs": [],
   "source": [
    "class Node(object):\n",
    "    def __init__(self, name):\n",
    "        \"\"\"Assumes name is a string\"\"\"\n",
    "        self.name = name\n",
    "    def getName(self):\n",
    "        return self.name\n",
    "    def __str__(self):\n",
    "        return self.name"
   ]
  },
  {
   "cell_type": "markdown",
   "metadata": {},
   "source": [
    "2. Create an Edge class"
   ]
  },
  {
   "cell_type": "code",
   "execution_count": 2,
   "metadata": {},
   "outputs": [],
   "source": [
    "class Edge(object):\n",
    "    def __init__(self, src, dest):\n",
    "        \"\"\"Assumes src and dest are nodes\"\"\"\n",
    "        self.src = src\n",
    "        self.dest = dest\n",
    "    def getSource(self):\n",
    "        return self.src\n",
    "    def getDestination(self):\n",
    "        return self.dest\n",
    "    def __str__(self):\n",
    "        return self.src.getName() + '->' + self.dest.getName()"
   ]
  },
  {
   "cell_type": "markdown",
   "metadata": {},
   "source": [
    "3. Create Digraph class that add nodes and edges"
   ]
  },
  {
   "cell_type": "code",
   "execution_count": 39,
   "metadata": {},
   "outputs": [],
   "source": [
    "#2.3 called: g = buildCityGraph(Digraph)\r\n",
    "#! note: some methods here might be called using a function that uses the Digrph class in it\r\n",
    "#! such as: buildCityGraph -> g becomes and object of Digraph\r\n",
    "\r\n",
    "class Digraph(object):\r\n",
    "    \"\"\"\r\n",
    "    edges is a dict mapping each node to a list of\r\n",
    "    its children\r\n",
    "    \"\"\"\r\n",
    "\r\n",
    "    def __init__(self):\r\n",
    "        #3 identity function creates a dictionary called self.edges\r\n",
    "        # the keys are node objects and the the values are its children nodes\r\n",
    "        self.edges = {}\r\n",
    "        # self.edges ={object:[object1, object2, etc...], etc...}\r\n",
    "\r\n",
    "    def addNode(self, node):\r\n",
    "        #4 callable method that checks if a node that was created exists in your self.edges dictionary,\r\n",
    "        # you can add a node in the self.edges without giving it children/destinations\r\n",
    "        # the node is an objects of the class Node() NOT a string\r\n",
    "        if node in self.edges:\r\n",
    "            raise ValueError('Duplicate node')\r\n",
    "        else: \r\n",
    "            #5 places a node as a key in the dict and maps it to a list \r\n",
    "            # (the list would represent the node's neighbors)\r\n",
    "            self.edges[node] = []\r\n",
    "            \r\n",
    "    def addEdge(self, edge):\r\n",
    "        #6 edge is the class Edge(obecjt: src, object: dest)\r\n",
    "        #6.1 at the moment this method is not called\r\n",
    "        src = edge.getSource()\r\n",
    "        #7 src is given the return value of edge when the method .getSource() is used,\r\n",
    "        # which is the source node. Note that src is an object made from Node(class)\r\n",
    "        dest = edge.getDestination()\r\n",
    "        #8 dest is given the return value of edge object when the method .getDestination() is used,\r\n",
    "        # which is the destination node. Note that dest is an object made from Node(class) not a string\r\n",
    "        if not (src in self.edges and dest in self.edges):\r\n",
    "            raise ValueError('Node not in graph')\r\n",
    "            #9 if one or both of the src and dest nodes does/do not exist in self.edges,\r\n",
    "            # then this raise error will occur.\r\n",
    "        self.edges[src].append(dest)\r\n",
    "        #10 the key value of source will be given a value in its list the destination. \r\n",
    "        #! note: if the graph is undirected should we consider putting: self.edges[dest].append(src) \r\n",
    "        \r\n",
    "    def childrenOf(self, node):\r\n",
    "        return self.edges[node]\r\n",
    "        #11 calling this method simply returns the list of destinations a source node has.\r\n",
    "    def hasNode(self, node):\r\n",
    "        return node in self.edges\r\n",
    "        #12 calling this method g.hasNode(node) checks if the node exists in self.edges, \r\n",
    "        # it checks whether the instance of g (using Digraph class) has that node.\r\n",
    "        # the value returned here is either True or False.\r\n",
    "        #! note that calling this method requires you to call the .getNode() method in its parameter \r\n",
    "        #! Why? the node parameter here is an object and not a string. Therefore you need a function\r\n",
    "        #! that returns an object. The .getNode(string) accepts a node as its string name and returns \r\n",
    "        #! the actual object node. Example: g.hasNode(g.getNode('Boston'))\r\n",
    "    def getNode(self, name):\r\n",
    "        #13 calling this method needs the string parameter of a created node.\r\n",
    "        for n in self.edges:\r\n",
    "            if n.getName() == name:\r\n",
    "                # nodes in the dictionary are iterated and since they are objects of Node class the \r\n",
    "                # method .getName() gives the name for that node. \r\n",
    "                #! You cannot simly use n == name since n is an object and not a sring\r\n",
    "                #! using n.getName() gives a string to be compared with name\r\n",
    "                return n\r\n",
    "                # if the node you are looking for exists in the self.edges, return that node.\r\n",
    "        raise NameError(name)\r\n",
    "        #if the node you are looking \r\n",
    "    def __str__(self):\r\n",
    "        #14 print method that is called when the command print(g) is called, given that g is an object of Digraph\r\n",
    "        # this method prints the source node and one of their children, if the source node ha more\r\n",
    "        # than one child, the next like will be 'source -> next child' node and so on\r\n",
    "        result = ''\r\n",
    "        # result is an empty string initially\r\n",
    "        for src in self.edges:\r\n",
    "            for dest in self.edges[src]:\r\n",
    "                result += src.getName() + '->' + dest.getName() + '\\n'\r\n",
    "        # the whole for loops simply append 'src -> node' in the variable result. \r\n",
    "        # each iteration produces one src and dest node, although you can change that to include all\r\n",
    "        # the dest nodes at once. \r\n",
    "        return result[:-1] #omit final newline. Omit the line of the final '\\n'\r\n",
    "\r\n",
    "# \"\"\"\r\n",
    "# code below can replace the code under the __str__ method if the user wants the program to print out:\r\n",
    "# 'src -> node ->next node -> next node'\r\n",
    "# \"\"\"\r\n",
    "# result = ''\r\n",
    "#         # result is an empty string initially\r\n",
    "#         for src in self.edges:\r\n",
    "#             child = ''\r\n",
    "#             for dest in self.edges[src]:\r\n",
    "#                 child += dest.getName() + '->'\r\n",
    "#                 #gets all the children of that node. Note that '->' is at the end and we don't want that\r\n",
    "#             if self.edges[src]:\r\n",
    "#                 # if the list of the src node is not empty, then continue...\r\n",
    "#                 # src nodes like Pheonix that has no child node will not be printed.\r\n",
    "#                 child = child[:-2]\r\n",
    "#                 result += src.getName() + '->' + child + '\\n'\r\n",
    "#         return result[:-1] \r\n"
   ]
  },
  {
   "cell_type": "markdown",
   "metadata": {},
   "source": [
    "4. Create a Graph class from Digraph class that deifnes the destination and Source"
   ]
  },
  {
   "cell_type": "code",
   "execution_count": 4,
   "metadata": {},
   "outputs": [],
   "source": [
    "class Graph(Digraph):\r\n",
    "    def addEdge(self, edge):\r\n",
    "        Digraph.addEdge(self, edge)      \r\n",
    "        rev = Edge(edge.getDestination(), edge.getSource())        \r\n",
    "        Digraph.addEdge(self, rev)"
   ]
  },
  {
   "cell_type": "markdown",
   "metadata": {},
   "source": [
    "5. Create a buildCityGraph method to add nodes (City) and edges   (source to destination)"
   ]
  },
  {
   "cell_type": "code",
   "execution_count": 5,
   "metadata": {},
   "outputs": [],
   "source": [
    "#2.1 called: buildCityGraph(Digraph)\r\n",
    "def buildCityGraph(Digraph):    \r\n",
    "    #2.2 create an instance of the object called g from the class Digraph()\r\n",
    "    g = Digraph()    \r\n",
    "    for name in ('Boston', 'Providence', 'New York', 'Chicago', 'Denver', 'Phoenix', 'Los Angeles'): \r\n",
    "        #Create 7 nodes        \r\n",
    "        g.addNode(Node(name))    \r\n",
    "    g.addEdge(Edge(g.getNode('Boston'), g.getNode('Providence')))    \r\n",
    "    g.addEdge(Edge(g.getNode('Boston'), g.getNode('New York')))    \r\n",
    "    g.addEdge(Edge(g.getNode('Providence'), g.getNode('Boston')))    \r\n",
    "    g.addEdge(Edge(g.getNode('Providence'), g.getNode('New York')))    \r\n",
    "    g.addEdge(Edge(g.getNode('New York'), g.getNode('Chicago')))    \r\n",
    "    g.addEdge(Edge(g.getNode('Chicago'), g.getNode('Denver')))    \r\n",
    "    g.addEdge(Edge(g.getNode('Denver'), g.getNode('Phoenix')))    \r\n",
    "    g.addEdge(Edge(g.getNode('Denver'), g.getNode('New York')))    \r\n",
    "    g.addEdge(Edge(g.getNode('Los Angeles'), g.getNode('Boston')))\r\n",
    "    return g"
   ]
  },
  {
   "cell_type": "code",
   "execution_count": 6,
   "metadata": {},
   "outputs": [],
   "source": [
    "def printPath(path):    \n",
    "    \"\"\"Assumes path is a list of nodes\"\"\"    \n",
    "    result = ''    \n",
    "    for i in range(len(path)):        \n",
    "        result = result + str(path[i])        \n",
    "        if i != len(path) - 1:            \n",
    "            result = result + '->'    \n",
    "    return result"
   ]
  },
  {
   "cell_type": "markdown",
   "metadata": {},
   "source": [
    "6. Create a method to define DFS technique"
   ]
  },
  {
   "cell_type": "code",
   "execution_count": 7,
   "metadata": {},
   "outputs": [],
   "source": [
    "def DFS(graph, start, end, path, shortest, toPrint = False):\n",
    "    \"\"\"Assumes graph is a Digraph; start and end are nodes;\n",
    "          path and shortest are lists of nodes\n",
    "       Returns a shortest path from start to end in graph\"\"\"\n",
    "    path = path + [start]\n",
    "    if toPrint:\n",
    "        print('Current DFS path:', printPath(path))\n",
    "    if start == end:\n",
    "        return path\n",
    "    for node in graph.childrenOf(start):\n",
    "        if node not in path: #avoid cycles\n",
    "            if shortest == None or len(path) < len(shortest):\n",
    "                newPath = DFS(graph, node, end, path, shortest,\n",
    "                              toPrint)\n",
    "                if newPath != None:\n",
    "                    shortest = newPath\n",
    "        elif toPrint:\n",
    "            print('Already visited', node)\n",
    "    return shortest"
   ]
  },
  {
   "cell_type": "markdown",
   "metadata": {},
   "source": [
    "7. Define a shortestPath method to return the shortest path from source to destination using DFS"
   ]
  },
  {
   "cell_type": "code",
   "execution_count": 29,
   "metadata": {},
   "outputs": [],
   "source": [
    "def shortestPath(graph, start, end, toPrint = False):\n",
    "    \"\"\"Assumes graph is a Digraph; start and end are nodes\n",
    "       Returns a shortest path from start to end in graph\"\"\"\n",
    "    return DFS(graph, start, end, [], None, toPrint)"
   ]
  },
  {
   "cell_type": "markdown",
   "metadata": {},
   "source": [
    "8. Create a method to test the shortest path method"
   ]
  },
  {
   "cell_type": "code",
   "execution_count": 41,
   "metadata": {},
   "outputs": [],
   "source": [
    "#1.2 -> the function called has the parameters of a source and a destination, both of which are\r\n",
    "# strings\r\n",
    "\r\n",
    "def testSP(source, destination):\r\n",
    "    g = buildCityGraph(Digraph) #1.3 -> call a function called buildCityGraph() with the argument of a class \r\n",
    "    print('---Testting g under this line---')\r\n",
    "    print(\"check the hasNode('Boston') method - Does Boston exist in self.edges? answerr: \"+\\\r\n",
    "          str(g.hasNode(g.getNode('Boston'))))\r\n",
    "    print(\"getNode('Boston') method gives \" + str((g.getNode('Boston'))))\r\n",
    "    print(\"what are the children node of 'Boston? \" +  str(g.childrenOf(g.getNode('Boston'))))\r\n",
    "    print('what is g? using the __str__ method of g gives: ' + '\\n'+ str(g))\r\n",
    "    print('---Testting g above this line---\\n') \r\n",
    "    sp = shortestPath(g, g.getNode(source), g.getNode(destination), toPrint = True)\r\n",
    "    if sp != None:\r\n",
    "        print('Shortest path from', source, 'to', destination, 'is', printPath(sp))\r\n",
    "    else:\r\n",
    "        print('There is no path from', source, 'to', destination)"
   ]
  },
  {
   "cell_type": "markdown",
   "metadata": {},
   "source": [
    "9. Execute the testSP method"
   ]
  },
  {
   "cell_type": "code",
   "execution_count": 42,
   "metadata": {},
   "outputs": [
    {
     "name": "stdout",
     "output_type": "stream",
     "text": [
      "---Testting g under this line---\n",
      "check the hasNode('Boston') method - Does Boston exist in self.edges? answerr: True\n",
      "getNode('Boston') method gives Boston\n",
      "what are the children node of 'Boston? [<__main__.Node object at 0x0000017FC9C750A0>, <__main__.Node object at 0x0000017FC9C75E80>]\n",
      "what is g? using the __str__ method of g gives: \n",
      "Boston->Providence\n",
      "Boston->New York\n",
      "Providence->Boston\n",
      "Providence->New York\n",
      "New York->Chicago\n",
      "Chicago->Denver\n",
      "Denver->Phoenix\n",
      "Denver->New York\n",
      "Los Angeles->Boston\n",
      "---Testting g above this line---\n",
      "\n",
      "Current DFS path: Boston\n",
      "Current DFS path: Boston->Providence\n",
      "Already visited Boston\n",
      "Current DFS path: Boston->Providence->New York\n",
      "Current DFS path: Boston->Providence->New York->Chicago\n",
      "Current DFS path: Boston->Providence->New York->Chicago->Denver\n",
      "Current DFS path: Boston->Providence->New York->Chicago->Denver->Phoenix\n",
      "Already visited New York\n",
      "Current DFS path: Boston->New York\n",
      "Current DFS path: Boston->New York->Chicago\n",
      "Current DFS path: Boston->New York->Chicago->Denver\n",
      "Current DFS path: Boston->New York->Chicago->Denver->Phoenix\n",
      "Already visited New York\n",
      "Shortest path from Boston to Phoenix is Boston->New York->Chicago->Denver->Phoenix\n"
     ]
    }
   ],
   "source": [
    "#1.1 -> start here\r\n",
    "testSP('Boston', 'Phoenix')   "
   ]
  },
  {
   "cell_type": "markdown",
   "metadata": {},
   "source": [
    "##### Question: \n",
    "    \n",
    "Describe the DFS method to compute for the shortest path using the given sample codes"
   ]
  },
  {
   "cell_type": "markdown",
   "metadata": {},
   "source": [
    "#type your answer here"
   ]
  },
  {
   "cell_type": "markdown",
   "metadata": {},
   "source": [
    "10. Create a method to define BFS technique"
   ]
  },
  {
   "cell_type": "code",
   "execution_count": null,
   "metadata": {},
   "outputs": [],
   "source": [
    "def BFS(graph, start, end, toPrint = False):\n",
    "    \"\"\"Assumes graph is a Digraph; start and end are nodes\n",
    "       Returns a shortest path from start to end in graph\"\"\"\n",
    "    initPath = [start]\n",
    "    pathQueue = [initPath]\n",
    "    while len(pathQueue) != 0:\n",
    "        #Get and remove oldest element in pathQueue\n",
    "        tmpPath = pathQueue.pop(0)\n",
    "        if toPrint:\n",
    "            print('Current BFS path:', printPath(tmpPath))\n",
    "        lastNode = tmpPath[-1]\n",
    "        if lastNode == end:\n",
    "            return tmpPath\n",
    "        for nextNode in graph.childrenOf(lastNode):\n",
    "            if nextNode not in tmpPath:\n",
    "                newPath = tmpPath + [nextNode]\n",
    "                pathQueue.append(newPath)\n",
    "    return None"
   ]
  },
  {
   "cell_type": "markdown",
   "metadata": {},
   "source": [
    "11. Define a shortestPath method to return the shortest path from source to destination using DFS"
   ]
  },
  {
   "cell_type": "code",
   "execution_count": null,
   "metadata": {},
   "outputs": [],
   "source": [
    "def shortestPath(graph, start, end, toPrint = False):\n",
    "    \"\"\"Assumes graph is a Digraph; start and end are nodes\n",
    "       Returns a shortest path from start to end in graph\"\"\"\n",
    "    return BFS(graph, start, end, toPrint)"
   ]
  },
  {
   "cell_type": "markdown",
   "metadata": {},
   "source": [
    "12. Execute the testSP method"
   ]
  },
  {
   "cell_type": "code",
   "execution_count": null,
   "metadata": {},
   "outputs": [
    {
     "name": "stdout",
     "output_type": "stream",
     "text": [
      "-------------\n",
      "True\n",
      "-------------\n",
      "Current BFS path: Boston\n",
      "Current BFS path: Boston->Providence\n",
      "Current BFS path: Boston->New York\n",
      "Current BFS path: Boston->Providence->New York\n",
      "Current BFS path: Boston->New York->Chicago\n",
      "Current BFS path: Boston->Providence->New York->Chicago\n",
      "Current BFS path: Boston->New York->Chicago->Denver\n",
      "Current BFS path: Boston->Providence->New York->Chicago->Denver\n",
      "Current BFS path: Boston->New York->Chicago->Denver->Phoenix\n",
      "Shortest path from Boston to Phoenix is Boston->New York->Chicago->Denver->Phoenix\n"
     ]
    }
   ],
   "source": [
    "testSP('Boston', 'Phoenix')"
   ]
  },
  {
   "cell_type": "markdown",
   "metadata": {},
   "source": [
    "#### Question: \n",
    "    \n",
    "Describe the BFS method to compute for the shortest path using the given sample codestion:\n",
    "    "
   ]
  },
  {
   "cell_type": "markdown",
   "metadata": {},
   "source": [
    "#### Supplementary Activitiy\n",
    "* Use a specific location or city to solve transportation using graph\n",
    "* Use DFS and BFS methods to compute the shortest path\n",
    "* Display the shortest path from source to destination using DFS and BFS\n",
    "* Differentiate the performance of DFS from BFS"
   ]
  },
  {
   "cell_type": "code",
   "execution_count": null,
   "metadata": {},
   "outputs": [],
   "source": [
    "# type your code here using DFS"
   ]
  },
  {
   "cell_type": "code",
   "execution_count": null,
   "metadata": {},
   "outputs": [],
   "source": [
    "# type your code here using BFS\n"
   ]
  },
  {
   "cell_type": "markdown",
   "metadata": {},
   "source": [
    "#Type your evaluation about the performance of DFS and BFS"
   ]
  },
  {
   "cell_type": "markdown",
   "metadata": {},
   "source": [
    "#### Conclusion"
   ]
  },
  {
   "cell_type": "markdown",
   "metadata": {},
   "source": [
    "#type your conclusion here"
   ]
  },
  {
   "cell_type": "code",
   "execution_count": null,
   "metadata": {},
   "outputs": [],
   "source": []
  }
 ],
 "metadata": {
  "kernelspec": {
   "display_name": "Python 3.9.5  ('pyenv': venv)",
   "name": "pythonjvsc74a57bd0a12f289e5bf5a2c0be8199d533e96293c5e0b47e1c36a6c48d73904ef797f8f9"
  },
  "language_info": {
   "codemirror_mode": {
    "name": "ipython",
    "version": 3
   },
   "file_extension": ".py",
   "mimetype": "text/x-python",
   "name": "python",
   "nbconvert_exporter": "python",
   "pygments_lexer": "ipython3",
   "version": "3.9.5"
  },
  "metadata": {
   "interpreter": {
    "hash": "a12f289e5bf5a2c0be8199d533e96293c5e0b47e1c36a6c48d73904ef797f8f9"
   }
  },
  "orig_nbformat": 3
 },
 "nbformat": 4,
 "nbformat_minor": 5
}