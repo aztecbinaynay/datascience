{
 "cells": [
  {
   "cell_type": "markdown",
   "source": [
    "# Fundamentals of Data Manipulation with Python"
   ],
   "metadata": {}
  },
  {
   "cell_type": "code",
   "execution_count": 2,
   "source": [
    "# dictionaries \r\n",
    "\r\n",
    "x= {'John Binay': 'jeabinay@tip.edu.ph', 'Rafa Partosa':'rafa@upd.edu.ph'}\r\n",
    "\r\n",
    "#print the values\r\n",
    "for i in x:\r\n",
    "    print(x[i])\r\n",
    "print('\\n')\r\n",
    "\r\n",
    "#print values v.2\r\n",
    "for i in x.values():\r\n",
    "    print(i)\r\n",
    "print('\\n')\r\n",
    "\r\n",
    "#print keys and values\r\n",
    "for i, y in x.items():\r\n",
    "    print(i)\r\n",
    "    print(y)\r\n"
   ],
   "outputs": [
    {
     "output_type": "stream",
     "name": "stdout",
     "text": [
      "jeabinay@tip.edu.ph\n",
      "rafa@upd.edu.ph\n",
      "\n",
      "\n",
      "jeabinay@tip.edu.ph\n",
      "rafa@upd.edu.ph\n",
      "\n",
      "\n",
      "John Binay\n",
      "jeabinay@tip.edu.ph\n",
      "Rafa Partosa\n",
      "rafa@upd.edu.ph\n"
     ]
    }
   ],
   "metadata": {}
  },
  {
   "cell_type": "markdown",
   "source": [
    "## Python Dates and Time"
   ],
   "metadata": {}
  },
  {
   "cell_type": "code",
   "execution_count": 9,
   "source": [
    "import datetime as dt\r\n",
    "import time as tm\r\n",
    "\r\n",
    "tm.time()\r\n"
   ],
   "outputs": [
    {
     "output_type": "execute_result",
     "data": {
      "text/plain": [
       "1624696247.6554468"
      ]
     },
     "metadata": {},
     "execution_count": 9
    }
   ],
   "metadata": {}
  },
  {
   "cell_type": "code",
   "execution_count": 10,
   "source": [
    "dtnow = dt.datetime.fromtimestamp(tm.time())\r\n",
    "dtnow"
   ],
   "outputs": [
    {
     "output_type": "execute_result",
     "data": {
      "text/plain": [
       "datetime.datetime(2021, 6, 26, 16, 31, 46, 243523)"
      ]
     },
     "metadata": {},
     "execution_count": 10
    }
   ],
   "metadata": {}
  },
  {
   "cell_type": "code",
   "execution_count": null,
   "source": [],
   "outputs": [],
   "metadata": {}
  }
 ],
 "metadata": {
  "interpreter": {
   "hash": "ac59ebe37160ed0dfa835113d9b8498d9f09ceb179beaac4002f036b9467c963"
  },
  "kernelspec": {
   "name": "python3",
   "display_name": "Python 3.9.5 64-bit"
  },
  "language_info": {
   "codemirror_mode": {
    "name": "ipython",
    "version": 3
   },
   "file_extension": ".py",
   "mimetype": "text/x-python",
   "name": "python",
   "nbconvert_exporter": "python",
   "pygments_lexer": "ipython3",
   "version": "3.9.5"
  },
  "orig_nbformat": 4
 },
 "nbformat": 4,
 "nbformat_minor": 2
}