{
 "cells": [
  {
   "cell_type": "code",
   "execution_count": 233,
   "metadata": {},
   "outputs": [],
   "source": [
    "import time\n",
    "import requests\n",
    "import pandas as pd\n",
    "from selenium import webdriver \n",
    "from bs4 import BeautifulSoup"
   ]
  },
  {
   "cell_type": "code",
   "execution_count": 234,
   "metadata": {},
   "outputs": [],
   "source": [
    "driver = webdriver.Chrome('/usr/bin/chromedriver')\n",
    "search_url = \"https://www.google.com/maps/d/u/0/viewer?ie=UTF8&oe=UTF8&hl=en&msa=0&start=0&num=200&mid=1iHj9oLetM0ashn-46JlVAjakyV8&ll=12.333210000000017%2C121.350303&z=8\"\n",
    "driver.get(search_url)\n",
    "driver.maximize_window()"
   ]
  },
  {
   "cell_type": "code",
   "execution_count": 235,
   "metadata": {},
   "outputs": [],
   "source": [
    "page_source = driver.page_source"
   ]
  },
  {
   "cell_type": "code",
   "execution_count": 236,
   "metadata": {},
   "outputs": [],
   "source": [
    "soup = BeautifulSoup(page_source, \"html.parser\")"
   ]
  },
  {
   "cell_type": "code",
   "execution_count": 250,
   "metadata": {
    "scrolled": false
   },
   "outputs": [],
   "source": [
    "hospitals = driver.find_elements_by_class_name(\"suEOdc\")\n",
    "hospital_names = []\n",
    "hospital_addresses = []\n",
    "hospital_category = []\n",
    "hospital_contacts = []"
   ]
  },
  {
   "cell_type": "code",
   "execution_count": null,
   "metadata": {},
   "outputs": [],
   "source": [
    "more_options = driver.find_element_by_xpath('//*[@id=\"legendPanel\"]/div/div/div[2]/div/div/div[2]/div/div/div[3]/div[1852]/span')\n",
    "more_options.click()\n",
    "for item in hospitals[2:]:\n",
    "    item.click()\n",
    "    time.sleep(1)\n",
    "    hospital_details = driver.find_elements_by_class_name(\"qqvbed-p83tee-lTBxed\")\n",
    "    hospital_names.append(hospital_details[0].text)\n",
    "    initial_separator = hospital_details[1].text.split(\"Category\")\n",
    "    hospital_addresses.append(initial_separator[0].strip())\n",
    "    secondary_separator = initial_separator[-1].split(\":\")\n",
    "    hospital_category.append(secondary_separator[1].lower())\n",
    "    hospital_contacts.append(secondary_separator[-1])\n",
    "    close = driver.find_element_by_xpath('//*[@id=\"featurecardPanel\"]/div/div/div[3]/div[1]/div')\n",
    "    close.click()"
   ]
  },
  {
   "cell_type": "code",
   "execution_count": null,
   "metadata": {},
   "outputs": [],
   "source": [
    "data = pd.DataFrame({\"Hospital Names\": hospital_names,\n",
    "                     \"Addresses\": hospital_addresses,\n",
    "                     \"Category\": hospital_category,\n",
    "                     \"Contact Info\": hospital_contacts})\n",
    "data"
   ]
  },
  {
   "cell_type": "code",
   "execution_count": null,
   "metadata": {},
   "outputs": [],
   "source": []
  }
 ],
 "metadata": {
  "kernelspec": {
   "display_name": "Python 3",
   "language": "python",
   "name": "python3"
  },
  "language_info": {
   "codemirror_mode": {
    "name": "ipython",
    "version": 3
   },
   "file_extension": ".py",
   "mimetype": "text/x-python",
   "name": "python",
   "nbconvert_exporter": "python",
   "pygments_lexer": "ipython3",
   "version": "3.8.5"
  }
 },
 "nbformat": 4,
 "nbformat_minor": 4
}
