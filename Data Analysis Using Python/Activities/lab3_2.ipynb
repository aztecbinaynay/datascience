{
  "cells": [
    {
      "cell_type": "markdown",
      "metadata": {
        "id": "_Cx7tImTd-Av"
      },
      "source": [
        "# Activity 3.2 Data Gathering and Preparation\n"
      ]
    },
    {
      "cell_type": "markdown",
      "metadata": {
        "id": "K_NSajq_d-A0"
      },
      "source": [
        "## Team members\n",
        "* John Edward Binay\n",
        "* Martin Basbacio"
      ]
    },
    {
      "cell_type": "markdown",
      "metadata": {
        "id": "eleG2eZgd-A1"
      },
      "source": [
        "Intended Learning Outcome\n",
        "\n",
        "1. Demonstrate how to gather sensor data, image data and voice data\n",
        "\n",
        "2. Demonstrate how to gather data (text and images) from web\n",
        "\n",
        "3. Demonstrate how to prepare data using different data preprocessing techniques"
      ]
    },
    {
      "cell_type": "markdown",
      "metadata": {
        "id": "qTkZpHTtd-A2"
      },
      "source": [
        "Resources:\n",
        "\n",
        "* Personal Computer\n",
        "\n",
        "* Jupyter Notebook\n",
        "\n",
        "* Internet Connection"
      ]
    },
    {
      "cell_type": "markdown",
      "metadata": {
        "id": "QAo6_Kv3d-A2"
      },
      "source": [
        "Perform the following tasks:"
      ]
    },
    {
      "cell_type": "markdown",
      "metadata": {
        "id": "eT6CTDXAd-A3"
      },
      "source": [
        "# Task 1 (Optional)"
      ]
    },
    {
      "cell_type": "markdown",
      "metadata": {
        "id": "u9bxs5LRd-A3"
      },
      "source": [
        "Create a program using your android phone to use the environment sensors to gather ambient air temperature, pressure and relative humidity for 5 days. The program  will store the data in sqllite database. The data includes the day and time and measured sensor values for ambient air temperature, pressure  and relative humidity. Submit the program and sqllite database as a separate file"
      ]
    },
    {
      "cell_type": "markdown",
      "metadata": {
        "id": "BT637K2Md-A4"
      },
      "source": [
        "# Task 2"
      ]
    },
    {
      "cell_type": "markdown",
      "metadata": {
        "id": "gHE9aHM6d-A4"
      },
      "source": [
        "Create a program to gather images of  all objects inside your house using your webcam. Make sure to separate objects into electronic and non-electronic device. Submit the program as a separate file\n",
        "\n",
        "Note: 10 electronic and 10 non -electronic objects\n"
      ]
    },
    {
      "cell_type": "code",
      "execution_count": null,
      "metadata": {
        "id": "4oP22GWGd-A5",
        "outputId": "5692ac62-4a06-420d-8f1a-0679595f25f4"
      },
      "outputs": [
        {
          "name": "stdout",
          "output_type": "stream",
          "text": [
            "Begin Capturing Images.\n",
            "Press [y] to take electronic images and press [n] to take non-electronic images\n",
            "Pressing the [ESC] button will make you leave the program...\n",
            "Note: You can only take 10 images of each category!\n",
            "\n",
            "nonElectronicImageNum1.png taken!\n",
            "nonElectronicImageNum2.png taken!\n",
            "ElectronicImageNum1.png taken!\n",
            "nonElectronicImageNum3.png taken!\n",
            "ElectronicImageNum2.png taken!\n",
            "nonElectronicImageNum4.png taken!\n",
            "nonElectronicImageNum5.png taken!\n",
            "ElectronicImageNum3.png taken!\n",
            "ElectronicImageNum4.png taken!\n",
            "nonElectronicImageNum6.png taken!\n",
            "ElectronicImageNum5.png taken!\n",
            "nonElectronicImageNum7.png taken!\n",
            "ElectronicImageNum6.png taken!\n",
            "nonElectronicImageNum8.png taken!\n",
            "ElectronicImageNum7.png taken!\n",
            "ElectronicImageNum8.png taken!\n",
            "nonElectronicImageNum9.png taken!\n",
            "ElectronicImageNum9.png taken!\n",
            "nonElectronicImageNum10.png taken!\n",
            "ElectronicImageNum10.png taken!\n",
            "You have already captured 10 electronic and\n",
            "10 non-electronic images\n"
          ]
        }
      ],
      "source": [
        "'''\r\n",
        "Begin Capturing Images.\r\n",
        "Press [y] to take electronic images and press [n] to take non-electronic images\r\n",
        "Pressing the [ESC] button will make you leave the program...\r\n",
        "Note: You can only take 10 images of each category!\r\n",
        "The program is dynamic as it allows the user to capture images with dynamic labelling\r\n",
        "\r\n",
        "#! path(s) should lead to a folder directory that already exists!\r\n",
        "#? Improvement of program include (1) automating directory creation if the folders to store the \r\n",
        "#? images in don't exist yet\r\n",
        "'''\r\n",
        "import cv2\r\n",
        "import os\r\n",
        "\r\n",
        "cam = cv2.VideoCapture(0)\r\n",
        "\r\n",
        "cv2.namedWindow(\"Python webcam app\")\r\n",
        "\r\n",
        "electronic_images = 0\r\n",
        "non_electronic_images = 0\r\n",
        "print(\"Begin Capturing Images.\\nPress [y] to take electronic images and press [n] to take non-electronic images\")\r\n",
        "print(\"Pressing the [ESC] button will make you leave the program...\")\r\n",
        "print(\"Note: You can only take 10 images of each category!\\n\")\r\n",
        "while True:\r\n",
        "    ret, frame = cam.read()\r\n",
        "    if not ret:\r\n",
        "        print(\"failed to grab frame\")\r\n",
        "        break\r\n",
        "    cv2.imshow(\"test\", frame)\r\n",
        "\r\n",
        "    k = cv2.waitKey(1)\r\n",
        "    if k == 27:\r\n",
        "        # ESC pressed\r\n",
        "        print(\"Escape hit, closing...\")\r\n",
        "        break\r\n",
        "    elif k == 110 and non_electronic_images < 10:\r\n",
        "        # 'n' is pressed pressed\r\n",
        "        path = r\"C:\\Users\\core i5\\Desktop\\GitHub\\DataSci\\Data Analysis and Tools\\non_electronic_objects\"\r\n",
        "        # path should be a folder that has already been created. \r\n",
        "        img_name = \"nonElectronicImageNum{}.png\".format(non_electronic_images+1)\r\n",
        "        cv2.imwrite(os.path.join(path, img_name), frame)\r\n",
        "        print(\"{} taken!\".format(img_name))\r\n",
        "        non_electronic_images += 1\r\n",
        "    elif k == 121 and electronic_images < 10:\r\n",
        "        # 'y' is pressed pressed\r\n",
        "        path = r\"C:\\Users\\core i5\\Desktop\\GitHub\\DataSci\\Data Analysis and Tools\\electronic_objects\"\r\n",
        "        img_name = \"ElectronicImageNum{}.png\".format(electronic_images + 1)\r\n",
        "        cv2.imwrite(os.path.join(path, img_name), frame)\r\n",
        "        print(\"{} taken!\".format(img_name))\r\n",
        "        electronic_images += 1\r\n",
        "    elif electronic_images + non_electronic_images == 20:\r\n",
        "        print(\"You have already captured 10 electronic and\\n10 non-electronic images\")\r\n",
        "        break\r\n",
        "    else:\r\n",
        "        continue\r\n",
        "\r\n",
        "cam.release()\r\n",
        "cv2.destroyAllWindows()"
      ]
    },
    {
      "cell_type": "markdown",
      "metadata": {
        "id": "lQhkiIgKd-A8"
      },
      "source": [
        "# Task 3"
      ]
    },
    {
      "cell_type": "markdown",
      "metadata": {
        "id": "lyU48qRqd-A8"
      },
      "source": [
        "Create a program to gather audio data of female and male voice. The dataset will contain two folders: (1) Female and (2) Male. The dataset will contain all the members of your family inside your house. Prepare a 1-minute poem that a family member  will recite when you are recording the voice data. Submit the program as a separate file."
      ]
    },
    {
      "cell_type": "code",
      "execution_count": 1,
      "metadata": {
        "id": "erbBdB8Ad-A9"
      },
      "outputs": [
        {
          "name": "stdout",
          "output_type": "stream",
          "text": [
            "exiting program....\n"
          ]
        }
      ],
      "source": [
        "'''\r\n",
        "Instructions are given to the users so the user would be able to decide whether the person being\r\n",
        "recorded is a male or female. Another inquiry asks the user what type of family memeber is being \r\n",
        "recorded. The family member type shall be the name of the .wav audio file. The files are automatically\r\n",
        "sorted to their respective folders, depending on the gender of the one being recorded.\r\n",
        "\r\n",
        "#! path(s) should lead to a folder directory that already exists!\r\n",
        "#? Improvement of program include: (1) automating directory creation if the folders to store the \r\n",
        "#? the audio files in don't exist yet.\r\n",
        "'''\r\n",
        "\r\n",
        "# import required libraries\r\n",
        "import sounddevice as sd\r\n",
        "from scipy.io.wavfile import write\r\n",
        "import wavio as wv\r\n",
        "import os\r\n",
        "male_members ={'s':'son', 'b':'brother', 'u':'uncle', 'f':'father', 'n':'nephew', 'mc':'male cousin', 'o':'other'}\r\n",
        "female_members ={'d':'daughter', 's':'sister', 'a':'aunt', 'm':'mother', 'n':'niece', 'fc':'female cousin', 'o':'other'}\r\n",
        "# Sampling frequency\r\n",
        "freq = 44100\r\n",
        "\r\n",
        "# Recording duration\r\n",
        "duration = 60\r\n",
        "\r\n",
        "while True:\r\n",
        "    user = str(input(\"Do you want to record a female [f] or male [m] voice or exit[e]? \"))\r\n",
        "    if user.lower() == 'm':\r\n",
        "        path = r\"C:\\Users\\core i5\\Desktop\\GitHub\\DataSci\\Data Analysis and Tools\\Dataset\\male_voices\"\r\n",
        "        male = str(input(\"Are you recording your son[s], brother[b], uncle[u], father[f], nephew[n], male cousin[mc], or other[o]? \"))\r\n",
        "        recording = sd.rec(int(duration * freq), samplerate=freq, channels=2)\r\n",
        "        sd.wait(60)\r\n",
        "        sound_name = f\"{male_members[f'{male}']}.wav\"\r\n",
        "        wv.write(os.path.join(path, sound_name), recording, freq, sampwidth=2)\r\n",
        "\r\n",
        "    elif user.lower() == 'f':\r\n",
        "        path = r\"C:\\Users\\core i5\\Desktop\\GitHub\\DataSci\\Data Analysis and Tools\\Dataset\\female_voices\"\r\n",
        "        female = str(input(\"Are you recording your daughter[d], sister[s], aunt[a], mother[m], niece[n], female cousin[fc], or other[o]? \"))\r\n",
        "        recording = sd.rec(int(duration * freq), samplerate=freq, channels=2)\r\n",
        "        sd.wait(60)\r\n",
        "        sound_name = f\"{female_members[f'{female}']}.wav\"\r\n",
        "        wv.write(os.path.join(path, sound_name), recording, freq, sampwidth=2)\r\n",
        "\r\n",
        "    elif user.lower() == 'e':\r\n",
        "        print(\"exiting program....\")\r\n",
        "        break\r\n",
        "\r\n",
        "    else:\r\n",
        "        print(\"Unrecognized command. Try again\\n\")\r\n",
        "        continue\r\n"
      ]
    },
    {
      "cell_type": "markdown",
      "metadata": {
        "id": "xxcg-dvJd-A9"
      },
      "source": [
        "Note: The output of Task 4 to Task 6 can be accomplished using this Jupyter Notebook file"
      ]
    },
    {
      "cell_type": "markdown",
      "metadata": {
        "id": "1R9i-qW6d-A-"
      },
      "source": [
        "# Task 4\r\n",
        "\r\n",
        "Create a program to gather and store a specific image using web scraping and selenium. The image data will be stored in the image_name folder inside the Image_Dataset folder "
      ]
    },
    {
      "cell_type": "code",
      "execution_count": null,
      "metadata": {
        "id": "ZMex6xWGd-A_",
        "outputId": "bba9361b-a244-4de5-e8bc-7982a6d66ccf"
      },
      "outputs": [
        {
          "name": "stdout",
          "output_type": "stream",
          "text": [
            "Current Path C:\\Users\\core i5\\Desktop\\GitHub\\DataSci\\Data Analysis and Tools\\Image _Dataset\\Image_dogs\n",
            "Found: 20 search results. Extracting links from0:20\n",
            "Found: 1 looking for more image links ...\n",
            "Found: 2 looking for more image links ...\n",
            "Found: 3 looking for more image links ...\n",
            "Found: 3 looking for more image links ...\n",
            "Found: 3 looking for more image links ...\n",
            "Found: 3 looking for more image links ...\n",
            "Found: 3 looking for more image links ...\n",
            "Found: 4 looking for more image links ...\n",
            "Found: 5 image links\n",
            "totalLinks {'https://www.maxpixel.net/static/photo/1x/Canines-Dogs-Fighting-Usct-Ggsipu-Playful-2705188.jpg', 'https://cdn.pixabay.com/photo/2018/12/13/05/59/dog-3872212_960_720.jpg', 'https://www.maxpixel.net/static/photo/1x/Animal-Small-Dogs-2947410.jpg', 'https://upload.wikimedia.org/wikipedia/commons/thumb/5/5c/Brown_puppy_%289899551176%29.jpg/1280px-Brown_puppy_%289899551176%29.jpg', 'https://cdn.pixabay.com/photo/2015/06/08/15/02/pug-801826_960_720.jpg'}\n",
            "SAVED - https://www.maxpixel.net/static/photo/1x/Canines-Dogs-Fighting-Usct-Ggsipu-Playful-2705188.jpg - AT: C:\\Users\\core i5\\Desktop\\GitHub\\DataSci\\Data Analysis and Tools\\Image _Dataset\\Image_dogs\\                                                                                                                                                     0.jpg\n",
            "SAVED - https://cdn.pixabay.com/photo/2018/12/13/05/59/dog-3872212_960_720.jpg - AT: C:\\Users\\core i5\\Desktop\\GitHub\\DataSci\\Data Analysis and Tools\\Image _Dataset\\Image_dogs\\                                                                                                                                                     1.jpg\n",
            "SAVED - https://www.maxpixel.net/static/photo/1x/Animal-Small-Dogs-2947410.jpg - AT: C:\\Users\\core i5\\Desktop\\GitHub\\DataSci\\Data Analysis and Tools\\Image _Dataset\\Image_dogs\\                                                                                                                                                     2.jpg\n",
            "SAVED - https://upload.wikimedia.org/wikipedia/commons/thumb/5/5c/Brown_puppy_%289899551176%29.jpg/1280px-Brown_puppy_%289899551176%29.jpg - AT: C:\\Users\\core i5\\Desktop\\GitHub\\DataSci\\Data Analysis and Tools\\Image _Dataset\\Image_dogs\\                                                                                                                                                     3.jpg\n",
            "SAVED - https://cdn.pixabay.com/photo/2015/06/08/15/02/pug-801826_960_720.jpg - AT: C:\\Users\\core i5\\Desktop\\GitHub\\DataSci\\Data Analysis and Tools\\Image _Dataset\\Image_dogs\\                                                                                                                                                     4.jpg\n"
          ]
        }
      ],
      "source": [
        "from selenium import webdriver\r\n",
        "import time\r\n",
        "import requests\r\n",
        "import shutil\r\n",
        "import os\r\n",
        "import urllib.request\r\n",
        "import io\r\n",
        "import time\r\n",
        "from PIL import Image\r\n",
        "\r\n",
        "\r\n",
        "user = os.getlogin()\r\n",
        "driver = webdriver.Chrome(r\"C:\\Users\\core i5\\Desktop\\GitHub\\DataSci\\Data Analysis and Tools\\chromedriver.exe\")\r\n",
        "\r\n",
        "search_url = \"https://www.google.com/search?q={q}&tbm=isch&tbs=sur%3Afc&hl=en&ved=0CAIQpwVqFwoTCKCa1c6s4-oCFQAAAAAdAAAAABAC&biw=1251&bih=568\"\r\n",
        "driver.get(search_url.format(q='dogs wikipedia'))\r\n",
        "\r\n",
        "def scroll_to_end(driver):\r\n",
        "    driver.execute_script(\"window.scrollTo(0, document.body.scrollHeight);\")\r\n",
        "    time.sleep(5)#sleep_between_interactions\r\n",
        "    \r\n",
        "def getImageUrls(name,totalImgs,driver):\r\n",
        "    \r\n",
        "    search_url = \"https://www.google.com/search?q={q}&tbm=isch&tbs=sur%3Afc&hl=en&ved=0CAIQpwVqFwoTCKCa1c6s4-oCFQAAAAAdAAAAABAC&biw=1251&bih=568\"\r\n",
        "    driver.get(search_url.format(q=name))\r\n",
        "    img_urls = set()\r\n",
        "    img_count = 0\r\n",
        "    results_start = 0  \r\n",
        "    \r\n",
        "    while(img_count<totalImgs): #Extract actual images now\r\n",
        "        \r\n",
        "        scroll_to_end(driver)\r\n",
        "        \r\n",
        "        thumbnail_results = driver.find_elements_by_xpath(\"//img[contains(@class,'Q4LuWd')]\")\r\n",
        "        totalResults=len(thumbnail_results)\r\n",
        "        print(f\"Found: {totalResults} search results. Extracting links from{results_start}:{totalResults}\")\r\n",
        "        \r\n",
        "        for img in thumbnail_results[results_start:totalResults]:\r\n",
        "            \r\n",
        "            img.click()\r\n",
        "            time.sleep(2)\r\n",
        "            actual_images = driver.find_elements_by_css_selector('img.n3VNCb')\r\n",
        "            for actual_image in actual_images:\r\n",
        "                if actual_image.get_attribute('src') and 'https' in actual_image.get_attribute('src'):\r\n",
        "                    img_urls.add(actual_image.get_attribute('src'))\r\n",
        "            \r\n",
        "            img_count=len(img_urls)\r\n",
        "            \r\n",
        "            if img_count >= totalImgs:\r\n",
        "                print(f\"Found: {img_count} image links\")\r\n",
        "                break\r\n",
        "            else:\r\n",
        "                print(\"Found:\", img_count, \"looking for more image links ...\")                \r\n",
        "                load_more_button = driver.find_element_by_css_selector(\".mye4qd\")\r\n",
        "                driver.execute_script(\"document.querySelector('.mye4qd').click();\")\r\n",
        "                results_start = len(thumbnail_results)\r\n",
        "    return img_urls\r\n",
        "\r\n",
        "\r\n",
        "def downloadImages(folder_path,file_name,url):\r\n",
        "    try: \r\n",
        "        image_content = requests.get(url).content\r\n",
        "    except Exception as e:\r\n",
        "        print(f\"ERROR - COULD NOT DOWNLOAD {url} - {e}\")\r\n",
        "    try:\r\n",
        "        image_file = io.BytesIO(image_content)\r\n",
        "        image = Image.open(image_file).convert('RGB')\r\n",
        "        file_path = os.path.join(folder_path, file_name)\r\n",
        "        with open(file_path, 'wb') as f:\r\n",
        "            image.save(f, \"JPEG\", quality=85)\r\n",
        "        print(f\"SAVED - {url} - AT: {file_path}\")\r\n",
        "    except Exception as e:\r\n",
        "        print(f\"ERROR - COULD NOT SAVE {url} - {e}\")\r\n",
        "        \r\n",
        "def saveInDestFolder(searchNames,destDir,totalImgs,driver):\r\n",
        "    for name in list(searchNames):\r\n",
        "        path=os.path.join(destDir,name)\r\n",
        "        if not os.path.isdir(path):\r\n",
        "            os.mkdir(path)\r\n",
        "        print('Current Path',path)\r\n",
        "        totalLinks=getImageUrls(name,totalImgs,driver)\r\n",
        "        print('totalLinks',totalLinks)\r\n",
        "\r\n",
        "    if totalLinks is None:\r\n",
        "            print('images not found for :',name)\r\n",
        "            \r\n",
        "    else:\r\n",
        "        for i, link in enumerate(totalLinks):\r\n",
        "            file_name = f\"{i:150}.jpg\"\r\n",
        "            downloadImages(path,file_name,link)\r\n",
        "\r\n",
        "searchNames=['Image_dogs']\r\n",
        "destDir= r\"C:\\Users\\core i5\\Desktop\\GitHub\\DataSci\\Data Analysis and Tools\\Image _Dataset\"\r\n",
        "totalImgs=5\r\n",
        "\r\n",
        "saveInDestFolder(searchNames,destDir,totalImgs,driver)"
      ]
    },
    {
      "cell_type": "markdown",
      "metadata": {
        "id": "AiEP1e8Ld-BC"
      },
      "source": [
        "# Task 5"
      ]
    },
    {
      "cell_type": "markdown",
      "metadata": {
        "id": "DFfZQ3EUd-BD"
      },
      "source": [
        "Using web scraping, search for the list of the hospitals, their address and  contact information. Save the list in csv file. "
      ]
    },
    {
      "cell_type": "code",
      "execution_count": 1,
      "metadata": {},
      "outputs": [],
      "source": [
        "import time\r\n",
        "import requests\r\n",
        "import pandas as pd\r\n",
        "from selenium import webdriver\r\n",
        "from bs4 import BeautifulSoup"
      ]
    },
    {
      "cell_type": "code",
      "execution_count": null,
      "metadata": {},
      "outputs": [],
      "source": [
        "driver = webdriver.Chrome(\r\n",
        "    r\"C:\\Users\\core i5\\Desktop\\GitHub\\DataSci\\Data Analysis and Tools\\chromedriver.exe\"\r\n",
        ")\r\n",
        "search_url = \"https://www.google.com/maps/d/u/0/viewer?ie=UTF8&oe=UTF8&hl=en&msa=0&start=0&num=200&mid=1iHj9oLetM0ashn-46JlVAjakyV8&ll=12.333210000000017%2C121.350303&z=8\"\r\n",
        "driver.get(search_url)\r\n",
        "driver.maximize_window()"
      ]
    },
    {
      "cell_type": "code",
      "execution_count": null,
      "metadata": {},
      "outputs": [],
      "source": [
        "page_source = driver.page_source\r\n",
        "soup = BeautifulSoup(page_source, \"html.parser\")"
      ]
    },
    {
      "cell_type": "code",
      "execution_count": null,
      "metadata": {},
      "outputs": [],
      "source": [
        "hospitals = driver.find_elements_by_class_name(\"suEOdc\")\r\n",
        "hospital_names = []\r\n",
        "hospital_addresses = []\r\n",
        "hospital_category = []\r\n",
        "hospital_contacts = []"
      ]
    },
    {
      "cell_type": "code",
      "execution_count": null,
      "metadata": {},
      "outputs": [],
      "source": [
        "more_options = driver.find_element_by_xpath(\r\n",
        "    '//*[@id=\"legendPanel\"]/div/div/div[2]/div/div/div[2]/div/div/div[3]/div[1852]/span'\r\n",
        ")\r\n",
        "more_options.click()\r\n",
        "for item in hospitals[2:]:\r\n",
        "    item.click()\r\n",
        "    time.sleep(1)\r\n",
        "    hospital_details = driver.find_elements_by_class_name(\"qqvbed-p83tee-lTBxed\")\r\n",
        "    hospital_names.append(hospital_details[0].text)\r\n",
        "    initial_separator = hospital_details[1].text.split(\"Category\")\r\n",
        "    hospital_addresses.append(initial_separator[0].strip())\r\n",
        "    secondary_separator = initial_separator[-1].split(\":\")\r\n",
        "    hospital_category.append(secondary_separator[1].lower())\r\n",
        "    hospital_contacts.append(secondary_separator[-1])\r\n",
        "    close = driver.find_element_by_xpath(\r\n",
        "        '//*[@id=\"featurecardPanel\"]/div/div/div[3]/div[1]/div'\r\n",
        "    )\r\n",
        "    close.click()"
      ]
    },
    {
      "cell_type": "code",
      "execution_count": null,
      "metadata": {},
      "outputs": [],
      "source": [
        "initial_data = pd.DataFrame(\r\n",
        "    {\r\n",
        "        \"Hospital Names\": hospital_names,\r\n",
        "        \"Addresses\": hospital_addresses,\r\n",
        "        \"Category\": hospital_category,\r\n",
        "        \"Contact Info\": hospital_contacts,\r\n",
        "    }\r\n",
        ")\r\n",
        "\r\n",
        "initial_data.to_csv(\"hospital_details.csv\")"
      ]
    },
    {
      "cell_type": "markdown",
      "metadata": {
        "id": "6rpcsfiKd-BE"
      },
      "source": [
        "# Task 6"
      ]
    },
    {
      "cell_type": "markdown",
      "metadata": {
        "id": "m4nUOwYwd-BF"
      },
      "source": [
        "Using the list of hospitals in Task 5, convert the csv file into pandas dataframe. Prepare the data using the necessary preprocessing techniques."
      ]
    },
    {
      "cell_type": "code",
      "execution_count": 2,
      "metadata": {},
      "outputs": [],
      "source": [
        "data = pd.read_csv(r\"C:\\Users\\core i5\\Desktop\\GitHub\\DataScience\\Data Analysis Using Python\\Activities\\Dataset\\CSV files\\hospital_details.csv\")"
      ]
    },
    {
      "cell_type": "code",
      "execution_count": 3,
      "metadata": {},
      "outputs": [
        {
          "data": {
            "text/html": "<div>\n<style scoped>\n    .dataframe tbody tr th:only-of-type {\n        vertical-align: middle;\n    }\n\n    .dataframe tbody tr th {\n        vertical-align: top;\n    }\n\n    .dataframe thead th {\n        text-align: right;\n    }\n</style>\n<table border=\"1\" class=\"dataframe\">\n  <thead>\n    <tr style=\"text-align: right;\">\n      <th></th>\n      <th>Hospital_Names</th>\n      <th>Addresses</th>\n      <th>Category</th>\n      <th>Contact_Info</th>\n    </tr>\n  </thead>\n  <tbody>\n    <tr>\n      <th>0</th>\n      <td>Bulalacao Community Hospital</td>\n      <td>Address: Campaasan, Oriental Mindoro</td>\n      <td>Category: Level 2/Secondary</td>\n      <td>Contact No.: 0927-7727538</td>\n    </tr>\n    <tr>\n      <th>1</th>\n      <td>Lyceum of Aparri Hospital</td>\n      <td>Address: Macanaya District, Aparri, Cagayan</td>\n      <td>Category: Level 2/Secondary</td>\n      <td>contact No.: (6378) 888-2736/8228843</td>\n    </tr>\n    <tr>\n      <th>2</th>\n      <td>Eastern Samar Provincial Hospital</td>\n      <td>Address: Borongan, Eastern Samar</td>\n      <td>Category: Level 3/Tertiary</td>\n      <td>Contact Number: (055) 560-9869</td>\n    </tr>\n    <tr>\n      <th>3</th>\n      <td>Albino M. Duran Memorial Hospital</td>\n      <td>Address: Balangiga, Eastern Samar</td>\n      <td>Category: Level 1/Primary</td>\n      <td>Contact Number: (055) 560-1497</td>\n    </tr>\n    <tr>\n      <th>4</th>\n      <td>Gloria Medicare Hospital</td>\n      <td>Address: Gloria, Oriental Mindoro</td>\n      <td>Category: Level 1/Primary</td>\n      <td>Contact No.: 284-3903</td>\n    </tr>\n    <tr>\n      <th>...</th>\n      <td>...</td>\n      <td>...</td>\n      <td>...</td>\n      <td>...</td>\n    </tr>\n    <tr>\n      <th>1843</th>\n      <td>Lingap Specialty Hospital</td>\n      <td>Address: Plazang Luma, Arayat, Pampanga, Phili...</td>\n      <td>Category: N/A</td>\n      <td>Contact No.: N/A</td>\n    </tr>\n    <tr>\n      <th>1844</th>\n      <td>Yabut-Pangan Medical Clinic</td>\n      <td>Address: 289 Sto. Niño, Guagua, Pampanga</td>\n      <td>Category:Level 1/ Primary</td>\n      <td>Contact No.none</td>\n    </tr>\n    <tr>\n      <th>1845</th>\n      <td>Mercy Clinic Hospital</td>\n      <td>Address: Cardinal Santos St. Sto. Niño, Guagua...</td>\n      <td>Category: Level 1/ Primary</td>\n      <td>Contact No.: 045-9000823</td>\n    </tr>\n    <tr>\n      <th>1846</th>\n      <td>Muñoz Clinic</td>\n      <td>Address: Mc-Arthur Hi-way, San Nicolas,City of...</td>\n      <td>Category: Level 1/ Primary</td>\n      <td>Contact No.: 045-9612804</td>\n    </tr>\n    <tr>\n      <th>1847</th>\n      <td>Tiglao Medical Center Foundation, Inc.</td>\n      <td>Address: 10 Imelda Marcos Boulevard, San Joaqu...</td>\n      <td>Category: Level 2/ Secondary</td>\n      <td>Contact No.: 045-3317700</td>\n    </tr>\n  </tbody>\n</table>\n<p>1848 rows × 4 columns</p>\n</div>",
            "text/plain": "                              Hospital_Names  \\\n0               Bulalacao Community Hospital   \n1                  Lyceum of Aparri Hospital   \n2          Eastern Samar Provincial Hospital   \n3          Albino M. Duran Memorial Hospital   \n4                   Gloria Medicare Hospital   \n...                                      ...   \n1843               Lingap Specialty Hospital   \n1844             Yabut-Pangan Medical Clinic   \n1845                   Mercy Clinic Hospital   \n1846                            Muñoz Clinic   \n1847  Tiglao Medical Center Foundation, Inc.   \n\n                                              Addresses  \\\n0                  Address: Campaasan, Oriental Mindoro   \n1           Address: Macanaya District, Aparri, Cagayan   \n2                      Address: Borongan, Eastern Samar   \n3                     Address: Balangiga, Eastern Samar   \n4                     Address: Gloria, Oriental Mindoro   \n...                                                 ...   \n1843  Address: Plazang Luma, Arayat, Pampanga, Phili...   \n1844           Address: 289 Sto. Niño, Guagua, Pampanga   \n1845  Address: Cardinal Santos St. Sto. Niño, Guagua...   \n1846  Address: Mc-Arthur Hi-way, San Nicolas,City of...   \n1847  Address: 10 Imelda Marcos Boulevard, San Joaqu...   \n\n                          Category                          Contact_Info  \n0      Category: Level 2/Secondary             Contact No.: 0927-7727538  \n1      Category: Level 2/Secondary  contact No.: (6378) 888-2736/8228843  \n2       Category: Level 3/Tertiary        Contact Number: (055) 560-9869  \n3        Category: Level 1/Primary        Contact Number: (055) 560-1497  \n4        Category: Level 1/Primary                 Contact No.: 284-3903  \n...                            ...                                   ...  \n1843                 Category: N/A                      Contact No.: N/A  \n1844     Category:Level 1/ Primary                       Contact No.none  \n1845    Category: Level 1/ Primary              Contact No.: 045-9000823  \n1846    Category: Level 1/ Primary              Contact No.: 045-9612804  \n1847  Category: Level 2/ Secondary              Contact No.: 045-3317700  \n\n[1848 rows x 4 columns]"
          },
          "execution_count": 3,
          "metadata": {},
          "output_type": "execute_result"
        }
      ],
      "source": [
        "data.columns = data.columns.str.replace(\" \",\"_\")\r\n",
        "data"
      ]
    },
    {
      "cell_type": "code",
      "execution_count": 4,
      "metadata": {},
      "outputs": [],
      "source": [
        "def remove_contact_tag(contact):\r\n",
        "    initial_separation = str(contact).lower().split(\":\")[-1]\r\n",
        "    secondary_separation = initial_separation.split(\".\")[-1].strip()\r\n",
        "    return secondary_separation"
      ]
    },
    {
      "cell_type": "code",
      "execution_count": 5,
      "metadata": {},
      "outputs": [],
      "source": [
        "def remove_tag(tag):\r\n",
        "    separation = str(tag).split(\":\")[-1].strip()\r\n",
        "    return separation"
      ]
    },
    {
      "cell_type": "code",
      "execution_count": 6,
      "metadata": {},
      "outputs": [],
      "source": [
        "def adjust_data(row):\r\n",
        "    # move contacts from category to contact info column\r\n",
        "    if row[\"Contact_Info\"] is None and row[\"Category\"] != None:\r\n",
        "        condition =  \\\r\n",
        "        [item not in row[\"Category\"].lower() for item in [\"primary\", \"secondary\", \"tertiary\", \"specialty\"]]\r\n",
        "        if all(condition):\r\n",
        "            row[\"Contact_Info\"] = row[\"Category\"]\r\n",
        "            row[\"Category\"] = None\r\n",
        "    # move category from addresses to category column\r\n",
        "    if row[\"Category\"] is None and row[\"Addresses\"] != None:\r\n",
        "        condition =  \\\r\n",
        "        [item in row[\"Addresses\"].lower() for item in [\"primary\", \"secondary\", \"tertiary\", \"specialty\"]]\r\n",
        "        if any(condition):\r\n",
        "            row[\"Category\"] = row[\"Addresses\"]\r\n",
        "            row[\"Addresses\"] = None\r\n",
        "    # move category from contacts to category column\r\n",
        "    if row[\"Contact_Info\"] != None:\r\n",
        "        condition = \\\r\n",
        "        [item in row[\"Contact_Info\"].lower() for item in [\"primary\", \"secondary\", \"tertiary\", \"specialty\", \"level\"]]\r\n",
        "        if any(condition):\r\n",
        "            if row[\"Category\"] is not None:\r\n",
        "                row[\"Addresses\"] += f\", {row['Category']}\"\r\n",
        "                row[\"Category\"] = row[\"Contact_Info\"]\r\n",
        "                row[\"Contact_Info\"] = None\r\n",
        "            else:\r\n",
        "                row[\"Category\"] = row[\"Contact_Info\"]\r\n",
        "                row[\"Contact_Info\"] = None"
      ]
    },
    {
      "cell_type": "code",
      "execution_count": 7,
      "metadata": {},
      "outputs": [
        {
          "data": {
            "text/plain": "0       None\n1       None\n2       None\n3       None\n4       None\n        ... \n1843    None\n1844    None\n1845    None\n1846    None\n1847    None\nLength: 1848, dtype: object"
          },
          "execution_count": 7,
          "metadata": {},
          "output_type": "execute_result"
        }
      ],
      "source": [
        "data[\"Contact_Info\"] = data[\"Contact_Info\"].apply(remove_contact_tag)\r\n",
        "data[\"Contact_Info\"] = data[\"Contact_Info\"].apply(lambda x: x if len(x) > 4 else None)\r\n",
        "data[\"Addresses\"] = data[\"Addresses\"].apply(remove_tag)\r\n",
        "data[\"Addresses\"] = data[\"Addresses\"].apply(lambda x: x if len(x) > 4 else None)\r\n",
        "data[\"Category\"] = data[\"Category\"].apply(remove_tag)\r\n",
        "data[\"Category\"] = data[\"Category\"].apply(lambda x: x if len(x) > 4 else None)\r\n",
        "data.apply(adjust_data, axis=1)"
      ]
    },
    {
      "cell_type": "code",
      "execution_count": 8,
      "metadata": {},
      "outputs": [
        {
          "data": {
            "text/html": "<div>\n<style scoped>\n    .dataframe tbody tr th:only-of-type {\n        vertical-align: middle;\n    }\n\n    .dataframe tbody tr th {\n        vertical-align: top;\n    }\n\n    .dataframe thead th {\n        text-align: right;\n    }\n</style>\n<table border=\"1\" class=\"dataframe\">\n  <thead>\n    <tr style=\"text-align: right;\">\n      <th></th>\n      <th>Hospital_Names</th>\n      <th>Addresses</th>\n      <th>Category</th>\n      <th>Contact_Info</th>\n    </tr>\n  </thead>\n  <tbody>\n    <tr>\n      <th>0</th>\n      <td>Bulalacao Community Hospital</td>\n      <td>Campaasan, Oriental Mindoro</td>\n      <td>Level 2/Secondary</td>\n      <td>0927-7727538</td>\n    </tr>\n    <tr>\n      <th>1</th>\n      <td>Lyceum of Aparri Hospital</td>\n      <td>Macanaya District, Aparri, Cagayan</td>\n      <td>Level 2/Secondary</td>\n      <td>(6378) 888-2736/8228843</td>\n    </tr>\n    <tr>\n      <th>2</th>\n      <td>Eastern Samar Provincial Hospital</td>\n      <td>Borongan, Eastern Samar</td>\n      <td>Level 3/Tertiary</td>\n      <td>(055) 560-9869</td>\n    </tr>\n    <tr>\n      <th>3</th>\n      <td>Albino M. Duran Memorial Hospital</td>\n      <td>Balangiga, Eastern Samar</td>\n      <td>Level 1/Primary</td>\n      <td>(055) 560-1497</td>\n    </tr>\n    <tr>\n      <th>4</th>\n      <td>Gloria Medicare Hospital</td>\n      <td>Gloria, Oriental Mindoro</td>\n      <td>Level 1/Primary</td>\n      <td>284-3903</td>\n    </tr>\n    <tr>\n      <th>...</th>\n      <td>...</td>\n      <td>...</td>\n      <td>...</td>\n      <td>...</td>\n    </tr>\n    <tr>\n      <th>1843</th>\n      <td>Lingap Specialty Hospital</td>\n      <td>Plazang Luma, Arayat, Pampanga, Philippines</td>\n      <td>None</td>\n      <td>None</td>\n    </tr>\n    <tr>\n      <th>1844</th>\n      <td>Yabut-Pangan Medical Clinic</td>\n      <td>289 Sto. Niño, Guagua, Pampanga</td>\n      <td>Level 1/ Primary</td>\n      <td>None</td>\n    </tr>\n    <tr>\n      <th>1845</th>\n      <td>Mercy Clinic Hospital</td>\n      <td>Cardinal Santos St. Sto. Niño, Guagua, Pampang...</td>\n      <td>Level 1/ Primary</td>\n      <td>045-9000823</td>\n    </tr>\n    <tr>\n      <th>1846</th>\n      <td>Muñoz Clinic</td>\n      <td>Mc-Arthur Hi-way, San Nicolas,City of San Fern...</td>\n      <td>Level 1/ Primary</td>\n      <td>045-9612804</td>\n    </tr>\n    <tr>\n      <th>1847</th>\n      <td>Tiglao Medical Center Foundation, Inc.</td>\n      <td>10 Imelda Marcos Boulevard, San Joaquin, Mabal...</td>\n      <td>Level 2/ Secondary</td>\n      <td>045-3317700</td>\n    </tr>\n  </tbody>\n</table>\n<p>1848 rows × 4 columns</p>\n</div>",
            "text/plain": "                              Hospital_Names  \\\n0               Bulalacao Community Hospital   \n1                  Lyceum of Aparri Hospital   \n2          Eastern Samar Provincial Hospital   \n3          Albino M. Duran Memorial Hospital   \n4                   Gloria Medicare Hospital   \n...                                      ...   \n1843               Lingap Specialty Hospital   \n1844             Yabut-Pangan Medical Clinic   \n1845                   Mercy Clinic Hospital   \n1846                            Muñoz Clinic   \n1847  Tiglao Medical Center Foundation, Inc.   \n\n                                              Addresses            Category  \\\n0                           Campaasan, Oriental Mindoro   Level 2/Secondary   \n1                    Macanaya District, Aparri, Cagayan   Level 2/Secondary   \n2                               Borongan, Eastern Samar    Level 3/Tertiary   \n3                              Balangiga, Eastern Samar     Level 1/Primary   \n4                              Gloria, Oriental Mindoro     Level 1/Primary   \n...                                                 ...                 ...   \n1843        Plazang Luma, Arayat, Pampanga, Philippines                None   \n1844                    289 Sto. Niño, Guagua, Pampanga    Level 1/ Primary   \n1845  Cardinal Santos St. Sto. Niño, Guagua, Pampang...    Level 1/ Primary   \n1846  Mc-Arthur Hi-way, San Nicolas,City of San Fern...    Level 1/ Primary   \n1847  10 Imelda Marcos Boulevard, San Joaquin, Mabal...  Level 2/ Secondary   \n\n                 Contact_Info  \n0                0927-7727538  \n1     (6378) 888-2736/8228843  \n2              (055) 560-9869  \n3              (055) 560-1497  \n4                    284-3903  \n...                       ...  \n1843                     None  \n1844                     None  \n1845              045-9000823  \n1846              045-9612804  \n1847              045-3317700  \n\n[1848 rows x 4 columns]"
          },
          "execution_count": 8,
          "metadata": {},
          "output_type": "execute_result"
        }
      ],
      "source": [
        "data"
      ]
    },
    {
      "cell_type": "markdown",
      "metadata": {
        "id": "dlNZEz1sd-BF"
      },
      "source": [
        "# Conclusion:"
      ]
    },
    {
      "cell_type": "markdown",
      "metadata": {
        "id": "XxGPsF5webu0"
      },
      "source": [
        "## In conlcusion, this lab gave us the freedom to really have our first exploration and practice our skills in gather data using different techiniques. While doing this lab we were able to learn more about the topics of data gathering and preparation. It was such a fun and rewarding experience. I can definitely see many possibilties going forward in how we would apply the lessons we learned in creating more sophisticated projects!"
      ]
    }
  ],
  "metadata": {
    "kernelspec": {
      "display_name": "Python 3.9.5 64-bit ('pyenv': venv)",
      "name": "pythonjvsc74a57bd088673ecf95bea6a2a9f127271b48964f594d74836632a55822c5c10571177f11"
    },
    "language_info": {
      "codemirror_mode": {
        "name": "ipython",
        "version": 3
      },
      "file_extension": ".py",
      "mimetype": "text/x-python",
      "name": "python",
      "nbconvert_exporter": "python",
      "pygments_lexer": "ipython3",
      "version": "3.9.5"
    },
    "metadata": {
      "interpreter": {
        "hash": "88673ecf95bea6a2a9f127271b48964f594d74836632a55822c5c10571177f11"
      }
    },
    "orig_nbformat": 3
  },
  "nbformat": 4,
  "nbformat_minor": 5
}