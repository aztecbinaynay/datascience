{
  "nbformat": 4,
  "nbformat_minor": 0,
  "metadata": {
    "colab": {
      "name": "Data Gathering and Preparation.ipynb",
      "provenance": [],
      "collapsed_sections": [
        "rl3em4QcxWaT",
        "7L1P4pLUfwYj",
        "cDitE1Sqe54D",
        "o7Pph4q4e_fs"
      ]
    },
    "kernelspec": {
      "name": "python3",
      "display_name": "Python 3"
    },
    "language_info": {
      "name": "python"
    }
  },
  "cells": [
    {
      "cell_type": "markdown",
      "metadata": {
        "id": "Kv2Os_E3qIWU"
      },
      "source": [
        "# Data Gathering\n"
      ]
    },
    {
      "cell_type": "markdown",
      "metadata": {
        "id": "qg1MFrUZOKqr"
      },
      "source": [
        "#### **Sources of Data**\n",
        "\n",
        "A vast amount of historical data can be found in files such as:\n",
        "* MS Word documents\n",
        "* Emails\n",
        "* Spreadsheets\n",
        "* MS PowerPoints\n",
        "* PDFs\n",
        "* HTML\n",
        "* and plaintext files\n",
        "\n",
        "Public and Private Archives\n",
        "\n",
        "CSV, JSON, and XML files use plaintext, a common format, and are compatible with a wide range of applications\n",
        "\n",
        "The Web can be mined for data using a web scraping application\n",
        "\n",
        "The IoT uses sensors create data\n",
        "\n",
        "Sensors in smartphones, cars, airplanes, street lamps, and home appliances capture raw data"
      ]
    },
    {
      "cell_type": "markdown",
      "metadata": {
        "id": "hODlejx5pGDa"
      },
      "source": [
        "#### **Open Data and Private Data**\n",
        "\n",
        "1. Open Data\n",
        "\n",
        "> The Open Knowledge Foundation describes Open Data as “any content, information or data that people are free to use, reuse, and redistribute without any legal, technological, or social restriction.”\n",
        "\n",
        "2. Private Data\n",
        "\n",
        "> Data related to an expectation of privacy and regulated by a particular country/government\n",
        "\n",
        "\n",
        "\n"
      ]
    },
    {
      "cell_type": "markdown",
      "metadata": {
        "id": "D2ve3e7QpiGp"
      },
      "source": [
        "#### **Structured and Unstructured Data**\n",
        "\n",
        "1. Structured Data\n",
        "> Data entered and maintained in fixed fields within a file or record\n",
        "Easily entered, classified, queried, and analyzed\n",
        "Relational databases or spreadsheets\n",
        "2. Unstructured Data\n",
        "Lacks organization\n",
        "> Raw data\n",
        "> Photo contents, audio, video, web pages, blogs, books, journals, white papers, PowerPoint presentations, articles, email, wikis, word processing documents, and text in general\n",
        "\n",
        "\n",
        "\n",
        "\n"
      ]
    },
    {
      "cell_type": "markdown",
      "metadata": {
        "id": "FITF5lK9p_D9"
      },
      "source": [
        "## **Data Gathering**\n",
        "\n",
        "The process of locating data and then determining if there is enough data to complete the analysis. "
      ]
    },
    {
      "cell_type": "markdown",
      "metadata": {
        "id": "VG76m9eTqzLc"
      },
      "source": [
        "\n",
        "\n",
        "### **Example of gathering upload and download   from the speedtest command.**"
      ]
    },
    {
      "cell_type": "code",
      "metadata": {
        "colab": {
          "base_uri": "https://localhost:8080/"
        },
        "id": "2FG-9J_EHWu6",
        "outputId": "46d7e63d-3a41-4a89-82c6-d49bef1478cb"
      },
      "source": [
        "!pip install speedtest-cli"
      ],
      "execution_count": null,
      "outputs": [
        {
          "output_type": "stream",
          "text": [
            "Collecting speedtest-cli\n",
            "  Downloading https://files.pythonhosted.org/packages/9f/39/65259b7054368b370d3183762484fa2c779ddc41633894d895f9d1720f45/speedtest_cli-2.1.3-py2.py3-none-any.whl\n",
            "Installing collected packages: speedtest-cli\n",
            "Successfully installed speedtest-cli-2.1.3\n"
          ],
          "name": "stdout"
        }
      ]
    },
    {
      "cell_type": "code",
      "metadata": {
        "id": "gFLIhGdErfbM"
      },
      "source": [
        "import datetime\n",
        "# Python library to read and write csv files\n",
        "import csv\n",
        "\n",
        "import subprocess"
      ],
      "execution_count": null,
      "outputs": []
    },
    {
      "cell_type": "code",
      "metadata": {
        "colab": {
          "base_uri": "https://localhost:8080/"
        },
        "id": "b3FY6rzhriGc",
        "outputId": "9042b981-80ec-46a5-b45e-178f309fce35"
      },
      "source": [
        "date_time = datetime.datetime.now()\n",
        "print(date_time, type(date_time))"
      ],
      "execution_count": null,
      "outputs": [
        {
          "output_type": "stream",
          "text": [
            "2021-06-01 05:18:06.315152 <class 'datetime.datetime'>\n"
          ],
          "name": "stdout"
        }
      ]
    },
    {
      "cell_type": "code",
      "metadata": {
        "colab": {
          "base_uri": "https://localhost:8080/",
          "height": 35
        },
        "id": "uN_IOf3lrlmq",
        "outputId": "16806dd6-929b-4a24-b753-604f54f4fc06"
      },
      "source": [
        "date_time.strftime('%a, %d %b %Y %H:%M:%S')"
      ],
      "execution_count": null,
      "outputs": [
        {
          "output_type": "execute_result",
          "data": {
            "application/vnd.google.colaboratory.intrinsic+json": {
              "type": "string"
            },
            "text/plain": [
              "'Tue, 01 Jun 2021 05:18:06'"
            ]
          },
          "metadata": {
            "tags": []
          },
          "execution_count": 6
        }
      ]
    },
    {
      "cell_type": "code",
      "metadata": {
        "colab": {
          "base_uri": "https://localhost:8080/",
          "height": 35
        },
        "id": "qNQCxKhOrmes",
        "outputId": "dd799e99-f61f-4eeb-869f-2ab1a9bd67e6"
      },
      "source": [
        "# Parse datetime string into format: YYYY-MM-DD HH:MM::SS\n",
        "date_time.strftime('%Y-%m-%d %H:%M:%S')"
      ],
      "execution_count": null,
      "outputs": [
        {
          "output_type": "execute_result",
          "data": {
            "application/vnd.google.colaboratory.intrinsic+json": {
              "type": "string"
            },
            "text/plain": [
              "'2021-06-01 05:18:06'"
            ]
          },
          "metadata": {
            "tags": []
          },
          "execution_count": 7
        }
      ]
    },
    {
      "cell_type": "code",
      "metadata": {
        "id": "5JRcEVF_roi6"
      },
      "source": [
        "# This string contains the command line to interface with speedtest.net\n",
        "speedtest_cmd = \"speedtest-cli --simple\"\n",
        "# Execute the process\n",
        "process = subprocess.Popen(speedtest_cmd.split(), stdout=subprocess.PIPE)\n",
        "# Collect the command output\n",
        "process_output = process.communicate()[0]"
      ],
      "execution_count": null,
      "outputs": []
    },
    {
      "cell_type": "code",
      "metadata": {
        "colab": {
          "base_uri": "https://localhost:8080/"
        },
        "id": "GEIpW_BUrqdQ",
        "outputId": "6e5ae507-42bf-46e3-936d-159a0576345a"
      },
      "source": [
        "print(process_output, type(process_output))"
      ],
      "execution_count": null,
      "outputs": [
        {
          "output_type": "stream",
          "text": [
            "b'Ping: 21.65 ms\\nDownload: 388.75 Mbit/s\\nUpload: 678.05 Mbit/s\\n' <class 'bytes'>\n"
          ],
          "name": "stdout"
        }
      ]
    },
    {
      "cell_type": "code",
      "metadata": {
        "colab": {
          "base_uri": "https://localhost:8080/"
        },
        "id": "gAZW2XWQrsZD",
        "outputId": "0854b2ce-e7fd-4576-ffeb-c9bc5cdf9fc4"
      },
      "source": [
        "# Store the time at which the speedtest was executed\n",
        "date_time = datetime.datetime.now().strftime(\"%Y-%m-%d %H:%M:%S\")\n",
        "process_output = process_output.split()\n",
        "process_output.append(date_time)\n",
        "print(process_output, type(process_output))"
      ],
      "execution_count": null,
      "outputs": [
        {
          "output_type": "stream",
          "text": [
            "[b'Ping:', b'21.65', b'ms', b'Download:', b'388.75', b'Mbit/s', b'Upload:', b'678.05', b'Mbit/s', '2021-06-01 05:18:41'] <class 'list'>\n"
          ],
          "name": "stdout"
        }
      ]
    },
    {
      "cell_type": "code",
      "metadata": {
        "id": "GyiymK-6rukC"
      },
      "source": [
        "# function to excute the speed test\n",
        "def speedtest():\n",
        "    # We need to store the time at which the speedtest was executed\n",
        "    date_time = datetime.datetime.now().strftime(\"%Y-%m-%d %H:%M:%S\")\n",
        "    # This is a string that contains what we would write on the command line \n",
        "    #to interface with speedtest.net\n",
        "    speedtest_cmd = \"speedtest-cli --simple\"\n",
        "    # We now execute the process: \n",
        "    process = subprocess.Popen(speedtest_cmd.split(), stdout=subprocess.PIPE)\n",
        "    process_output = process.communicate()[0]\n",
        "    process_output = process_output.split()\n",
        "    # and we add the date and time \n",
        "    process_output.append(date_time)\n",
        "    return process_output"
      ],
      "execution_count": null,
      "outputs": []
    },
    {
      "cell_type": "code",
      "metadata": {
        "colab": {
          "base_uri": "https://localhost:8080/"
        },
        "id": "dLih1OKfryPN",
        "outputId": "43aeb7ae-047a-47ff-af25-91f102b3d248"
      },
      "source": [
        "process_output"
      ],
      "execution_count": null,
      "outputs": [
        {
          "output_type": "execute_result",
          "data": {
            "text/plain": [
              "[b'Ping:',\n",
              " b'21.65',\n",
              " b'ms',\n",
              " b'Download:',\n",
              " b'388.75',\n",
              " b'Mbit/s',\n",
              " b'Upload:',\n",
              " b'678.05',\n",
              " b'Mbit/s',\n",
              " '2021-06-01 05:18:41']"
            ]
          },
          "metadata": {
            "tags": []
          },
          "execution_count": 12
        }
      ]
    },
    {
      "cell_type": "code",
      "metadata": {
        "id": "zMz5hNvQr0vp"
      },
      "source": [
        "with open(\"test.txt\",'w') as f:\n",
        "    f.write('test_msg')"
      ],
      "execution_count": null,
      "outputs": []
    },
    {
      "cell_type": "code",
      "metadata": {
        "colab": {
          "base_uri": "https://localhost:8080/"
        },
        "id": "WnzfOeebr1l6",
        "outputId": "bfe0ee34-93b3-46f8-819d-e70645a542cb"
      },
      "source": [
        "!cat /tmp/test.txt"
      ],
      "execution_count": null,
      "outputs": [
        {
          "output_type": "stream",
          "text": [
            "cat: /tmp/test.txt: No such file or directory\n"
          ],
          "name": "stdout"
        }
      ]
    },
    {
      "cell_type": "code",
      "metadata": {
        "colab": {
          "base_uri": "https://localhost:8080/"
        },
        "id": "JDzxaMczZSZs",
        "outputId": "a4cf2a39-1804-4d6f-eb1f-af2e1b206f1a"
      },
      "source": [
        "from google.colab import drive\n",
        "drive.mount('/content/drive')"
      ],
      "execution_count": null,
      "outputs": [
        {
          "output_type": "stream",
          "text": [
            "Mounted at /content/drive\n"
          ],
          "name": "stdout"
        }
      ]
    },
    {
      "cell_type": "code",
      "metadata": {
        "colab": {
          "base_uri": "https://localhost:8080/"
        },
        "id": "_Lp0BPi3r3Z8",
        "outputId": "af2fe8a0-b64c-4731-f147-46692e97c63a"
      },
      "source": [
        "# Code cell 13\n",
        "with open(\"test.txt\",'r') as f:\n",
        "   str = f.read()\n",
        "print(str)"
      ],
      "execution_count": null,
      "outputs": [
        {
          "output_type": "stream",
          "text": [
            "test_msg\n"
          ],
          "name": "stdout"
        }
      ]
    },
    {
      "cell_type": "code",
      "metadata": {
        "colab": {
          "base_uri": "https://localhost:8080/"
        },
        "id": "YHoaWV57WgkH",
        "outputId": "32b2a1b1-a342-4727-843b-536e7c3b250e"
      },
      "source": [
        "from google.colab import drive\n",
        "drive.mount('/content/drive')"
      ],
      "execution_count": null,
      "outputs": [
        {
          "output_type": "stream",
          "text": [
            "Drive already mounted at /content/drive; to attempt to forcibly remount, call drive.mount(\"/content/drive\", force_remount=True).\n"
          ],
          "name": "stdout"
        }
      ]
    },
    {
      "cell_type": "code",
      "metadata": {
        "id": "xsKHNqTgr5Wr"
      },
      "source": [
        "# function to save data to csv\n",
        "def save_to_csv(data, filename):\n",
        "    try:\n",
        "        # If the file exists, we want to append a new line to it, with the \n",
        "        #results of the current experiment\n",
        "        with open(filename + '.csv', 'a') as f:\n",
        "            wr = csv.writer(f)\n",
        "            wr.writerow(data)\n",
        "    except:\n",
        "        # If it does not exist, we want to create the file first\n",
        "        with open(filename + '.csv', 'w') as f:\n",
        "            wr = csv.writer(f)\n",
        "            wr.writerow(data)"
      ],
      "execution_count": null,
      "outputs": []
    },
    {
      "cell_type": "code",
      "metadata": {
        "id": "zNbpZcoQr7cI"
      },
      "source": [
        "def print_from_csv(filename): \n",
        "    with open(filename + '.csv', 'r') as f:\n",
        "            re = csv.reader(f)\n",
        "            for row in re:\n",
        "                print(' '.join(row))"
      ],
      "execution_count": null,
      "outputs": []
    },
    {
      "cell_type": "code",
      "metadata": {
        "colab": {
          "base_uri": "https://localhost:8080/"
        },
        "id": "YYZH3Q_lsA70",
        "outputId": "94eb58f1-8627-403e-a5a2-3d213556d4af"
      },
      "source": [
        "for i in range(10):\n",
        "    speedtest_output = speedtest()\n",
        "    print('Test number {}'.format(i))\n",
        "    print(speedtest_output)\n",
        "    save_to_csv(speedtest_output, '/content/drive/My Drive/Colab Notebooks/Dataset/rpi_data_test')"
      ],
      "execution_count": null,
      "outputs": [
        {
          "output_type": "stream",
          "text": [
            "Test number 0\n",
            "[b'Ping:', b'16.292', b'ms', b'Download:', b'527.05', b'Mbit/s', b'Upload:', b'428.35', b'Mbit/s', '2021-06-01 05:20:20']\n",
            "Test number 1\n",
            "[b'Ping:', b'16.542', b'ms', b'Download:', b'765.55', b'Mbit/s', b'Upload:', b'239.15', b'Mbit/s', '2021-06-01 05:20:32']\n",
            "Test number 2\n",
            "[b'Ping:', b'13.804', b'ms', b'Download:', b'643.00', b'Mbit/s', b'Upload:', b'318.17', b'Mbit/s', '2021-06-01 05:20:42']\n",
            "Test number 3\n",
            "[b'Ping:', b'14.588', b'ms', b'Download:', b'796.32', b'Mbit/s', b'Upload:', b'344.00', b'Mbit/s', '2021-06-01 05:20:52']\n",
            "Test number 4\n",
            "[b'Ping:', b'14.138', b'ms', b'Download:', b'843.85', b'Mbit/s', b'Upload:', b'370.01', b'Mbit/s', '2021-06-01 05:21:01']\n",
            "Test number 5\n",
            "[b'Ping:', b'13.824', b'ms', b'Download:', b'862.25', b'Mbit/s', b'Upload:', b'278.64', b'Mbit/s', '2021-06-01 05:21:09']\n",
            "Test number 6\n",
            "[b'Ping:', b'14.131', b'ms', b'Download:', b'855.76', b'Mbit/s', b'Upload:', b'411.25', b'Mbit/s', '2021-06-01 05:21:19']\n",
            "Test number 7\n",
            "[b'Ping:', b'13.848', b'ms', b'Download:', b'1497.18', b'Mbit/s', b'Upload:', b'639.25', b'Mbit/s', '2021-06-01 05:21:26']\n",
            "Test number 8\n",
            "[b'Ping:', b'13.086', b'ms', b'Download:', b'1741.21', b'Mbit/s', b'Upload:', b'737.25', b'Mbit/s', '2021-06-01 05:21:32']\n",
            "Test number 9\n",
            "[b'Ping:', b'13.206', b'ms', b'Download:', b'1740.26', b'Mbit/s', b'Upload:', b'752.31', b'Mbit/s', '2021-06-01 05:21:36']\n"
          ],
          "name": "stdout"
        }
      ]
    },
    {
      "cell_type": "code",
      "metadata": {
        "colab": {
          "base_uri": "https://localhost:8080/"
        },
        "id": "DJAAPo7ksDqb",
        "outputId": "525aed37-1791-4da5-9112-9c80e2f8e5c3"
      },
      "source": [
        "print_from_csv('/content/drive/My Drive/Colab Notebooks/Dataset/rpi_data_test')"
      ],
      "execution_count": null,
      "outputs": [
        {
          "output_type": "stream",
          "text": [
            "b'Ping:' b'36.266' b'ms' b'Download:' b'1051.17' b'Mbit/s' b'Upload:' b'339.29' b'Mbit/s' 2021-05-31 02:58:01\n",
            "b'Ping:' b'36.381' b'ms' b'Download:' b'1064.79' b'Mbit/s' b'Upload:' b'350.47' b'Mbit/s' 2021-05-31 02:58:12\n",
            "b'Ping:' b'33.803' b'ms' b'Download:' b'1050.89' b'Mbit/s' b'Upload:' b'277.12' b'Mbit/s' 2021-05-31 02:58:21\n",
            "b'Ping:' b'34.292' b'ms' b'Download:' b'1059.85' b'Mbit/s' b'Upload:' b'383.27' b'Mbit/s' 2021-05-31 02:58:30\n",
            "b'Ping:' b'33.999' b'ms' b'Download:' b'1047.26' b'Mbit/s' b'Upload:' b'262.18' b'Mbit/s' 2021-05-31 02:58:39\n",
            "b'Ping:' b'34.964' b'ms' b'Download:' b'1051.91' b'Mbit/s' b'Upload:' b'231.62' b'Mbit/s' 2021-05-31 02:58:48\n",
            "b'Ping:' b'33.786' b'ms' b'Download:' b'1054.34' b'Mbit/s' b'Upload:' b'347.61' b'Mbit/s' 2021-05-31 02:58:59\n",
            "b'Ping:' b'34.035' b'ms' b'Download:' b'1053.21' b'Mbit/s' b'Upload:' b'338.53' b'Mbit/s' 2021-05-31 02:59:07\n",
            "b'Ping:' b'33.73' b'ms' b'Download:' b'1061.64' b'Mbit/s' b'Upload:' b'343.74' b'Mbit/s' 2021-05-31 02:59:16\n",
            "b'Ping:' b'33.949' b'ms' b'Download:' b'830.20' b'Mbit/s' b'Upload:' b'373.47' b'Mbit/s' 2021-05-31 02:59:25\n",
            "b'Ping:' b'16.292' b'ms' b'Download:' b'527.05' b'Mbit/s' b'Upload:' b'428.35' b'Mbit/s' 2021-06-01 05:20:20\n",
            "b'Ping:' b'16.542' b'ms' b'Download:' b'765.55' b'Mbit/s' b'Upload:' b'239.15' b'Mbit/s' 2021-06-01 05:20:32\n",
            "b'Ping:' b'13.804' b'ms' b'Download:' b'643.00' b'Mbit/s' b'Upload:' b'318.17' b'Mbit/s' 2021-06-01 05:20:42\n",
            "b'Ping:' b'14.588' b'ms' b'Download:' b'796.32' b'Mbit/s' b'Upload:' b'344.00' b'Mbit/s' 2021-06-01 05:20:52\n",
            "b'Ping:' b'14.138' b'ms' b'Download:' b'843.85' b'Mbit/s' b'Upload:' b'370.01' b'Mbit/s' 2021-06-01 05:21:01\n",
            "b'Ping:' b'13.824' b'ms' b'Download:' b'862.25' b'Mbit/s' b'Upload:' b'278.64' b'Mbit/s' 2021-06-01 05:21:09\n",
            "b'Ping:' b'14.131' b'ms' b'Download:' b'855.76' b'Mbit/s' b'Upload:' b'411.25' b'Mbit/s' 2021-06-01 05:21:19\n",
            "b'Ping:' b'13.848' b'ms' b'Download:' b'1497.18' b'Mbit/s' b'Upload:' b'639.25' b'Mbit/s' 2021-06-01 05:21:26\n",
            "b'Ping:' b'13.086' b'ms' b'Download:' b'1741.21' b'Mbit/s' b'Upload:' b'737.25' b'Mbit/s' 2021-06-01 05:21:32\n",
            "b'Ping:' b'13.206' b'ms' b'Download:' b'1740.26' b'Mbit/s' b'Upload:' b'752.31' b'Mbit/s' 2021-06-01 05:21:36\n"
          ],
          "name": "stdout"
        }
      ]
    },
    {
      "cell_type": "markdown",
      "metadata": {
        "id": "uo8xb6gfsbsL"
      },
      "source": [
        "### **Example of gathering image data using webcam**\n",
        "\n",
        "Note: Run this snippet using local jupyter notebook"
      ]
    },
    {
      "cell_type": "code",
      "metadata": {
        "id": "Dr7yEYqy7MVC",
        "colab": {
          "base_uri": "https://localhost:8080/",
          "height": 469
        },
        "outputId": "b79084c2-c341-43e2-8e2f-eb79d4b207ac"
      },
      "source": [
        "import cv2 \n",
        "from google.colab.patches import cv2_imshow\n",
        "key = cv2. waitKey(1)\n",
        "webcam = cv2.VideoCapture(0)\n",
        "while True:\n",
        "    try:\n",
        "        check, frame = webcam.read()\n",
        "        print(check) #prints true as long as the webcam is running\n",
        "        print(frame) #prints matrix values of each framecd \n",
        "        cv2.imshow(\"Capturing\", frame)\n",
        "        key = cv2.waitKey(1)\n",
        "        if key == ord('s'): \n",
        "            cv2.imwrite(filename='saved_img.jpg', img=frame)\n",
        "            webcam.release()\n",
        "            img_new = cv2.imread('saved_img.jpg', cv2.IMREAD_GRAYSCALE)\n",
        "            img_new = cv2.imshow(\"Captured Image\", img_new)\n",
        "            cv2.waitKey(1650)\n",
        "            cv2.destroyAllWindows()\n",
        "            print(\"Processing image...\")\n",
        "            img_ = cv2.imread('saved_img.jpg', cv2.IMREAD_ANYCOLOR)\n",
        "            print(\"Converting RGB image to grayscale...\")\n",
        "            gray = cv2.cvtColor(img_, cv2.COLOR_BGR2GRAY)\n",
        "            print(\"Converted RGB image to grayscale...\")\n",
        "            print(\"Resizing image to 28x28 scale...\")\n",
        "            img_ = cv2.resize(gray,(28,28))\n",
        "            print(\"Resized...\")\n",
        "            img_resized = cv2.imwrite(filename='saved_img-final.jpg', img=img_)\n",
        "            print(\"Image saved!\")\n",
        "        \n",
        "            break\n",
        "        elif key == ord('q'):\n",
        "            print(\"Turning off camera.\")\n",
        "            webcam.release()\n",
        "            print(\"Camera off.\")\n",
        "            print(\"Program ended.\")\n",
        "            cv2.destroyAllWindows()\n",
        "            break\n",
        "        \n",
        "    except(KeyboardInterrupt):\n",
        "        print(\"Turning off camera.\")\n",
        "        webcam.release()\n",
        "        print(\"Camera off.\")\n",
        "        print(\"Program ended.\")\n",
        "        cv2.destroyAllWindows()\n",
        "        break"
      ],
      "execution_count": null,
      "outputs": [
        {
          "output_type": "stream",
          "text": [
            "False\n",
            "None\n"
          ],
          "name": "stdout"
        },
        {
          "output_type": "error",
          "ename": "DisabledFunctionError",
          "evalue": "ignored",
          "traceback": [
            "\u001b[0;31m---------------------------------------------------------------------------\u001b[0m",
            "\u001b[0;31mDisabledFunctionError\u001b[0m                     Traceback (most recent call last)",
            "\u001b[0;32m<ipython-input-1-d33222260c83>\u001b[0m in \u001b[0;36m<module>\u001b[0;34m()\u001b[0m\n\u001b[1;32m      8\u001b[0m         \u001b[0mprint\u001b[0m\u001b[0;34m(\u001b[0m\u001b[0mcheck\u001b[0m\u001b[0;34m)\u001b[0m \u001b[0;31m#prints true as long as the webcam is running\u001b[0m\u001b[0;34m\u001b[0m\u001b[0;34m\u001b[0m\u001b[0m\n\u001b[1;32m      9\u001b[0m         \u001b[0mprint\u001b[0m\u001b[0;34m(\u001b[0m\u001b[0mframe\u001b[0m\u001b[0;34m)\u001b[0m \u001b[0;31m#prints matrix values of each framecd\u001b[0m\u001b[0;34m\u001b[0m\u001b[0;34m\u001b[0m\u001b[0m\n\u001b[0;32m---> 10\u001b[0;31m         \u001b[0mcv2\u001b[0m\u001b[0;34m.\u001b[0m\u001b[0mimshow\u001b[0m\u001b[0;34m(\u001b[0m\u001b[0;34m\"Capturing\"\u001b[0m\u001b[0;34m,\u001b[0m \u001b[0mframe\u001b[0m\u001b[0;34m)\u001b[0m\u001b[0;34m\u001b[0m\u001b[0;34m\u001b[0m\u001b[0m\n\u001b[0m\u001b[1;32m     11\u001b[0m         \u001b[0mkey\u001b[0m \u001b[0;34m=\u001b[0m \u001b[0mcv2\u001b[0m\u001b[0;34m.\u001b[0m\u001b[0mwaitKey\u001b[0m\u001b[0;34m(\u001b[0m\u001b[0;36m1\u001b[0m\u001b[0;34m)\u001b[0m\u001b[0;34m\u001b[0m\u001b[0;34m\u001b[0m\u001b[0m\n\u001b[1;32m     12\u001b[0m         \u001b[0;32mif\u001b[0m \u001b[0mkey\u001b[0m \u001b[0;34m==\u001b[0m \u001b[0mord\u001b[0m\u001b[0;34m(\u001b[0m\u001b[0;34m's'\u001b[0m\u001b[0;34m)\u001b[0m\u001b[0;34m:\u001b[0m\u001b[0;34m\u001b[0m\u001b[0;34m\u001b[0m\u001b[0m\n",
            "\u001b[0;32m/usr/local/lib/python3.7/dist-packages/google/colab/_import_hooks/_cv2.py\u001b[0m in \u001b[0;36mwrapped\u001b[0;34m(*args, **kwargs)\u001b[0m\n\u001b[1;32m     50\u001b[0m   \u001b[0;32mdef\u001b[0m \u001b[0mwrapped\u001b[0m\u001b[0;34m(\u001b[0m\u001b[0;34m*\u001b[0m\u001b[0margs\u001b[0m\u001b[0;34m,\u001b[0m \u001b[0;34m**\u001b[0m\u001b[0mkwargs\u001b[0m\u001b[0;34m)\u001b[0m\u001b[0;34m:\u001b[0m\u001b[0;34m\u001b[0m\u001b[0;34m\u001b[0m\u001b[0m\n\u001b[1;32m     51\u001b[0m     \u001b[0;32mif\u001b[0m \u001b[0;32mnot\u001b[0m \u001b[0mos\u001b[0m\u001b[0;34m.\u001b[0m\u001b[0menviron\u001b[0m\u001b[0;34m.\u001b[0m\u001b[0mget\u001b[0m\u001b[0;34m(\u001b[0m\u001b[0menv_var\u001b[0m\u001b[0;34m,\u001b[0m \u001b[0;32mFalse\u001b[0m\u001b[0;34m)\u001b[0m\u001b[0;34m:\u001b[0m\u001b[0;34m\u001b[0m\u001b[0;34m\u001b[0m\u001b[0m\n\u001b[0;32m---> 52\u001b[0;31m       \u001b[0;32mraise\u001b[0m \u001b[0mDisabledFunctionError\u001b[0m\u001b[0;34m(\u001b[0m\u001b[0mmessage\u001b[0m\u001b[0;34m,\u001b[0m \u001b[0mname\u001b[0m \u001b[0;32mor\u001b[0m \u001b[0mfunc\u001b[0m\u001b[0;34m.\u001b[0m\u001b[0m__name__\u001b[0m\u001b[0;34m)\u001b[0m\u001b[0;34m\u001b[0m\u001b[0;34m\u001b[0m\u001b[0m\n\u001b[0m\u001b[1;32m     53\u001b[0m     \u001b[0;32mreturn\u001b[0m \u001b[0mfunc\u001b[0m\u001b[0;34m(\u001b[0m\u001b[0;34m*\u001b[0m\u001b[0margs\u001b[0m\u001b[0;34m,\u001b[0m \u001b[0;34m**\u001b[0m\u001b[0mkwargs\u001b[0m\u001b[0;34m)\u001b[0m\u001b[0;34m\u001b[0m\u001b[0;34m\u001b[0m\u001b[0m\n\u001b[1;32m     54\u001b[0m \u001b[0;34m\u001b[0m\u001b[0m\n",
            "\u001b[0;31mDisabledFunctionError\u001b[0m: cv2.imshow() is disabled in Colab, because it causes Jupyter sessions\nto crash; see https://github.com/jupyter/notebook/issues/3935.\nAs a substitution, consider using\n  from google.colab.patches import cv2_imshow\n"
          ]
        }
      ]
    },
    {
      "cell_type": "markdown",
      "metadata": {
        "id": "QYGf8eOyshMu"
      },
      "source": [
        "### **Example of gathering voice data using microphone**\n",
        "\n",
        "Note: Run the snippet of codes using local jupyter notebook"
      ]
    },
    {
      "cell_type": "code",
      "metadata": {
        "colab": {
          "base_uri": "https://localhost:8080/"
        },
        "id": "y6UMhd_W9NhP",
        "outputId": "8f223be1-2493-450f-f1e5-55a4fd5c0099"
      },
      "source": [
        "!pip3 install sounddevice"
      ],
      "execution_count": null,
      "outputs": [
        {
          "output_type": "stream",
          "text": [
            "Requirement already satisfied: sounddevice in /usr/local/lib/python3.7/dist-packages (0.4.1)\n",
            "Requirement already satisfied: CFFI>=1.0 in /usr/local/lib/python3.7/dist-packages (from sounddevice) (1.14.5)\n",
            "Requirement already satisfied: pycparser in /usr/local/lib/python3.7/dist-packages (from CFFI>=1.0->sounddevice) (2.20)\n"
          ],
          "name": "stdout"
        }
      ]
    },
    {
      "cell_type": "code",
      "metadata": {
        "colab": {
          "base_uri": "https://localhost:8080/"
        },
        "id": "8pu5GVBU9YH_",
        "outputId": "7e725747-c37d-4e4d-fd6e-ebe28dc0c9cc"
      },
      "source": [
        "!pip3 install wavio"
      ],
      "execution_count": null,
      "outputs": [
        {
          "output_type": "stream",
          "text": [
            "Requirement already satisfied: wavio in /usr/local/lib/python3.7/dist-packages (0.0.4)\n",
            "Requirement already satisfied: numpy>=1.6.0 in /usr/local/lib/python3.7/dist-packages (from wavio) (1.19.5)\n"
          ],
          "name": "stdout"
        }
      ]
    },
    {
      "cell_type": "code",
      "metadata": {
        "colab": {
          "base_uri": "https://localhost:8080/"
        },
        "id": "mbBceT8t-NIa",
        "outputId": "b95ce376-4fa5-4282-fdc3-fe1284904c13"
      },
      "source": [
        "!pip3 install scipy"
      ],
      "execution_count": null,
      "outputs": [
        {
          "output_type": "stream",
          "text": [
            "Requirement already satisfied: scipy in /usr/local/lib/python3.7/dist-packages (1.4.1)\n",
            "Requirement already satisfied: numpy>=1.13.3 in /usr/local/lib/python3.7/dist-packages (from scipy) (1.19.5)\n"
          ],
          "name": "stdout"
        }
      ]
    },
    {
      "cell_type": "code",
      "metadata": {
        "colab": {
          "base_uri": "https://localhost:8080/"
        },
        "id": "AsS0q8rF-vBc",
        "outputId": "a82e42ba-64ac-4c4b-d1b1-e13ef4e4a68d"
      },
      "source": [
        "!apt-get install libportaudio2"
      ],
      "execution_count": null,
      "outputs": [
        {
          "output_type": "stream",
          "text": [
            "Reading package lists... Done\n",
            "Building dependency tree       \n",
            "Reading state information... Done\n",
            "The following package was automatically installed and is no longer required:\n",
            "  libnvidia-common-460\n",
            "Use 'apt autoremove' to remove it.\n",
            "The following NEW packages will be installed:\n",
            "  libportaudio2\n",
            "0 upgraded, 1 newly installed, 0 to remove and 34 not upgraded.\n",
            "Need to get 64.6 kB of archives.\n",
            "After this operation, 215 kB of additional disk space will be used.\n",
            "Get:1 http://archive.ubuntu.com/ubuntu bionic/universe amd64 libportaudio2 amd64 19.6.0-1 [64.6 kB]\n",
            "Fetched 64.6 kB in 0s (161 kB/s)\n",
            "Selecting previously unselected package libportaudio2:amd64.\n",
            "(Reading database ... 160706 files and directories currently installed.)\n",
            "Preparing to unpack .../libportaudio2_19.6.0-1_amd64.deb ...\n",
            "Unpacking libportaudio2:amd64 (19.6.0-1) ...\n",
            "Setting up libportaudio2:amd64 (19.6.0-1) ...\n",
            "Processing triggers for libc-bin (2.27-3ubuntu1.2) ...\n",
            "/sbin/ldconfig.real: /usr/local/lib/python3.7/dist-packages/ideep4py/lib/libmkldnn.so.0 is not a symbolic link\n",
            "\n"
          ],
          "name": "stdout"
        }
      ]
    },
    {
      "cell_type": "code",
      "metadata": {
        "id": "2BmVQybQ74_M"
      },
      "source": [
        "# import required libraries\n",
        "import sounddevice as sd\n",
        "from scipy.io.wavfile import write\n",
        "import wavio as wv\n",
        "  \n",
        "# Sampling frequency\n",
        "freq = 44100\n",
        "  \n",
        "# Recording duration\n",
        "duration = 5\n",
        "  \n",
        "# Start recorder with the given values \n",
        "# of duration and sample frequency\n",
        "recording = sd.rec(int(duration * freq), \n",
        "                   samplerate=freq, channels=2)\n",
        "  \n",
        "# Record audio for the given number of seconds\n",
        "sd.wait()\n",
        "  \n",
        "# This will convert the NumPy array to an audio\n",
        "# file with the given sampling frequency\n",
        "write(\"recording0.wav\", freq, recording)\n",
        "  \n",
        "# Convert the NumPy array to audio file\n",
        "wv.write(\"recording1.wav\", recording, freq, sampwidth=2)"
      ],
      "execution_count": null,
      "outputs": []
    },
    {
      "cell_type": "markdown",
      "metadata": {
        "id": "7URE4XjfslNX"
      },
      "source": [
        "### **Web Scraping**\n",
        "\n",
        "**Web scraping, web harvesting, or web data extraction** is data scraping used for extracting data from websites. The web scraping software may directly access the World Wide Web using the Hypertext Transfer Protocol or a web browser. While web scraping can be done manually by a software user, the term typically refers to automated processes implemented using a bot or web crawler. It is a form of copying in which specific data is gathered and copied from the web, typically into a central local database or spreadsheet, for later retrieval or analysis.\n",
        "\n",
        "Reference: [link text](https://en.wikipedia.org/wiki/Web_scraping)\n"
      ]
    },
    {
      "cell_type": "markdown",
      "metadata": {
        "id": "eF8Q3cDMCEgS"
      },
      "source": [
        "#### **Image Scraping using BeautifulSoup and Request**"
      ]
    },
    {
      "cell_type": "code",
      "metadata": {
        "colab": {
          "base_uri": "https://localhost:8080/"
        },
        "id": "WUwtsxVmBVAH",
        "outputId": "952b2e0b-8983-47e6-8fc5-f5a2ff658a76"
      },
      "source": [
        "!pip install bs4"
      ],
      "execution_count": null,
      "outputs": [
        {
          "output_type": "stream",
          "text": [
            "Requirement already satisfied: bs4 in /usr/local/lib/python3.7/dist-packages (0.0.1)\n",
            "Requirement already satisfied: beautifulsoup4 in /usr/local/lib/python3.7/dist-packages (from bs4) (4.6.3)\n"
          ],
          "name": "stdout"
        }
      ]
    },
    {
      "cell_type": "code",
      "metadata": {
        "colab": {
          "base_uri": "https://localhost:8080/"
        },
        "id": "EePDiTCLCOkG",
        "outputId": "5f5be640-17fe-4713-aedc-3466fa5f4cbe"
      },
      "source": [
        "pip install requests"
      ],
      "execution_count": null,
      "outputs": [
        {
          "output_type": "stream",
          "text": [
            "Requirement already satisfied: requests in /usr/local/lib/python3.7/dist-packages (2.23.0)\n",
            "Requirement already satisfied: idna<3,>=2.5 in /usr/local/lib/python3.7/dist-packages (from requests) (2.10)\n",
            "Requirement already satisfied: certifi>=2017.4.17 in /usr/local/lib/python3.7/dist-packages (from requests) (2020.12.5)\n",
            "Requirement already satisfied: urllib3!=1.25.0,!=1.25.1,<1.26,>=1.21.1 in /usr/local/lib/python3.7/dist-packages (from requests) (1.24.3)\n",
            "Requirement already satisfied: chardet<4,>=3.0.2 in /usr/local/lib/python3.7/dist-packages (from requests) (3.0.4)\n"
          ],
          "name": "stdout"
        }
      ]
    },
    {
      "cell_type": "code",
      "metadata": {
        "colab": {
          "base_uri": "https://localhost:8080/"
        },
        "id": "epP5DF3tCRl3",
        "outputId": "c54d69c9-057d-459d-a702-7c24f522ae78"
      },
      "source": [
        "import requests \n",
        "from bs4 import BeautifulSoup \n",
        "    \n",
        "def getdata(url): \n",
        "    r = requests.get(url) \n",
        "    return r.text \n",
        "    \n",
        "htmldata = getdata(\"https://www.google.com/\") \n",
        "soup = BeautifulSoup(htmldata, 'html.parser') \n",
        "for item in soup.find_all('img'):\n",
        "    print(item['src'])"
      ],
      "execution_count": null,
      "outputs": [
        {
          "output_type": "stream",
          "text": [
            "/images/branding/googlelogo/1x/googlelogo_white_background_color_272x92dp.png\n"
          ],
          "name": "stdout"
        }
      ]
    },
    {
      "cell_type": "code",
      "metadata": {
        "colab": {
          "base_uri": "https://localhost:8080/"
        },
        "id": "tQLwW_Wycv4D",
        "outputId": "f4bac160-a10e-4206-d533-0876a3d10910"
      },
      "source": [
        "pip install selenium"
      ],
      "execution_count": null,
      "outputs": [
        {
          "output_type": "stream",
          "text": [
            "Collecting selenium\n",
            "\u001b[?25l  Downloading https://files.pythonhosted.org/packages/80/d6/4294f0b4bce4de0abf13e17190289f9d0613b0a44e5dd6a7f5ca98459853/selenium-3.141.0-py2.py3-none-any.whl (904kB)\n",
            "\u001b[K     |████████████████████████████████| 911kB 3.8MB/s \n",
            "\u001b[?25hRequirement already satisfied: urllib3 in /usr/local/lib/python3.7/dist-packages (from selenium) (1.24.3)\n",
            "Installing collected packages: selenium\n",
            "Successfully installed selenium-3.141.0\n"
          ],
          "name": "stdout"
        }
      ]
    },
    {
      "cell_type": "markdown",
      "metadata": {
        "id": "9HirL4O_Zq2b"
      },
      "source": [
        "#### **Image Scraping using Selenium**\n",
        "\n",
        "Note: Run the snippet of code using local jupyter notebook"
      ]
    },
    {
      "cell_type": "code",
      "metadata": {
        "id": "Z88CmhbqEKM2",
        "colab": {
          "base_uri": "https://localhost:8080/"
        },
        "outputId": "91ce7340-fb7f-47c3-b13b-d007bf412402"
      },
      "source": [
        "!pip install selenium\n",
        "!apt-get update # to update ubuntu to correctly run apt install\n",
        "!apt install chromium-chromedriver\n",
        "!cp /usr/lib/chromium-browser/chromedriver /usr/bin\n",
        "import sys\n",
        "sys.path.insert(0,'/usr/lib/chromium-browser/chromedriver')\n",
        "\n",
        "from selenium import webdriver\n",
        "import time\n",
        "import requests\n",
        "import shutil\n",
        "import os\n",
        "import getpass\n",
        "import urllib.request\n",
        "import io\n",
        "import time\n",
        "from PIL import Image\n",
        "\n",
        "user = getpass.getuser()\n",
        "chrome_options = webdriver.ChromeOptions()\n",
        "chrome_options.add_argument('--headless')\n",
        "chrome_options.add_argument('--no-sandbox')\n",
        "chrome_options.add_argument('--disable-dev-shm-usage')\n",
        "driver = webdriver.Chrome('chromedriver',chrome_options=chrome_options)\n",
        "\n",
        "search_url = \"https://www.google.com/search?q={q}&tbm=isch&tbs=sur%3Afc&hl=en&ved=0CAIQpwVqFwoTCKCa1c6s4-oCFQAAAAAdAAAAABAC&biw=1251&bih=568\"\n",
        "driver.get(search_url.format(q='Car'))\n",
        "\n",
        "def scroll_to_end(driver):\n",
        "    driver.execute_script(\"window.scrollTo(0, document.body.scrollHeight);\")\n",
        "    time.sleep(5)#sleep_between_interactions\n",
        "    \n",
        "def getImageUrls(name,totalImgs,driver):\n",
        "    \n",
        "    search_url = \"https://www.google.com/search?q={q}&tbm=isch&tbs=sur%3Afc&hl=en&ved=0CAIQpwVqFwoTCKCa1c6s4-oCFQAAAAAdAAAAABAC&biw=1251&bih=568\"\n",
        "    driver.get(search_url.format(q=name))\n",
        "    img_urls = set()\n",
        "    img_count = 0\n",
        "    results_start = 0  \n",
        "    \n",
        "    while(img_count<totalImgs): #Extract actual images now\n",
        "        \n",
        "        scroll_to_end(driver)\n",
        "        \n",
        "        thumbnail_results = driver.find_elements_by_xpath(\"//img[contains(@class,'Q4LuWd')]\")\n",
        "        totalResults=len(thumbnail_results)\n",
        "        print(f\"Found: {totalResults} search results. Extracting links from{results_start}:{totalResults}\")\n",
        "        \n",
        "        for img in thumbnail_results[results_start:totalResults]:\n",
        "            \n",
        "            img.click()\n",
        "            time.sleep(2)\n",
        "            actual_images = driver.find_elements_by_css_selector('img.n3VNCb')\n",
        "            for actual_image in actual_images:\n",
        "                if actual_image.get_attribute('src') and 'https' in actual_image.get_attribute('src'):\n",
        "                    img_urls.add(actual_image.get_attribute('src'))\n",
        "            \n",
        "            img_count=len(img_urls)\n",
        "            \n",
        "            if img_count >= totalImgs:\n",
        "                print(f\"Found: {img_count} image links\")\n",
        "                break\n",
        "            else:\n",
        "                print(\"Found:\", img_count, \"looking for more image links ...\")                \n",
        "                load_more_button = driver.find_element_by_css_selector(\".mye4qd\")\n",
        "                driver.execute_script(\"document.querySelector('.mye4qd').click();\")\n",
        "                results_start = len(thumbnail_results)\n",
        "    return img_urls\n",
        "\n",
        "\n",
        "def downloadImages(folder_path,file_name,url):\n",
        "    try:\n",
        "        \n",
        "        image_content = requests.get(url).content\n",
        "    except Exception as e:\n",
        "        print(f\"ERROR - COULD NOT DOWNLOAD {url} - {e}\")\n",
        "    try:\n",
        "        image_file = io.BytesIO(image_content)\n",
        "        image = Image.open(image_file).convert('RGB')\n",
        "       \n",
        "        file_path = os.path.join(folder_path, file_name)\n",
        "        \n",
        "        with open(file_path, 'wb') as f:\n",
        "            image.save(f, \"JPEG\", quality=85)\n",
        "        print(f\"SAVED - {url} - AT: {file_path}\")\n",
        "    except Exception as e:\n",
        "        print(f\"ERROR - COULD NOT SAVE {url} - {e}\")\n",
        "        \n",
        "def saveInDestFolder(searchNames,destDir,totalImgs,driver):\n",
        "    for name in list(searchNames):\n",
        "        path=os.path.join(destDir,name)\n",
        "        if not os.path.isdir(path):\n",
        "            os.mkdir(path)\n",
        "        print('Current Path',path)\n",
        "        totalLinks=getImageUrls(name,totalImgs,driver)\n",
        "        print('totalLinks',totalLinks)\n",
        "\n",
        "    if totalLinks is None:\n",
        "            print('images not found for :',name)\n",
        "            \n",
        "    else:\n",
        "        for i, link in enumerate(totalLinks):\n",
        "            file_name = f\"{i:150}.jpg\"\n",
        "            downloadImages(path,file_name,link)\n",
        "      \n",
        "searchNames=['lion'] \n",
        "destDir=f'/content/drive/My Drive/Colab Notebooks/Dataset/'\n",
        "totalImgs=5\n",
        "\n",
        "saveInDestFolder(searchNames,destDir,totalImgs,driver)"
      ],
      "execution_count": null,
      "outputs": [
        {
          "output_type": "stream",
          "text": [
            "Requirement already satisfied: selenium in /usr/local/lib/python3.7/dist-packages (3.141.0)\n",
            "Requirement already satisfied: urllib3 in /usr/local/lib/python3.7/dist-packages (from selenium) (1.24.3)\n",
            "Hit:1 http://security.ubuntu.com/ubuntu bionic-security InRelease\n",
            "Hit:2 https://cloud.r-project.org/bin/linux/ubuntu bionic-cran40/ InRelease\n",
            "Ign:3 https://developer.download.nvidia.com/compute/cuda/repos/ubuntu1804/x86_64  InRelease\n",
            "Ign:4 https://developer.download.nvidia.com/compute/machine-learning/repos/ubuntu1804/x86_64  InRelease\n",
            "Hit:5 http://archive.ubuntu.com/ubuntu bionic InRelease\n",
            "Hit:6 http://ppa.launchpad.net/c2d4u.team/c2d4u4.0+/ubuntu bionic InRelease\n",
            "Hit:7 https://developer.download.nvidia.com/compute/cuda/repos/ubuntu1804/x86_64  Release\n",
            "Hit:8 https://developer.download.nvidia.com/compute/machine-learning/repos/ubuntu1804/x86_64  Release\n",
            "Hit:9 http://archive.ubuntu.com/ubuntu bionic-updates InRelease\n",
            "Hit:10 http://archive.ubuntu.com/ubuntu bionic-backports InRelease\n",
            "Hit:11 http://ppa.launchpad.net/cran/libgit2/ubuntu bionic InRelease\n",
            "Hit:12 http://ppa.launchpad.net/deadsnakes/ppa/ubuntu bionic InRelease\n",
            "Hit:13 http://ppa.launchpad.net/graphics-drivers/ppa/ubuntu bionic InRelease\n",
            "Reading package lists... Done\n",
            "Reading package lists... Done\n",
            "Building dependency tree       \n",
            "Reading state information... Done\n",
            "chromium-chromedriver is already the newest version (90.0.4430.93-0ubuntu0.18.04.1).\n",
            "The following package was automatically installed and is no longer required:\n",
            "  libnvidia-common-460\n",
            "Use 'apt autoremove' to remove it.\n",
            "0 upgraded, 0 newly installed, 0 to remove and 87 not upgraded.\n",
            "cp: '/usr/lib/chromium-browser/chromedriver' and '/usr/bin/chromedriver' are the same file\n"
          ],
          "name": "stdout"
        },
        {
          "output_type": "stream",
          "text": [
            "/usr/local/lib/python3.7/dist-packages/ipykernel_launcher.py:24: DeprecationWarning: use options instead of chrome_options\n"
          ],
          "name": "stderr"
        },
        {
          "output_type": "stream",
          "text": [
            "Current Path /content/drive/My Drive/Colab Notebooks/Dataset/lion\n",
            "Found: 100 search results. Extracting links from0:100\n",
            "Found: 0 looking for more image links ...\n",
            "Found: 1 looking for more image links ...\n",
            "Found: 2 looking for more image links ...\n",
            "Found: 3 looking for more image links ...\n",
            "Found: 4 looking for more image links ...\n",
            "Found: 4 looking for more image links ...\n",
            "Found: 5 image links\n",
            "totalLinks {'https://upload.wikimedia.org/wikipedia/commons/1/1e/Cecil_the_lion_at_Hwange_National_Park_%284516560206%29.jpg', 'https://live.staticflickr.com/193/494118044_a0439df4c9_b.jpg', 'https://upload.wikimedia.org/wikipedia/commons/thumb/b/bb/White-lion.jpg/1280px-White-lion.jpg', 'https://live.staticflickr.com/4048/4394847127_be8e440a50_b.jpg', 'https://upload.wikimedia.org/wikipedia/commons/thumb/7/73/Lion_waiting_in_Namibia.jpg/800px-Lion_waiting_in_Namibia.jpg'}\n",
            "SAVED - https://upload.wikimedia.org/wikipedia/commons/1/1e/Cecil_the_lion_at_Hwange_National_Park_%284516560206%29.jpg - AT: /content/drive/My Drive/Colab Notebooks/Dataset/lion/                                                                                                                                                     0.jpg\n",
            "SAVED - https://live.staticflickr.com/193/494118044_a0439df4c9_b.jpg - AT: /content/drive/My Drive/Colab Notebooks/Dataset/lion/                                                                                                                                                     1.jpg\n",
            "SAVED - https://upload.wikimedia.org/wikipedia/commons/thumb/b/bb/White-lion.jpg/1280px-White-lion.jpg - AT: /content/drive/My Drive/Colab Notebooks/Dataset/lion/                                                                                                                                                     2.jpg\n",
            "SAVED - https://live.staticflickr.com/4048/4394847127_be8e440a50_b.jpg - AT: /content/drive/My Drive/Colab Notebooks/Dataset/lion/                                                                                                                                                     3.jpg\n",
            "SAVED - https://upload.wikimedia.org/wikipedia/commons/thumb/7/73/Lion_waiting_in_Namibia.jpg/800px-Lion_waiting_in_Namibia.jpg - AT: /content/drive/My Drive/Colab Notebooks/Dataset/lion/                                                                                                                                                     4.jpg\n"
          ],
          "name": "stdout"
        }
      ]
    },
    {
      "cell_type": "markdown",
      "metadata": {
        "id": "VgZPvVlIxAqH"
      },
      "source": [
        "#### **Web Scraping of Movies Information using BeautifulSoup**"
      ]
    },
    {
      "cell_type": "markdown",
      "metadata": {
        "id": "K3jwgo6hLw0A"
      },
      "source": [
        "We want to analyze the distributions of IMDB and Metacritic movie ratings to see if we find anything interesting. To do this, we’ll first scrape data for over 2000 movies."
      ]
    },
    {
      "cell_type": "markdown",
      "metadata": {
        "id": "7P07KapjMFLN"
      },
      "source": [
        "![option3.jpg](data:image/jpeg;base64,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)"
      ]
    },
    {
      "cell_type": "markdown",
      "metadata": {
        "id": "GsKvPu8IMJLe"
      },
      "source": [
        "Identifying the URL structure"
      ]
    },
    {
      "cell_type": "markdown",
      "metadata": {
        "id": "ALfz4SCbMS37"
      },
      "source": [
        "![url.png](data:image/png;base64,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)"
      ]
    },
    {
      "cell_type": "markdown",
      "metadata": {
        "id": "iD93JDNsMVEI"
      },
      "source": [
        "In the image above, you can see that the URL has several parameters after the question mark:\n",
        "\n",
        "* release_date — Shows only the movies released in a specific year.\n",
        "* sort — Sorts the movies on the page. sort=num_votes,desc translates to sort by number of votes in a descending order.\n",
        "* page — Specifies the page number.\n",
        "* ref_ — Takes us to the the next or the previous page. The reference is the page we are currently on. adv_nxt and adv_prv are two possible values. They translate to advance to the next page, and advance to the previous page, respectivel"
      ]
    },
    {
      "cell_type": "code",
      "metadata": {
        "colab": {
          "base_uri": "https://localhost:8080/"
        },
        "id": "xC7pF_5IMh02",
        "outputId": "4d822e68-4b0a-45c2-a172-df68c9292ace"
      },
      "source": [
        "from requests import get\n",
        "url = 'https://www.imdb.com/search/title?release_date=2017&sort=num_votes,desc&page=1'\n",
        "response = get(url)\n",
        "print(response.text[:500])"
      ],
      "execution_count": null,
      "outputs": [
        {
          "output_type": "stream",
          "text": [
            "\n",
            "\n",
            "<!DOCTYPE html>\n",
            "<html\n",
            "    xmlns:og=\"http://ogp.me/ns#\"\n",
            "    xmlns:fb=\"http://www.facebook.com/2008/fbml\">\n",
            "    <head>\n",
            "         \n",
            "        <meta charset=\"utf-8\">\n",
            "        <meta http-equiv=\"X-UA-Compatible\" content=\"IE=edge\">\n",
            "\n",
            "    <meta name=\"apple-itunes-app\" content=\"app-id=342792525, app-argument=imdb:///?src=mdot\">\n",
            "\n",
            "\n",
            "\n",
            "        <script type=\"text/javascript\">var IMDbTimer={starttime: new Date().getTime(),pt:'java'};</script>\n",
            "\n",
            "<script>\n",
            "    if (typeof uet == 'function') {\n",
            "      uet(\"bb\", \"LoadTitle\",\n"
          ],
          "name": "stdout"
        }
      ]
    },
    {
      "cell_type": "markdown",
      "metadata": {
        "id": "PKs8hT4sMwm8"
      },
      "source": [
        "Understanding the HTML structure of a single page"
      ]
    },
    {
      "cell_type": "markdown",
      "metadata": {
        "id": "KBapEMDNMxZw"
      },
      "source": [
        "![one_container.jpg](data:image/jpeg;base64,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)"
      ]
    },
    {
      "cell_type": "markdown",
      "metadata": {
        "id": "_DfZu1buM1sd"
      },
      "source": [
        "Using BeautifulSoup to parse the HTML content"
      ]
    },
    {
      "cell_type": "markdown",
      "metadata": {
        "id": "5U2QbctCM6eR"
      },
      "source": [
        "To parse our HTML document and extract the 50 div containers, we’ll use a Python module called BeautifulSoup, the most common web scraping module for Python.\n",
        "\n",
        "In the following code cell we will:\n",
        "\n",
        "* Import the BeautifulSoup class creator from the package bs4.\n",
        "* Parse response.text by creating a BeautifulSoup object, and assign this object to html_soup. The 'html.parser' argument indicates that we want to do the parsing using Python’s built-in HTML parser."
      ]
    },
    {
      "cell_type": "code",
      "metadata": {
        "colab": {
          "base_uri": "https://localhost:8080/"
        },
        "id": "ITjDMH1lMm4D",
        "outputId": "aebec774-2e0d-458a-b70c-79516043ad64"
      },
      "source": [
        "from bs4 import BeautifulSoup\n",
        "html_soup = BeautifulSoup(response.text, 'html.parser')\n",
        "headers = {'Accept-Language': 'en-US,en;q=0.8'}\n",
        "type(html_soup)"
      ],
      "execution_count": null,
      "outputs": [
        {
          "output_type": "execute_result",
          "data": {
            "text/plain": [
              "bs4.BeautifulSoup"
            ]
          },
          "metadata": {
            "tags": []
          },
          "execution_count": 32
        }
      ]
    },
    {
      "cell_type": "markdown",
      "metadata": {
        "id": "KLzp7HzHMeNS"
      },
      "source": [
        "Before extracting the 50 div containers, we need to figure out what distinguishes them from other div elements on that page. Often, the distinctive mark resides in the class attribute. If you inspect the HTML lines of the containers of interest, you’ll notice that the class attribute has two values: lister-item and mode-advanced. This combination is unique to these div containers. We can see that’s true by doing a quick search (Ctrl + F). We have 50 such containers, so we expect to see only 50 matches:"
      ]
    },
    {
      "cell_type": "markdown",
      "metadata": {
        "id": "viQDhGbFNJUM"
      },
      "source": [
        "![search.webp](data:image/webp;base64,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)"
      ]
    },
    {
      "cell_type": "markdown",
      "metadata": {
        "id": "JL6wL73wNcMk"
      },
      "source": [
        "Now let’s use the find_all() method to extract all the div containers that have a class attribute of lister-item mode-advanced:"
      ]
    },
    {
      "cell_type": "code",
      "metadata": {
        "colab": {
          "base_uri": "https://localhost:8080/"
        },
        "id": "HhIF6HGwNc0Z",
        "outputId": "872ee7a7-4a25-494d-aedd-8c25081dd419"
      },
      "source": [
        "movie_containers = html_soup.find_all('div', class_ = 'lister-item mode-advanced')\n",
        "print(type(movie_containers))\n",
        "print(len(movie_containers))"
      ],
      "execution_count": null,
      "outputs": [
        {
          "output_type": "stream",
          "text": [
            "<class 'bs4.element.ResultSet'>\n",
            "50\n"
          ],
          "name": "stdout"
        }
      ]
    },
    {
      "cell_type": "markdown",
      "metadata": {
        "id": "Bao33R5SNjo7"
      },
      "source": [
        "find_all() returned a ResultSet object which is a list containing all the 50 divs we are interested in."
      ]
    },
    {
      "cell_type": "markdown",
      "metadata": {
        "id": "tQHeuA9RNmRr"
      },
      "source": [
        "Now we’ll select only the first container, and extract, by turn, each item of interest:\n",
        "\n",
        "* The name of the movie.\n",
        "* The year of release.\n",
        "* The IMDB rating.\n",
        "* The Metascore.\n",
        "* The number of votes."
      ]
    },
    {
      "cell_type": "markdown",
      "metadata": {
        "id": "cZBQBjhoNq15"
      },
      "source": [
        "![datapoints.jpg](data:image/jpeg;base64,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)"
      ]
    },
    {
      "cell_type": "markdown",
      "metadata": {
        "id": "Qvxaho-6NweP"
      },
      "source": [
        "Extracting the data for a single movie"
      ]
    },
    {
      "cell_type": "markdown",
      "metadata": {
        "id": "6K-A_LeLNyvo"
      },
      "source": [
        "We can access the first container, which contains information about a single movie, by using list notation on movie_containers."
      ]
    },
    {
      "cell_type": "code",
      "metadata": {
        "colab": {
          "base_uri": "https://localhost:8080/"
        },
        "id": "bb2ogAUzN493",
        "outputId": "dda92d91-8b2d-44f3-e473-f311019f9af1"
      },
      "source": [
        "first_movie = movie_containers[0]\n",
        "first_movie"
      ],
      "execution_count": null,
      "outputs": [
        {
          "output_type": "execute_result",
          "data": {
            "text/plain": [
              "<div class=\"lister-item mode-advanced\">\n",
              "<div class=\"lister-top-right\">\n",
              "<div class=\"ribbonize\" data-caller=\"filmosearch\" data-tconst=\"tt3315342\"></div>\n",
              "</div>\n",
              "<div class=\"lister-item-image float-left\">\n",
              "<a href=\"/title/tt3315342/\"> <img alt=\"Logan\" class=\"loadlate\" data-tconst=\"tt3315342\" height=\"98\" loadlate=\"https://m.media-amazon.com/images/M/MV5BYzc5MTU4N2EtYTkyMi00NjdhLTg3NWEtMTY4OTEyMzJhZTAzXkEyXkFqcGdeQXVyNjc1NTYyMjg@._V1_UX67_CR0,0,67,98_AL_.jpg\" src=\"https://m.media-amazon.com/images/S/sash/4FyxwxECzL-U1J8.png\" width=\"67\"/>\n",
              "</a> </div>\n",
              "<div class=\"lister-item-content\">\n",
              "<h3 class=\"lister-item-header\">\n",
              "<span class=\"lister-item-index unbold text-primary\">1.</span>\n",
              "<a href=\"/title/tt3315342/\">Logan</a>\n",
              "<span class=\"lister-item-year text-muted unbold\">(2017)</span>\n",
              "</h3>\n",
              "<p class=\"text-muted \">\n",
              "<span class=\"certificate\">R</span>\n",
              "<span class=\"ghost\">|</span>\n",
              "<span class=\"runtime\">137 min</span>\n",
              "<span class=\"ghost\">|</span>\n",
              "<span class=\"genre\">\n",
              "Action, Drama, Sci-Fi            </span>\n",
              "</p>\n",
              "<div class=\"ratings-bar\">\n",
              "<div class=\"inline-block ratings-imdb-rating\" data-value=\"8.1\" name=\"ir\">\n",
              "<span class=\"global-sprite rating-star imdb-rating\"></span>\n",
              "<strong>8.1</strong>\n",
              "</div>\n",
              "<div class=\"inline-block ratings-user-rating\">\n",
              "<span class=\"userRatingValue\" data-tconst=\"tt3315342\" id=\"urv_tt3315342\">\n",
              "<span class=\"global-sprite rating-star no-rating\"></span>\n",
              "<span class=\"rate\" data-no-rating=\"Rate this\" data-value=\"0\" name=\"ur\">Rate this</span>\n",
              "</span>\n",
              "<div class=\"starBarWidget\" id=\"sb_tt3315342\">\n",
              "<div class=\"rating rating-list\" data-csrf-token=\"\" data-ga-identifier=\"\" data-starbar-class=\"rating-list\" data-user=\"\" id=\"tt3315342|imdb|8.1|8.1|adv_li_tt||advsearch|title\" itemprop=\"aggregateRating\" itemscope=\"\" itemtype=\"http://schema.org/AggregateRating\" title=\"Users rated this 8.1/10 (667,461 votes) - click stars to rate\">\n",
              "<meta content=\"8.1\" itemprop=\"ratingValue\"/>\n",
              "<meta content=\"10\" itemprop=\"bestRating\"/>\n",
              "<meta content=\"667461\" itemprop=\"ratingCount\"/>\n",
              "<span class=\"rating-bg\"> </span>\n",
              "<span class=\"rating-imdb \" style=\"width: 113.4px\"> </span>\n",
              "<span class=\"rating-stars\">\n",
              "<a href=\"/register/login?why=vote\" rel=\"nofollow\" title=\"Register or login to rate this title\"><span>1</span></a>\n",
              "<a href=\"/register/login?why=vote\" rel=\"nofollow\" title=\"Register or login to rate this title\"><span>2</span></a>\n",
              "<a href=\"/register/login?why=vote\" rel=\"nofollow\" title=\"Register or login to rate this title\"><span>3</span></a>\n",
              "<a href=\"/register/login?why=vote\" rel=\"nofollow\" title=\"Register or login to rate this title\"><span>4</span></a>\n",
              "<a href=\"/register/login?why=vote\" rel=\"nofollow\" title=\"Register or login to rate this title\"><span>5</span></a>\n",
              "<a href=\"/register/login?why=vote\" rel=\"nofollow\" title=\"Register or login to rate this title\"><span>6</span></a>\n",
              "<a href=\"/register/login?why=vote\" rel=\"nofollow\" title=\"Register or login to rate this title\"><span>7</span></a>\n",
              "<a href=\"/register/login?why=vote\" rel=\"nofollow\" title=\"Register or login to rate this title\"><span>8</span></a>\n",
              "<a href=\"/register/login?why=vote\" rel=\"nofollow\" title=\"Register or login to rate this title\"><span>9</span></a>\n",
              "<a href=\"/register/login?why=vote\" rel=\"nofollow\" title=\"Register or login to rate this title\"><span>10</span></a>\n",
              "</span>\n",
              "<span class=\"rating-rating \"><span class=\"value\">8.1</span><span class=\"grey\">/</span><span class=\"grey\">10</span></span>\n",
              "<span class=\"rating-cancel \"><a href=\"/title/tt3315342/vote\" rel=\"nofollow\" title=\"Delete\"><span>X</span></a></span>\n",
              " </div>\n",
              "</div>\n",
              "</div>\n",
              "<div class=\"inline-block ratings-metascore\">\n",
              "<span class=\"metascore favorable\">77        </span>\n",
              "        Metascore\n",
              "            </div>\n",
              "</div>\n",
              "<p class=\"text-muted\">\n",
              "    In a future where mutants are nearly extinct, an elderly and weary Logan leads a quiet life. But when Laura, a mutant child pursued by scientists, comes to him for help, he must get her to safety.</p>\n",
              "<p class=\"\">\n",
              "    Director:\n",
              "<a href=\"/name/nm0003506/\">James Mangold</a>\n",
              "<span class=\"ghost\">|</span> \n",
              "    Stars:\n",
              "<a href=\"/name/nm0413168/\">Hugh Jackman</a>, \n",
              "<a href=\"/name/nm0001772/\">Patrick Stewart</a>, \n",
              "<a href=\"/name/nm6748436/\">Dafne Keen</a>, \n",
              "<a href=\"/name/nm2933542/\">Boyd Holbrook</a>\n",
              "</p>\n",
              "<p class=\"sort-num_votes-visible\">\n",
              "<span class=\"text-muted\">Votes:</span>\n",
              "<span data-value=\"667461\" name=\"nv\">667,461</span>\n",
              "<span class=\"ghost\">|</span> <span class=\"text-muted\">Gross:</span>\n",
              "<span data-value=\"226,277,068\" name=\"nv\">$226.28M</span>\n",
              "</p>\n",
              "</div>\n",
              "</div>"
            ]
          },
          "metadata": {
            "tags": []
          },
          "execution_count": 34
        }
      ]
    },
    {
      "cell_type": "markdown",
      "metadata": {
        "id": "eH9IVTZ3OC8k"
      },
      "source": [
        "The name of the movie"
      ]
    },
    {
      "cell_type": "markdown",
      "metadata": {
        "id": "InXOtr60OHKg"
      },
      "source": [
        "![movie_name.jpg](data:image/jpeg;base64,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)"
      ]
    },
    {
      "cell_type": "code",
      "metadata": {
        "colab": {
          "base_uri": "https://localhost:8080/"
        },
        "id": "C0IEBf-bN8LK",
        "outputId": "e56fb18c-e7bf-4542-8216-08e4b0498b81"
      },
      "source": [
        "first_movie.div"
      ],
      "execution_count": null,
      "outputs": [
        {
          "output_type": "execute_result",
          "data": {
            "text/plain": [
              "<div class=\"lister-top-right\">\n",
              "<div class=\"ribbonize\" data-caller=\"filmosearch\" data-tconst=\"tt3315342\"></div>\n",
              "</div>"
            ]
          },
          "metadata": {
            "tags": []
          },
          "execution_count": 35
        }
      ]
    },
    {
      "cell_type": "code",
      "metadata": {
        "colab": {
          "base_uri": "https://localhost:8080/"
        },
        "id": "_mawSqc7Ob21",
        "outputId": "47093e5f-1704-4323-f624-11ae144ee356"
      },
      "source": [
        "first_movie.a"
      ],
      "execution_count": null,
      "outputs": [
        {
          "output_type": "execute_result",
          "data": {
            "text/plain": [
              "<a href=\"/title/tt3315342/\"> <img alt=\"Logan\" class=\"loadlate\" data-tconst=\"tt3315342\" height=\"98\" loadlate=\"https://m.media-amazon.com/images/M/MV5BYzc5MTU4N2EtYTkyMi00NjdhLTg3NWEtMTY4OTEyMzJhZTAzXkEyXkFqcGdeQXVyNjc1NTYyMjg@._V1_UX67_CR0,0,67,98_AL_.jpg\" src=\"https://m.media-amazon.com/images/S/sash/4FyxwxECzL-U1J8.png\" width=\"67\"/>\n",
              "</a>"
            ]
          },
          "metadata": {
            "tags": []
          },
          "execution_count": 36
        }
      ]
    },
    {
      "cell_type": "code",
      "metadata": {
        "colab": {
          "base_uri": "https://localhost:8080/"
        },
        "id": "DVY7nl6vOjaO",
        "outputId": "ec778c6d-628d-452f-999c-0babfb34a3e5"
      },
      "source": [
        "first_movie.h3"
      ],
      "execution_count": null,
      "outputs": [
        {
          "output_type": "execute_result",
          "data": {
            "text/plain": [
              "<h3 class=\"lister-item-header\">\n",
              "<span class=\"lister-item-index unbold text-primary\">1.</span>\n",
              "<a href=\"/title/tt3315342/\">Logan</a>\n",
              "<span class=\"lister-item-year text-muted unbold\">(2017)</span>\n",
              "</h3>"
            ]
          },
          "metadata": {
            "tags": []
          },
          "execution_count": 37
        }
      ]
    },
    {
      "cell_type": "code",
      "metadata": {
        "colab": {
          "base_uri": "https://localhost:8080/"
        },
        "id": "BwIUQsQ6OmcE",
        "outputId": "8f1604fd-0954-4ede-bf8f-8a6504f23bbf"
      },
      "source": [
        "first_movie.h3.a"
      ],
      "execution_count": null,
      "outputs": [
        {
          "output_type": "execute_result",
          "data": {
            "text/plain": [
              "<a href=\"/title/tt3315342/\">Logan</a>"
            ]
          },
          "metadata": {
            "tags": []
          },
          "execution_count": 38
        }
      ]
    },
    {
      "cell_type": "code",
      "metadata": {
        "colab": {
          "base_uri": "https://localhost:8080/",
          "height": 35
        },
        "id": "ICaHAzJmOozt",
        "outputId": "a07e154a-612c-4525-88f9-5ec7f8b699cf"
      },
      "source": [
        "first_name = first_movie.h3.a.text\n",
        "first_name"
      ],
      "execution_count": null,
      "outputs": [
        {
          "output_type": "execute_result",
          "data": {
            "application/vnd.google.colaboratory.intrinsic+json": {
              "type": "string"
            },
            "text/plain": [
              "'Logan'"
            ]
          },
          "metadata": {
            "tags": []
          },
          "execution_count": 39
        }
      ]
    },
    {
      "cell_type": "markdown",
      "metadata": {
        "id": "dYjf3USHPKs9"
      },
      "source": [
        "The year of the movie’s release"
      ]
    },
    {
      "cell_type": "code",
      "metadata": {
        "colab": {
          "base_uri": "https://localhost:8080/"
        },
        "id": "SiEH8kELOpss",
        "outputId": "7ede38f5-f625-4027-fb16-a7a75f3cbe0f"
      },
      "source": [
        "first_year = first_movie.h3.find('span', class_ = 'lister-item-year text-muted unbold')\n",
        "first_year"
      ],
      "execution_count": null,
      "outputs": [
        {
          "output_type": "execute_result",
          "data": {
            "text/plain": [
              "<span class=\"lister-item-year text-muted unbold\">(2017)</span>"
            ]
          },
          "metadata": {
            "tags": []
          },
          "execution_count": 40
        }
      ]
    },
    {
      "cell_type": "code",
      "metadata": {
        "colab": {
          "base_uri": "https://localhost:8080/",
          "height": 35
        },
        "id": "phYFkivYPCEF",
        "outputId": "f815087f-d133-4fca-c98a-0c63d4aa0190"
      },
      "source": [
        "first_year = first_year.text\n",
        "first_year"
      ],
      "execution_count": null,
      "outputs": [
        {
          "output_type": "execute_result",
          "data": {
            "application/vnd.google.colaboratory.intrinsic+json": {
              "type": "string"
            },
            "text/plain": [
              "'(2017)'"
            ]
          },
          "metadata": {
            "tags": []
          },
          "execution_count": 41
        }
      ]
    },
    {
      "cell_type": "markdown",
      "metadata": {
        "id": "U_S7VuirPHSl"
      },
      "source": [
        "The IMDB rating"
      ]
    },
    {
      "cell_type": "code",
      "metadata": {
        "colab": {
          "base_uri": "https://localhost:8080/"
        },
        "id": "wxarJM-BPEtB",
        "outputId": "46e3656c-8a90-4475-f7ed-3f9d46452d28"
      },
      "source": [
        "first_movie.strong"
      ],
      "execution_count": null,
      "outputs": [
        {
          "output_type": "execute_result",
          "data": {
            "text/plain": [
              "<strong>8.1</strong>"
            ]
          },
          "metadata": {
            "tags": []
          },
          "execution_count": 42
        }
      ]
    },
    {
      "cell_type": "code",
      "metadata": {
        "colab": {
          "base_uri": "https://localhost:8080/"
        },
        "id": "QA6ZjwT2PTa-",
        "outputId": "a294012b-2c4c-4208-b0a7-e3f6f91fe754"
      },
      "source": [
        "first_imdb = float(first_movie.strong.text)\n",
        "first_imdb"
      ],
      "execution_count": null,
      "outputs": [
        {
          "output_type": "execute_result",
          "data": {
            "text/plain": [
              "8.1"
            ]
          },
          "metadata": {
            "tags": []
          },
          "execution_count": 43
        }
      ]
    },
    {
      "cell_type": "markdown",
      "metadata": {
        "id": "Gt7TJWpcPgoN"
      },
      "source": [
        "The Metascore"
      ]
    },
    {
      "cell_type": "code",
      "metadata": {
        "colab": {
          "base_uri": "https://localhost:8080/"
        },
        "id": "SGF2u195PY6D",
        "outputId": "a60f3c75-a7f5-43cd-d36b-cfa15d5db61a"
      },
      "source": [
        "first_mscore = first_movie.find('span', class_ = 'metascore favorable')\n",
        "first_mscore = int(first_mscore.text)\n",
        "print(first_mscore)"
      ],
      "execution_count": null,
      "outputs": [
        {
          "output_type": "stream",
          "text": [
            "77\n"
          ],
          "name": "stdout"
        }
      ]
    },
    {
      "cell_type": "markdown",
      "metadata": {
        "id": "61nsF5IMN1Dv"
      },
      "source": [
        "The number of votes"
      ]
    },
    {
      "cell_type": "code",
      "metadata": {
        "colab": {
          "base_uri": "https://localhost:8080/"
        },
        "id": "Ysc_3NnyN3k7",
        "outputId": "73a84eaf-656d-4e7b-ec58-70d1db89b10e"
      },
      "source": [
        "first_votes = first_movie.find('span', attrs = {'name':'nv'})\n",
        "first_votes"
      ],
      "execution_count": null,
      "outputs": [
        {
          "output_type": "execute_result",
          "data": {
            "text/plain": [
              "<span data-value=\"667461\" name=\"nv\">667,461</span>"
            ]
          },
          "metadata": {
            "tags": []
          },
          "execution_count": 45
        }
      ]
    },
    {
      "cell_type": "code",
      "metadata": {
        "colab": {
          "base_uri": "https://localhost:8080/",
          "height": 35
        },
        "id": "UP7SBF53PqHA",
        "outputId": "5bf75cda-d7a7-470a-f4a0-ccb9785c721d"
      },
      "source": [
        "first_votes['data-value']"
      ],
      "execution_count": null,
      "outputs": [
        {
          "output_type": "execute_result",
          "data": {
            "application/vnd.google.colaboratory.intrinsic+json": {
              "type": "string"
            },
            "text/plain": [
              "'667461'"
            ]
          },
          "metadata": {
            "tags": []
          },
          "execution_count": 46
        }
      ]
    },
    {
      "cell_type": "code",
      "metadata": {
        "id": "U0NqBupMPsc6"
      },
      "source": [
        "first_votes = int(first_votes['data-value'])"
      ],
      "execution_count": null,
      "outputs": []
    },
    {
      "cell_type": "markdown",
      "metadata": {
        "id": "VQu1wERxPvCn"
      },
      "source": [
        "The script "
      ]
    },
    {
      "cell_type": "code",
      "metadata": {
        "id": "jXoi3mqZNi96"
      },
      "source": [
        "# Lists to store the scraped data in\n",
        "names = []\n",
        "years = []\n",
        "imdb_ratings = []\n",
        "metascores = []\n",
        "votes = []\n",
        "# Extract data from individual movie container\n",
        "\n",
        "for container in movie_containers:\n",
        "    \n",
        "# If the movie has Metascore, then extract:\n",
        "    if container.find('div', class_ = 'ratings-metascore') is not None:\n",
        "# The name\n",
        "      name = container.h3.a.text\n",
        "      names.append(name)\n",
        "# The year\n",
        "      year = container.h3.find('span', class_ = 'lister-item-year').text\n",
        "      years.append(year)\n",
        "# The IMDB rating\n",
        "      imdb = float(container.strong.text)\n",
        "      imdb_ratings.append(imdb)\n",
        "# The Metascore\n",
        "      m_score = container.find('span', class_ = 'metascore').text\n",
        "      metascores.append(int(m_score))\n",
        "# The number of votes\n",
        "      vote = container.find('span', attrs = {'name':'nv'})['data-value']\n",
        "      votes.append(int(vote))"
      ],
      "execution_count": null,
      "outputs": []
    },
    {
      "cell_type": "code",
      "metadata": {
        "id": "jpORJ8MgxWd6",
        "colab": {
          "base_uri": "https://localhost:8080/",
          "height": 1000
        },
        "outputId": "0e0770fb-7533-4824-cf22-f1f84e5e24f7"
      },
      "source": [
        "import pandas as pd\n",
        "test_df = pd.DataFrame({'movie': names,\n",
        "'year': years,\n",
        "'imdb': imdb_ratings,\n",
        "'metascore': metascores,\n",
        "'votes': votes\n",
        "})\n",
        "print(test_df.info())\n",
        "test_df"
      ],
      "execution_count": null,
      "outputs": [
        {
          "output_type": "stream",
          "text": [
            "<class 'pandas.core.frame.DataFrame'>\n",
            "RangeIndex: 42 entries, 0 to 41\n",
            "Data columns (total 5 columns):\n",
            " #   Column     Non-Null Count  Dtype  \n",
            "---  ------     --------------  -----  \n",
            " 0   movie      42 non-null     object \n",
            " 1   year       42 non-null     object \n",
            " 2   imdb       42 non-null     float64\n",
            " 3   metascore  42 non-null     int64  \n",
            " 4   votes      42 non-null     int64  \n",
            "dtypes: float64(1), int64(2), object(2)\n",
            "memory usage: 1.8+ KB\n",
            "None\n"
          ],
          "name": "stdout"
        },
        {
          "output_type": "execute_result",
          "data": {
            "text/html": [
              "<div>\n",
              "<style scoped>\n",
              "    .dataframe tbody tr th:only-of-type {\n",
              "        vertical-align: middle;\n",
              "    }\n",
              "\n",
              "    .dataframe tbody tr th {\n",
              "        vertical-align: top;\n",
              "    }\n",
              "\n",
              "    .dataframe thead th {\n",
              "        text-align: right;\n",
              "    }\n",
              "</style>\n",
              "<table border=\"1\" class=\"dataframe\">\n",
              "  <thead>\n",
              "    <tr style=\"text-align: right;\">\n",
              "      <th></th>\n",
              "      <th>movie</th>\n",
              "      <th>year</th>\n",
              "      <th>imdb</th>\n",
              "      <th>metascore</th>\n",
              "      <th>votes</th>\n",
              "    </tr>\n",
              "  </thead>\n",
              "  <tbody>\n",
              "    <tr>\n",
              "      <th>0</th>\n",
              "      <td>Logan</td>\n",
              "      <td>(2017)</td>\n",
              "      <td>8.1</td>\n",
              "      <td>77</td>\n",
              "      <td>667461</td>\n",
              "    </tr>\n",
              "    <tr>\n",
              "      <th>1</th>\n",
              "      <td>Thor: Ragnarok</td>\n",
              "      <td>(2017)</td>\n",
              "      <td>7.9</td>\n",
              "      <td>74</td>\n",
              "      <td>615570</td>\n",
              "    </tr>\n",
              "    <tr>\n",
              "      <th>2</th>\n",
              "      <td>Wonder Woman</td>\n",
              "      <td>(2017)</td>\n",
              "      <td>7.4</td>\n",
              "      <td>76</td>\n",
              "      <td>594410</td>\n",
              "    </tr>\n",
              "    <tr>\n",
              "      <th>3</th>\n",
              "      <td>Guardians of the Galaxy Vol. 2</td>\n",
              "      <td>(2017)</td>\n",
              "      <td>7.6</td>\n",
              "      <td>67</td>\n",
              "      <td>589160</td>\n",
              "    </tr>\n",
              "    <tr>\n",
              "      <th>4</th>\n",
              "      <td>Star Wars: Episode VIII - The Last Jedi</td>\n",
              "      <td>(2017)</td>\n",
              "      <td>7.0</td>\n",
              "      <td>84</td>\n",
              "      <td>577006</td>\n",
              "    </tr>\n",
              "    <tr>\n",
              "      <th>5</th>\n",
              "      <td>Dunkirk</td>\n",
              "      <td>(2017)</td>\n",
              "      <td>7.8</td>\n",
              "      <td>94</td>\n",
              "      <td>575108</td>\n",
              "    </tr>\n",
              "    <tr>\n",
              "      <th>6</th>\n",
              "      <td>Spider-Man: Homecoming</td>\n",
              "      <td>(2017)</td>\n",
              "      <td>7.4</td>\n",
              "      <td>73</td>\n",
              "      <td>532718</td>\n",
              "    </tr>\n",
              "    <tr>\n",
              "      <th>7</th>\n",
              "      <td>Get Out</td>\n",
              "      <td>(I) (2017)</td>\n",
              "      <td>7.7</td>\n",
              "      <td>85</td>\n",
              "      <td>509953</td>\n",
              "    </tr>\n",
              "    <tr>\n",
              "      <th>8</th>\n",
              "      <td>Blade Runner 2049</td>\n",
              "      <td>(2017)</td>\n",
              "      <td>8.0</td>\n",
              "      <td>81</td>\n",
              "      <td>479952</td>\n",
              "    </tr>\n",
              "    <tr>\n",
              "      <th>9</th>\n",
              "      <td>It</td>\n",
              "      <td>(I) (2017)</td>\n",
              "      <td>7.3</td>\n",
              "      <td>69</td>\n",
              "      <td>471568</td>\n",
              "    </tr>\n",
              "    <tr>\n",
              "      <th>10</th>\n",
              "      <td>Baby Driver</td>\n",
              "      <td>(2017)</td>\n",
              "      <td>7.6</td>\n",
              "      <td>86</td>\n",
              "      <td>457272</td>\n",
              "    </tr>\n",
              "    <tr>\n",
              "      <th>11</th>\n",
              "      <td>Three Billboards Outside Ebbing, Missouri</td>\n",
              "      <td>(2017)</td>\n",
              "      <td>8.1</td>\n",
              "      <td>88</td>\n",
              "      <td>451012</td>\n",
              "    </tr>\n",
              "    <tr>\n",
              "      <th>12</th>\n",
              "      <td>Justice League</td>\n",
              "      <td>(2017)</td>\n",
              "      <td>6.1</td>\n",
              "      <td>45</td>\n",
              "      <td>415247</td>\n",
              "    </tr>\n",
              "    <tr>\n",
              "      <th>13</th>\n",
              "      <td>Coco</td>\n",
              "      <td>(I) (2017)</td>\n",
              "      <td>8.4</td>\n",
              "      <td>81</td>\n",
              "      <td>407616</td>\n",
              "    </tr>\n",
              "    <tr>\n",
              "      <th>14</th>\n",
              "      <td>The Shape of Water</td>\n",
              "      <td>(2017)</td>\n",
              "      <td>7.3</td>\n",
              "      <td>87</td>\n",
              "      <td>382846</td>\n",
              "    </tr>\n",
              "    <tr>\n",
              "      <th>15</th>\n",
              "      <td>John Wick: Chapter 2</td>\n",
              "      <td>(2017)</td>\n",
              "      <td>7.5</td>\n",
              "      <td>75</td>\n",
              "      <td>379693</td>\n",
              "    </tr>\n",
              "    <tr>\n",
              "      <th>16</th>\n",
              "      <td>Jumanji: Welcome to the Jungle</td>\n",
              "      <td>(2017)</td>\n",
              "      <td>6.9</td>\n",
              "      <td>58</td>\n",
              "      <td>330889</td>\n",
              "    </tr>\n",
              "    <tr>\n",
              "      <th>17</th>\n",
              "      <td>Kong: Skull Island</td>\n",
              "      <td>(2017)</td>\n",
              "      <td>6.6</td>\n",
              "      <td>62</td>\n",
              "      <td>289484</td>\n",
              "    </tr>\n",
              "    <tr>\n",
              "      <th>18</th>\n",
              "      <td>Kingsman: The Golden Circle</td>\n",
              "      <td>(2017)</td>\n",
              "      <td>6.7</td>\n",
              "      <td>44</td>\n",
              "      <td>282140</td>\n",
              "    </tr>\n",
              "    <tr>\n",
              "      <th>19</th>\n",
              "      <td>Beauty and the Beast</td>\n",
              "      <td>(I) (2017)</td>\n",
              "      <td>7.1</td>\n",
              "      <td>65</td>\n",
              "      <td>280830</td>\n",
              "    </tr>\n",
              "    <tr>\n",
              "      <th>20</th>\n",
              "      <td>Pirates of the Caribbean: Dead Men Tell No Tales</td>\n",
              "      <td>(2017)</td>\n",
              "      <td>6.5</td>\n",
              "      <td>39</td>\n",
              "      <td>271915</td>\n",
              "    </tr>\n",
              "    <tr>\n",
              "      <th>21</th>\n",
              "      <td>Alien: Covenant</td>\n",
              "      <td>(2017)</td>\n",
              "      <td>6.4</td>\n",
              "      <td>65</td>\n",
              "      <td>259558</td>\n",
              "    </tr>\n",
              "    <tr>\n",
              "      <th>22</th>\n",
              "      <td>Lady Bird</td>\n",
              "      <td>(2017)</td>\n",
              "      <td>7.4</td>\n",
              "      <td>94</td>\n",
              "      <td>251279</td>\n",
              "    </tr>\n",
              "    <tr>\n",
              "      <th>23</th>\n",
              "      <td>The Greatest Showman</td>\n",
              "      <td>(2017)</td>\n",
              "      <td>7.6</td>\n",
              "      <td>48</td>\n",
              "      <td>247712</td>\n",
              "    </tr>\n",
              "    <tr>\n",
              "      <th>24</th>\n",
              "      <td>War for the Planet of the Apes</td>\n",
              "      <td>(2017)</td>\n",
              "      <td>7.4</td>\n",
              "      <td>82</td>\n",
              "      <td>233250</td>\n",
              "    </tr>\n",
              "    <tr>\n",
              "      <th>25</th>\n",
              "      <td>Call Me by Your Name</td>\n",
              "      <td>(2017)</td>\n",
              "      <td>7.9</td>\n",
              "      <td>93</td>\n",
              "      <td>224331</td>\n",
              "    </tr>\n",
              "    <tr>\n",
              "      <th>26</th>\n",
              "      <td>Murder on the Orient Express</td>\n",
              "      <td>(2017)</td>\n",
              "      <td>6.5</td>\n",
              "      <td>52</td>\n",
              "      <td>219034</td>\n",
              "    </tr>\n",
              "    <tr>\n",
              "      <th>27</th>\n",
              "      <td>Wind River</td>\n",
              "      <td>(2017)</td>\n",
              "      <td>7.7</td>\n",
              "      <td>73</td>\n",
              "      <td>214702</td>\n",
              "    </tr>\n",
              "    <tr>\n",
              "      <th>28</th>\n",
              "      <td>Life</td>\n",
              "      <td>(I) (2017)</td>\n",
              "      <td>6.6</td>\n",
              "      <td>54</td>\n",
              "      <td>211675</td>\n",
              "    </tr>\n",
              "    <tr>\n",
              "      <th>29</th>\n",
              "      <td>The Fate of the Furious</td>\n",
              "      <td>(2017)</td>\n",
              "      <td>6.6</td>\n",
              "      <td>56</td>\n",
              "      <td>210485</td>\n",
              "    </tr>\n",
              "    <tr>\n",
              "      <th>30</th>\n",
              "      <td>Ghost in the Shell</td>\n",
              "      <td>(2017)</td>\n",
              "      <td>6.3</td>\n",
              "      <td>52</td>\n",
              "      <td>200056</td>\n",
              "    </tr>\n",
              "    <tr>\n",
              "      <th>31</th>\n",
              "      <td>King Arthur: Legend of the Sword</td>\n",
              "      <td>(2017)</td>\n",
              "      <td>6.7</td>\n",
              "      <td>41</td>\n",
              "      <td>197543</td>\n",
              "    </tr>\n",
              "    <tr>\n",
              "      <th>32</th>\n",
              "      <td>Mother!</td>\n",
              "      <td>(2017)</td>\n",
              "      <td>6.6</td>\n",
              "      <td>75</td>\n",
              "      <td>196640</td>\n",
              "    </tr>\n",
              "    <tr>\n",
              "      <th>33</th>\n",
              "      <td>The Hitman's Bodyguard</td>\n",
              "      <td>(2017)</td>\n",
              "      <td>6.9</td>\n",
              "      <td>47</td>\n",
              "      <td>194477</td>\n",
              "    </tr>\n",
              "    <tr>\n",
              "      <th>34</th>\n",
              "      <td>I, Tonya</td>\n",
              "      <td>(2017)</td>\n",
              "      <td>7.5</td>\n",
              "      <td>77</td>\n",
              "      <td>189693</td>\n",
              "    </tr>\n",
              "    <tr>\n",
              "      <th>35</th>\n",
              "      <td>Atomic Blonde</td>\n",
              "      <td>(2017)</td>\n",
              "      <td>6.7</td>\n",
              "      <td>63</td>\n",
              "      <td>180339</td>\n",
              "    </tr>\n",
              "    <tr>\n",
              "      <th>36</th>\n",
              "      <td>Darkest Hour</td>\n",
              "      <td>(2017)</td>\n",
              "      <td>7.4</td>\n",
              "      <td>75</td>\n",
              "      <td>177390</td>\n",
              "    </tr>\n",
              "    <tr>\n",
              "      <th>37</th>\n",
              "      <td>The Mummy</td>\n",
              "      <td>(2017)</td>\n",
              "      <td>5.4</td>\n",
              "      <td>34</td>\n",
              "      <td>176086</td>\n",
              "    </tr>\n",
              "    <tr>\n",
              "      <th>38</th>\n",
              "      <td>Bright</td>\n",
              "      <td>(I) (2017)</td>\n",
              "      <td>6.3</td>\n",
              "      <td>29</td>\n",
              "      <td>172818</td>\n",
              "    </tr>\n",
              "    <tr>\n",
              "      <th>39</th>\n",
              "      <td>Baywatch</td>\n",
              "      <td>(2017)</td>\n",
              "      <td>5.5</td>\n",
              "      <td>37</td>\n",
              "      <td>166656</td>\n",
              "    </tr>\n",
              "    <tr>\n",
              "      <th>40</th>\n",
              "      <td>Valerian and the City of a Thousand Planets</td>\n",
              "      <td>(2017)</td>\n",
              "      <td>6.5</td>\n",
              "      <td>51</td>\n",
              "      <td>166515</td>\n",
              "    </tr>\n",
              "    <tr>\n",
              "      <th>41</th>\n",
              "      <td>American Made</td>\n",
              "      <td>(2017)</td>\n",
              "      <td>7.2</td>\n",
              "      <td>65</td>\n",
              "      <td>163409</td>\n",
              "    </tr>\n",
              "  </tbody>\n",
              "</table>\n",
              "</div>"
            ],
            "text/plain": [
              "                                               movie  ...   votes\n",
              "0                                              Logan  ...  667461\n",
              "1                                     Thor: Ragnarok  ...  615570\n",
              "2                                       Wonder Woman  ...  594410\n",
              "3                     Guardians of the Galaxy Vol. 2  ...  589160\n",
              "4            Star Wars: Episode VIII - The Last Jedi  ...  577006\n",
              "5                                            Dunkirk  ...  575108\n",
              "6                             Spider-Man: Homecoming  ...  532718\n",
              "7                                            Get Out  ...  509953\n",
              "8                                  Blade Runner 2049  ...  479952\n",
              "9                                                 It  ...  471568\n",
              "10                                       Baby Driver  ...  457272\n",
              "11         Three Billboards Outside Ebbing, Missouri  ...  451012\n",
              "12                                    Justice League  ...  415247\n",
              "13                                              Coco  ...  407616\n",
              "14                                The Shape of Water  ...  382846\n",
              "15                              John Wick: Chapter 2  ...  379693\n",
              "16                    Jumanji: Welcome to the Jungle  ...  330889\n",
              "17                                Kong: Skull Island  ...  289484\n",
              "18                       Kingsman: The Golden Circle  ...  282140\n",
              "19                              Beauty and the Beast  ...  280830\n",
              "20  Pirates of the Caribbean: Dead Men Tell No Tales  ...  271915\n",
              "21                                   Alien: Covenant  ...  259558\n",
              "22                                         Lady Bird  ...  251279\n",
              "23                              The Greatest Showman  ...  247712\n",
              "24                    War for the Planet of the Apes  ...  233250\n",
              "25                              Call Me by Your Name  ...  224331\n",
              "26                      Murder on the Orient Express  ...  219034\n",
              "27                                        Wind River  ...  214702\n",
              "28                                              Life  ...  211675\n",
              "29                           The Fate of the Furious  ...  210485\n",
              "30                                Ghost in the Shell  ...  200056\n",
              "31                  King Arthur: Legend of the Sword  ...  197543\n",
              "32                                           Mother!  ...  196640\n",
              "33                            The Hitman's Bodyguard  ...  194477\n",
              "34                                          I, Tonya  ...  189693\n",
              "35                                     Atomic Blonde  ...  180339\n",
              "36                                      Darkest Hour  ...  177390\n",
              "37                                         The Mummy  ...  176086\n",
              "38                                            Bright  ...  172818\n",
              "39                                          Baywatch  ...  166656\n",
              "40       Valerian and the City of a Thousand Planets  ...  166515\n",
              "41                                     American Made  ...  163409\n",
              "\n",
              "[42 rows x 5 columns]"
            ]
          },
          "metadata": {
            "tags": []
          },
          "execution_count": 49
        }
      ]
    },
    {
      "cell_type": "markdown",
      "metadata": {
        "id": "QF7nBgNbRG9-"
      },
      "source": [
        "The script for multiple pages"
      ]
    },
    {
      "cell_type": "code",
      "metadata": {
        "colab": {
          "base_uri": "https://localhost:8080/"
        },
        "id": "mDpWXgVhRIh_",
        "outputId": "dbf8ad21-b9ff-46d3-8254-a5c7e5b49aa1"
      },
      "source": [
        "from time import time\n",
        "from time import sleep\n",
        "from random import randint\n",
        "\n",
        "from IPython.core.display import clear_output\n",
        "pages = [ '1','2','3','4','5']\n",
        "years_url = [ '2017', '2018', '2019', '2020']\n",
        "\n",
        "# Redeclaring the lists to store data in\n",
        "names = []\n",
        "years = []\n",
        "imdb_ratings = []\n",
        "metascores = []\n",
        "votes = []\n",
        "\n",
        "# Preparing the monitoring of the loop\n",
        "start_time = time()\n",
        "requests = 0\n",
        "\n",
        "# For every year in the interval 2000-2017\n",
        "for year_url in years_url:\n",
        "\n",
        "    # For every page in the interval 1-4\n",
        "    for page in pages:\n",
        "\n",
        "        # Make a get request\n",
        "        response = get('https://www.imdb.com/search/title?release_date=' + year_url +\n",
        "        '&sort=num_votes,desc&page=' + page, headers = headers)\n",
        "\n",
        "        # Pause the loop\n",
        "        sleep(randint(8,15))\n",
        "\n",
        "        # Monitor the requests\n",
        "        requests += 1\n",
        "        elapsed_time = time() - start_time\n",
        "        print('Request:{}; Frequency: {} requests/s'.format(requests, requests/elapsed_time))\n",
        "        clear_output(wait = True)\n",
        "\n",
        "        # Throw a warning for non-200 status codes\n",
        "        if response.status_code != 200:\n",
        "            warn('Request: {}; Status code: {}'.format(requests, response.status_code))\n",
        "\n",
        "        # Break the loop if the number of requests is greater than expected\n",
        "        if requests > 72:\n",
        "            warn('Number of requests was greater than expected.')\n",
        "            break\n",
        "\n",
        "        # Parse the content of the request with BeautifulSoup\n",
        "        page_html = BeautifulSoup(response.text, 'html.parser')\n",
        "\n",
        "        # Select all the 50 movie containers from a single page\n",
        "        mv_containers = page_html.find_all('div', class_ = 'lister-item mode-advanced')\n",
        "\n",
        "        # For every movie of these 50\n",
        "        for container in mv_containers:\n",
        "            # If the movie has a Metascore, then:\n",
        "            if container.find('div', class_ = 'ratings-metascore') is not None:\n",
        "\n",
        "                # Scrape the name\n",
        "                name = container.h3.a.text\n",
        "                names.append(name)\n",
        "\n",
        "                # Scrape the year\n",
        "                year = container.h3.find('span', class_ = 'lister-item-year').text\n",
        "                years.append(year)\n",
        "\n",
        "                # Scrape the IMDB rating\n",
        "                imdb = float(container.strong.text)\n",
        "                imdb_ratings.append(imdb)\n",
        "\n",
        "                # Scrape the Metascore\n",
        "                m_score = container.find('span', class_ = 'metascore').text\n",
        "                metascores.append(int(m_score))\n",
        "\n",
        "                # Scrape the number of votes\n",
        "                vote = container.find('span', attrs = {'name':'nv'})['data-value']\n",
        "                votes.append(int(vote))"
      ],
      "execution_count": null,
      "outputs": [
        {
          "output_type": "stream",
          "text": [
            "Request:20; Frequency: 0.08430509283518908 requests/s\n"
          ],
          "name": "stdout"
        }
      ]
    },
    {
      "cell_type": "code",
      "metadata": {
        "id": "3W2SSIZCTLT3",
        "colab": {
          "base_uri": "https://localhost:8080/",
          "height": 589
        },
        "outputId": "eafa8981-7909-4fe7-81a9-e493cc274459"
      },
      "source": [
        "movie_ratings = pd.DataFrame({'movie': names,\n",
        "'year': years,\n",
        "'imdb': imdb_ratings,\n",
        "'metascore': metascores,\n",
        "'votes': votes\n",
        "})\n",
        "print(movie_ratings.info())\n",
        "movie_ratings.head(10)"
      ],
      "execution_count": null,
      "outputs": [
        {
          "output_type": "stream",
          "text": [
            "<class 'pandas.core.frame.DataFrame'>\n",
            "RangeIndex: 830 entries, 0 to 829\n",
            "Data columns (total 5 columns):\n",
            " #   Column     Non-Null Count  Dtype  \n",
            "---  ------     --------------  -----  \n",
            " 0   movie      830 non-null    object \n",
            " 1   year       830 non-null    object \n",
            " 2   imdb       830 non-null    float64\n",
            " 3   metascore  830 non-null    int64  \n",
            " 4   votes      830 non-null    int64  \n",
            "dtypes: float64(1), int64(2), object(2)\n",
            "memory usage: 32.5+ KB\n",
            "None\n"
          ],
          "name": "stdout"
        },
        {
          "output_type": "execute_result",
          "data": {
            "text/html": [
              "<div>\n",
              "<style scoped>\n",
              "    .dataframe tbody tr th:only-of-type {\n",
              "        vertical-align: middle;\n",
              "    }\n",
              "\n",
              "    .dataframe tbody tr th {\n",
              "        vertical-align: top;\n",
              "    }\n",
              "\n",
              "    .dataframe thead th {\n",
              "        text-align: right;\n",
              "    }\n",
              "</style>\n",
              "<table border=\"1\" class=\"dataframe\">\n",
              "  <thead>\n",
              "    <tr style=\"text-align: right;\">\n",
              "      <th></th>\n",
              "      <th>movie</th>\n",
              "      <th>year</th>\n",
              "      <th>imdb</th>\n",
              "      <th>metascore</th>\n",
              "      <th>votes</th>\n",
              "    </tr>\n",
              "  </thead>\n",
              "  <tbody>\n",
              "    <tr>\n",
              "      <th>0</th>\n",
              "      <td>Logan</td>\n",
              "      <td>(2017)</td>\n",
              "      <td>8.1</td>\n",
              "      <td>77</td>\n",
              "      <td>667461</td>\n",
              "    </tr>\n",
              "    <tr>\n",
              "      <th>1</th>\n",
              "      <td>Thor: Ragnarok</td>\n",
              "      <td>(2017)</td>\n",
              "      <td>7.9</td>\n",
              "      <td>74</td>\n",
              "      <td>615570</td>\n",
              "    </tr>\n",
              "    <tr>\n",
              "      <th>2</th>\n",
              "      <td>Wonder Woman</td>\n",
              "      <td>(2017)</td>\n",
              "      <td>7.4</td>\n",
              "      <td>76</td>\n",
              "      <td>594410</td>\n",
              "    </tr>\n",
              "    <tr>\n",
              "      <th>3</th>\n",
              "      <td>Guardians of the Galaxy Vol. 2</td>\n",
              "      <td>(2017)</td>\n",
              "      <td>7.6</td>\n",
              "      <td>67</td>\n",
              "      <td>589160</td>\n",
              "    </tr>\n",
              "    <tr>\n",
              "      <th>4</th>\n",
              "      <td>Star Wars: Episode VIII - The Last Jedi</td>\n",
              "      <td>(2017)</td>\n",
              "      <td>7.0</td>\n",
              "      <td>84</td>\n",
              "      <td>577006</td>\n",
              "    </tr>\n",
              "    <tr>\n",
              "      <th>5</th>\n",
              "      <td>Dunkirk</td>\n",
              "      <td>(2017)</td>\n",
              "      <td>7.8</td>\n",
              "      <td>94</td>\n",
              "      <td>575108</td>\n",
              "    </tr>\n",
              "    <tr>\n",
              "      <th>6</th>\n",
              "      <td>Spider-Man: Homecoming</td>\n",
              "      <td>(2017)</td>\n",
              "      <td>7.4</td>\n",
              "      <td>73</td>\n",
              "      <td>532718</td>\n",
              "    </tr>\n",
              "    <tr>\n",
              "      <th>7</th>\n",
              "      <td>Get Out</td>\n",
              "      <td>(I) (2017)</td>\n",
              "      <td>7.7</td>\n",
              "      <td>85</td>\n",
              "      <td>509953</td>\n",
              "    </tr>\n",
              "    <tr>\n",
              "      <th>8</th>\n",
              "      <td>Blade Runner 2049</td>\n",
              "      <td>(2017)</td>\n",
              "      <td>8.0</td>\n",
              "      <td>81</td>\n",
              "      <td>479952</td>\n",
              "    </tr>\n",
              "    <tr>\n",
              "      <th>9</th>\n",
              "      <td>It</td>\n",
              "      <td>(I) (2017)</td>\n",
              "      <td>7.3</td>\n",
              "      <td>69</td>\n",
              "      <td>471568</td>\n",
              "    </tr>\n",
              "  </tbody>\n",
              "</table>\n",
              "</div>"
            ],
            "text/plain": [
              "                                     movie        year  imdb  metascore   votes\n",
              "0                                    Logan      (2017)   8.1         77  667461\n",
              "1                           Thor: Ragnarok      (2017)   7.9         74  615570\n",
              "2                             Wonder Woman      (2017)   7.4         76  594410\n",
              "3           Guardians of the Galaxy Vol. 2      (2017)   7.6         67  589160\n",
              "4  Star Wars: Episode VIII - The Last Jedi      (2017)   7.0         84  577006\n",
              "5                                  Dunkirk      (2017)   7.8         94  575108\n",
              "6                   Spider-Man: Homecoming      (2017)   7.4         73  532718\n",
              "7                                  Get Out  (I) (2017)   7.7         85  509953\n",
              "8                        Blade Runner 2049      (2017)   8.0         81  479952\n",
              "9                                       It  (I) (2017)   7.3         69  471568"
            ]
          },
          "metadata": {
            "tags": []
          },
          "execution_count": 51
        }
      ]
    },
    {
      "cell_type": "code",
      "metadata": {
        "id": "qBaxKzvffdQE",
        "colab": {
          "base_uri": "https://localhost:8080/",
          "height": 360
        },
        "outputId": "34be42fa-71ed-4061-9f38-7a1b7450becb"
      },
      "source": [
        "movie_ratings.tail(10)"
      ],
      "execution_count": null,
      "outputs": [
        {
          "output_type": "execute_result",
          "data": {
            "text/html": [
              "<div>\n",
              "<style scoped>\n",
              "    .dataframe tbody tr th:only-of-type {\n",
              "        vertical-align: middle;\n",
              "    }\n",
              "\n",
              "    .dataframe tbody tr th {\n",
              "        vertical-align: top;\n",
              "    }\n",
              "\n",
              "    .dataframe thead th {\n",
              "        text-align: right;\n",
              "    }\n",
              "</style>\n",
              "<table border=\"1\" class=\"dataframe\">\n",
              "  <thead>\n",
              "    <tr style=\"text-align: right;\">\n",
              "      <th></th>\n",
              "      <th>movie</th>\n",
              "      <th>year</th>\n",
              "      <th>imdb</th>\n",
              "      <th>metascore</th>\n",
              "      <th>votes</th>\n",
              "    </tr>\n",
              "  </thead>\n",
              "  <tbody>\n",
              "    <tr>\n",
              "      <th>820</th>\n",
              "      <td>Spenser Confidential</td>\n",
              "      <td>(2020)</td>\n",
              "      <td>6.2</td>\n",
              "      <td>49</td>\n",
              "      <td>75101</td>\n",
              "    </tr>\n",
              "    <tr>\n",
              "      <th>821</th>\n",
              "      <td>The Midnight Sky</td>\n",
              "      <td>(2020)</td>\n",
              "      <td>5.6</td>\n",
              "      <td>58</td>\n",
              "      <td>74202</td>\n",
              "    </tr>\n",
              "    <tr>\n",
              "      <th>822</th>\n",
              "      <td>The Social Dilemma</td>\n",
              "      <td>(2020)</td>\n",
              "      <td>7.6</td>\n",
              "      <td>78</td>\n",
              "      <td>70702</td>\n",
              "    </tr>\n",
              "    <tr>\n",
              "      <th>823</th>\n",
              "      <td>I'm Thinking of Ending Things</td>\n",
              "      <td>(2020)</td>\n",
              "      <td>6.6</td>\n",
              "      <td>78</td>\n",
              "      <td>69026</td>\n",
              "    </tr>\n",
              "    <tr>\n",
              "      <th>824</th>\n",
              "      <td>Underwater</td>\n",
              "      <td>(2020)</td>\n",
              "      <td>5.8</td>\n",
              "      <td>48</td>\n",
              "      <td>67988</td>\n",
              "    </tr>\n",
              "    <tr>\n",
              "      <th>825</th>\n",
              "      <td>Hamilton</td>\n",
              "      <td>(2020)</td>\n",
              "      <td>8.5</td>\n",
              "      <td>90</td>\n",
              "      <td>65067</td>\n",
              "    </tr>\n",
              "    <tr>\n",
              "      <th>826</th>\n",
              "      <td>Bloodshot</td>\n",
              "      <td>(2020)</td>\n",
              "      <td>5.7</td>\n",
              "      <td>44</td>\n",
              "      <td>64790</td>\n",
              "    </tr>\n",
              "    <tr>\n",
              "      <th>827</th>\n",
              "      <td>News of the World</td>\n",
              "      <td>(2020)</td>\n",
              "      <td>6.8</td>\n",
              "      <td>73</td>\n",
              "      <td>64451</td>\n",
              "    </tr>\n",
              "    <tr>\n",
              "      <th>828</th>\n",
              "      <td>The Father</td>\n",
              "      <td>(I) (2020)</td>\n",
              "      <td>8.3</td>\n",
              "      <td>88</td>\n",
              "      <td>63849</td>\n",
              "    </tr>\n",
              "    <tr>\n",
              "      <th>829</th>\n",
              "      <td>Mank</td>\n",
              "      <td>(2020)</td>\n",
              "      <td>6.9</td>\n",
              "      <td>79</td>\n",
              "      <td>61200</td>\n",
              "    </tr>\n",
              "  </tbody>\n",
              "</table>\n",
              "</div>"
            ],
            "text/plain": [
              "                             movie        year  imdb  metascore  votes\n",
              "820           Spenser Confidential      (2020)   6.2         49  75101\n",
              "821               The Midnight Sky      (2020)   5.6         58  74202\n",
              "822             The Social Dilemma      (2020)   7.6         78  70702\n",
              "823  I'm Thinking of Ending Things      (2020)   6.6         78  69026\n",
              "824                     Underwater      (2020)   5.8         48  67988\n",
              "825                       Hamilton      (2020)   8.5         90  65067\n",
              "826                      Bloodshot      (2020)   5.7         44  64790\n",
              "827              News of the World      (2020)   6.8         73  64451\n",
              "828                     The Father  (I) (2020)   8.3         88  63849\n",
              "829                           Mank      (2020)   6.9         79  61200"
            ]
          },
          "metadata": {
            "tags": []
          },
          "execution_count": 52
        }
      ]
    },
    {
      "cell_type": "code",
      "metadata": {
        "id": "lnCUYzd_rG11"
      },
      "source": [
        "movie_ratings.to_csv('/content/drive/My Drive/Colab Notebooks/Dataset/movie_ratings.csv')"
      ],
      "execution_count": null,
      "outputs": []
    },
    {
      "cell_type": "markdown",
      "metadata": {
        "id": "Dc45szJCtKXV"
      },
      "source": [
        "# Data Preparation\n",
        "\n",
        "* Collected data may not be compatible or formatted correctly\n",
        "* Data must be prepared before it can be added to a data set\n",
        "* Extract, Transform and Load (ETL) \n",
        "> process for collecting data from a variety of sources, transforming the data, and then loading the data into a database"
      ]
    },
    {
      "cell_type": "markdown",
      "metadata": {
        "id": "rl3em4QcxWaT"
      },
      "source": [
        "#### **Data preprocessing** \n",
        "\n",
        "Data Processing is a process of cleaning the raw data i.e. the data is collected in the real world and is converted to a clean data set. In other words, whenever the data is gathered from different sources it is collected in a raw format and this data isn’t feasible for the analysis.\n",
        "Therefore, certain steps are executed to convert the data into a small clean data set, this part of the process is called as data preprocessing. \n",
        "\n",
        "Most of the real-world data is messy, some of these types of data are:\n",
        "1. **Missing data**: Missing data can be found when it is not continuously created or due to technical issues in the application (IOT system).\n",
        "2. **Noisy Data** This type of data is also called outliners, this can occur due to human errors (human manually gathering the data) or some technical problem of the device at the time of collection of data.\n",
        "3. **Inconsistent data:** This type of data might be collected due to human errors (mistakes with the name or values) or duplication of data.\n"
      ]
    },
    {
      "cell_type": "markdown",
      "metadata": {
        "id": "MRu0xNNnx0NA"
      },
      "source": [
        "These are some of the basic pre processing techniques that can be used to convert raw data.\n",
        "1. **Conversion of data:** As we know that Machine Learning models can only handle numeric features, hence categorical and ordinal data must be somehow converted into numeric features.\n",
        "2. **Ignoring the missing values:** Whenever we encounter missing data in the data set then we can remove the row or column of data depending on our need. This method is known to be efficient but it shouldn’t be performed if there are a lot of missing values in the dataset.\n",
        "3. **Filling the missing values:** Whenever we encounter missing data in the data set then we can fill the missing data manually, most commonly the mean, median or highest frequency value is used.\n",
        "4. **Machine learning:** If we have some missing data then we can predict what data shall be present at the empty position by using the existing data.\n",
        "5. **Outliers detection:** There are some error data that might be present in our data set that deviates drastically from other observations in a data set. [Example: human weight = 800 Kg; due to mistyping of extra 0]\n",
        "\n",
        "\n"
      ]
    },
    {
      "cell_type": "markdown",
      "metadata": {
        "id": "yMeDYwC6yR9c"
      },
      "source": [
        "#### Example of data preparation in a csv file"
      ]
    },
    {
      "cell_type": "code",
      "metadata": {
        "id": "sIUEnhxasKeI"
      },
      "source": [
        "import datetime\n",
        "import csv\n",
        "import pandas as pd\n",
        "# NumPy is a library that adds support for large, multi-dimensional arrays and matrices\n",
        "# along with high-level mathematical functions to operate on these arrays\n",
        "import numpy as np\n",
        "from matplotlib import pylab as plt\n",
        "%matplotlib inline"
      ],
      "execution_count": null,
      "outputs": []
    },
    {
      "cell_type": "code",
      "metadata": {
        "colab": {
          "base_uri": "https://localhost:8080/"
        },
        "id": "ymWYSqPPuXfB",
        "outputId": "e9bc122c-b80e-43ad-94d5-f4cbcf9ad401"
      },
      "source": [
        "from google.colab import drive\n",
        "drive.mount('/content/drive')"
      ],
      "execution_count": null,
      "outputs": [
        {
          "output_type": "stream",
          "text": [
            "Mounted at /content/drive\n"
          ],
          "name": "stdout"
        }
      ]
    },
    {
      "cell_type": "code",
      "metadata": {
        "id": "SwYKKfZpubNL"
      },
      "source": [
        "#set the location of the data file\n",
        "filepath = '/content/drive/My Drive/Colab Notebooks/Dataset/rpi_data_long.csv'"
      ],
      "execution_count": null,
      "outputs": []
    },
    {
      "cell_type": "code",
      "metadata": {
        "id": "hC1OUsPxtuqA"
      },
      "source": [
        "data_file = '/content/drive/My Drive/Colab Notebooks/Dataset/rpi_data_long.csv'"
      ],
      "execution_count": null,
      "outputs": []
    },
    {
      "cell_type": "code",
      "metadata": {
        "colab": {
          "base_uri": "https://localhost:8080/"
        },
        "id": "q-Jz_f8btxMK",
        "outputId": "dcd75c66-0b0f-41e6-ca9f-9b01374f8a03"
      },
      "source": [
        "!head -n 5 '/content/drive/My Drive/Colab Notebooks/Dataset/rpi_data_long.csv'"
      ],
      "execution_count": null,
      "outputs": [
        {
          "output_type": "stream",
          "text": [
            "Ping:,26.992,ms,Download:,91.80,Mbit/s,Upload:,14.31,Mbit/s,2016-11-24 13:36:25\r\n",
            "Ping:,24.532,ms,Download:,88.19,Mbit/s,Upload:,14.12,Mbit/s,2016-11-24 13:36:55\r\n",
            "Ping:,20.225,ms,Download:,59.86,Mbit/s,Upload:,14.11,Mbit/s,2016-11-24 13:37:25\r\n",
            "Ping:,19.332,ms,Download:,91.81,Mbit/s,Upload:,14.22,Mbit/s,2016-11-24 13:37:57\r\n",
            "Ping:,22.494,ms,Download:,92.05,Mbit/s,Upload:,14.08,Mbit/s,2016-11-24 13:38:27\r\n"
          ],
          "name": "stdout"
        }
      ]
    },
    {
      "cell_type": "code",
      "metadata": {
        "id": "vGMDbxvzt0jw"
      },
      "source": [
        "column_names = [ 'Type A', 'Measure A', 'Units A',\n",
        "                 'Type B', 'Measure B', 'Units B',\n",
        "                 'Type C', 'Measure C', 'Units C', \n",
        "                 'Datetime']"
      ],
      "execution_count": null,
      "outputs": []
    },
    {
      "cell_type": "code",
      "metadata": {
        "id": "mF3pqPovt2if"
      },
      "source": [
        "with open(data_file, 'r') as f:\n",
        "    df_redundant = pd.read_csv(f, names = column_names)"
      ],
      "execution_count": null,
      "outputs": []
    },
    {
      "cell_type": "code",
      "metadata": {
        "colab": {
          "base_uri": "https://localhost:8080/",
          "height": 412
        },
        "id": "Z0Jn37Fmt4UE",
        "outputId": "bfe64f63-a9ed-4266-9196-681646c4c51c"
      },
      "source": [
        "df_redundant.head()"
      ],
      "execution_count": null,
      "outputs": [
        {
          "output_type": "execute_result",
          "data": {
            "text/html": [
              "<div>\n",
              "<style scoped>\n",
              "    .dataframe tbody tr th:only-of-type {\n",
              "        vertical-align: middle;\n",
              "    }\n",
              "\n",
              "    .dataframe tbody tr th {\n",
              "        vertical-align: top;\n",
              "    }\n",
              "\n",
              "    .dataframe thead th {\n",
              "        text-align: right;\n",
              "    }\n",
              "</style>\n",
              "<table border=\"1\" class=\"dataframe\">\n",
              "  <thead>\n",
              "    <tr style=\"text-align: right;\">\n",
              "      <th></th>\n",
              "      <th>Type A</th>\n",
              "      <th>Measure A</th>\n",
              "      <th>Units A</th>\n",
              "      <th>Type B</th>\n",
              "      <th>Measure B</th>\n",
              "      <th>Units B</th>\n",
              "      <th>Type C</th>\n",
              "      <th>Measure C</th>\n",
              "      <th>Units C</th>\n",
              "      <th>Datetime</th>\n",
              "    </tr>\n",
              "  </thead>\n",
              "  <tbody>\n",
              "    <tr>\n",
              "      <th>0</th>\n",
              "      <td>Ping:</td>\n",
              "      <td>26.992</td>\n",
              "      <td>ms</td>\n",
              "      <td>Download:</td>\n",
              "      <td>91.80</td>\n",
              "      <td>Mbit/s</td>\n",
              "      <td>Upload:</td>\n",
              "      <td>14.31</td>\n",
              "      <td>Mbit/s</td>\n",
              "      <td>2016-11-24 13:36:25</td>\n",
              "    </tr>\n",
              "    <tr>\n",
              "      <th>1</th>\n",
              "      <td>Ping:</td>\n",
              "      <td>24.532</td>\n",
              "      <td>ms</td>\n",
              "      <td>Download:</td>\n",
              "      <td>88.19</td>\n",
              "      <td>Mbit/s</td>\n",
              "      <td>Upload:</td>\n",
              "      <td>14.12</td>\n",
              "      <td>Mbit/s</td>\n",
              "      <td>2016-11-24 13:36:55</td>\n",
              "    </tr>\n",
              "    <tr>\n",
              "      <th>2</th>\n",
              "      <td>Ping:</td>\n",
              "      <td>20.225</td>\n",
              "      <td>ms</td>\n",
              "      <td>Download:</td>\n",
              "      <td>59.86</td>\n",
              "      <td>Mbit/s</td>\n",
              "      <td>Upload:</td>\n",
              "      <td>14.11</td>\n",
              "      <td>Mbit/s</td>\n",
              "      <td>2016-11-24 13:37:25</td>\n",
              "    </tr>\n",
              "    <tr>\n",
              "      <th>3</th>\n",
              "      <td>Ping:</td>\n",
              "      <td>19.332</td>\n",
              "      <td>ms</td>\n",
              "      <td>Download:</td>\n",
              "      <td>91.81</td>\n",
              "      <td>Mbit/s</td>\n",
              "      <td>Upload:</td>\n",
              "      <td>14.22</td>\n",
              "      <td>Mbit/s</td>\n",
              "      <td>2016-11-24 13:37:57</td>\n",
              "    </tr>\n",
              "    <tr>\n",
              "      <th>4</th>\n",
              "      <td>Ping:</td>\n",
              "      <td>22.494</td>\n",
              "      <td>ms</td>\n",
              "      <td>Download:</td>\n",
              "      <td>92.05</td>\n",
              "      <td>Mbit/s</td>\n",
              "      <td>Upload:</td>\n",
              "      <td>14.08</td>\n",
              "      <td>Mbit/s</td>\n",
              "      <td>2016-11-24 13:38:27</td>\n",
              "    </tr>\n",
              "  </tbody>\n",
              "</table>\n",
              "</div>"
            ],
            "text/plain": [
              "  Type A Measure A Units A  ... Measure C Units C             Datetime\n",
              "0  Ping:    26.992      ms  ...     14.31  Mbit/s  2016-11-24 13:36:25\n",
              "1  Ping:    24.532      ms  ...     14.12  Mbit/s  2016-11-24 13:36:55\n",
              "2  Ping:    20.225      ms  ...     14.11  Mbit/s  2016-11-24 13:37:25\n",
              "3  Ping:    19.332      ms  ...     14.22  Mbit/s  2016-11-24 13:37:57\n",
              "4  Ping:    22.494      ms  ...     14.08  Mbit/s  2016-11-24 13:38:27\n",
              "\n",
              "[5 rows x 10 columns]"
            ]
          },
          "metadata": {
            "tags": []
          },
          "execution_count": 14
        }
      ]
    },
    {
      "cell_type": "code",
      "metadata": {
        "id": "PrcYABCCt6Ft"
      },
      "source": [
        "# Copy df_redundant into another dataframe called df_compact using copy()\n",
        "df_compact = df_redundant.copy()"
      ],
      "execution_count": null,
      "outputs": []
    },
    {
      "cell_type": "code",
      "metadata": {
        "colab": {
          "base_uri": "https://localhost:8080/",
          "height": 282
        },
        "id": "LKtEnPA7t8h-",
        "outputId": "f07ea2d3-33ae-4ee6-d2f7-ea1620c605db"
      },
      "source": [
        "df_compact.rename(columns={'Measure A':'Ping (ms)', \n",
        "                           'Measure B': 'Download (Mbit/s)',\n",
        "                           'Measure C': 'Upload (Mbit/s)'}, inplace=True)\n",
        "df_compact.head(3)"
      ],
      "execution_count": null,
      "outputs": [
        {
          "output_type": "execute_result",
          "data": {
            "text/html": [
              "<div>\n",
              "<style scoped>\n",
              "    .dataframe tbody tr th:only-of-type {\n",
              "        vertical-align: middle;\n",
              "    }\n",
              "\n",
              "    .dataframe tbody tr th {\n",
              "        vertical-align: top;\n",
              "    }\n",
              "\n",
              "    .dataframe thead th {\n",
              "        text-align: right;\n",
              "    }\n",
              "</style>\n",
              "<table border=\"1\" class=\"dataframe\">\n",
              "  <thead>\n",
              "    <tr style=\"text-align: right;\">\n",
              "      <th></th>\n",
              "      <th>Type A</th>\n",
              "      <th>Ping (ms)</th>\n",
              "      <th>Units A</th>\n",
              "      <th>Type B</th>\n",
              "      <th>Download (Mbit/s)</th>\n",
              "      <th>Units B</th>\n",
              "      <th>Type C</th>\n",
              "      <th>Upload (Mbit/s)</th>\n",
              "      <th>Units C</th>\n",
              "      <th>Datetime</th>\n",
              "    </tr>\n",
              "  </thead>\n",
              "  <tbody>\n",
              "    <tr>\n",
              "      <th>0</th>\n",
              "      <td>Ping:</td>\n",
              "      <td>26.992</td>\n",
              "      <td>ms</td>\n",
              "      <td>Download:</td>\n",
              "      <td>91.80</td>\n",
              "      <td>Mbit/s</td>\n",
              "      <td>Upload:</td>\n",
              "      <td>14.31</td>\n",
              "      <td>Mbit/s</td>\n",
              "      <td>2016-11-24 13:36:25</td>\n",
              "    </tr>\n",
              "    <tr>\n",
              "      <th>1</th>\n",
              "      <td>Ping:</td>\n",
              "      <td>24.532</td>\n",
              "      <td>ms</td>\n",
              "      <td>Download:</td>\n",
              "      <td>88.19</td>\n",
              "      <td>Mbit/s</td>\n",
              "      <td>Upload:</td>\n",
              "      <td>14.12</td>\n",
              "      <td>Mbit/s</td>\n",
              "      <td>2016-11-24 13:36:55</td>\n",
              "    </tr>\n",
              "    <tr>\n",
              "      <th>2</th>\n",
              "      <td>Ping:</td>\n",
              "      <td>20.225</td>\n",
              "      <td>ms</td>\n",
              "      <td>Download:</td>\n",
              "      <td>59.86</td>\n",
              "      <td>Mbit/s</td>\n",
              "      <td>Upload:</td>\n",
              "      <td>14.11</td>\n",
              "      <td>Mbit/s</td>\n",
              "      <td>2016-11-24 13:37:25</td>\n",
              "    </tr>\n",
              "  </tbody>\n",
              "</table>\n",
              "</div>"
            ],
            "text/plain": [
              "  Type A Ping (ms) Units A  ... Upload (Mbit/s) Units C             Datetime\n",
              "0  Ping:    26.992      ms  ...           14.31  Mbit/s  2016-11-24 13:36:25\n",
              "1  Ping:    24.532      ms  ...           14.12  Mbit/s  2016-11-24 13:36:55\n",
              "2  Ping:    20.225      ms  ...           14.11  Mbit/s  2016-11-24 13:37:25\n",
              "\n",
              "[3 rows x 10 columns]"
            ]
          },
          "metadata": {
            "tags": []
          },
          "execution_count": 16
        }
      ]
    },
    {
      "cell_type": "code",
      "metadata": {
        "colab": {
          "base_uri": "https://localhost:8080/",
          "height": 204
        },
        "id": "6fGF7r9_t-bC",
        "outputId": "52ae1285-0712-4bde-84d9-73affbc8ad30"
      },
      "source": [
        "df_compact.drop(['Type A', 'Type B', 'Type C',\n",
        "         'Units A', 'Units B', 'Units C'], axis=1, inplace=True)\n",
        "df_compact.head()"
      ],
      "execution_count": null,
      "outputs": [
        {
          "output_type": "execute_result",
          "data": {
            "text/html": [
              "<div>\n",
              "<style scoped>\n",
              "    .dataframe tbody tr th:only-of-type {\n",
              "        vertical-align: middle;\n",
              "    }\n",
              "\n",
              "    .dataframe tbody tr th {\n",
              "        vertical-align: top;\n",
              "    }\n",
              "\n",
              "    .dataframe thead th {\n",
              "        text-align: right;\n",
              "    }\n",
              "</style>\n",
              "<table border=\"1\" class=\"dataframe\">\n",
              "  <thead>\n",
              "    <tr style=\"text-align: right;\">\n",
              "      <th></th>\n",
              "      <th>Ping (ms)</th>\n",
              "      <th>Download (Mbit/s)</th>\n",
              "      <th>Upload (Mbit/s)</th>\n",
              "      <th>Datetime</th>\n",
              "    </tr>\n",
              "  </thead>\n",
              "  <tbody>\n",
              "    <tr>\n",
              "      <th>0</th>\n",
              "      <td>26.992</td>\n",
              "      <td>91.80</td>\n",
              "      <td>14.31</td>\n",
              "      <td>2016-11-24 13:36:25</td>\n",
              "    </tr>\n",
              "    <tr>\n",
              "      <th>1</th>\n",
              "      <td>24.532</td>\n",
              "      <td>88.19</td>\n",
              "      <td>14.12</td>\n",
              "      <td>2016-11-24 13:36:55</td>\n",
              "    </tr>\n",
              "    <tr>\n",
              "      <th>2</th>\n",
              "      <td>20.225</td>\n",
              "      <td>59.86</td>\n",
              "      <td>14.11</td>\n",
              "      <td>2016-11-24 13:37:25</td>\n",
              "    </tr>\n",
              "    <tr>\n",
              "      <th>3</th>\n",
              "      <td>19.332</td>\n",
              "      <td>91.81</td>\n",
              "      <td>14.22</td>\n",
              "      <td>2016-11-24 13:37:57</td>\n",
              "    </tr>\n",
              "    <tr>\n",
              "      <th>4</th>\n",
              "      <td>22.494</td>\n",
              "      <td>92.05</td>\n",
              "      <td>14.08</td>\n",
              "      <td>2016-11-24 13:38:27</td>\n",
              "    </tr>\n",
              "  </tbody>\n",
              "</table>\n",
              "</div>"
            ],
            "text/plain": [
              "  Ping (ms) Download (Mbit/s)  Upload (Mbit/s)             Datetime\n",
              "0    26.992             91.80            14.31  2016-11-24 13:36:25\n",
              "1    24.532             88.19            14.12  2016-11-24 13:36:55\n",
              "2    20.225             59.86            14.11  2016-11-24 13:37:25\n",
              "3    19.332             91.81            14.22  2016-11-24 13:37:57\n",
              "4    22.494             92.05            14.08  2016-11-24 13:38:27"
            ]
          },
          "metadata": {
            "tags": []
          },
          "execution_count": 17
        }
      ]
    },
    {
      "cell_type": "code",
      "metadata": {
        "id": "1FhaDenKuAOu"
      },
      "source": [
        " ### Separate data into two columns\n",
        "df_compact['Date'] = df_compact['Datetime'].apply(lambda dt_str: pd.to_datetime(dt_str).date())\n",
        "temp = df_compact['Datetime'].apply(lambda dt_str: pd.to_datetime(dt_str))\n",
        "df_compact['Time'] = pd.to_datetime(df_compact['Datetime']).dt.time\n",
        "df_compact.drop('Datetime', axis=1, inplace=True)"
      ],
      "execution_count": null,
      "outputs": []
    },
    {
      "cell_type": "code",
      "metadata": {
        "colab": {
          "base_uri": "https://localhost:8080/",
          "height": 142
        },
        "id": "16jEVI2PuCC5",
        "outputId": "57a173b5-b032-4fd8-c126-703df891712c"
      },
      "source": [
        "df_compact.head(3)"
      ],
      "execution_count": null,
      "outputs": [
        {
          "output_type": "execute_result",
          "data": {
            "text/html": [
              "<div>\n",
              "<style scoped>\n",
              "    .dataframe tbody tr th:only-of-type {\n",
              "        vertical-align: middle;\n",
              "    }\n",
              "\n",
              "    .dataframe tbody tr th {\n",
              "        vertical-align: top;\n",
              "    }\n",
              "\n",
              "    .dataframe thead th {\n",
              "        text-align: right;\n",
              "    }\n",
              "</style>\n",
              "<table border=\"1\" class=\"dataframe\">\n",
              "  <thead>\n",
              "    <tr style=\"text-align: right;\">\n",
              "      <th></th>\n",
              "      <th>Ping (ms)</th>\n",
              "      <th>Download (Mbit/s)</th>\n",
              "      <th>Upload (Mbit/s)</th>\n",
              "      <th>Date</th>\n",
              "      <th>Time</th>\n",
              "    </tr>\n",
              "  </thead>\n",
              "  <tbody>\n",
              "    <tr>\n",
              "      <th>0</th>\n",
              "      <td>26.992</td>\n",
              "      <td>91.80</td>\n",
              "      <td>14.31</td>\n",
              "      <td>2016-11-24</td>\n",
              "      <td>13:36:25</td>\n",
              "    </tr>\n",
              "    <tr>\n",
              "      <th>1</th>\n",
              "      <td>24.532</td>\n",
              "      <td>88.19</td>\n",
              "      <td>14.12</td>\n",
              "      <td>2016-11-24</td>\n",
              "      <td>13:36:55</td>\n",
              "    </tr>\n",
              "    <tr>\n",
              "      <th>2</th>\n",
              "      <td>20.225</td>\n",
              "      <td>59.86</td>\n",
              "      <td>14.11</td>\n",
              "      <td>2016-11-24</td>\n",
              "      <td>13:37:25</td>\n",
              "    </tr>\n",
              "  </tbody>\n",
              "</table>\n",
              "</div>"
            ],
            "text/plain": [
              "  Ping (ms) Download (Mbit/s)  Upload (Mbit/s)        Date      Time\n",
              "0    26.992             91.80            14.31  2016-11-24  13:36:25\n",
              "1    24.532             88.19            14.12  2016-11-24  13:36:55\n",
              "2    20.225             59.86            14.11  2016-11-24  13:37:25"
            ]
          },
          "metadata": {
            "tags": []
          },
          "execution_count": 19
        }
      ]
    },
    {
      "cell_type": "code",
      "metadata": {
        "colab": {
          "base_uri": "https://localhost:8080/"
        },
        "id": "Vol4iJHAuEHK",
        "outputId": "d5473d6e-df18-4cff-d2bf-503aa67ff906"
      },
      "source": [
        "df_compact.dtypes\n"
      ],
      "execution_count": null,
      "outputs": [
        {
          "output_type": "execute_result",
          "data": {
            "text/plain": [
              "Ping (ms)             object\n",
              "Download (Mbit/s)     object\n",
              "Upload (Mbit/s)      float64\n",
              "Date                  object\n",
              "Time                  object\n",
              "dtype: object"
            ]
          },
          "metadata": {
            "tags": []
          },
          "execution_count": 20
        }
      ]
    },
    {
      "cell_type": "code",
      "metadata": {
        "id": "Fuo1sgH8uFfi",
        "colab": {
          "base_uri": "https://localhost:8080/"
        },
        "outputId": "56a11307-07a7-43a7-e559-36724b2c170c"
      },
      "source": [
        "# Find and remove any null values\n",
        "df_compact.isnull().sum().sum()\n",
        "\n"
      ],
      "execution_count": null,
      "outputs": [
        {
          "output_type": "execute_result",
          "data": {
            "text/plain": [
              "23"
            ]
          },
          "metadata": {
            "tags": []
          },
          "execution_count": 21
        }
      ]
    },
    {
      "cell_type": "code",
      "metadata": {
        "id": "W9uLrGICrtRj"
      },
      "source": [
        "# Remove NaN values\n",
        "df_compact = df_compact.dropna()"
      ],
      "execution_count": null,
      "outputs": []
    },
    {
      "cell_type": "code",
      "metadata": {
        "colab": {
          "base_uri": "https://localhost:8080/"
        },
        "id": "cZxuovNxr86P",
        "outputId": "b4878b31-59e9-4085-efcd-41259d3930e0"
      },
      "source": [
        "# Find and remove any null values\n",
        "df_compact.isnull().sum().sum()"
      ],
      "execution_count": null,
      "outputs": [
        {
          "output_type": "execute_result",
          "data": {
            "text/plain": [
              "0"
            ]
          },
          "metadata": {
            "tags": []
          },
          "execution_count": 23
        }
      ]
    },
    {
      "cell_type": "code",
      "metadata": {
        "id": "b1eG2Gi8uHlL"
      },
      "source": [
        "# Convert Ping and Download to float\n",
        "df_compact['Ping (ms)'] = df_compact['Ping (ms)'].apply(lambda val: float(val))\n",
        "df_compact['Download (Mbit/s)'] = df_compact['Download (Mbit/s)'].apply(lambda val: float(val))\n"
      ],
      "execution_count": null,
      "outputs": []
    },
    {
      "cell_type": "code",
      "metadata": {
        "colab": {
          "base_uri": "https://localhost:8080/"
        },
        "id": "-ng_l7p2uJUy",
        "outputId": "546b296b-7df5-46a5-95e3-1d268f4ffa05"
      },
      "source": [
        "df_compact.to_csv('rpi_data_processed.csv', index=False)\n",
        "df_compact.dtypes"
      ],
      "execution_count": null,
      "outputs": [
        {
          "output_type": "execute_result",
          "data": {
            "text/plain": [
              "Ping (ms)            float64\n",
              "Download (Mbit/s)    float64\n",
              "Upload (Mbit/s)      float64\n",
              "Date                  object\n",
              "Time                  object\n",
              "dtype: object"
            ]
          },
          "metadata": {
            "tags": []
          },
          "execution_count": 25
        }
      ]
    },
    {
      "cell_type": "code",
      "metadata": {
        "id": "64CYRvDluLDn"
      },
      "source": [
        "data_file = 'rpi_data_processed.csv'"
      ],
      "execution_count": null,
      "outputs": []
    },
    {
      "cell_type": "code",
      "metadata": {
        "id": "IVhQjRt-uMmN"
      },
      "source": [
        " df_compact = pd.read_csv(data_file)"
      ],
      "execution_count": null,
      "outputs": []
    },
    {
      "cell_type": "code",
      "metadata": {
        "colab": {
          "base_uri": "https://localhost:8080/",
          "height": 420
        },
        "id": "KP1ECSMzuOIP",
        "outputId": "8fc973c5-de1b-410c-fbaa-465d27f5d21c"
      },
      "source": [
        "df_compact"
      ],
      "execution_count": null,
      "outputs": [
        {
          "output_type": "execute_result",
          "data": {
            "text/html": [
              "<div>\n",
              "<style scoped>\n",
              "    .dataframe tbody tr th:only-of-type {\n",
              "        vertical-align: middle;\n",
              "    }\n",
              "\n",
              "    .dataframe tbody tr th {\n",
              "        vertical-align: top;\n",
              "    }\n",
              "\n",
              "    .dataframe thead th {\n",
              "        text-align: right;\n",
              "    }\n",
              "</style>\n",
              "<table border=\"1\" class=\"dataframe\">\n",
              "  <thead>\n",
              "    <tr style=\"text-align: right;\">\n",
              "      <th></th>\n",
              "      <th>Ping (ms)</th>\n",
              "      <th>Download (Mbit/s)</th>\n",
              "      <th>Upload (Mbit/s)</th>\n",
              "      <th>Date</th>\n",
              "      <th>Time</th>\n",
              "    </tr>\n",
              "  </thead>\n",
              "  <tbody>\n",
              "    <tr>\n",
              "      <th>0</th>\n",
              "      <td>26.992</td>\n",
              "      <td>91.80</td>\n",
              "      <td>14.31</td>\n",
              "      <td>2016-11-24</td>\n",
              "      <td>13:36:25</td>\n",
              "    </tr>\n",
              "    <tr>\n",
              "      <th>1</th>\n",
              "      <td>24.532</td>\n",
              "      <td>88.19</td>\n",
              "      <td>14.12</td>\n",
              "      <td>2016-11-24</td>\n",
              "      <td>13:36:55</td>\n",
              "    </tr>\n",
              "    <tr>\n",
              "      <th>2</th>\n",
              "      <td>20.225</td>\n",
              "      <td>59.86</td>\n",
              "      <td>14.11</td>\n",
              "      <td>2016-11-24</td>\n",
              "      <td>13:37:25</td>\n",
              "    </tr>\n",
              "    <tr>\n",
              "      <th>3</th>\n",
              "      <td>19.332</td>\n",
              "      <td>91.81</td>\n",
              "      <td>14.22</td>\n",
              "      <td>2016-11-24</td>\n",
              "      <td>13:37:57</td>\n",
              "    </tr>\n",
              "    <tr>\n",
              "      <th>4</th>\n",
              "      <td>22.494</td>\n",
              "      <td>92.05</td>\n",
              "      <td>14.08</td>\n",
              "      <td>2016-11-24</td>\n",
              "      <td>13:38:27</td>\n",
              "    </tr>\n",
              "    <tr>\n",
              "      <th>...</th>\n",
              "      <td>...</td>\n",
              "      <td>...</td>\n",
              "      <td>...</td>\n",
              "      <td>...</td>\n",
              "      <td>...</td>\n",
              "    </tr>\n",
              "    <tr>\n",
              "      <th>668</th>\n",
              "      <td>20.952</td>\n",
              "      <td>88.67</td>\n",
              "      <td>14.35</td>\n",
              "      <td>2016-11-24</td>\n",
              "      <td>19:15:32</td>\n",
              "    </tr>\n",
              "    <tr>\n",
              "      <th>669</th>\n",
              "      <td>19.397</td>\n",
              "      <td>84.86</td>\n",
              "      <td>14.35</td>\n",
              "      <td>2016-11-24</td>\n",
              "      <td>19:16:04</td>\n",
              "    </tr>\n",
              "    <tr>\n",
              "      <th>670</th>\n",
              "      <td>20.117</td>\n",
              "      <td>84.99</td>\n",
              "      <td>14.33</td>\n",
              "      <td>2016-11-24</td>\n",
              "      <td>19:16:34</td>\n",
              "    </tr>\n",
              "    <tr>\n",
              "      <th>671</th>\n",
              "      <td>17.995</td>\n",
              "      <td>86.21</td>\n",
              "      <td>6.88</td>\n",
              "      <td>2016-11-24</td>\n",
              "      <td>19:17:04</td>\n",
              "    </tr>\n",
              "    <tr>\n",
              "      <th>672</th>\n",
              "      <td>22.175</td>\n",
              "      <td>85.69</td>\n",
              "      <td>14.23</td>\n",
              "      <td>2016-11-24</td>\n",
              "      <td>19:18:16</td>\n",
              "    </tr>\n",
              "  </tbody>\n",
              "</table>\n",
              "<p>673 rows × 5 columns</p>\n",
              "</div>"
            ],
            "text/plain": [
              "     Ping (ms)  Download (Mbit/s)  Upload (Mbit/s)        Date      Time\n",
              "0       26.992              91.80            14.31  2016-11-24  13:36:25\n",
              "1       24.532              88.19            14.12  2016-11-24  13:36:55\n",
              "2       20.225              59.86            14.11  2016-11-24  13:37:25\n",
              "3       19.332              91.81            14.22  2016-11-24  13:37:57\n",
              "4       22.494              92.05            14.08  2016-11-24  13:38:27\n",
              "..         ...                ...              ...         ...       ...\n",
              "668     20.952              88.67            14.35  2016-11-24  19:15:32\n",
              "669     19.397              84.86            14.35  2016-11-24  19:16:04\n",
              "670     20.117              84.99            14.33  2016-11-24  19:16:34\n",
              "671     17.995              86.21             6.88  2016-11-24  19:17:04\n",
              "672     22.175              85.69            14.23  2016-11-24  19:18:16\n",
              "\n",
              "[673 rows x 5 columns]"
            ]
          },
          "metadata": {
            "tags": []
          },
          "execution_count": 28
        }
      ]
    },
    {
      "cell_type": "markdown",
      "metadata": {
        "id": "7L1P4pLUfwYj"
      },
      "source": [
        "#### Example of Data Preparation of movie_rating.csv"
      ]
    },
    {
      "cell_type": "code",
      "metadata": {
        "colab": {
          "base_uri": "https://localhost:8080/"
        },
        "id": "gyC2Eo3vf1KR",
        "outputId": "5dec24e3-32a9-45d3-8fc1-17b1bd31fc50"
      },
      "source": [
        "movie_ratings['year'].unique()"
      ],
      "execution_count": null,
      "outputs": [
        {
          "output_type": "execute_result",
          "data": {
            "text/plain": [
              "array(['(2017)', '(I) (2017)', '(2018)', '(I) (2018)', '(III) (2018)',\n",
              "       '(2019)', '(II) (2019)', '(I) (2019)', '(2020)', '(I) (2020)',\n",
              "       '(II) (2020)'], dtype=object)"
            ]
          },
          "metadata": {
            "tags": []
          },
          "execution_count": 54
        }
      ]
    },
    {
      "cell_type": "code",
      "metadata": {
        "colab": {
          "base_uri": "https://localhost:8080/"
        },
        "id": "EtVwPwZ-gIfZ",
        "outputId": "efbe8e70-7eb6-4761-d875-3c6b6dd5c223"
      },
      "source": [
        "movie_ratings.dtypes"
      ],
      "execution_count": null,
      "outputs": [
        {
          "output_type": "execute_result",
          "data": {
            "text/plain": [
              "movie         object\n",
              "year          object\n",
              "imdb         float64\n",
              "metascore      int64\n",
              "votes          int64\n",
              "dtype: object"
            ]
          },
          "metadata": {
            "tags": []
          },
          "execution_count": 55
        }
      ]
    },
    {
      "cell_type": "code",
      "metadata": {
        "id": "HCw8Ib8mgDqV"
      },
      "source": [
        "movie_ratings['year'] = (movie_ratings.year.apply(lambda x:x.replace('(I)','')))"
      ],
      "execution_count": null,
      "outputs": []
    },
    {
      "cell_type": "code",
      "metadata": {
        "colab": {
          "base_uri": "https://localhost:8080/"
        },
        "id": "Tzx8mgouFoPD",
        "outputId": "bb1978e4-495e-45a4-fc7a-f1b53e9331c3"
      },
      "source": [
        "movie_ratings['year'].unique()"
      ],
      "execution_count": null,
      "outputs": [
        {
          "output_type": "execute_result",
          "data": {
            "text/plain": [
              "array(['(2017)', ' (2017)', '(2018)', ' (2018)', '(III) (2018)', '(2019)',\n",
              "       '(II) (2019)', ' (2019)', '(2020)', ' (2020)', '(II) (2020)'],\n",
              "      dtype=object)"
            ]
          },
          "metadata": {
            "tags": []
          },
          "execution_count": 57
        }
      ]
    },
    {
      "cell_type": "code",
      "metadata": {
        "id": "0Y80D1RZFrZH"
      },
      "source": [
        "movie_ratings['year'] = (movie_ratings.year.apply(lambda x:x.replace('(II)','')))"
      ],
      "execution_count": null,
      "outputs": []
    },
    {
      "cell_type": "code",
      "metadata": {
        "id": "dvQ0VYJTFwf2"
      },
      "source": [
        "movie_ratings['year'] = (movie_ratings.year.apply(lambda x:x.replace('(III)','')))"
      ],
      "execution_count": null,
      "outputs": []
    },
    {
      "cell_type": "code",
      "metadata": {
        "colab": {
          "base_uri": "https://localhost:8080/"
        },
        "id": "HvJxEOkpFyQw",
        "outputId": "c7815e84-733c-4f02-e2dc-648bedcc0f0b"
      },
      "source": [
        "movie_ratings['year'].unique()"
      ],
      "execution_count": null,
      "outputs": [
        {
          "output_type": "execute_result",
          "data": {
            "text/plain": [
              "array(['(2017)', ' (2017)', '(2018)', ' (2018)', '(2019)', ' (2019)',\n",
              "       '(2020)', ' (2020)'], dtype=object)"
            ]
          },
          "metadata": {
            "tags": []
          },
          "execution_count": 60
        }
      ]
    },
    {
      "cell_type": "code",
      "metadata": {
        "id": "K7-ZwxanGJW9"
      },
      "source": [
        "movie_ratings['year'] = (movie_ratings.year.apply(lambda x:x.replace('(','')))"
      ],
      "execution_count": null,
      "outputs": []
    },
    {
      "cell_type": "code",
      "metadata": {
        "colab": {
          "base_uri": "https://localhost:8080/"
        },
        "id": "mX-VOuZWGMwb",
        "outputId": "2adbf36e-535a-4dac-aba5-86fd5dc13d71"
      },
      "source": [
        "movie_ratings['year'].unique()"
      ],
      "execution_count": null,
      "outputs": [
        {
          "output_type": "execute_result",
          "data": {
            "text/plain": [
              "array(['2017)', ' 2017)', '2018)', ' 2018)', '2019)', ' 2019)', '2020)',\n",
              "       ' 2020)'], dtype=object)"
            ]
          },
          "metadata": {
            "tags": []
          },
          "execution_count": 62
        }
      ]
    },
    {
      "cell_type": "code",
      "metadata": {
        "id": "in-LkHmtGPUu"
      },
      "source": [
        "movie_ratings['year'] = (movie_ratings.year.apply(lambda x:x.replace(')','')))"
      ],
      "execution_count": null,
      "outputs": []
    },
    {
      "cell_type": "code",
      "metadata": {
        "colab": {
          "base_uri": "https://localhost:8080/"
        },
        "id": "TPscmlvpGSll",
        "outputId": "4e0950ba-9eda-42c2-a49e-6c0414ec3fb6"
      },
      "source": [
        "movie_ratings['year'].unique()"
      ],
      "execution_count": null,
      "outputs": [
        {
          "output_type": "execute_result",
          "data": {
            "text/plain": [
              "array(['2017', ' 2017', '2018', ' 2018', '2019', ' 2019', '2020', ' 2020'],\n",
              "      dtype=object)"
            ]
          },
          "metadata": {
            "tags": []
          },
          "execution_count": 64
        }
      ]
    },
    {
      "cell_type": "code",
      "metadata": {
        "id": "pp23ncVKF038"
      },
      "source": [
        "movie_ratings['year'] = movie_ratings['year'].astype(int)"
      ],
      "execution_count": null,
      "outputs": []
    },
    {
      "cell_type": "code",
      "metadata": {
        "colab": {
          "base_uri": "https://localhost:8080/"
        },
        "id": "VFe05OT1GVLv",
        "outputId": "7964a81e-5a25-4491-a481-adae9df595ef"
      },
      "source": [
        "movie_ratings['year'].unique()"
      ],
      "execution_count": null,
      "outputs": [
        {
          "output_type": "execute_result",
          "data": {
            "text/plain": [
              "array([2017, 2018, 2019, 2020])"
            ]
          },
          "metadata": {
            "tags": []
          },
          "execution_count": 66
        }
      ]
    },
    {
      "cell_type": "code",
      "metadata": {
        "colab": {
          "base_uri": "https://localhost:8080/"
        },
        "id": "CRkEnqwOGZUN",
        "outputId": "cd3fa6f4-a5f8-422a-df3e-88f2a15080de"
      },
      "source": [
        "movie_ratings.dtypes"
      ],
      "execution_count": null,
      "outputs": [
        {
          "output_type": "execute_result",
          "data": {
            "text/plain": [
              "movie         object\n",
              "year           int64\n",
              "imdb         float64\n",
              "metascore      int64\n",
              "votes          int64\n",
              "dtype: object"
            ]
          },
          "metadata": {
            "tags": []
          },
          "execution_count": 67
        }
      ]
    },
    {
      "cell_type": "code",
      "metadata": {
        "colab": {
          "base_uri": "https://localhost:8080/",
          "height": 360
        },
        "id": "f8tFC7LRGamK",
        "outputId": "4e7b69df-452b-4048-8ba9-69e0c9630c7a"
      },
      "source": [
        "movie_ratings.head(10)"
      ],
      "execution_count": null,
      "outputs": [
        {
          "output_type": "execute_result",
          "data": {
            "text/html": [
              "<div>\n",
              "<style scoped>\n",
              "    .dataframe tbody tr th:only-of-type {\n",
              "        vertical-align: middle;\n",
              "    }\n",
              "\n",
              "    .dataframe tbody tr th {\n",
              "        vertical-align: top;\n",
              "    }\n",
              "\n",
              "    .dataframe thead th {\n",
              "        text-align: right;\n",
              "    }\n",
              "</style>\n",
              "<table border=\"1\" class=\"dataframe\">\n",
              "  <thead>\n",
              "    <tr style=\"text-align: right;\">\n",
              "      <th></th>\n",
              "      <th>movie</th>\n",
              "      <th>year</th>\n",
              "      <th>imdb</th>\n",
              "      <th>metascore</th>\n",
              "      <th>votes</th>\n",
              "    </tr>\n",
              "  </thead>\n",
              "  <tbody>\n",
              "    <tr>\n",
              "      <th>0</th>\n",
              "      <td>Logan</td>\n",
              "      <td>2017</td>\n",
              "      <td>8.1</td>\n",
              "      <td>77</td>\n",
              "      <td>667461</td>\n",
              "    </tr>\n",
              "    <tr>\n",
              "      <th>1</th>\n",
              "      <td>Thor: Ragnarok</td>\n",
              "      <td>2017</td>\n",
              "      <td>7.9</td>\n",
              "      <td>74</td>\n",
              "      <td>615570</td>\n",
              "    </tr>\n",
              "    <tr>\n",
              "      <th>2</th>\n",
              "      <td>Wonder Woman</td>\n",
              "      <td>2017</td>\n",
              "      <td>7.4</td>\n",
              "      <td>76</td>\n",
              "      <td>594410</td>\n",
              "    </tr>\n",
              "    <tr>\n",
              "      <th>3</th>\n",
              "      <td>Guardians of the Galaxy Vol. 2</td>\n",
              "      <td>2017</td>\n",
              "      <td>7.6</td>\n",
              "      <td>67</td>\n",
              "      <td>589160</td>\n",
              "    </tr>\n",
              "    <tr>\n",
              "      <th>4</th>\n",
              "      <td>Star Wars: Episode VIII - The Last Jedi</td>\n",
              "      <td>2017</td>\n",
              "      <td>7.0</td>\n",
              "      <td>84</td>\n",
              "      <td>577006</td>\n",
              "    </tr>\n",
              "    <tr>\n",
              "      <th>5</th>\n",
              "      <td>Dunkirk</td>\n",
              "      <td>2017</td>\n",
              "      <td>7.8</td>\n",
              "      <td>94</td>\n",
              "      <td>575108</td>\n",
              "    </tr>\n",
              "    <tr>\n",
              "      <th>6</th>\n",
              "      <td>Spider-Man: Homecoming</td>\n",
              "      <td>2017</td>\n",
              "      <td>7.4</td>\n",
              "      <td>73</td>\n",
              "      <td>532718</td>\n",
              "    </tr>\n",
              "    <tr>\n",
              "      <th>7</th>\n",
              "      <td>Get Out</td>\n",
              "      <td>2017</td>\n",
              "      <td>7.7</td>\n",
              "      <td>85</td>\n",
              "      <td>509953</td>\n",
              "    </tr>\n",
              "    <tr>\n",
              "      <th>8</th>\n",
              "      <td>Blade Runner 2049</td>\n",
              "      <td>2017</td>\n",
              "      <td>8.0</td>\n",
              "      <td>81</td>\n",
              "      <td>479952</td>\n",
              "    </tr>\n",
              "    <tr>\n",
              "      <th>9</th>\n",
              "      <td>It</td>\n",
              "      <td>2017</td>\n",
              "      <td>7.3</td>\n",
              "      <td>69</td>\n",
              "      <td>471568</td>\n",
              "    </tr>\n",
              "  </tbody>\n",
              "</table>\n",
              "</div>"
            ],
            "text/plain": [
              "                                     movie  year  imdb  metascore   votes\n",
              "0                                    Logan  2017   8.1         77  667461\n",
              "1                           Thor: Ragnarok  2017   7.9         74  615570\n",
              "2                             Wonder Woman  2017   7.4         76  594410\n",
              "3           Guardians of the Galaxy Vol. 2  2017   7.6         67  589160\n",
              "4  Star Wars: Episode VIII - The Last Jedi  2017   7.0         84  577006\n",
              "5                                  Dunkirk  2017   7.8         94  575108\n",
              "6                   Spider-Man: Homecoming  2017   7.4         73  532718\n",
              "7                                  Get Out  2017   7.7         85  509953\n",
              "8                        Blade Runner 2049  2017   8.0         81  479952\n",
              "9                                       It  2017   7.3         69  471568"
            ]
          },
          "metadata": {
            "tags": []
          },
          "execution_count": 68
        }
      ]
    },
    {
      "cell_type": "code",
      "metadata": {
        "colab": {
          "base_uri": "https://localhost:8080/",
          "height": 360
        },
        "id": "nS9-Bmv5GfwN",
        "outputId": "a262e701-d065-4b65-94d9-b717b6669446"
      },
      "source": [
        "movie_ratings.tail(10)"
      ],
      "execution_count": null,
      "outputs": [
        {
          "output_type": "execute_result",
          "data": {
            "text/html": [
              "<div>\n",
              "<style scoped>\n",
              "    .dataframe tbody tr th:only-of-type {\n",
              "        vertical-align: middle;\n",
              "    }\n",
              "\n",
              "    .dataframe tbody tr th {\n",
              "        vertical-align: top;\n",
              "    }\n",
              "\n",
              "    .dataframe thead th {\n",
              "        text-align: right;\n",
              "    }\n",
              "</style>\n",
              "<table border=\"1\" class=\"dataframe\">\n",
              "  <thead>\n",
              "    <tr style=\"text-align: right;\">\n",
              "      <th></th>\n",
              "      <th>movie</th>\n",
              "      <th>year</th>\n",
              "      <th>imdb</th>\n",
              "      <th>metascore</th>\n",
              "      <th>votes</th>\n",
              "    </tr>\n",
              "  </thead>\n",
              "  <tbody>\n",
              "    <tr>\n",
              "      <th>820</th>\n",
              "      <td>Spenser Confidential</td>\n",
              "      <td>2020</td>\n",
              "      <td>6.2</td>\n",
              "      <td>49</td>\n",
              "      <td>75101</td>\n",
              "    </tr>\n",
              "    <tr>\n",
              "      <th>821</th>\n",
              "      <td>The Midnight Sky</td>\n",
              "      <td>2020</td>\n",
              "      <td>5.6</td>\n",
              "      <td>58</td>\n",
              "      <td>74202</td>\n",
              "    </tr>\n",
              "    <tr>\n",
              "      <th>822</th>\n",
              "      <td>The Social Dilemma</td>\n",
              "      <td>2020</td>\n",
              "      <td>7.6</td>\n",
              "      <td>78</td>\n",
              "      <td>70702</td>\n",
              "    </tr>\n",
              "    <tr>\n",
              "      <th>823</th>\n",
              "      <td>I'm Thinking of Ending Things</td>\n",
              "      <td>2020</td>\n",
              "      <td>6.6</td>\n",
              "      <td>78</td>\n",
              "      <td>69026</td>\n",
              "    </tr>\n",
              "    <tr>\n",
              "      <th>824</th>\n",
              "      <td>Underwater</td>\n",
              "      <td>2020</td>\n",
              "      <td>5.8</td>\n",
              "      <td>48</td>\n",
              "      <td>67988</td>\n",
              "    </tr>\n",
              "    <tr>\n",
              "      <th>825</th>\n",
              "      <td>Hamilton</td>\n",
              "      <td>2020</td>\n",
              "      <td>8.5</td>\n",
              "      <td>90</td>\n",
              "      <td>65067</td>\n",
              "    </tr>\n",
              "    <tr>\n",
              "      <th>826</th>\n",
              "      <td>Bloodshot</td>\n",
              "      <td>2020</td>\n",
              "      <td>5.7</td>\n",
              "      <td>44</td>\n",
              "      <td>64790</td>\n",
              "    </tr>\n",
              "    <tr>\n",
              "      <th>827</th>\n",
              "      <td>News of the World</td>\n",
              "      <td>2020</td>\n",
              "      <td>6.8</td>\n",
              "      <td>73</td>\n",
              "      <td>64451</td>\n",
              "    </tr>\n",
              "    <tr>\n",
              "      <th>828</th>\n",
              "      <td>The Father</td>\n",
              "      <td>2020</td>\n",
              "      <td>8.3</td>\n",
              "      <td>88</td>\n",
              "      <td>63849</td>\n",
              "    </tr>\n",
              "    <tr>\n",
              "      <th>829</th>\n",
              "      <td>Mank</td>\n",
              "      <td>2020</td>\n",
              "      <td>6.9</td>\n",
              "      <td>79</td>\n",
              "      <td>61200</td>\n",
              "    </tr>\n",
              "  </tbody>\n",
              "</table>\n",
              "</div>"
            ],
            "text/plain": [
              "                             movie  year  imdb  metascore  votes\n",
              "820           Spenser Confidential  2020   6.2         49  75101\n",
              "821               The Midnight Sky  2020   5.6         58  74202\n",
              "822             The Social Dilemma  2020   7.6         78  70702\n",
              "823  I'm Thinking of Ending Things  2020   6.6         78  69026\n",
              "824                     Underwater  2020   5.8         48  67988\n",
              "825                       Hamilton  2020   8.5         90  65067\n",
              "826                      Bloodshot  2020   5.7         44  64790\n",
              "827              News of the World  2020   6.8         73  64451\n",
              "828                     The Father  2020   8.3         88  63849\n",
              "829                           Mank  2020   6.9         79  61200"
            ]
          },
          "metadata": {
            "tags": []
          },
          "execution_count": 69
        }
      ]
    },
    {
      "cell_type": "code",
      "metadata": {
        "id": "ldY4Z-z4Gl-4"
      },
      "source": [
        ""
      ],
      "execution_count": null,
      "outputs": []
    }
  ]
}