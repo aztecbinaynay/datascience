{
 "cells": [
  {
   "cell_type": "markdown",
   "metadata": {},
   "source": [
    "1. What is Feature Engineering [here](#1-d)<br>\n",
    "2. Mutual Information [here](#2)<br>\n",
    "3. Creating Features [here](#3)<br>\n",
    "4. Clustering w/ K-Means [here](#4)<br>\n",
    "5. Principal Component Analysis [here](#5)<br>\n",
    "6. Target Encoding [here](#6)<br>"
   ]
  },
  {
   "cell_type": "markdown",
   "metadata": {},
   "source": [
    "<a id=\"1-d\"></a>\n",
    "# What is Feature Engineering "
   ]
  },
  {
   "cell_type": "code",
   "execution_count": null,
   "metadata": {},
   "outputs": [],
   "source": []
  },
  {
   "cell_type": "markdown",
   "metadata": {},
   "source": [
    "<a id=\"2\"></a>\n",
    "# Mutual Information"
   ]
  },
  {
   "cell_type": "markdown",
   "metadata": {},
   "source": [
    "<a id=\"3\"></a>\n",
    "# Creating Features"
   ]
  },
  {
   "cell_type": "markdown",
   "metadata": {},
   "source": [
    "<a id=\"4\"></a>\n",
    "# Clustering w/ K-Means"
   ]
  },
  {
   "cell_type": "markdown",
   "metadata": {},
   "source": [
    "<a id=\"5\"></a>\n",
    "# Principal Component Analysis"
   ]
  },
  {
   "cell_type": "markdown",
   "metadata": {},
   "source": [
    "<a id=\"6\"></a>\n",
    "# Target Encoding"
   ]
  }
 ],
 "metadata": {
  "interpreter": {
   "hash": "68d48f653d753eb4572728d59dd009bda97a55f3cf1d7c61939a0a14521d1b65"
  },
  "kernelspec": {
   "display_name": "Python 3.9.5 ('pyenv')",
   "language": "python",
   "name": "python3"
  },
  "language_info": {
   "name": "python",
   "version": "3.9.5"
  },
  "orig_nbformat": 4
 },
 "nbformat": 4,
 "nbformat_minor": 2
}
