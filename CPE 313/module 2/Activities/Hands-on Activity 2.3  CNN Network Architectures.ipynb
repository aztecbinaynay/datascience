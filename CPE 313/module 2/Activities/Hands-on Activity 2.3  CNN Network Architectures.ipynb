{
 "cells": [
  {
   "cell_type": "markdown",
   "id": "celtic-bosnia",
   "metadata": {},
   "source": [
    "# Activity 2.3 - CNN Network Architectures"
   ]
  },
  {
   "cell_type": "markdown",
   "id": "wireless-artist",
   "metadata": {},
   "source": [
    "#### Objective(s):\n",
    "\n",
    "This activity aims to introduce how to use CNN network architectures"
   ]
  },
  {
   "cell_type": "markdown",
   "id": "advised-diabetes",
   "metadata": {},
   "source": [
    "#### Intended Learning Outcomes (ILOs):\n",
    "* Demonstrate how to use pretrained model in predicting the object\n",
    "* Evaluate the accuracy of each pretrained model"
   ]
  },
  {
   "cell_type": "markdown",
   "id": "graphic-north",
   "metadata": {},
   "source": [
    "#### Resources:\n",
    "* Jupyter Notebook\n",
    "* MNIST"
   ]
  },
  {
   "cell_type": "markdown",
   "id": "stone-chancellor",
   "metadata": {},
   "source": [
    "#### Procedures\n",
    "Load the necessary libraries"
   ]
  },
  {
   "cell_type": "code",
   "execution_count": null,
   "id": "surprising-reputation",
   "metadata": {},
   "outputs": [],
   "source": [
    "# install opencv if you haven't\n",
    "# pip install opencv-python\n",
    "# pip install pillow"
   ]
  },
  {
   "cell_type": "code",
   "execution_count": null,
   "id": "timely-wings",
   "metadata": {},
   "outputs": [],
   "source": [
    "from PIL import Image\n",
    "from keras.preprocessing import image\n",
    "import numpy as np\n",
    "import pandas as pd\n",
    "\n",
    "import cv2\n",
    "from scipy.misc.pilutil import imread\n",
    "\n",
    "import matplotlib.pyplot as plt\n"
   ]
  },
  {
   "cell_type": "markdown",
   "id": "czech-medicaid",
   "metadata": {},
   "source": [
    "Create a function that will capture and save the image from your webcam"
   ]
  },
  {
   "cell_type": "code",
   "execution_count": null,
   "id": "formed-highland",
   "metadata": {},
   "outputs": [],
   "source": [
    "def get_image(camera):\n",
    "    retval, im = camera.read()\n",
    "    return im"
   ]
  },
  {
   "cell_type": "code",
   "execution_count": null,
   "id": "ongoing-statement",
   "metadata": {},
   "outputs": [],
   "source": [
    "def save_webcam_image(img_path):\n",
    "\n",
    "    try:\n",
    "        camera_port = 0\n",
    "        ramp_frames = 10\n",
    "    \n",
    "        camera = cv2.VideoCapture(camera_port)\n",
    "\n",
    "        for i in range(ramp_frames):\n",
    "            retval, im_camera = camera.read()\n",
    "\n",
    "        retval, im_camera = camera.read()\n",
    "\n",
    "        im = cv2.resize(im_camera, (224, 224)).astype(np.float32)\n",
    "        cv2.imwrite(img_path, im)\n",
    "        del (camera)\n",
    "        return True\n",
    "    except ValueError as e:\n",
    "        print(\"Image Capture Failed\")\n",
    "    return False"
   ]
  },
  {
   "cell_type": "markdown",
   "id": "retired-syndrome",
   "metadata": {},
   "source": [
    "* Test your function.\n",
    "* Place a clock or any object\n",
    "* Display the saved image"
   ]
  },
  {
   "cell_type": "code",
   "execution_count": null,
   "id": "qualified-shoot",
   "metadata": {},
   "outputs": [],
   "source": [
    "img_path = \"webcam_test_img.png\"\n",
    "\n",
    "if save_webcam_image(img_path) is False:\n",
    "    # Webcam not active, use the Dog Image\n",
    "    img_path = \"rocking_chair.jpg\"\n",
    "    print(\"Using the Test Rocking Chair Image: {}\".format(img_path))"
   ]
  },
  {
   "cell_type": "code",
   "execution_count": null,
   "id": "driven-legislature",
   "metadata": {},
   "outputs": [],
   "source": [
    "plt.imshow(imread(img_path))"
   ]
  },
  {
   "cell_type": "markdown",
   "id": "hungry-bones",
   "metadata": {},
   "source": [
    "Use VGG-16 pre-trained model"
   ]
  },
  {
   "cell_type": "code",
   "execution_count": null,
   "id": "injured-partition",
   "metadata": {},
   "outputs": [],
   "source": [
    "from keras.applications import vgg16\n",
    "\n",
    "\n",
    "vgg16_model = vgg16.VGG16(weights='imagenet')\n",
    "vgg16_model.summary()"
   ]
  },
  {
   "cell_type": "markdown",
   "id": "sustainable-italian",
   "metadata": {},
   "source": [
    "Create a function to load model, image, preprocess input and targets"
   ]
  },
  {
   "cell_type": "code",
   "execution_count": null,
   "id": "mechanical-rates",
   "metadata": {},
   "outputs": [],
   "source": [
    "def predict_image(model, img_path, preprocess_input_fn, decode_predictions_fn, target_size=(224, 224)):\n",
    "\n",
    "    img = image.load_img(img_path, target_size=target_size)\n",
    "    x = image.img_to_array(img)\n",
    "    x = np.expand_dims(x, axis=0)\n",
    "    x = preprocess_input_fn(x)\n",
    "    \n",
    "    preds = model.predict(x)\n",
    "    predictions_df = pd.DataFrame(decode_predictions_fn(preds, top=10)[0])\n",
    "    predictions_df.columns = [\"Predicted Class\", \"Name\", \"Probability\"]\n",
    "    return predictions_df"
   ]
  },
  {
   "cell_type": "markdown",
   "id": "collected-recommendation",
   "metadata": {},
   "source": [
    "Predict the result"
   ]
  },
  {
   "cell_type": "code",
   "execution_count": null,
   "id": "wicked-czech",
   "metadata": {},
   "outputs": [],
   "source": [
    "predict_image(vgg16_model, img_path, vgg16.preprocess_input, vgg16.decode_predictions)"
   ]
  },
  {
   "cell_type": "markdown",
   "id": "intermediate-scholar",
   "metadata": {},
   "source": [
    "Interpret the result of prediction using VGG16 model"
   ]
  },
  {
   "cell_type": "markdown",
   "id": "cheap-festival",
   "metadata": {},
   "source": [
    "#type your answer here"
   ]
  },
  {
   "cell_type": "markdown",
   "id": "prostate-upgrade",
   "metadata": {},
   "source": [
    "Use Resnet50 pretrained model"
   ]
  },
  {
   "cell_type": "code",
   "execution_count": null,
   "id": "saving-encyclopedia",
   "metadata": {},
   "outputs": [],
   "source": [
    "from keras.applications import resnet50\n",
    "\n",
    "resnet50_model = resnet50.ResNet50(weights='imagenet')\n",
    "\n",
    "resnet50_model.summary()"
   ]
  },
  {
   "cell_type": "markdown",
   "id": "essential-observation",
   "metadata": {},
   "source": [
    "Predict the result"
   ]
  },
  {
   "cell_type": "code",
   "execution_count": null,
   "id": "departmental-brother",
   "metadata": {},
   "outputs": [],
   "source": [
    "predict_image(resnet50_model, img_path, resnet50.preprocess_input, resnet50.decode_predictions)"
   ]
  },
  {
   "cell_type": "markdown",
   "id": "chicken-blues",
   "metadata": {},
   "source": [
    "Interpret the result using RESNET50 pretrained model"
   ]
  },
  {
   "cell_type": "markdown",
   "id": "female-gardening",
   "metadata": {},
   "source": [
    "#type your answer here"
   ]
  },
  {
   "cell_type": "markdown",
   "id": "filled-marine",
   "metadata": {},
   "source": [
    "#### Supplementary Activity"
   ]
  },
  {
   "cell_type": "markdown",
   "id": "foster-lobby",
   "metadata": {},
   "source": [
    "* Use at least three pretrained model and predict the result using the saved image. \n",
    "* Compare their accuracy results."
   ]
  },
  {
   "cell_type": "code",
   "execution_count": null,
   "id": "biological-empire",
   "metadata": {},
   "outputs": [],
   "source": [
    "#### type your code here"
   ]
  },
  {
   "cell_type": "markdown",
   "id": "recovered-flooring",
   "metadata": {},
   "source": [
    "#### Conclusion"
   ]
  },
  {
   "cell_type": "markdown",
   "id": "atlantic-still",
   "metadata": {},
   "source": [
    "#type your answer here"
   ]
  },
  {
   "cell_type": "code",
   "execution_count": null,
   "id": "metallic-elevation",
   "metadata": {},
   "outputs": [],
   "source": []
  }
 ],
 "metadata": {
  "kernelspec": {
   "display_name": "Python 3",
   "language": "python",
   "name": "python3"
  },
  "language_info": {
   "codemirror_mode": {
    "name": "ipython",
    "version": 3
   },
   "file_extension": ".py",
   "mimetype": "text/x-python",
   "name": "python",
   "nbconvert_exporter": "python",
   "pygments_lexer": "ipython3",
   "version": "3.7.10"
  }
 },
 "nbformat": 4,
 "nbformat_minor": 5
}
