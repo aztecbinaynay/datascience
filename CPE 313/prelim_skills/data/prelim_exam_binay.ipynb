{
 "cells": [
  {
   "cell_type": "markdown",
   "metadata": {},
   "source": [
    "Name: John Edward Binay\n",
    "\n",
    "Activity: Prelim Skills Exam\n",
    "\n",
    "Date Submitted: 2022-03-31\n",
    "\n",
    "Instructor: Engr. Villanueva, AlonicaName: John Edward Binay"
   ]
  },
  {
   "cell_type": "markdown",
   "metadata": {},
   "source": [
    "# Objectives:\n",
    "\n",
    "1. Build and train a CNN model from scratch. Apply different regularization techniques and data preprocessing to reduce overfitting.\n",
    "2. Plot the training and validation loss and accuracy. The target accuracy is 85% and above."
   ]
  },
  {
   "cell_type": "code",
   "execution_count": null,
   "metadata": {},
   "outputs": [
    {
     "ename": "",
     "evalue": "",
     "output_type": "error",
     "traceback": [
      "\u001b[1;31mFailed to start the Kernel. \n",
      "Unable to start Kernel 'Python 3.9.5 64-bit' due to connection timeout. \n",
      "View Jupyter <a href='command:jupyter.viewOutput'>log</a> for further details."
     ]
    }
   ],
   "source": [
    "import matplotlib.pyplot as plt \n",
    "import numpy as np \n",
    "import os"
   ]
  },
  {
   "cell_type": "markdown",
   "metadata": {},
   "source": [
    "* There are 3,616 COVID images/masks\n",
    "* Ther are 6,012 Lung Opacity images/masks\n",
    "* There are 10,192 normal lung images/masks\n",
    "* There are 1,345 viral pneumonia images/masks"
   ]
  },
  {
   "cell_type": "code",
   "execution_count": null,
   "metadata": {},
   "outputs": [],
   "source": [
    "import random\n",
    "\n",
    "vp_imgs = r\"C:\\Users\\core i5\\Documents\\GitHub\\DataScience\\datascience\\CPE 313\\prelim_skills\\data\\COVID-19_Radiography_Dataset\\Viral Pneumonia\\images\"\n",
    "normal_imgs = r\"C:\\Users\\core i5\\Documents\\GitHub\\DataScience\\datascience\\CPE 313\\prelim_skills\\data\\COVID-19_Radiography_Dataset\\Normal\\images\"\n",
    "cov_imgs = r\"C:\\Users\\core i5\\Documents\\GitHub\\DataScience\\datascience\\CPE 313\\prelim_skills\\data\\COVID-19_Radiography_Dataset\\COVID\\images\"\n"
   ]
  }
 ],
 "metadata": {
  "interpreter": {
   "hash": "68d48f653d753eb4572728d59dd009bda97a55f3cf1d7c61939a0a14521d1b65"
  },
  "kernelspec": {
   "display_name": "Python 3.9.5 ('pyenv')",
   "language": "python",
   "name": "python3"
  },
  "language_info": {
   "name": "python",
   "version": "3.9.5"
  },
  "orig_nbformat": 4
 },
 "nbformat": 4,
 "nbformat_minor": 2
}
