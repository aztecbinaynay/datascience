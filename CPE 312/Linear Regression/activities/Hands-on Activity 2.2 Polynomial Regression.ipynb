{
 "cells": [
  {
   "cell_type": "markdown",
   "metadata": {},
   "source": [
    "# Hands-on Activity 2.2 | Polynomial Regression"
   ]
  },
  {
   "cell_type": "markdown",
   "metadata": {},
   "source": [
    "#### Objective(s):\n",
    "\n",
    "This activity aims to perform regression analysis using polynomial regression"
   ]
  },
  {
   "cell_type": "markdown",
   "metadata": {},
   "source": [
    "#### Intended Learning Outcomes (ILOs):\n",
    "* Demonstrate how to build a regression model to predict the outcome using polynomial regression.\n",
    "* Evaluate the performance of the regression model using polynomial regression"
   ]
  },
  {
   "cell_type": "markdown",
   "metadata": {},
   "source": [
    "#### Resources:\n",
    "* Jupyter Notebook\n",
    "* internet_traffic_hist.csv\n",
    "\n",
    "\n"
   ]
  },
  {
   "cell_type": "markdown",
   "metadata": {},
   "source": [
    "#### Procedure:"
   ]
  },
  {
   "cell_type": "markdown",
   "metadata": {},
   "source": [
    "#### Using numpy polyfit to perform polynomial regression\n",
    "Import the libraries and the data"
   ]
  },
  {
   "cell_type": "code",
   "execution_count": null,
   "metadata": {},
   "outputs": [],
   "source": [
    "import pandas as pd\n",
    "import numpy as np\n",
    "import matplotlib.pyplot as plt\n",
    "%matplotlib inline"
   ]
  },
  {
   "cell_type": "code",
   "execution_count": null,
   "metadata": {},
   "outputs": [],
   "source": [
    "from sklearn.metrics import r2_score\n",
    "from scipy.optimize import curve_fit"
   ]
  },
  {
   "cell_type": "markdown",
   "metadata": {},
   "source": [
    "Load the dataset"
   ]
  },
  {
   "cell_type": "code",
   "execution_count": null,
   "metadata": {},
   "outputs": [],
   "source": [
    "internet = 'internet_traffic_hist.csv'\n",
    "\n",
    "df_hist = pd.read_csv(internet)\n",
    "df_hist.head(11)"
   ]
  },
  {
   "cell_type": "markdown",
   "metadata": {},
   "source": [
    "Build the first order polynomial using numpy polyfit"
   ]
  },
  {
   "cell_type": "code",
   "execution_count": null,
   "metadata": {},
   "outputs": [],
   "source": [
    "order = 1\n",
    "\n",
    "# XY Plot of year and traffic\n",
    "x = df_hist.year\n",
    "y = df_hist.traffic\n",
    "\n",
    "m, b = np.polyfit(x,y,order)\n",
    "\n",
    "plt.plot(x, y, label = 'Historical Internet Traffic', linewidth = 7)\n",
    "plt.plot(x, y,'*k', markersize = 15, label ='')\n",
    "plt.plot(x, m*x + b, '-', label = 'Simple Linear Regression Line', linewidth = 6)\n",
    "\n",
    "print ('The slope of line is {}.'.format(m))\n",
    "print ('The y intercept is {}.'.format(b))\n",
    "print ('The best fit simple linear regression line is {}x + {}.'.format(m,b))\n",
    "\n",
    "\n",
    "#Increase sligthly the axis sizes to make the plot more clear\n",
    "plt.axis([x.iloc[0]-1, x.iloc[-1]+1, y.iloc[0]*-0.1, y.iloc[-1]*1.1])\n",
    "\n",
    "# Add axis labels\n",
    "plt.xlabel('Year')\n",
    "plt.ylabel('Fixed Internet Traffic Volume')\n",
    "plt.legend(loc = 'upper left')\n",
    "\n",
    "\n",
    "# Increase default font size\n",
    "plt.rcParams.update({'font.size': 26})\n",
    "plt.show()"
   ]
  },
  {
   "cell_type": "markdown",
   "metadata": {},
   "source": [
    "Build the model using Higher Order Polynomial (1 to 4)"
   ]
  },
  {
   "cell_type": "code",
   "execution_count": null,
   "metadata": {},
   "outputs": [],
   "source": [
    "models = []       # to store polynomial model parameters (list of poly1d objects)\n",
    "errors_hist = []  # to store the absolute errors for each point (2005-2015) and for each model (list of numpy arrays )\n",
    "mse_hist = []     # to store the MSE for each model (list of numpy floats)\n",
    "\n",
    "#Try polynomial models with increasing order\n",
    "for order in range(1,4):\n",
    "    # Fit polynomial model\n",
    "    p = (np.poly1d(np.polyfit(x, y, order)))\n",
    "    models.append(p)\n",
    "    \n",
    "plt.figure(figsize = (20,10))\n",
    "\n",
    "# Visualize polynomial models fit\n",
    "for model in models[0:3]:\n",
    "    plt.plot(x, model(x), label = 'order ' + str(len(model)), linewidth = 7)\n",
    "\n",
    "plt.plot(x, y, '*k', markersize = 14, label = 'Historical Internet Traffic', linewidth = 7)\n",
    "plt.legend(loc = 'upper left')\n",
    "\n",
    "# Add axis labels\n",
    "plt.xlabel('Year')\n",
    "plt.ylabel('Fixed Internet Traffic Volume')\n",
    "\n",
    "plt.show()"
   ]
  },
  {
   "cell_type": "markdown",
   "metadata": {},
   "source": [
    "Calculate the error for each order"
   ]
  },
  {
   "cell_type": "code",
   "execution_count": null,
   "metadata": {},
   "outputs": [],
   "source": [
    "# Calculate and store the erros\n",
    "models = []       # to store polynomial model parameters (list of poly1d objects)\n",
    "errors_hist = []  # to store the absolute errors for each point (2005-2015) and for each model (list of numpy arrays )\n",
    "mse_hist = []     # to store the MSE for each model (list of numpy floats)\n",
    "\n",
    "#Try polynomial models with increasing order\n",
    "for order in range(1,4):\n",
    "    # Fit polynomial model\n",
    "    p = (np.poly1d(np.polyfit(x, y, order)))\n",
    "    models.append(p)\n",
    "    \n",
    "    e = np.abs(y-p(x))        # absolute error\n",
    "    mse = np.sum(e**2)/len(df_hist) # mse\n",
    "    \n",
    "    errors_hist.append(e)   #Store the absolute errors\n",
    "    mse_hist.append(mse) # Store the mse"
   ]
  },
  {
   "cell_type": "code",
   "execution_count": null,
   "metadata": {},
   "outputs": [],
   "source": [
    "# Visualize fit error for each year\n",
    "\n",
    "x = df_hist.year\n",
    "width = 0.2   #size of the bar\n",
    "\n",
    "fig = plt.figure(figsize=(20,10))\n",
    "ax = fig.add_subplot(111)\n",
    "\n",
    "p1 = ax.bar( x, errors_hist[0], width, color = 'b', label = 'Abs. error order 1 fit')\n",
    "p2 = ax.bar( x + width, errors_hist[1], width, color = 'r', label = 'Abs. error order 2 fit')\n",
    "p3 = ax.bar( x + 2*width, errors_hist[2], width, color = 'y', label = 'Abs. error order 3 fit')\n",
    "\n",
    "# \"Prettyfy\" the bar graph\n",
    "ax.set_xticks(x+2*width)\n",
    "ax.set_xticklabels(x)\n",
    "plt.legend(loc = 'upper left', fontsize =16)\n",
    "plt.show()\n",
    "\n",
    "#Visualise MSE for each model\n",
    "fig = plt.figure(figsize=(20,10))\n",
    "ax = fig.add_subplot(111)\n",
    "\n",
    "x = np.array([0,1,2,3])\n",
    "width = .6   #size of the bar\n",
    "\n",
    "p1 = ax.bar( x[0], mse_hist[0], width, color = 'b', label = 'pred. error order 1 fit')\n",
    "p2 = ax.bar( x[1], mse_hist[1], width, color = 'r', label = 'pred. error order 2 fit')\n",
    "p3 = ax.bar( x[2], mse_hist[2], width, color = 'y', label = 'pred. error order 3 fit')\n",
    "\n",
    "ax.set_xticks(x+width/2)\n",
    "ax.set_xticklabels(['Poly. order 1', 'Poly. order 2', 'Poly. order 3'], rotation=90)\n",
    "plt.show()"
   ]
  },
  {
   "cell_type": "markdown",
   "metadata": {},
   "source": [
    "Interpret the result of the fit error for each year"
   ]
  },
  {
   "cell_type": "markdown",
   "metadata": {},
   "source": [
    "type your answer here"
   ]
  },
  {
   "cell_type": "code",
   "execution_count": null,
   "metadata": {},
   "outputs": [],
   "source": [
    "# Polynomial function order\n",
    "order = 3\n",
    "\n",
    "x = df_hist.year.values      # regressor\n",
    "y = df_hist.traffic.values   # regressand\n",
    "\n",
    "# Fit the model, return the polynomial parameter values in a numpy array such that\n",
    "# y = p[0]*x**order + p[1]*x*(order-1) ...\n",
    "\n",
    "p_array = np.polyfit(x,y,order)\n",
    "\n",
    "print(type(p_array), p_array)\n",
    "\n",
    "# poly1d is a convenience class, used to encapsulate “natural” operations on polynomials \n",
    "# so that said operations may take on their customary form in code\n",
    "\n",
    "# wrap the p_array in a poly1 object\n",
    "p = np.poly1d(p_array)\n",
    "\n",
    "print(type(p), p)\n",
    "\n",
    "# use the poly1d object to evaluate the value of the polynomial in a specific point\n",
    "print('The value of the polynomial for x = 2020 is : {} '.format(p(2020)))\n",
    "\n",
    "# compute the absolute error for each value of x and the MSE error for the estimated polynomial model\n",
    "e = np.abs(y-p(x))\n",
    "mse = np.sum(e**2)/len(x)\n",
    "\n",
    "print('The estimated polynomial parameters are: {}'.format(p))\n",
    "print('The errors for each value of x, given the estimated polynomial parameters are: \\n {}'.format(e))\n",
    "print('The MSE is :{}'.format(mse))"
   ]
  },
  {
   "cell_type": "markdown",
   "metadata": {},
   "source": [
    "#### Using sklearn to perform polynomial regression"
   ]
  },
  {
   "cell_type": "markdown",
   "metadata": {},
   "source": [
    "Import the necessary libraries"
   ]
  },
  {
   "cell_type": "code",
   "execution_count": null,
   "metadata": {},
   "outputs": [],
   "source": [
    "from sklearn.preprocessing import PolynomialFeatures\n",
    "from sklearn.linear_model import LinearRegression"
   ]
  },
  {
   "cell_type": "markdown",
   "metadata": {},
   "source": [
    "Training the Polynomial Regression model  using degree 3"
   ]
  },
  {
   "cell_type": "code",
   "execution_count": null,
   "metadata": {},
   "outputs": [],
   "source": [
    "poly_reg = PolynomialFeatures(degree=3)\n",
    "X_poly = poly_reg.fit_transform(x.reshape(-1, 1))"
   ]
  },
  {
   "cell_type": "code",
   "execution_count": null,
   "metadata": {},
   "outputs": [],
   "source": [
    "lin_reg = LinearRegression()\n",
    "lin_reg.fit(X_poly,y)\n"
   ]
  },
  {
   "cell_type": "markdown",
   "metadata": {},
   "source": [
    "Predict the result using polynomial regression model"
   ]
  },
  {
   "cell_type": "code",
   "execution_count": null,
   "metadata": {},
   "outputs": [],
   "source": [
    "y_pred = lin_reg.predict(X_poly)\n"
   ]
  },
  {
   "cell_type": "code",
   "execution_count": null,
   "metadata": {},
   "outputs": [],
   "source": [
    "df = pd.DataFrame({'Real Values': y, 'Predicted Values':y_pred})"
   ]
  },
  {
   "cell_type": "code",
   "execution_count": null,
   "metadata": {},
   "outputs": [],
   "source": [
    "df"
   ]
  },
  {
   "cell_type": "markdown",
   "metadata": {},
   "source": [
    "Visualize the Polynomial Regression results"
   ]
  },
  {
   "cell_type": "code",
   "execution_count": null,
   "metadata": {},
   "outputs": [],
   "source": [
    "plt.scatter(x, y, color='green')\n",
    "plt.plot(x, y_pred, color = 'red')\n",
    "\n",
    "plt.title(\"Polynomial Regression degree=3\")\n",
    "plt.xlabel('Year')\n",
    "plt.ylabel('Internet Traffic')\n",
    "\n",
    "\n",
    "plt.show();"
   ]
  },
  {
   "cell_type": "markdown",
   "metadata": {},
   "source": [
    "***"
   ]
  },
  {
   "cell_type": "markdown",
   "metadata": {},
   "source": [
    "Supplementary Activity:\n",
    "* Choose your own dataset \n",
    "* Import the dataset \n",
    "* Perform polynomial regression using sklearn and polyfit\n",
    "* Measure the performance for each polynomial degree.\n",
    "* Plot the performance of the model for each polynomial degree."
   ]
  },
  {
   "cell_type": "code",
   "execution_count": null,
   "metadata": {},
   "outputs": [],
   "source": [
    "#type your code here"
   ]
  },
  {
   "cell_type": "markdown",
   "metadata": {},
   "source": [
    "Conclusion:"
   ]
  },
  {
   "cell_type": "code",
   "execution_count": null,
   "metadata": {},
   "outputs": [],
   "source": [
    "#type your conclusion here"
   ]
  }
 ],
 "metadata": {
  "kernelspec": {
   "display_name": "Python 3",
   "language": "python",
   "name": "python3"
  },
  "language_info": {
   "codemirror_mode": {
    "name": "ipython",
    "version": 3
   },
   "file_extension": ".py",
   "mimetype": "text/x-python",
   "name": "python",
   "nbconvert_exporter": "python",
   "pygments_lexer": "ipython3",
   "version": "3.9.5"
  }
 },
 "nbformat": 4,
 "nbformat_minor": 2
}
