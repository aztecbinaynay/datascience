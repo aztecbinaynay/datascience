{
 "cells": [
  {
   "cell_type": "markdown",
   "metadata": {},
   "source": [
    "# Activity 4.2 Naive Bayes"
   ]
  },
  {
   "cell_type": "markdown",
   "metadata": {},
   "source": [
    "Objective(s):\n",
    "\n",
    "This activity aims to perform classification  using Naive Bayes"
   ]
  },
  {
   "cell_type": "markdown",
   "metadata": {},
   "source": [
    "Intended Learning Outcomes (ILOs):\n",
    "* Build the model using Naive Bayes.\n",
    "* Evaluate the performance of the model.\n",
    "* Compare the performance of each types of Naive Bayes classifier"
   ]
  },
  {
   "cell_type": "markdown",
   "metadata": {},
   "source": [
    "Resources:\n",
    "* Jupyter Notebook\n",
    "* Iris_Data.csv"
   ]
  },
  {
   "cell_type": "markdown",
   "metadata": {},
   "source": [
    "Procedure:"
   ]
  },
  {
   "cell_type": "markdown",
   "metadata": {},
   "source": [
    "Import the libraries"
   ]
  },
  {
   "cell_type": "code",
   "execution_count": null,
   "metadata": {},
   "outputs": [],
   "source": [
    "import pandas as pd\n",
    "import seaborn as sns\n",
    "import matplotlib.pyplot as plt\n",
    "import numpy as np\n",
    "%matplotlib inline"
   ]
  },
  {
   "cell_type": "markdown",
   "metadata": {},
   "source": [
    "Load the Iris dataset."
   ]
  },
  {
   "cell_type": "code",
   "execution_count": null,
   "metadata": {},
   "outputs": [],
   "source": [
    "iris= pd.read_csv('Iris_Data.csv')\n",
    "iris.head()"
   ]
  },
  {
   "cell_type": "code",
   "execution_count": null,
   "metadata": {},
   "outputs": [],
   "source": [
    "iris.dtypes"
   ]
  },
  {
   "cell_type": "markdown",
   "metadata": {},
   "source": [
    "Notice that aside from the predictor variable, everything is float."
   ]
  },
  {
   "cell_type": "code",
   "execution_count": null,
   "metadata": {},
   "outputs": [],
   "source": [
    "skew = pd.DataFrame(iris.skew())\n",
    "skew.columns = ['skew']\n",
    "skew['too_skewed'] = skew['skew'] > .75\n",
    "skew"
   ]
  },
  {
   "cell_type": "code",
   "execution_count": null,
   "metadata": {},
   "outputs": [],
   "source": [
    "import seaborn as sns\n",
    "import matplotlib.pyplot as plt\n",
    "%matplotlib inline\n",
    "\n",
    "sns.pairplot(iris, hue='species')"
   ]
  },
  {
   "cell_type": "markdown",
   "metadata": {},
   "source": [
    "Interpret the result of the pairplot."
   ]
  },
  {
   "cell_type": "markdown",
   "metadata": {},
   "source": [
    "Type your answer here"
   ]
  },
  {
   "cell_type": "markdown",
   "metadata": {},
   "source": [
    "Train the data using Naive Bayes classifier in order to predict the species"
   ]
  },
  {
   "cell_type": "markdown",
   "metadata": {},
   "source": [
    "Use the following type of Naive Bayes classifier\n",
    "* GaussianNB\n",
    "* MultinomialNB\n",
    "* BernoulliNB"
   ]
  },
  {
   "cell_type": "code",
   "execution_count": null,
   "metadata": {},
   "outputs": [],
   "source": [
    "#GaussianNB\n",
    "from sklearn.naive_bayes import GaussianNB\n",
    "from sklearn.model_selection import cross_val_score\n",
    "\n",
    "X = iris[iris.columns[:-1]]\n",
    "y = iris.species\n",
    "\n",
    "GNB = GaussianNB()\n",
    "cv_N = 4\n",
    "scores = cross_val_score(GNB, X, y, n_jobs=cv_N, cv=cv_N)\n",
    "print(scores)\n",
    "np.mean(scores)"
   ]
  },
  {
   "cell_type": "code",
   "execution_count": null,
   "metadata": {},
   "outputs": [],
   "source": [
    "#MultinomialNB\n",
    "from sklearn.naive_bayes import MultinomialNB\n",
    "from sklearn.model_selection import cross_val_score\n",
    "\n",
    "X = iris[iris.columns[:-1]]\n",
    "y = iris.species\n",
    "\n",
    "MNB = MultinomialNB()\n",
    "cv_N = 4\n",
    "scores = cross_val_score(MNB, X, y, n_jobs=cv_N, cv=cv_N)\n",
    "print(scores)\n",
    "np.mean(scores)"
   ]
  },
  {
   "cell_type": "code",
   "execution_count": null,
   "metadata": {},
   "outputs": [],
   "source": [
    "#BernoulliNB\n",
    "from sklearn.naive_bayes import BernoulliNB\n",
    "from sklearn.model_selection import cross_val_score\n",
    "\n",
    "X = iris[iris.columns[:-1]]\n",
    "y = iris.species\n",
    "\n",
    "BNB = BernoulliNB()\n",
    "cv_N = 4\n",
    "scores = cross_val_score(BNB, X, y, n_jobs=cv_N, cv=cv_N)\n",
    "print(scores)\n",
    "np.mean(scores)"
   ]
  },
  {
   "cell_type": "markdown",
   "metadata": {},
   "source": [
    "Compare the cross validation scores for Gaussian, Bernouilli and Multinomial Naive Bayes.\n",
    "\n",
    "Why is BernoulliNB performing like it does?"
   ]
  },
  {
   "cell_type": "markdown",
   "metadata": {},
   "source": [
    "Type your answer here"
   ]
  },
  {
   "cell_type": "markdown",
   "metadata": {},
   "source": [
    "Remove the *petal_* features which are very predictive, and re-do the comparison above. That is, get the cross validation scores for all types of Naive Bayes."
   ]
  },
  {
   "cell_type": "code",
   "execution_count": null,
   "metadata": {},
   "outputs": [],
   "source": [
    "X = iris[['sepal_length', 'sepal_width']]\n",
    "y = iris.species\n",
    "\n",
    "nb = {'gaussian': GaussianNB(),\n",
    "      'bernoulli': BernoulliNB(),\n",
    "      'multinomial': MultinomialNB()}\n",
    "\n",
    "scores = {}\n",
    "for key, model in nb.items():\n",
    "    s = cross_val_score(model, X, y, cv=cv_N, n_jobs=cv_N, scoring='accuracy')\n",
    "    scores[key] = np.mean(s)\n",
    "scores"
   ]
  },
  {
   "cell_type": "markdown",
   "metadata": {},
   "source": [
    "Compare the result of the accuracy for each type of Naive Bayes classifier. "
   ]
  },
  {
   "cell_type": "markdown",
   "metadata": {},
   "source": [
    "Type your answer here"
   ]
  },
  {
   "cell_type": "markdown",
   "metadata": {},
   "source": [
    "Supplementary Activity:\n",
    "* Choose your own dataset \n",
    "* Import the dataset \n",
    "* Determine the number of datapoints, columns and data types\n",
    "* Remove unneccesary columns\n",
    "* Do data cleaning such as removing empty values(NaN), replacing missing data .\n",
    "* Standardize the variables.\n",
    "* Perform descriptive statistics such as mean, median and mode\n",
    "* Perform data visualization \n",
    "* Build the model using the different types of Naive Bayes Classifer. \n",
    "* Evaluate the model using cross val score\n",
    "* Compare the result of the cross val score of each Naive Bayes Classifier.\n",
    "* Interpret the result."
   ]
  },
  {
   "cell_type": "code",
   "execution_count": null,
   "metadata": {},
   "outputs": [],
   "source": [
    "# type your code here"
   ]
  },
  {
   "cell_type": "markdown",
   "metadata": {},
   "source": [
    "Conclusion:\n",
    "    "
   ]
  },
  {
   "cell_type": "markdown",
   "metadata": {},
   "source": [
    "Type your conclusion here"
   ]
  }
 ],
 "metadata": {
  "kernelspec": {
   "display_name": "Python 3",
   "language": "python",
   "name": "python3"
  },
  "language_info": {
   "codemirror_mode": {
    "name": "ipython",
    "version": 3
   },
   "file_extension": ".py",
   "mimetype": "text/x-python",
   "name": "python",
   "nbconvert_exporter": "python",
   "pygments_lexer": "ipython3",
   "version": "3.7.4"
  }
 },
 "nbformat": 4,
 "nbformat_minor": 2
}
