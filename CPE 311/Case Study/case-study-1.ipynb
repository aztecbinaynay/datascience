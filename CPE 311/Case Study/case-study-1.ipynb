{
 "cells": [
  {
   "cell_type": "markdown",
   "metadata": {},
   "source": [
    "# STEP 0 - INITIAL CODE SETUP\r\n"
   ]
  },
  {
   "cell_type": "markdown",
   "metadata": {},
   "source": [
    "* suspicion - suspicious or innocent\r\n",
    "* record - theft, robbery, scam, murder, homicide etc..."
   ]
  },
  {
   "cell_type": "code",
   "execution_count": 1,
   "metadata": {},
   "outputs": [],
   "source": [
    "'''\r\n",
    "Class person creates a node. \r\n",
    "Identity: node's neighbors, name of node, suspicious/innocent, crime/None\r\n",
    "Methods: get neighbor nodes (in a form of a lits), get name of node, get suspicion,\r\n",
    "get record, adds neihgbor\r\n",
    "'''\r\n",
    "class Person(object):\r\n",
    "    \r\n",
    "    def __init__(self, name, suspicion, record):\r\n",
    "        self.neighbors = [] # adjacency list\r\n",
    "        self.name = name \r\n",
    "        self.suspicion = suspicion\r\n",
    "        self.record = record\r\n",
    "    \r\n",
    "    def get_neighbors(self):\r\n",
    "        return self.neighbors\r\n",
    "    \r\n",
    "    def get_name(self):\r\n",
    "        return self.name\r\n",
    "    \r\n",
    "    def get_suspicion(self):\r\n",
    "        return self.suspicion\r\n",
    "    \r\n",
    "    def get_record(self):\r\n",
    "        if self.record is None:\r\n",
    "            return 'None'\r\n",
    "        return self.record\r\n",
    "    \r\n",
    "    def add_neighbor(self, person):\r\n",
    "        self.neighbors.append(person)\r\n",
    "    \r\n",
    "    def clear_neighbors(self):\r\n",
    "        self.neighbors.clear()\r\n",
    "    \r\n",
    "    def __str__(self):\r\n",
    "        return f\"{self.name}: {self.neighbors}\"\r\n",
    "    \r\n",
    "    def __repr__(self):\r\n",
    "        return self.name"
   ]
  },
  {
   "cell_type": "code",
   "execution_count": 2,
   "metadata": {},
   "outputs": [
    {
     "data": {
      "text/plain": "[]"
     },
     "execution_count": 2,
     "metadata": {},
     "output_type": "execute_result"
    }
   ],
   "source": [
    "person1 = Person(\"person1\", \"suspicious\", None)\r\n",
    "person1.get_record()\r\n",
    "person2 = Person(\"person2\", \"suspicious\", \"murder\")\r\n",
    "person1.add_neighbor(person2)\r\n",
    "person1.get_neighbors()[0].get_record()\r\n",
    "person2.get_neighbors()"
   ]
  },
  {
   "cell_type": "code",
   "execution_count": null,
   "metadata": {},
   "outputs": [],
   "source": [
    "class Graph:\r\n",
    "    \r\n",
    "    def __init__(self, graph_repr=None, directional=False):\r\n",
    "        if graph_repr is None:\r\n",
    "            graph_repr = []\r\n",
    "        self.graph_repr = graph_repr\r\n",
    "        self.directional = directional\r\n",
    "        \r\n",
    "    def show_graph(self):\r\n",
    "        if self.graph_repr:\r\n",
    "            for node in self.graph_repr:\r\n",
    "                print(node)\r\n",
    "        else:\r\n",
    "            print(\"Nothing in graph!\")\r\n",
    "    \r\n",
    "    def get_nodes(self):\r\n",
    "        return self.graph_repr\r\n",
    "            \r\n",
    "    def add_node(self, node):\r\n",
    "        if node not in self.graph_repr:\r\n",
    "            self.graph_repr.append(node)\r\n",
    "        else:\r\n",
    "            print(\"Node already present in graph!\")\r\n",
    "            \r\n",
    "    def add_edge(self, node1, node2):\r\n",
    "        \r\n",
    "        if node1 in self.graph_repr and node2 in self.graph_repr:\r\n",
    "            if self.directional is True:\r\n",
    "                if node2 not in node1.get_neighbors:\r\n",
    "                    node1.add_neighbor(node2)\r\n",
    "                else:\r\n",
    "                    print(\"Second node already present in node!\")\r\n",
    "            else:\r\n",
    "                if node1 not in node2.get_neighbors and node2 not in node1.get_neighbors:\r\n",
    "                    node1.add_neighbor(node2)\r\n",
    "                    node2.add_neighbor(node1) \r\n",
    "                else:\r\n",
    "                    print(\"Nodes already connected by an edge!\")    \r\n",
    "        else:\r\n",
    "            print(\"A node is not present in graph!\")\r\n",
    "            \r\n",
    "    def clear_edges(self):\r\n",
    "\r\n",
    "        for item in self.graph_repr:\r\n",
    "            item.clear_neighbors()\r\n",
    "            \r\n",
    "    def clear_graph(self):\r\n",
    "        self.graph_repr.clear()"
   ]
  },
  {
   "cell_type": "code",
   "execution_count": null,
   "metadata": {},
   "outputs": [],
   "source": [
    "class CriminalGroupDetection:\r\n",
    "    \r\n",
    "    def __init__(self, graph):\r\n",
    "        self.graph = graph\r\n",
    "        self.targets = {}\r\n",
    "    \r\n",
    "    def get_poi(self): # get persons of interest\r\n",
    "        for person in self.graph.get_nodes():\r\n",
    "            if person.get_suspicion == \"suspicious\":\r\n",
    "                if person.get_record not in self.targets:\r\n",
    "                    self.targets[person.get_record] = []\r\n",
    "                    self.targets[person.get_record].append(person)\r\n",
    "                else:\r\n",
    "                    self.targets[person.get_record].append(person)\r\n",
    "                \r\n",
    "    def show_targets(self):\r\n",
    "        return self.targets"
   ]
  },
  {
   "cell_type": "code",
   "execution_count": null,
   "metadata": {},
   "outputs": [],
   "source": [
    "testing = Graph()"
   ]
  },
  {
   "cell_type": "code",
   "execution_count": null,
   "metadata": {},
   "outputs": [],
   "source": [
    "person16 = Person(\"person16\", \"suspicious\", 'homicide')\r\n",
    "person11 = Person(\"person11\", \"innocent\", None)\r\n",
    "person4 = Person(\"person4\", \"innocent\", None)\r\n",
    "person39 = Person(\"person39\", \"innocent\", None)\r\n",
    "person14 = Person(\"person14\", \"innocent\", None)\r\n",
    "person2 = Person(\"person2\", \"innocent\", None)\r\n",
    "person47 = Person(\"person47\", \"innocent\", None)\r\n",
    "person8 = Person(\"person8\", \"innocent\", None)\r\n",
    "person20 = Person(\"person20\", \"innocent\", None)\r\n",
    "person41 = Person(\"person41\", \"innocent\", None)\r\n",
    "person1 = Person(\"person1\", \"innocent\", None)\r\n",
    "person35 = Person(\"person35\", \"innocent\", None)\r\n",
    "person48 = Person(\"person48\", \"innocent\", None)\r\n",
    "person32 = Person(\"person32\", \"innocent\", None)\r\n",
    "person6 = Person(\"person6\", \"suspicious\",'theft')\r\n",
    "person21 = Person(\"person21\", \"innocent\", None)\r\n",
    "person5 = Person(\"person5\", \"suspicious\", \"arsony\")\r\n",
    "person3 = Person(\"person3\", \"innocent\", None)\r\n",
    "person10 = Person(\"person10\", \"suspicious\",'arsony')\r\n",
    "person23 = Person(\"person23\", \"innocent\", None)\r\n",
    "person37 = Person(\"person37\", \"innocent\", None)\r\n",
    "person45 = Person(\"person45\", \"innocent\", None)\r\n",
    "person23 = Person(\"person23\", \"innocent\", None)\r\n",
    "person51 = Person(\"person51\", \"suspicious\", 'drugs')\r\n",
    "person46 = Person(\"person46\", \"innocent\", None)\r\n",
    "person36 = Person(\"person36\", \"innocent\", None)\r\n",
    "person31 = Person(\"person31\", \"innocent\", None)\r\n",
    "person24 = Person(\"person24\", \"innocent\", None)\r\n",
    "person38 = Person(\"person38\", \"innocent\", None)\r\n",
    "person30 = Person(\"person30\", \"innocent\", None)\r\n",
    "person28 = Person(\"person28\", \"innocent\", None)\r\n",
    "person15 = Person(\"person15\", \"innocent\", None)\r\n",
    "person26 = Person(\"person26\", \"innocent\", None)\r\n",
    "person40 = Person(\"person40\", \"innocent\", None)\r\n",
    "person9 = Person(\"person9\", \"innocent\", None)\r\n",
    "person25 = Person(\"person25\", \"suspicious\", 'theft')\r\n",
    "person34 = Person(\"person34\", \"innocent\", None)\r\n",
    "person17 = Person(\"person17\",\"innocent\", None)\r\n",
    "person42 = Person(\"person42\", \"innocent\", None)\r\n",
    "person49 = Person(\"person49\", \"innocent\", None)\r\n",
    "person18 = Person(\"person18\", \"suspicious\", \"theft\")\r\n",
    "person29 = Person(\"person29\", \"innocent\", None)\r\n",
    "person44 = Person(\"person44\", \"suspicious\",'theft')"
   ]
  }
 ],
 "metadata": {
  "kernelspec": {
   "display_name": "Python 3.9.5  ('pyenv': venv)",
   "name": "pythonjvsc74a57bd0a12f289e5bf5a2c0be8199d533e96293c5e0b47e1c36a6c48d73904ef797f8f9"
  },
  "language_info": {
   "codemirror_mode": {
    "name": "ipython",
    "version": 3
   },
   "file_extension": ".py",
   "mimetype": "text/x-python",
   "name": "python",
   "nbconvert_exporter": "python",
   "pygments_lexer": "ipython3",
   "version": "3.9.5"
  },
  "metadata": {
   "interpreter": {
    "hash": "a12f289e5bf5a2c0be8199d533e96293c5e0b47e1c36a6c48d73904ef797f8f9"
   }
  },
  "orig_nbformat": 2
 },
 "nbformat": 4,
 "nbformat_minor": 2
}