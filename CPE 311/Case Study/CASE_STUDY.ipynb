{
  "nbformat": 4,
  "nbformat_minor": 0,
  "metadata": {
    "kernelspec": {
      "display_name": "Python 3",
      "language": "python",
      "name": "python3"
    },
    "language_info": {
      "codemirror_mode": {
        "name": "ipython",
        "version": 3
      },
      "file_extension": ".py",
      "mimetype": "text/x-python",
      "name": "python",
      "nbconvert_exporter": "python",
      "pygments_lexer": "ipython3",
      "version": "3.8.5"
    },
    "colab": {
      "name": "CASE STUDY.ipynb",
      "provenance": []
    }
  },
  "cells": [
    {
      "cell_type": "markdown",
      "metadata": {
        "id": "NCU3_YQjIIT2"
      },
      "source": [
        "# STEP 0 - INITIAL CODE SETUP"
      ]
    },
    {
      "cell_type": "code",
      "metadata": {
        "id": "u6t_DHon2crB"
      },
      "source": [
        "# suspicion - suspicious or innocent\n",
        "# record - theft, robbery, scam, murder, homicide etc..."
      ],
      "execution_count": null,
      "outputs": []
    },
    {
      "cell_type": "code",
      "metadata": {
        "id": "-3zxQwy06ez0"
      },
      "source": [
        "import networkx as nx\n",
        "import matplotlib.pyplot as plt\n",
        "import random"
      ],
      "execution_count": null,
      "outputs": []
    },
    {
      "cell_type": "code",
      "metadata": {
        "id": "H-QYzgry2crH"
      },
      "source": [
        "# Node\n",
        "class Person:\n",
        "    \n",
        "    def __init__(self, name, suspicion, record):\n",
        "        self.neighbors = [] # adjacency list\n",
        "        self.name = name \n",
        "        self.suspicion = suspicion\n",
        "        self.record = record\n",
        "    \n",
        "    def get_neighbors(self):\n",
        "        return self.neighbors\n",
        "    \n",
        "    def get_name(self):\n",
        "        return self.name\n",
        "    \n",
        "    def get_suspicion(self):\n",
        "        return self.suspicion\n",
        "    \n",
        "    def get_record(self): \n",
        "        return self.record\n",
        "    \n",
        "    def add_neighbor(self, person):\n",
        "        self.neighbors.append(person)\n",
        "    \n",
        "    def clear_neighbors(self):\n",
        "        self.neighbors.clear()\n",
        "    \n",
        "    def __str__(self):\n",
        "        return f\"{self.name}: {self.neighbors}\"\n",
        "    \n",
        "    def __repr__(self):\n",
        "        return self.name"
      ],
      "execution_count": null,
      "outputs": []
    },
    {
      "cell_type": "code",
      "metadata": {
        "id": "sqVxw-qt2crI"
      },
      "source": [
        "class Graph:\n",
        "    \n",
        "    def __init__(self, graph_repr=None, directional=False):\n",
        "        if graph_repr is None:\n",
        "            graph_repr = []\n",
        "        self.graph_repr = graph_repr\n",
        "        self.graph_graphical = []\n",
        "        self.directional = directional\n",
        "        \n",
        "    def show_graph(self, graphical=False):\n",
        "        if not graphical:\n",
        "            if self.graph_repr:\n",
        "                for node in self.graph_repr:\n",
        "                    print(node)\n",
        "            else:\n",
        "                print(\"Nothing in graph!\")\n",
        "        else:\n",
        "            graphical = nx.Graph()\n",
        "            graphical.add_edges_from(self.graph_graphical)\n",
        "            nx.draw_networkx(graphical)\n",
        "            plt.show()\n",
        "    \n",
        "    def get_nodes(self):\n",
        "        return self.graph_repr\n",
        "            \n",
        "    def add_node(self, node):\n",
        "        if node not in self.graph_repr:\n",
        "            self.graph_repr.append(node)\n",
        "        else:\n",
        "            print(\"Node already present in graph!\")\n",
        "            \n",
        "    def add_edge(self, node1, node2):\n",
        "        if node1 in self.graph_repr and node2 in self.graph_repr:\n",
        "            node1_repr = node1.name.split(\"person\")[-1]\n",
        "            node2_repr = node2.name.split(\"person\")[-1]\n",
        "            if self.directional is True:\n",
        "                if node2 not in node1.get_neighbors():\n",
        "                    node1.add_neighbor(node2)\n",
        "                    self.graph_graphical.append([node1_repr, node2_repr])\n",
        "                else:\n",
        "                    print(\"Second node already present in node!\")\n",
        "            else:\n",
        "                if node1 not in node2.get_neighbors() and \\\n",
        "                   node2 not in node1.get_neighbors():\n",
        "                    node1.add_neighbor(node2)\n",
        "                    node2.add_neighbor(node1)\n",
        "                    self.graph_graphical.append([node1_repr, node2_repr]) \n",
        "                else:\n",
        "                    print(\"Nodes already connected by an edge!\")    \n",
        "        else:\n",
        "            print(\"A node is not present in graph!\")\n",
        "    \n",
        "    def add_edges(self, node, edge_list):\n",
        "        for neighbor in edge_list:\n",
        "            self.add_edge(node, neighbor)\n",
        "            \n",
        "    def clear_edges(self):\n",
        "        for item in self.graph_repr:\n",
        "            item.clear_neighbors()\n",
        "            \n",
        "    def clear_graph(self):\n",
        "        self.graph_repr.clear()"
      ],
      "execution_count": null,
      "outputs": []
    },
    {
      "cell_type": "code",
      "metadata": {
        "id": "Gheq5jhM2crJ"
      },
      "source": [
        "class CriminalGroupDetection:\n",
        "    \n",
        "    def __init__(self, graph):\n",
        "        self.graph = graph\n",
        "        self.targets = {}\n",
        "        self._get_poi()\n",
        "    \n",
        "    def _get_poi(self): # get persons of interest\n",
        "        for person in self.graph.get_nodes():\n",
        "            if person.get_suspicion == \"suspicious\":\n",
        "                if person.get_record not in self.targets:\n",
        "                    self.targets[person.get_record] = []\n",
        "                    self.targets[person.get_record].append(person)\n",
        "                else:\n",
        "                    self.targets[person.get_record].append(person)\n",
        "    \n",
        "    def breadth_first_search(self, node):\n",
        "        visited = [node]\n",
        "        queue = [node]\n",
        "        while queue:\n",
        "            current_node = queue.pop(0)\n",
        "            for neighbor in current_node.get_neighbors():\n",
        "                if neighbor not in visited:\n",
        "                    visited.append(neighbor)\n",
        "                    queue.append(neighbor)\n",
        "        return visited\n",
        "\n",
        "    def determine_connection(self, node, target_level):\n",
        "        last_node = node.get_neighbors()[-1]\n",
        "        current_level = 1\n",
        "        visited  = [node]\n",
        "        queue = [node]\n",
        "        while queue:\n",
        "            current_node = queue.pop(0)\n",
        "            for neighbor in current_node.get_neighbors():\n",
        "                if current_level != target_level:\n",
        "                    if neighbor != last_node:\n",
        "                        if neighbor not in visited:\n",
        "                            visited.append(neighbor)\n",
        "                            queue.append(neighbor)\n",
        "                    else:\n",
        "                        current_level += 1\n",
        "                        last_node = neighbor.get_neighbors()[-1]\n",
        "                        if neighbor not in visited:\n",
        "                            visited.append(neighbor)\n",
        "                            queue.append(neighbor)\n",
        "                else:\n",
        "                    if neighbor not in visited:\n",
        "                        visited.append(neighbor)\n",
        "        return visited\n",
        "\n",
        "    def show_targets(self):\n",
        "        return self.targets"
      ],
      "execution_count": null,
      "outputs": []
    },
    {
      "cell_type": "markdown",
      "metadata": {
        "id": "IL5JFQ549kSY"
      },
      "source": [
        "# TESTING"
      ]
    },
    {
      "cell_type": "code",
      "metadata": {
        "id": "rW8gnbTu9r0W"
      },
      "source": [
        "testing = Graph()"
      ],
      "execution_count": null,
      "outputs": []
    },
    {
      "cell_type": "code",
      "metadata": {
        "id": "DEB7DPbt90tq"
      },
      "source": [
        "person16 = Person(\"person16\", \"suspicious\", 'homicide')\n",
        "person11 = Person(\"person11\", \"innocent\", None)\n",
        "person4 = Person(\"person4\", \"innocent\", None)\n",
        "person39 = Person(\"person39\", \"innocent\", None)\n",
        "person14 = Person(\"person14\", \"innocent\", None)\n",
        "person2 = Person(\"person2\", \"innocent\", None)\n",
        "person47 = Person(\"person47\", \"innocent\", None)\n",
        "person8 = Person(\"person8\", \"innocent\", None)\n",
        "person20 = Person(\"person20\", \"innocent\", None)\n",
        "person41 = Person(\"person41\", \"innocent\", None)\n",
        "person1 = Person(\"person1\", \"innocent\", None)\n",
        "person35 = Person(\"person35\", \"innocent\", None)\n",
        "person48 = Person(\"person48\", \"innocent\", None)\n",
        "person32 = Person(\"person32\", \"innocent\", None)\n",
        "person6 = Person(\"person6\", \"suspicious\",'theft')\n",
        "person21 = Person(\"person21\", \"innocent\", None)\n",
        "person5 = Person(\"person5\", \"suspicious\", \"arsony\")\n",
        "person3 = Person(\"person3\", \"innocent\", None)\n",
        "person10 = Person(\"person10\", \"suspicious\",'arsony')\n",
        "person23 = Person(\"person23\", \"innocent\", None)\n",
        "person37 = Person(\"person37\", \"innocent\", None)\n",
        "person45 = Person(\"person45\", \"innocent\", None)\n",
        "person23 = Person(\"person23\", \"innocent\", None)\n",
        "person51 = Person(\"person51\", \"suspicious\", 'drugs')\n",
        "person46 = Person(\"person46\", \"innocent\", None)\n",
        "person36 = Person(\"person36\", \"innocent\", None)\n",
        "person31 = Person(\"person31\", \"innocent\", None)\n",
        "person24 = Person(\"person24\", \"innocent\", None)\n",
        "person38 = Person(\"person38\", \"innocent\", None)\n",
        "person30 = Person(\"person30\", \"innocent\", None)\n",
        "person28 = Person(\"person28\", \"innocent\", None)\n",
        "person15 = Person(\"person15\", \"innocent\", None)\n",
        "person26 = Person(\"person26\", \"innocent\", None)\n",
        "person40 = Person(\"person40\", \"innocent\", None)\n",
        "person9 = Person(\"person9\", \"innocent\", None)\n",
        "person25 = Person(\"person25\", \"suspicious\", 'theft')\n",
        "person34 = Person(\"person34\", \"innocent\", None)\n",
        "person17 = Person(\"person17\",\"innocent\", None)\n",
        "person42 = Person(\"person42\", \"innocent\", None)\n",
        "person49 = Person(\"person49\", \"innocent\", None)\n",
        "person18 = Person(\"person18\", \"suspicious\", \"theft\")\n",
        "person29 = Person(\"person29\", \"innocent\", None)\n",
        "person44 = Person(\"person44\", \"suspicious\",'theft')"
      ],
      "execution_count": null,
      "outputs": []
    },
    {
      "cell_type": "code",
      "metadata": {
        "id": "GEMuep-m904B",
        "colab": {
          "base_uri": "https://localhost:8080/"
        },
        "outputId": "b4a0def0-9d0f-4c8b-9cc8-37a63a20277d"
      },
      "source": [
        "testing.add_node(person16)\n",
        "testing.add_node(person11)\n",
        "testing.add_node(person4)\n",
        "testing.add_node(person39)\n",
        "\n",
        "testing.add_node(person14)\n",
        "testing.add_node(person2)\n",
        "testing.add_node(person47)\n",
        "testing.add_node(person8)\n",
        "\n",
        "testing.add_node(person20)\n",
        "testing.add_node(person41)\n",
        "testing.add_node(person1)\n",
        "testing.add_node(person35)\n",
        "\n",
        "testing.add_node(person48)\n",
        "testing.add_node(person32)\n",
        "testing.add_node(person6)\n",
        "testing.add_node(person21)\n",
        "\n",
        "testing.add_node(person5)\n",
        "testing.add_node(person3)\n",
        "testing.add_node(person10)\n",
        "testing.add_node(person23)\n",
        "\n",
        "testing.add_node(person37)\n",
        "testing.add_node(person45)\n",
        "testing.add_node(person23)\n",
        "testing.add_node(person51)\n",
        "\n",
        "testing.add_node(person46)\n",
        "testing.add_node(person36)\n",
        "testing.add_node(person31)\n",
        "testing.add_node(person24)\n",
        "\n",
        "testing.add_node(person38)\n",
        "testing.add_node(person30)\n",
        "testing.add_node(person28)\n",
        "testing.add_node(person15)\n",
        "\n",
        "testing.add_node(person26)\n",
        "testing.add_node(person40)\n",
        "testing.add_node(person9)\n",
        "testing.add_node(person25)\n",
        "\n",
        "testing.add_node(person34)\n",
        "testing.add_node(person17)\n",
        "testing.add_node(person42)\n",
        "testing.add_node(person49)\n",
        "\n",
        "testing.add_node(person18)\n",
        "testing.add_node(person29)\n",
        "testing.add_node(person44)\n",
        "testing.show_graph()"
      ],
      "execution_count": null,
      "outputs": [
        {
          "output_type": "stream",
          "text": [
            "Node already present in graph!\n",
            "person16: []\n",
            "person11: []\n",
            "person4: []\n",
            "person39: []\n",
            "person14: []\n",
            "person2: []\n",
            "person47: []\n",
            "person8: []\n",
            "person20: []\n",
            "person41: []\n",
            "person1: []\n",
            "person35: []\n",
            "person48: []\n",
            "person32: []\n",
            "person6: []\n",
            "person21: []\n",
            "person5: []\n",
            "person3: []\n",
            "person10: []\n",
            "person23: []\n",
            "person37: []\n",
            "person45: []\n",
            "person51: []\n",
            "person46: []\n",
            "person36: []\n",
            "person31: []\n",
            "person24: []\n",
            "person38: []\n",
            "person30: []\n",
            "person28: []\n",
            "person15: []\n",
            "person26: []\n",
            "person40: []\n",
            "person9: []\n",
            "person25: []\n",
            "person34: []\n",
            "person17: []\n",
            "person42: []\n",
            "person49: []\n",
            "person18: []\n",
            "person29: []\n",
            "person44: []\n"
          ],
          "name": "stdout"
        }
      ]
    },
    {
      "cell_type": "code",
      "metadata": {
        "colab": {
          "base_uri": "https://localhost:8080/"
        },
        "id": "rOq-so7UX8YH",
        "outputId": "c229c7cd-ec53-429f-f8a4-5fc6affd9b91"
      },
      "source": [
        "testing.add_edge(person16, person4)\n",
        "testing.add_edge(person11, person4)\n",
        "testing.add_edge(person4, person2)\n",
        "testing.add_edge(person2, person39)\n",
        "testing.add_edge(person2, person14)\n",
        "testing.add_edge(person2, person47)\n",
        "testing.add_edge(person2, person8)\n",
        "testing.add_edge(person2, person1)\n",
        "testing.add_edge(person8, person20)\n",
        "testing.add_edge(person8, person1)\n",
        "testing.add_edge(person1, person35)\n",
        "testing.add_edge(person1, person41)\n",
        "testing.add_edge(person1, person32)\n",
        "testing.add_edge(person1, person48)\n",
        "testing.add_edge(person1, person6)\n",
        "testing.add_edge(person1, person25)\n",
        "testing.add_edge(person1, person26)\n",
        "testing.add_edge(person1, person30)\n",
        "testing.add_edge(person32, person21)\n",
        "testing.add_edge(person6, person31)\n",
        "testing.add_edge(person6, person30)\n",
        "testing.add_edge(person30, person15)\n",
        "testing.add_edge(person30, person24)\n",
        "testing.add_edge(person15, person28)\n",
        "testing.add_edge(person28, person38)\n",
        "testing.add_edge(person15, person9)\n",
        "testing.add_edge(person9, person34)\n",
        "testing.add_edge(person9, person40)\n",
        "testing.add_edge(person34, person25)\n",
        "testing.add_edge(person34, person49)\n",
        "testing.add_edge(person34, person18)\n",
        "testing.add_edge(person17, person42)\n",
        "testing.add_edge(person17, person18)\n",
        "testing.add_edge(person18, person29)\n",
        "testing.add_edge(person29, person44)\n",
        "testing.add_edge(person31, person36)\n",
        "testing.add_edge(person36, person46)\n",
        "testing.add_edge(person46, person51)\n",
        "testing.add_edge(person51, person3)\n",
        "testing.add_edge(person3, person23)\n",
        "testing.add_edge(person3, person21)\n",
        "testing.add_edge(person21, person5)\n",
        "testing.add_edge(person5, person10)\n",
        "testing.add_edge(person10, person37)\n",
        "testing.add_edge(person10, person45)\n",
        "\n",
        "testing.show_graph()"
      ],
      "execution_count": null,
      "outputs": [
        {
          "output_type": "stream",
          "text": [
            "person16: [person4]\n",
            "person11: [person4]\n",
            "person4: [person16, person11, person2]\n",
            "person39: [person2]\n",
            "person14: [person2]\n",
            "person2: [person4, person39, person14, person47, person8, person1]\n",
            "person47: [person2]\n",
            "person8: [person2, person20, person1]\n",
            "person20: [person8]\n",
            "person41: [person1]\n",
            "person1: [person2, person8, person35, person41, person32, person48, person6, person25, person26, person30]\n",
            "person35: [person1]\n",
            "person48: [person1]\n",
            "person32: [person1, person21]\n",
            "person6: [person1, person31, person30]\n",
            "person21: [person32, person3, person5]\n",
            "person5: [person21, person10]\n",
            "person3: [person51, person23, person21]\n",
            "person10: [person5, person37, person45]\n",
            "person23: [person3]\n",
            "person37: [person10]\n",
            "person45: [person10]\n",
            "person51: [person46, person3]\n",
            "person46: [person36, person51]\n",
            "person36: [person31, person46]\n",
            "person31: [person6, person36]\n",
            "person24: [person30]\n",
            "person38: [person28]\n",
            "person30: [person1, person6, person15, person24]\n",
            "person28: [person15, person38]\n",
            "person15: [person30, person28, person9]\n",
            "person26: [person1]\n",
            "person40: [person9]\n",
            "person9: [person15, person34, person40]\n",
            "person25: [person1, person34]\n",
            "person34: [person9, person25, person49, person18]\n",
            "person17: [person42, person18]\n",
            "person42: [person17]\n",
            "person49: [person34]\n",
            "person18: [person34, person17, person29]\n",
            "person29: [person18, person44]\n",
            "person44: [person29]\n"
          ],
          "name": "stdout"
        }
      ]
    },
    {
      "cell_type": "code",
      "metadata": {
        "colab": {
          "base_uri": "https://localhost:8080/"
        },
        "id": "UhDIQdCzYJsw",
        "outputId": "c9b831a0-c68b-4067-a40f-ed5a432317f7"
      },
      "source": [
        "testing.show_graph(graphical=True)"
      ],
      "execution_count": null,
      "outputs": [
        {
          "output_type": "display_data",
          "data": {
            "image/png": "[encoded data removed]",
            "text/plain": [
              "<Figure size 432x288 with 1 Axes>"
            ]
          },
          "metadata": {
            "tags": []
          }
        }
      ]
    },
    {
      "cell_type": "markdown",
      "metadata": {
        "id": "WRmfatvvIlUw"
      },
      "source": [
        "# STEP 1 - GRAPH GENERATION\n",
        "\n",
        "---\n",
        "\n"
      ]
    },
    {
      "cell_type": "code",
      "metadata": {
        "id": "z6tFKMpTwXts",
        "colab": {
          "base_uri": "https://localhost:8080/"
        },
        "outputId": "43f5d43d-bdc7-483f-ab1b-eefdf97b7d38"
      },
      "source": [
        "person51.get_neighbors()"
      ],
      "execution_count": null,
      "outputs": [
        {
          "output_type": "execute_result",
          "data": {
            "text/plain": [
              "[person46, person3]"
            ]
          },
          "metadata": {
            "tags": []
          },
          "execution_count": 60
        }
      ]
    },
    {
      "cell_type": "code",
      "metadata": {
        "id": "JY05hSBmwdq1"
      },
      "source": [
        "cubao = CriminalGroupDetection(testing)"
      ],
      "execution_count": null,
      "outputs": []
    },
    {
      "cell_type": "code",
      "metadata": {
        "colab": {
          "base_uri": "https://localhost:8080/"
        },
        "id": "ZIytGMbkd-R5",
        "outputId": "033a5761-5d66-419c-9d8c-7efbeaa7f88d"
      },
      "source": [
        "cubao.determine_connections(person49, 2)"
      ],
      "execution_count": null,
      "outputs": [
        {
          "output_type": "execute_result",
          "data": {
            "text/plain": [
              "[person49, person34, person9, person25, person18]"
            ]
          },
          "metadata": {
            "tags": []
          },
          "execution_count": 73
        }
      ]
    }
  ]
}