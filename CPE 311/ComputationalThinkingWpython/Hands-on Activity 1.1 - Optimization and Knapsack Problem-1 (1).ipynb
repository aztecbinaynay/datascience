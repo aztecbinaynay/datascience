{
 "cells": [
  {
   "cell_type": "markdown",
   "metadata": {},
   "source": [
    "# Hands-on Activity 1.1 | Optimization and Knapsack Problem"
   ]
  },
  {
   "cell_type": "markdown",
   "metadata": {},
   "source": [
    "#### Objective(s):\n",
    "\n",
    "This activity aims to demonstrate how to apply  greedy and brute force algorithms to solve optimization problems"
   ]
  },
  {
   "cell_type": "markdown",
   "metadata": {},
   "source": [
    "#### Intended Learning Outcomes (ILOs):\n",
    "* Demonstrate how to solve knapsacks problems using greedy algorithm\n",
    "* Demonstrate how to  solve knapsacks problems using brute force algorithm\n"
   ]
  },
  {
   "cell_type": "markdown",
   "metadata": {},
   "source": [
    "#### Resources:\n",
    "* Jupyter Notebook\n"
   ]
  },
  {
   "cell_type": "markdown",
   "metadata": {},
   "source": [
    "#### Procedures:"
   ]
  },
  {
   "cell_type": "markdown",
   "metadata": {},
   "source": [
    "1. Create a Food class that defines the following:\n",
    "* name of the food\n",
    "* value of the food\n",
    "* calories of the food\n",
    "\n",
    "2. Create the following methods inside the Food class:\n",
    "* A method that returns the value of the food\n",
    "* A method that returns the cost of the food\n",
    "* A method that calculates the density of the food (Value / Cost)\n",
    "* A method that returns a string to display the name, value and calories of the food"
   ]
  },
  {
   "cell_type": "code",
   "execution_count": 37,
   "metadata": {},
   "outputs": [],
   "source": [
    "class Food(object):    \n",
    "    def __init__(self, n, v, w):        \n",
    "        self.name = n        \n",
    "        self.value = v       \n",
    "        self.calories = w    \n",
    "    def getValue(self):        \n",
    "        return self.value    \n",
    "    def getCost(self):        \n",
    "        return self.calories    \n",
    "    def density(self):        \n",
    "        return self.getValue()/self.getCost()    \n",
    "    def __str__(self):        \n",
    "        return self.name + ': <' + str(self.value)+ ', ' + str(self.calories) + '>'"
   ]
  },
  {
   "cell_type": "markdown",
   "metadata": {},
   "source": [
    "3. Create a buildMenu method that builds the name, value and calories of the food\n"
   ]
  },
  {
   "cell_type": "code",
   "execution_count": 39,
   "metadata": {},
   "outputs": [],
   "source": [
    "def buildMenu(names, values, calories):    \n",
    "    menu = []    \n",
    "    for i in range(len(values)):        \n",
    "        menu.append(Food(names[i], values[i],calories[i]))    \n",
    "    return menu"
   ]
  },
  {
   "cell_type": "markdown",
   "metadata": {},
   "source": [
    "4. Create a method greedy to return total value and cost of added food based on the desired maximum cost"
   ]
  },
  {
   "cell_type": "code",
   "execution_count": 27,
   "metadata": {},
   "outputs": [],
   "source": [
    "def greedy(items, maxCost, keyFunction):  \n",
    "    \"\"\"Assumes items a list, maxCost >= 0,         keyFunction maps elements of items to numbers\"\"\"    \n",
    "    itemsCopy = sorted(items, key = keyFunction,                 \n",
    "                       reverse = True)    \n",
    "    result = []    \n",
    "    totalValue, totalCost = 0.0, 0.0    \n",
    "    for i in range(len(itemsCopy)):        \n",
    "        if (totalCost+itemsCopy[i].getCost()) <= maxCost:            \n",
    "            result.append(itemsCopy[i])            \n",
    "            totalCost += itemsCopy[i].getCost()            \n",
    "            totalValue += itemsCopy[i].getValue()    \n",
    "    return (result, totalValue)"
   ]
  },
  {
   "cell_type": "markdown",
   "metadata": {},
   "source": [
    "5. Create a testGreedy method to test the greedy method"
   ]
  },
  {
   "cell_type": "code",
   "execution_count": 28,
   "metadata": {},
   "outputs": [],
   "source": [
    "def testGreedy(items, constraint, keyFunction):    \n",
    "    taken, val = greedy(items, constraint, keyFunction)    \n",
    "    print('Total value of items taken =', val)    \n",
    "    for item in taken:        \n",
    "        print('   ', item)"
   ]
  },
  {
   "cell_type": "code",
   "execution_count": 29,
   "metadata": {},
   "outputs": [],
   "source": [
    "def testGreedys(foods, maxUnits):    \n",
    "    print('Use greedy by value to allocate', maxUnits,          'calories')    \n",
    "    testGreedy(foods, maxUnits, Food.getValue)    \n",
    "    print('\\nUse greedy by cost to allocate', maxUnits,          'calories')   \n",
    "    testGreedy(foods, maxUnits, lambda x: 1/Food.getCost(x))    \n",
    "    print('\\nUse greedy by density to allocate', maxUnits,          'calories')    \n",
    "    testGreedy(foods, maxUnits, Food.density)"
   ]
  },
  {
   "cell_type": "markdown",
   "metadata": {},
   "source": [
    "6. Create arrays of food name, values and calories\n",
    "7. Call the buildMenu to create menu for food\n",
    "8. Use testGreedys method to pick food according to the desired calories "
   ]
  },
  {
   "cell_type": "code",
   "execution_count": 30,
   "metadata": {},
   "outputs": [
    {
     "output_type": "stream",
     "name": "stdout",
     "text": [
      "Use greedy by value to allocate 2000 calories\nTotal value of items taken = 603.0\n    burger: <100, 354>\n    pizza: <95, 258>\n    beer: <90, 154>\n    fries: <90, 365>\n    wine: <89, 123>\n    cola: <79, 150>\n    apple: <50, 95>\n    donut: <10, 195>\n\nUse greedy by cost to allocate 2000 calories\nTotal value of items taken = 603.0\n    apple: <50, 95>\n    wine: <89, 123>\n    cola: <79, 150>\n    beer: <90, 154>\n    donut: <10, 195>\n    pizza: <95, 258>\n    burger: <100, 354>\n    fries: <90, 365>\n\nUse greedy by density to allocate 2000 calories\nTotal value of items taken = 603.0\n    wine: <89, 123>\n    beer: <90, 154>\n    cola: <79, 150>\n    apple: <50, 95>\n    pizza: <95, 258>\n    burger: <100, 354>\n    fries: <90, 365>\n    donut: <10, 195>\n"
     ]
    }
   ],
   "source": [
    "names = ['wine', 'beer', 'pizza', 'burger', 'fries','cola', 'apple', 'donut', 'cake']\n",
    "values = [89,90,95,100,90,79,50,10]\n",
    "calories = [123,154,258,354,365,150,95,195]\n",
    "foods = buildMenu(names, values, calories)\n",
    "testGreedys(foods, 2000)"
   ]
  },
  {
   "cell_type": "markdown",
   "metadata": {},
   "source": [
    "Task 1: Change the maxUnits to 100"
   ]
  },
  {
   "cell_type": "code",
   "execution_count": 31,
   "metadata": {},
   "outputs": [
    {
     "output_type": "stream",
     "name": "stdout",
     "text": [
      "Use greedy by value to allocate 100 calories\nTotal value of items taken = 50.0\n    apple: <50, 95>\n\nUse greedy by cost to allocate 100 calories\nTotal value of items taken = 50.0\n    apple: <50, 95>\n\nUse greedy by density to allocate 100 calories\nTotal value of items taken = 50.0\n    apple: <50, 95>\n"
     ]
    }
   ],
   "source": [
    "testGreedys(foods, 100)"
   ]
  },
  {
   "cell_type": "markdown",
   "metadata": {},
   "source": [
    "Task 2: Modify codes to add additional weight (criterion) to select food items."
   ]
  },
  {
   "cell_type": "code",
   "execution_count": 32,
   "metadata": {},
   "outputs": [],
   "source": [
    "class Food(object):    \n",
    "    def __init__(self, n, v, c, w ):        \n",
    "        self.name = n        \n",
    "        self.value = v       \n",
    "        self.calories = c  \n",
    "        self.weight = w \n",
    "    def getValue(self):        \n",
    "        return self.value\n",
    "    def getWeight(self):        \n",
    "        return self.weight \n",
    "    def getCost(self):        \n",
    "        return self.calories    \n",
    "    def density(self):        \n",
    "        return self.getValue()/self.getCost()    \n",
    "    def __str__(self):        \n",
    "        return self.name + ': <' + str(self.value)+ ', ' + str(self.calories)+ ', ' + str(self.weight) + '>'\n",
    "\n",
    "def buildMenu(names, values, calories, weight):    \n",
    "    menu = []    \n",
    "    for i in range(len(values)):        \n",
    "        menu.append(Food(names[i], values[i],calories[i], weight[i]))    \n",
    "    return menu\n",
    "\n",
    "def greedy(items, maxCost, keyFunction):  \n",
    "    \"\"\"Assumes items a list, maxCost >= 0,         keyFunction maps elements of items to numbers\"\"\"    \n",
    "    itemsCopy = sorted(items, key = keyFunction,                 \n",
    "                       reverse = True)    \n",
    "    result = []    \n",
    "    totalValue, totalCost, totalWeight = 0.0, 0.0, 0.0    \n",
    "    for i in range(len(itemsCopy)):        \n",
    "        if (totalCost+itemsCopy[i].getCost()) <= maxCost:            \n",
    "            result.append(itemsCopy[i])            \n",
    "            totalCost += itemsCopy[i].getCost()            \n",
    "            totalValue += itemsCopy[i].getValue()\n",
    "            totalWeight += itemsCopy[i].getWeight()\n",
    "    return (result, totalValue, totalWeight)\n",
    "\n",
    "def testGreedy(items, constraint, keyFunction,x=0):    \n",
    "    taken, val, we = greedy(items, constraint, keyFunction)   \n",
    "    if x == 1:\n",
    "        print('Total value of items taken =', val,'\\nTotal Weight of items taken', we)  \n",
    "    else:\n",
    "        print('Total value of items taken =', val)\n",
    "    for item in taken:        \n",
    "        print('   ', item)\n",
    "        \n",
    "def testGreedys(foods, maxUnits):    \n",
    "    print('Use greedy by value to allocate', maxUnits,          'calories')    \n",
    "    testGreedy(foods, maxUnits, Food.getValue)    \n",
    "    print('\\nUse greedy by cost to allocate', maxUnits,          'calories')   \n",
    "    testGreedy(foods, maxUnits, lambda x: 1/Food.getCost(x)) \n",
    "    print('Use greedy by weight to allocate', maxUnits,          'calories')    \n",
    "    testGreedy(foods, maxUnits, Food.getWeight, 1)\n",
    "    print('\\nUse greedy by density to allocate', maxUnits,          'calories')    \n",
    "    testGreedy(foods, maxUnits, Food.density)\n",
    "\n",
    "weight = [10,5,20,5,2,5,1,3] #weight is in kilograms\n",
    "foods = buildMenu(names, values, calories, weight)\n"
   ]
  },
  {
   "cell_type": "markdown",
   "metadata": {},
   "source": [
    "Task 3: Test your modified code to test the greedy algorithm to select food items with your additional weight."
   ]
  },
  {
   "cell_type": "code",
   "execution_count": 33,
   "metadata": {},
   "outputs": [
    {
     "output_type": "stream",
     "name": "stdout",
     "text": [
      "Use greedy by value to allocate 500 calories\nTotal value of items taken = 189.0\n    burger: <100, 354, 5>\n    wine: <89, 123, 10>\n\nUse greedy by cost to allocate 500 calories\nTotal value of items taken = 218.0\n    apple: <50, 95, 1>\n    wine: <89, 123, 10>\n    cola: <79, 150, 5>\nUse greedy by weight to allocate 500 calories\nTotal value of items taken = 234.0 \nTotal Weight of items taken 31.0\n    pizza: <95, 258, 20>\n    wine: <89, 123, 10>\n    apple: <50, 95, 1>\n\nUse greedy by density to allocate 500 calories\nTotal value of items taken = 258.0\n    wine: <89, 123, 10>\n    beer: <90, 154, 5>\n    cola: <79, 150, 5>\n"
     ]
    }
   ],
   "source": [
    "testGreedys(foods, 500)"
   ]
  },
  {
   "cell_type": "markdown",
   "metadata": {},
   "source": [
    "9. Create method to use  Bruteforce algorithm instead of greedy algorithm"
   ]
  },
  {
   "cell_type": "code",
   "execution_count": 34,
   "metadata": {},
   "outputs": [],
   "source": [
    "def maxVal(toConsider, avail):\n",
    "    \"\"\"Assumes toConsider a list of items, avail a weight\n",
    "       Returns a tuple of the total value of a solution to the\n",
    "         0/1 knapsack problem and the items of that solution\"\"\"\n",
    "    if toConsider == [] or avail == 0:\n",
    "        result = (0, ())\n",
    "    elif toConsider[0].getCost() > avail:\n",
    "        #Explore right branch only\n",
    "        result = maxVal(toConsider[1:], avail)\n",
    "    else:\n",
    "        nextItem = toConsider[0]\n",
    "        #Explore left branch\n",
    "        withVal, withToTake = maxVal(toConsider[1:],\n",
    "                                     avail - nextItem.getCost())\n",
    "        withVal += nextItem.getValue()\n",
    "        #Explore right branch\n",
    "        withoutVal, withoutToTake = maxVal(toConsider[1:], avail)\n",
    "        #Choose better branch\n",
    "        if withVal > withoutVal:\n",
    "            result = (withVal, withToTake + (nextItem,))\n",
    "        else:\n",
    "            result = (withoutVal, withoutToTake)\n",
    "    return result"
   ]
  },
  {
   "cell_type": "code",
   "execution_count": 35,
   "metadata": {},
   "outputs": [],
   "source": [
    "def testMaxVal(foods, maxUnits, printItems = True):\n",
    "    print('Use search tree to allocate', maxUnits,\n",
    "          'calories')\n",
    "    val, taken = maxVal(foods, maxUnits)\n",
    "    print('Total costs of foods taken =', val)\n",
    "    if printItems:\n",
    "        for item in taken:\n",
    "            print('   ', item)"
   ]
  },
  {
   "cell_type": "code",
   "execution_count": 40,
   "metadata": {},
   "outputs": [
    {
     "output_type": "stream",
     "name": "stdout",
     "text": [
      "Use search tree to allocate 2400 calories\nTotal costs of foods taken = 603\n    donut: <10, 195>\n    apple: <50, 95>\n    cola: <79, 150>\n    fries: <90, 365>\n    burger: <100, 354>\n    pizza: <95, 258>\n    beer: <90, 154>\n    wine: <89, 123>\n"
     ]
    }
   ],
   "source": [
    "names = ['wine', 'beer', 'pizza', 'burger', 'fries','cola', 'apple', 'donut', 'cake']\n",
    "values = [89,90,95,100,90,79,50,10]\n",
    "calories = [123,154,258,354,365,150,95,195]\n",
    "foods = buildMenu(names, values, calories)\n",
    "testMaxVal(foods, 2400)"
   ]
  },
  {
   "cell_type": "markdown",
   "metadata": {},
   "source": [
    "# Supplementary Activity:"
   ]
  },
  {
   "cell_type": "markdown",
   "metadata": {},
   "source": [
    "* Choose a real-world problem that solves knapsacks problem\n",
    "* Use the greedy and brute force algorithm to solve knapsacks problem\n"
   ]
  },
  {
   "source": [
    "1. Use the greedy algorithm to determine the number of music a user needs to upload to his phone depending on the amount of the  pre-defined conditions: size and music duration.  "
   ],
   "cell_type": "markdown",
   "metadata": {}
  },
  {
   "cell_type": "code",
   "execution_count": 41,
   "metadata": {},
   "outputs": [
    {
     "output_type": "stream",
     "name": "stdout",
     "text": [
      "Use greedy by duration to allocate 42.89 megabytes\nTotal value of items taken = 40.2\n    La Lune: <420, 15>\n    Say So: <360, 10>\n    Starships: <340, 9>\n    Kiss Me More: <190.54, 6.2>\n\nUse greedy by music size to allocate 42.89 megabytes\nTotal value of items taken = 41.65\n    La Lune: <420, 15>\n    Say So: <360, 10>\n    Starships: <340, 9>\n    Nocturne: <190.5, 7.65>\n\nUse greedy by density to allocate 42.89 megabytes\nTotal value of items taken = 38.39\n    Starships: <340, 9>\n    Say So: <360, 10>\n    Moonlight Sonata: <180, 5>\n    Pete Davidson: <160, 4.59>\n    Bad Idea: <120, 3.6>\n    Kiss Me More: <190.54, 6.2>\n"
     ]
    }
   ],
   "source": [
    "class Music(object):    \n",
    "    def __init__(self, n, s, d):        \n",
    "        self.name = n        \n",
    "        self.size = s      \n",
    "        self.duration = d  \n",
    "    def getSize(self):        \n",
    "        return self.size\n",
    "    def getDuration(self):        \n",
    "        return self.duration \n",
    "    def density(self):        \n",
    "        return self.getDuration()/self.getSize()    \n",
    "    def __str__(self):        \n",
    "        return self.name + ': <' + str(self.duration)+ ', ' + str(self.size) + '>'\n",
    "    \n",
    "def buildMenu(names, size, duration):    \n",
    "    menu = []    \n",
    "    for i in range(len(duration)):        \n",
    "        menu.append(Music(names[i], size[i], duration[i]))    \n",
    "    return menu\n",
    "\n",
    "def greedy(items, maxSize, keyFunction):  \n",
    "    \"\"\"Assumes items a list, maxCost >= 0,         keyFunction maps elements of items to numbers\"\"\"    \n",
    "    itemsCopy = sorted(items, key = keyFunction,                 \n",
    "                       reverse = True)    \n",
    "    result = []    \n",
    "    totalSize, totalDuration = 0.0, 0.0,    \n",
    "    for i in range(len(itemsCopy)):        \n",
    "        if (totalSize+itemsCopy[i].getSize()) <= maxSize:            \n",
    "            result.append(itemsCopy[i])            \n",
    "            totalSize += itemsCopy[i].getSize()            \n",
    "            totalDuration += itemsCopy[i].getDuration()\n",
    "    return (result, totalSize, totalDuration)\n",
    "\n",
    "def testGreedy(items, constraint, keyFunction):    \n",
    "    taken, val, we = greedy(items, constraint, keyFunction)   \n",
    "    print('Total value of items taken =', val)\n",
    "    for item in taken:        \n",
    "        print('   ', item)\n",
    "        \n",
    "def testGreedys(music, maxUnits):    \n",
    "    print('Use greedy by duration to allocate', maxUnits,          'megabytes')    \n",
    "    testGreedy(music, maxUnits, Music.getDuration)    \n",
    "    print('\\nUse greedy by music size to allocate', maxUnits,          'megabytes')   \n",
    "    testGreedy(music, maxUnits, Music.getSize) \n",
    "    print('\\nUse greedy by density to allocate', maxUnits,          'megabytes')    \n",
    "    testGreedy(music, maxUnits, Music.density)\n",
    "\n",
    "names = ['Say So', 'La Lune', 'Moonlight Sonata', 'Nocturne', 'Starships','Pete Davidson', 'Bad Idea', 'Kiss Me More', 'Save Your Tears']\n",
    "duration = [360,420,180,190.5,340,160,120,190.54] #in seconds\n",
    "size = [10,15,5,7.65,9,4.59,3.6,6.2] #in megabytes\n",
    "music = buildMenu(names, size, duration)\n",
    "testGreedys(music, 42.89)\n"
   ]
  },
  {
   "cell_type": "code",
   "execution_count": 42,
   "metadata": {},
   "outputs": [
    {
     "output_type": "stream",
     "name": "stdout",
     "text": [
      "Use greedy by duration to allocate 30.56 megabytes\nTotal value of items taken = 30.0\n    La Lune: <420, 15>\n    Say So: <360, 10>\n    Moonlight Sonata: <180, 5>\n\nUse greedy by music size to allocate 30.56 megabytes\nTotal value of items taken = 30.0\n    La Lune: <420, 15>\n    Say So: <360, 10>\n    Moonlight Sonata: <180, 5>\n\nUse greedy by density to allocate 30.56 megabytes\nTotal value of items taken = 28.59\n    Starships: <340, 9>\n    Say So: <360, 10>\n    Moonlight Sonata: <180, 5>\n    Pete Davidson: <160, 4.59>\n"
     ]
    }
   ],
   "source": [
    "testGreedys(music, 30.56)"
   ]
  },
  {
   "source": [
    "## Explanatiion:\n",
    "\n",
    "greedy algorithm checks firstly the most number of duration of music the user can get given the number of size (megabytes)as the constraint. Note that the number of songs does not necessarily have to be many as long as the duration of those songs combined are optimally high. The second run-through gives the user the list of songs whose combined size (in megabytes) is as close to the maxUnit (max size) that acts as the constraint. The maxUnit constraint of 30.56 MB, for example, would be used to firstly give the user the songs whose combined duration is optimally the highest possible value given that those songs' combined size does not exceed 30.56 MB. Here, those songs are \"La Lune\", \"Say So, and \"Moonlight Sonata\". Notice that the combine duration value of these songs is 960. This is correct since you can not add any more song here that will BOTH increase the combined duration and at the same time have the combined size be equal to or lesser than 30.56. The combined duration of these songs is the highest you are going to get without exceeding the maxUnit. In the 2nd run-through of the algorithm, the size itself is what we are trying to optimize, which means the program will output the songs whose combined size is as close to the maxUnit amount regardless of the number of songs or the combined duration of the songs"
   ],
   "cell_type": "markdown",
   "metadata": {}
  },
  {
   "source": [
    "2. Use the brute force algorithm to determine the number of music a user needs to upload to his phone depending on the amount of the  pre-defined conditions: size and music duration.  "
   ],
   "cell_type": "markdown",
   "metadata": {}
  },
  {
   "cell_type": "code",
   "execution_count": 43,
   "metadata": {},
   "outputs": [
    {
     "output_type": "stream",
     "name": "stdout",
     "text": [
      "Use search tree to allocate 42.58 megabytes\nTotal combined duration of music taken = 1421.04\n\nThe songs are:\n    Kiss Me More: <190.54, 6.2>\n    Pete Davidson: <160, 4.59>\n    Starships: <340, 9>\n    Nocturne: <190.5, 7.65>\n    Moonlight Sonata: <180, 5>\n    Say So: <360, 10>\n"
     ]
    }
   ],
   "source": [
    "def maxVal(musicList, maxSize):\n",
    "    \"\"\"Assumes toConsider a list of items, avail a weight\n",
    "       Returns a tuple of the total value of a solution to the\n",
    "         0/1 knapsack problem and the items of that solution\"\"\"\n",
    "    if musicList == [] or maxSize == 0:\n",
    "        result = (0, ())\n",
    "    elif musicList[0].getSize() > maxSize:\n",
    "        #Explore right branch only\n",
    "        result = maxVal(musicList[1:], maxSize)\n",
    "    else:\n",
    "        nextItem = musicList[0]\n",
    "        #Explore left branch\n",
    "        withVal, withToTake = maxVal(musicList[1:],\n",
    "                                     maxSize - nextItem.getSize())\n",
    "        withVal += nextItem.getDuration()\n",
    "        #Explore right branch\n",
    "        withoutVal, withoutToTake = maxVal(musicList[1:], maxSize)\n",
    "        #Choose better branch\n",
    "        if withVal > withoutVal:\n",
    "            result = (withVal, withToTake + (nextItem,))\n",
    "        else:\n",
    "            result = (withoutVal, withoutToTake)\n",
    "    return result\n",
    "\n",
    "def testMaxVal(music, maxUnits, printItems = True):\n",
    "    print('Use search tree to allocate', maxUnits,\n",
    "          'megabytes')\n",
    "    val, taken = maxVal(music, maxUnits)\n",
    "    print('Total combined duration of music taken =', val)\n",
    "    print('\\nThe songs are:')\n",
    "    if printItems:\n",
    "        for item in taken:\n",
    "            print('   ', item)\n",
    "        \n",
    "names = ['Say So', 'La Lune', 'Moonlight Sonata', 'Nocturne', 'Starships','Pete Davidson', 'Bad Idea', 'Kiss Me More', 'Save Your Tears']\n",
    "duration = [360,420,180,190.5,340,160,120,190.54] #in seconds\n",
    "size = [10,15,5,7.65,9,4.59,3.6,6.2] #in megabytes\n",
    "music = buildMenu(names, size, duration)\n",
    "testMaxVal(music, 42.58)"
   ]
  },
  {
   "cell_type": "markdown",
   "metadata": {},
   "source": [
    "## Conclusion:"
   ]
  },
  {
   "cell_type": "markdown",
   "metadata": {},
   "source": [
    "In conclusion, the greedy and brute force algorithms are considered to be useful implementations for solving optimization problems. Although they are useful, they are deemed to be inefficient when it comes to optimization problems where the combination of possible solutions exponentially gets larger as the number of possible inputs increase. The greedy algorithm does not does not always lead to an optimized solution since desicions that are made using this algorithm can not be reversed or reconsidered. In the knapsack problem, when we use the greedy algorithm, once the item has been put in the knapsack it is not removed. "
   ]
  },
  {
   "cell_type": "code",
   "execution_count": null,
   "metadata": {},
   "outputs": [],
   "source": []
  }
 ],
 "metadata": {
  "kernelspec": {
   "name": "python392jvsc74a57bd08432bf4ecb8928d64f270203b8f351837d7762493b2a0af9890ef9f49c0ffb02",
   "display_name": "Python 3.9.2 64-bit ('Python39')"
  },
  "language_info": {
   "codemirror_mode": {
    "name": "ipython",
    "version": 3
   },
   "file_extension": ".py",
   "mimetype": "text/x-python",
   "name": "python",
   "nbconvert_exporter": "python",
   "pygments_lexer": "ipython3",
   "version": "3.9.2"
  },
  "metadata": {
   "interpreter": {
    "hash": "8432bf4ecb8928d64f270203b8f351837d7762493b2a0af9890ef9f49c0ffb02"
   }
  }
 },
 "nbformat": 4,
 "nbformat_minor": 5
}