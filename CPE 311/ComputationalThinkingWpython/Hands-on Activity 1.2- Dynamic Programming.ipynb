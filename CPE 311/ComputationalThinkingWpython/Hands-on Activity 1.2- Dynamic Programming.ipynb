{
 "cells": [
  {
   "cell_type": "markdown",
   "id": "f1c6ec95",
   "metadata": {},
   "source": [
    "# Hands-on Activity 1.2 : Dynamic Programming"
   ]
  },
  {
   "cell_type": "markdown",
   "id": "56dacba1",
   "metadata": {},
   "source": [
    "#### Objective(s):\n",
    "\n",
    "This activity aims to demonstrate how to use dynamic programming to solve problems."
   ]
  },
  {
   "cell_type": "markdown",
   "id": "e51f84e3",
   "metadata": {},
   "source": [
    "#### Intended Learning Outcomes (ILOs):\n",
    "* Differentiate recursion method from dynamic programming to solve problems.\n",
    "* Demonstrate how to  solve real-world problems using dynamic programming\n"
   ]
  },
  {
   "cell_type": "markdown",
   "id": "39047b1a",
   "metadata": {},
   "source": [
    "#### Resources:\n",
    "* Jupyter Notebook"
   ]
  },
  {
   "cell_type": "markdown",
   "id": "cb5360c0",
   "metadata": {},
   "source": [
    "#### Procedures:"
   ]
  },
  {
   "cell_type": "markdown",
   "id": "206a914c",
   "metadata": {},
   "source": [
    "1. Create a code that demonstrate how to use recursion method to solve problem"
   ]
  },
  {
   "cell_type": "code",
   "execution_count": 1,
   "id": "2a33a5a6",
   "metadata": {},
   "outputs": [],
   "source": [
    "#Example Codes for Recursion\n",
    "import time\n",
    "import matplotlib.pyplot as plt\n",
    "\n",
    "def fib(n):\n",
    "  if n <= 0: # base case 1\n",
    "    return 0\n",
    "  if n <= 1: # base case 2\n",
    "    return 1\n",
    "  else: # recursive step\n",
    "    return fib(n-1) + fib(n-2)\n",
    "\n",
    "numbers = 20"
   ]
  },
  {
   "cell_type": "markdown",
   "id": "5744a876",
   "metadata": {},
   "source": [
    "2. Create a program codes that demonstrate how to use dynamic programming to solve the same problem "
   ]
  },
  {
   "cell_type": "code",
   "execution_count": 2,
   "id": "9428fa4c",
   "metadata": {},
   "outputs": [],
   "source": [
    "#Example Codes for Dynamic Programming\n",
    "import time\n",
    "import matplotlib.pyplot as plt\n",
    "\n",
    "calculated = {}\n",
    "\n",
    "def fib(n):\n",
    "  if n == 0: # base case 1\n",
    "    return 0\n",
    "  if n == 1: # base case 2\n",
    "    return 1\n",
    "  elif n in calculated:\n",
    "    return calculated[n]\n",
    "  else: # recursive step\n",
    "    calculated[n] = fib(n-1) + fib(n-2)\n",
    "    return calculated[n]\n",
    "\n",
    "showNumbers = False\n",
    "numbers = 20"
   ]
  },
  {
   "cell_type": "markdown",
   "id": "8e3f6572",
   "metadata": {},
   "source": [
    "##### Question: \n",
    "Explain the difference of using the recursion from dynamic programming using the given sample codes to solve the same problem"
   ]
  },
  {
   "cell_type": "markdown",
   "id": "b5a71b53",
   "metadata": {},
   "source": [
    "##### Answer: \n",
    "Recursion differs from dynamic programming as it doesn't utilize cache or 'saves' known value of functions in a dictionary unlike in dynamic programming. For example, when finding the fibonacci number of 6, the recurssion function looks for the fibonacci numbers that eventually looks like this (in order): 5, 4, 3, 2 ,1, 0, 1, 2, 1, 0, 3, 2, 1, 0, 1, 4, 3, 2, 1, 0, 1, 2, 1, 0. \n",
    "\n",
    "Dyanmic programming differs and is more efficient since it saves the fibonacci value of an nth term once its equivalent value of fib(n-1) + fib(n-2) has been found. For example, to find the fibonacci value of 6, the program has to to go through recurssion and find the fibonacci number of a certain nth term MULTIPLE times. Dynamic programming works here by saving the fibonacci value of 2, 3, 4, and 5. Doing so eliminates making the program execute recurssion AGAIN on any of these known Fibonacci numbers by simply referring to their known value in the dictionary. We are able to eliminate the program control to do recurssions/processes in nth terms that we have already done/encountered before. \n",
    "\n",
    "\n"
   ]
  },
  {
   "cell_type": "markdown",
   "id": "60074702",
   "metadata": {},
   "source": [
    "3. Create a sample program codes to simulate bottom-up dynamic programming"
   ]
  },
  {
   "cell_type": "code",
   "execution_count": 4,
   "id": "7e8bd922",
   "metadata": {
    "tags": []
   },
   "outputs": [
    {
     "output_type": "stream",
     "name": "stdout",
     "text": [
      "[0, 1, None, None, None, None, None]\n8\n"
     ]
    }
   ],
   "source": [
    "'''\n",
    "  This method as you can see does not use any recursion at all. Why? Even in the dynamic programming using recurssion + memoization, too many recursion calls can cause an error. The method below simply uses a table with predefined values in its 1st and 2nd index, which contain the values of the 1st and 2nd Fibonacci numbers. Using these two numbers, the user can determine the nth value of a fibonacci number simply by adding these two numbers and then adding the sum to the value in the previous index. Repeat the process until you get the value of the Fibonacci number you want.\n",
    "'''\n",
    "# Exaample Codes for Bottom-up Dynamic Programming\n",
    "def fib(n):\n",
    "  if n == 0:\n",
    "    return 0\n",
    "  if n == 1:\n",
    "    return 1\n",
    "  # table for tabulation\n",
    "  table = [None] * (n+1) \n",
    "  table[0] = 0        # base case 1, fib(0) = 0\n",
    "  table[1] = 1        # base case 2, fib(1) = 1\n",
    "  # filling up tabulation table starting from 2 and going upto n\n",
    "  for i in range(2,n+1):  \n",
    "    # we have result of i-1 and i-2 available because these had been evaluated already\n",
    "    table[i] = table[i-1] + table[i-2]  \n",
    "  # return the value of n in tabulation table\n",
    "  return table[n]    \n",
    "\n",
    "print(fib(6))\n"
   ]
  },
  {
   "cell_type": "markdown",
   "id": "e629eb89",
   "metadata": {},
   "source": [
    "4. Create a sample program codes that simulate tops-down dynamic programming"
   ]
  },
  {
   "cell_type": "code",
   "execution_count": 9,
   "id": "590dd882",
   "metadata": {},
   "outputs": [
    {
     "output_type": "stream",
     "name": "stdout",
     "text": [
      "354224848179261915075\n"
     ]
    }
   ],
   "source": [
    "#Example Codes for Tops-down Dynamic Programming\n",
    "memo = {} #dictionay for Memoization\n",
    "\n",
    "def fib(n):\n",
    "  if n == 0: # base case 1\n",
    "    return 0\n",
    "  if n == 1: # base case 2\n",
    "    return 1\n",
    "  elif n in memo: # Check if result for n has already been evaluated\n",
    "    return memo[n] # return the result if it is available\n",
    "  else: # otherwise recursive step\n",
    "    memo[n] = fib(n-2) + fib(n-1) # store the result of n in memoization dictionary\n",
    "    return memo[n] # return the value\n",
    "\n",
    "print (fib(100))"
   ]
  },
  {
   "cell_type": "markdown",
   "id": "c2e2434c",
   "metadata": {},
   "source": [
    "#### Question:\n",
    " Explain the difference between bottom-up from top-down dynamic programming using the given sample codes"
   ]
  },
  {
   "cell_type": "markdown",
   "id": "ac97e063",
   "metadata": {},
   "source": [
    "There are very huge difference between bottom-up and top-down dynamic programming as they are depicted in the code. Here are some of their major differences\n",
    "\n",
    "1. Bottom-up algorithm does not utilize memoization technique and therefore does not use dictionaries. top-bottom algorithm does use a dictionary to keep track of all the values for fibonacci number **n** that the program has discovered.\n",
    "\n",
    "2. Top-bottom algorithm struggles with producing values for fibonacci numbers that are really large, while bottom-top algorithm does not. This is mainly due to the fact that top-bottom algorithm uses recursion. Too many recursions can cause a recursion error.\n",
    "\n",
    "3. Bottom-top does not use any recurssion in its algorithm, therefore it will not experience any recursion error.\n",
    "\n",
    "4. Bottom-top utilizes tables (lists) as a means to find the Fibonacci number **n** that the user is looking for. The size of the table is already defined as size (n+1). \n",
    "\n",
    "5. Bottom-top approach can be visualized as a linear walkthrough in a list's elements as a for loop continously adds the Fibonacci value of all Fibonacci numbers leading to the Fibonacci number **n** to the list. Top-bottom approach can be visualized as a walkthrough in a binary tree where a parent node will represent the Fibonacci number and the Fibonacci value for that parent node will be equivalent to the Fiboncci value of that parent node's children who they themselves are Fibonacci numbers. The Fibonacci numbers 0 and 1 have a defined value that is set in the algorithm. If a value for a certain parent node (that is Fibonacci number itself) has been evaluated, the program control will no longer have to look for its value by evaluating its children nodes, thus saving time.\n",
    "\n",
    "\n"
   ]
  },
  {
   "cell_type": "markdown",
   "id": "f7a5bfbd",
   "metadata": {},
   "source": [
    "0/1 Knapsack Problem\n",
    "\n",
    "* Create three different techniques to solve knapsacks problem\n",
    "1. Recursion\n",
    "2. Dynamic Programming\n",
    "3. Memoization"
   ]
  },
  {
   "source": [
    "## Solving knapsack using recursion"
   ],
   "cell_type": "markdown",
   "metadata": {}
  },
  {
   "cell_type": "code",
   "execution_count": 10,
   "id": "f4ca6d8f",
   "metadata": {},
   "outputs": [
    {
     "output_type": "execute_result",
     "data": {
      "text/plain": [
       "220"
      ]
     },
     "metadata": {},
     "execution_count": 10
    }
   ],
   "source": [
    "# Example Codes using Recursion\n",
    "def knapSack(W, wt, val, n):\n",
    " \n",
    "    # Base Case -> no more items to sotre or no more capacity inside bag\n",
    "    if n == 0 or W == 0:\n",
    "        return 0\n",
    " \n",
    "    '''\n",
    "The conditon below checks if the weight of the\n",
    "current item is bigger than the current capacity of the bag.\n",
    "If this is the case, the function is called again, but this time\n",
    "the value of n is reduced by 1. Take note that retrieval of value\n",
    "and wt is based on (n-1). Reducing n by 1 means the calling of our items\n",
    "from the lists, value and wt, will start at the n-1 index. \n",
    "    '''\n",
    "    if (wt[n-1] > W):\n",
    "        return knapSack(W, wt, val, n-1)\n",
    "    else:\n",
    "        return max(val[n-1] + knapSack(W-wt[n-1], wt, val, n-1), knapSack(W, wt, val, n-1)) \n",
    "\n",
    "'''\n",
    "code above is important. 1st parameter repeats the function where the\n",
    "user picks the item and the 2nd parameter is the scenerio when the \n",
    "user does not pick the item. This pattern continues for every item\n",
    "thus all possible combinations are considered. Between picking an \n",
    "item and not picking it, the max() function checks which desicion\n",
    "from the two produces the greater value/number. And the greater number is carried onto the calling max function that called the child max\n",
    "function. Note that the 1st parameter always has some value added to \n",
    "it because the item was taken so we need to add that value. Capacity\n",
    "of bag is also reduced, simulating putting in an object inside. The n\n",
    "is also reduced by 1, since we are shortening the lists for wt\n",
    "and value by 1 from the right. The same applies to 2nd parameter EXCEPT the capacity (W) of the bag doesn't change because we skipped putting the item in the bag\n",
    "'''\n",
    "     \n",
    "# end of function knapSack\n",
    " \n",
    " \n",
    "#Driver Code\n",
    "val = [60, 100, 120]\n",
    "wt = [10, 20, 30]\n",
    "W = 50\n",
    "n = len(val)\n",
    "\n",
    "knapSack (W, wt, val, n)"
   ]
  },
  {
   "source": [
    "## Solving knapsack using dyanmic programming tabulation (code written by prof)"
   ],
   "cell_type": "markdown",
   "metadata": {}
  },
  {
   "cell_type": "code",
   "execution_count": 12,
   "id": "715d5fa5",
   "metadata": {
    "tags": []
   },
   "outputs": [
    {
     "output_type": "stream",
     "name": "stdout",
     "text": [
      "[[0, 0, 0, 0, 0, 0, 0, 0], [0, 0, 0, 4, 4, 4, 4, 4], [0, 1, 1, 4, 5, 5, 5, 5], [0, 1, 1, 4, 5, 7, 8, 8], [0, 1, 1, 4, 5, 7, 8, 9]]\n\n\n9\ntime elapsed: 0.0009996891021728516\n"
     ]
    }
   ],
   "source": [
    "#Example Codes using Dynamic Programming\n",
    "import time\n",
    "def knapSack(W, wt, val, n):\n",
    "    K = [[0 for x in range(W + 1)] for x in range(n + 1)]\n",
    "\n",
    "    for i in range(n + 1):\n",
    "    \n",
    "        for w in range(W + 1):\n",
    "        \n",
    "            if i == 0 or w == 0:\n",
    "               \n",
    "                K[i][w] = 0\n",
    "               \n",
    "            elif wt[i-1] <= w:\n",
    "               \n",
    "                \n",
    "                K[i][w] = max(val[i-1]+ K[i-1][w-wt[i-1]], K[i-1][w])\n",
    "                \n",
    "            else:\n",
    "                \n",
    "                K[i][w] = K[i-1][w]\n",
    "              \n",
    "    print(K)\n",
    "    print('\\n') \n",
    "    return K[n][W]\n",
    "\n",
    "val = [4, 1, 7,5]\n",
    "wt = [3, 1, 5,4]\n",
    "W = 7\n",
    "n = len(val) \n",
    "start_time = time.time()\n",
    "print(knapSack(W, wt, val, n))\n",
    "print('time elapsed:', str(time.time() - start_time))  "
   ]
  },
  {
   "source": [
    "### Dyanmic programming tabulation example 2"
   ],
   "cell_type": "markdown",
   "metadata": {}
  },
  {
   "cell_type": "code",
   "execution_count": 8,
   "metadata": {},
   "outputs": [
    {
     "output_type": "stream",
     "name": "stdout",
     "text": [
      "[[0, 0, 0, 0, 0, 0, 0, 0, 0, 0, 0, 0, 0, 0, 0, 0, 0, 0, 0, 0, 0, 0, 0, 0, 0, 0, 0, 0, 0, 0, 0, 0, 0, 0, 0, 0, 0, 0, 0, 0, 0, 0, 0, 0, 0, 0, 0, 0, 0, 0, 0], [0, 0, 0, 0, 0, 0, 0, 0, 0, 0, 60, 60, 60, 60, 60, 60, 60, 60, 60, 60, 60, 60, 60, 60, 60, 60, 60, 60, 60, 60, 60, 60, 60, 60, 60, 60, 60, 60, 60, 60, 60, 60, 60, 60, 60, 60, 60, 60, 60, 60, 60], [0, 0, 0, 0, 0, 0, 0, 0, 0, 0, 60, 60, 60, 60, 60, 60, 60, 60, 60, 60, 100, 100, 100, 100, 100, 100, 100, 100, 100, 100, 160, 160, 160, 160, 160, 160, 160, 160, 160, 160, 160, 160, 160, 160, 160, 160, 160, 160, 160, 160, 160], [0, 0, 0, 0, 0, 0, 0, 0, 0, 0, 60, 60, 60, 60, 60, 60, 60, 60, 60, 60, 100, 100, 100, 100, 100, 100, 100, 100, 100, 100, 160, 160, 160, 160, 160, 160, 160, 160, 160, 160, 180, 180, 180, 180, 180, 180, 180, 180, 180, 180, 220]]\n\n\n220\ntime elapsed: 0.0009996891021728516\n"
     ]
    }
   ],
   "source": [
    "val = [60, 100, 120]\n",
    "wt = [10, 20, 30]\n",
    "W = 50\n",
    "n = len(val)\n",
    "start_time = time.time()\n",
    "print(knapSack (W, wt, val, n))\n",
    "print('time elapsed:', str(time.time() - start_time))  "
   ]
  },
  {
   "source": [
    "## Solving knapsack using dyanmic programming tabulation (code written by John Binay)"
   ],
   "cell_type": "markdown",
   "metadata": {}
  },
  {
   "cell_type": "code",
   "execution_count": 30,
   "metadata": {},
   "outputs": [
    {
     "output_type": "stream",
     "name": "stdout",
     "text": [
      "[[0, 0, 0, 4, 4, 4, 4, 4], [0, 1, 1, 4, 5, 5, 5, 5], [0, 1, 1, 4, 5, 7, 8, 8], [0, 1, 1, 4, 5, 7, 8, 9]]\ntime elapsed: 0.00099945068359375 \n\n"
     ]
    },
    {
     "output_type": "execute_result",
     "data": {
      "text/plain": [
       "9"
      ]
     },
     "metadata": {},
     "execution_count": 30
    }
   ],
   "source": [
    "import time\n",
    "start_time = time.time()\n",
    "def fib(W, wt, val, n):\n",
    "    table = [[0 for x in range(W+1)] for x in range (n)]\n",
    "\n",
    "    # i is the number of rows in the table and also tne number of items we have\n",
    "    # j is the number of columns we have which is the value of W+1\n",
    "    for i in range(len(table)): \n",
    "        for j in range(len(table[0])):\n",
    "\n",
    "            '''\n",
    "            The first if statement manipulates the first row of the tabulation.\n",
    "            The columns of the table corresponds to a max weight for that column.\n",
    "            As such columns 0 - 7 (in this example) represent 8 columns that have max \n",
    "            weights of 0 - 7, meaning no cell in a given column can have an item's profit \n",
    "            put into it if that item's weight is greater than the column's weight. \n",
    "            If the weight of a cell in the first row in whatever column is lesser than the\n",
    "            weight of the item (wt[i]), then that cell will have the value of profit 0\n",
    "            because the item cannot exceed the knapsacks weight, therefore it will not be\n",
    "            included. If the condition is opposite, then the cell will have that item's\n",
    "            profit.\n",
    "            '''\n",
    "            if i == 0:\n",
    "                if j<wt[i]:\n",
    "                    table[i][j] = 0\n",
    "                else:\n",
    "                    table[i][j] = val[i]\n",
    "            '''\n",
    "            If i>0 (meaning the rows are now any rows besides the first or 0th row), then\n",
    "            execute the 2nd if statement. Note that the first row has already been made\n",
    "            by execution of the 1st if statement. If the weight of an object wt[i] is\n",
    "            greater than the weight of the cell attributed by the column where it belongs,\n",
    "            then the profit we shall put on that cell shall be the value of the cell above it\n",
    "            , let's call it cell(above). The cell(above) (granted we can't put the profit of\n",
    "             the current item we are dealing with) is already the optimized solution for\n",
    "            the current cell we are in. If the weight of an item is less than or equal to \n",
    "            the weight of a cell attributed by its column, we have two choices. We can either\n",
    "            take the optimal solution for that cell's weight constraint AND not keeping the\n",
    "            curent item, or we can keep that current item, and if there is still availble\n",
    "            weight for that cell, we can add the profit from a cell in the previous row\n",
    "            that has the optimal solution for our leftover weight capacity. The other option\n",
    "            would be to choose the cell(above) which represents the optimal solution for our \n",
    "            current cell, granted that we are discarding the current item. The optimal \n",
    "            solution for that cell will be the greater value of the two options.\n",
    "            '''\n",
    "            if i >0:\n",
    "\n",
    "                if wt[i] > j:\n",
    "                    table[i][j] = table[i-1][j]\n",
    "                else:\n",
    "                    table[i][j] = max(val[i]+table[i-1][j-wt[i]], table[i-1][j])\n",
    "            \n",
    "    print(table)\n",
    "    print('time elapsed:', str(time.time() - start_time), '\\n')\n",
    "    return table[i][j]\n",
    "\n",
    "val = [4, 1, 7,5]\n",
    "wt = [3, 1, 5,4]\n",
    "W = 7\n",
    "n = len(val) \n",
    "fib(W, wt, val, n)\n"
   ]
  },
  {
   "source": [
    "### Dyanmic programming tabulation example 2"
   ],
   "cell_type": "markdown",
   "metadata": {}
  },
  {
   "source": [
    "val = [60, 100, 120]\n",
    "wt = [10, 20, 30]\n",
    "W = 50\n",
    "n = len(val)\n",
    "n = len(val)\n",
    "start_time = time.time()\n",
    "print(fib (W, wt, val, n))\n",
    "print('time elapsed:', str(time.time() - start_time)) "
   ],
   "cell_type": "code",
   "metadata": {},
   "execution_count": 47,
   "outputs": [
    {
     "output_type": "stream",
     "name": "stdout",
     "text": [
      "[[0, 0, 0, 0, 0, 0, 0, 0, 0, 0, 60, 60, 60, 60, 60, 60, 60, 60, 60, 60, 60, 60, 60, 60, 60, 60, 60, 60, 60, 60, 60, 60, 60, 60, 60, 60, 60, 60, 60, 60, 60, 60, 60, 60, 60, 60, 60, 60, 60, 60, 60], [0, 0, 0, 0, 0, 0, 0, 0, 0, 0, 60, 60, 60, 60, 60, 60, 60, 60, 60, 60, 100, 100, 100, 100, 100, 100, 100, 100, 100, 100, 160, 160, 160, 160, 160, 160, 160, 160, 160, 160, 160, 160, 160, 160, 160, 160, 160, 160, 160, 160, 160], [0, 0, 0, 0, 0, 0, 0, 0, 0, 0, 60, 60, 60, 60, 60, 60, 60, 60, 60, 60, 100, 100, 100, 100, 100, 100, 100, 100, 100, 100, 160, 160, 160, 160, 160, 160, 160, 160, 160, 160, 180, 180, 180, 180, 180, 180, 180, 180, 180, 180, 220]]\ntime elapsed: 0.0 \n\n220\ntime elapsed: 0.00099945068359375\n"
     ]
    }
   ]
  },
  {
   "source": [
    "## Solving Knapsack using Memoization Technique"
   ],
   "cell_type": "markdown",
   "metadata": {}
  },
  {
   "cell_type": "code",
   "execution_count": 82,
   "id": "576da99e",
   "metadata": {},
   "outputs": [
    {
     "output_type": "stream",
     "name": "stdout",
     "text": [
      "\n\n[[-1, -1, -1, -1, -1, -1, -1, -1], [-1, -1, 0, -1, -1, -1, -1, -1], [-1, -1, -1, -1, -1, -1, -1, -1], [-1, -1, -1, -1, -1, -1, -1, -1], [-1, -1, -1, -1, -1, -1, -1, -1]]\n0\n\n\n[[-1, -1, -1, -1, -1, -1, -1, -1], [-1, -1, 0, 4, -1, -1, -1, -1], [-1, -1, -1, -1, -1, -1, -1, -1], [-1, -1, -1, -1, -1, -1, -1, -1], [-1, -1, -1, -1, -1, -1, -1, -1]]\n4\n\n\n[[-1, -1, -1, -1, -1, -1, -1, -1], [-1, -1, 0, 4, -1, -1, -1, -1], [-1, -1, -1, 4, -1, -1, -1, -1], [-1, -1, -1, -1, -1, -1, -1, -1], [-1, -1, -1, -1, -1, -1, -1, -1]]\n4\n\n\n[[-1, -1, -1, -1, -1, -1, -1, -1], [-1, -1, 0, 4, -1, -1, -1, -1], [-1, -1, -1, 4, -1, -1, -1, -1], [-1, -1, -1, 4, -1, -1, -1, -1], [-1, -1, -1, -1, -1, -1, -1, -1]]\n4\n\n\n[[-1, -1, -1, -1, -1, -1, -1, -1], [-1, 0, 0, 4, -1, -1, -1, -1], [-1, -1, -1, 4, -1, -1, -1, -1], [-1, -1, -1, 4, -1, -1, -1, -1], [-1, -1, -1, -1, -1, -1, -1, -1]]\n0\n\n\n[[-1, -1, -1, -1, -1, -1, -1, -1], [-1, 0, 0, 4, -1, -1, -1, -1], [-1, -1, -1, 4, -1, -1, -1, -1], [-1, -1, -1, 4, -1, -1, -1, -1], [-1, -1, -1, -1, -1, -1, -1, -1]]\n0\n\n\n[[-1, -1, -1, -1, -1, -1, -1, -1], [-1, 0, 0, 4, -1, -1, -1, -1], [-1, -1, 1, 4, -1, -1, -1, -1], [-1, -1, -1, 4, -1, -1, -1, -1], [-1, -1, -1, -1, -1, -1, -1, -1]]\n1\n\n\n[[-1, -1, -1, -1, -1, -1, -1, -1], [-1, 0, 0, 4, -1, -1, 4, -1], [-1, -1, 1, 4, -1, -1, -1, -1], [-1, -1, -1, 4, -1, -1, -1, -1], [-1, -1, -1, -1, -1, -1, -1, -1]]\n4\n\n\n[[-1, -1, -1, -1, -1, -1, -1, -1], [-1, 0, 0, 4, -1, -1, 4, 4], [-1, -1, 1, 4, -1, -1, -1, -1], [-1, -1, -1, 4, -1, -1, -1, -1], [-1, -1, -1, -1, -1, -1, -1, -1]]\n4\n\n\n[[-1, -1, -1, -1, -1, -1, -1, -1], [-1, 0, 0, 4, -1, -1, 4, 4], [-1, -1, 1, 4, -1, -1, -1, 5], [-1, -1, -1, 4, -1, -1, -1, -1], [-1, -1, -1, -1, -1, -1, -1, -1]]\n5\n\n\n[[-1, -1, -1, -1, -1, -1, -1, -1], [-1, 0, 0, 4, -1, -1, 4, 4], [-1, -1, 1, 4, -1, -1, -1, 5], [-1, -1, -1, 4, -1, -1, -1, 8], [-1, -1, -1, -1, -1, -1, -1, -1]]\n8\n\n\n[[-1, -1, -1, -1, -1, -1, -1, -1], [-1, 0, 0, 4, -1, -1, 4, 4], [-1, -1, 1, 4, -1, -1, -1, 5], [-1, -1, -1, 4, -1, -1, -1, 8], [-1, -1, -1, -1, -1, -1, -1, 9]]\n9\n9\nelapsed time: 0.0010008811950683594\n"
     ]
    }
   ],
   "source": [
    "#Example Codes using Memoization Technique\n",
    "val = [4, 1, 7,5]\n",
    "wt = [3, 1, 5,4]\n",
    "W = 7\n",
    "n = len(val) \n",
    " \n",
    "# We initialize the matrix with -1 at first.\n",
    "t = [[-1 for i in range(W + 1)] for j in range(n + 1)]\n",
    " \n",
    " \n",
    "def knapsack(wt, val, W, n):\n",
    "\n",
    "#base conditions\n",
    "#if you have no more items to put in the bag or if the capacity of the bag is zero\n",
    "#you don't get a profit, so you get 0  \n",
    "    \n",
    "    if n == 0 or W == 0:\n",
    "        return 0\n",
    "\n",
    "#look up portion. Here we are just checking if the subproblme had already been calculated since if t[n][W] does not hold -1, there must already be a solution there.\n",
    "    if t[n][W] != -1:\n",
    "        print('\\n')\n",
    "        print(t)\n",
    "        print(t[n][W])\n",
    "        return t[n][W]\n",
    "#choice diagram code\n",
    "#if the last item on the list ha a weight lesser than or equal to the capacity, proceed\n",
    "\n",
    "    if wt[n-1] <= W:\n",
    "        t[n][W] = max(val[n-1] + knapsack(wt, val, W-wt[n-1], n-1),knapsack(wt, val, W, n-1))\n",
    "        print('\\n')\n",
    "        print(t)\n",
    "        print(t[n][W])\n",
    "        return t[n][W]\n",
    "\n",
    "#if the item's wweight exceeds that of the capacity, we reduce the callable items by 1 #starting from the right. Since the items' weight and value are called using n (their #lengths)we can reduce n by 1 to decrease the value and wt array\n",
    "\n",
    "    elif (wt[n-1] > W):\n",
    "        t[n][W] = knapsack(wt, val, W, n-1)\n",
    "        print('\\n')\n",
    "        print(t)\n",
    "        print(t[n][W])\n",
    "        return t[n][W]\n",
    " \n",
    "start_time = time.time()\n",
    "print(knapsack(wt, val, W, n))\n",
    "print('elapsed time:', time.time() - start_time)\n",
    " "
   ]
  },
  {
   "cell_type": "code",
   "execution_count": 18,
   "metadata": {},
   "outputs": [
    {
     "output_type": "execute_result",
     "data": {
      "text/plain": [
       "73"
      ]
     },
     "metadata": {},
     "execution_count": 18
    }
   ],
   "source": [
    "#Example Codes using Memoization Technique\n",
    "t = [[-1 for i in range(W + 1)] for j in range(n + 1)]\n",
    " \n",
    "def knapsack(wt, val, W, n, vol):  \n",
    "    \n",
    "    if n == 0 or W == 0:\n",
    "        return 0\n",
    "\n",
    "    if t[n][W] != -1:\n",
    "        return t[n][W]\n",
    "\n",
    "    if wt[n-1] <= W:\n",
    "        t[n][W] = max(vol[n-1] + knapsack(wt, val, W-wt[n-1], n-1, vol),knapsack(wt, val, W, n-1,vol))\n",
    "        return t[n][W]\n",
    "\n",
    "    elif (wt[n-1] > W):\n",
    "        t[n][W] = knapsack(wt, val, W, n-1, vol)\n",
    "        return t[n][W]\n",
    " \n",
    "val = [4, 1, 7,5]\n",
    "wt = [3, 1, 5,4]\n",
    "W = 7\n",
    "n = len(vol) \n",
    "vol = [23,50,10] # in centimeters cube\n",
    "knapsack(wt, val, W, n, vol)"
   ]
  },
  {
   "cell_type": "markdown",
   "id": "0462053d",
   "metadata": {},
   "source": [
    "Task 1: Modify the three techniques to include additional criterion in the knapsack problems"
   ]
  },
  {
   "cell_type": "code",
   "execution_count": 25,
   "id": "ed2f6186",
   "metadata": {},
   "outputs": [
    {
     "output_type": "stream",
     "name": "stdout",
     "text": [
      "recursion: 73\nDP tabulation: 73\nDP memoization 73\n"
     ]
    }
   ],
   "source": [
    "'''\n",
    "Additional criterion: Volume\n",
    "\n",
    "Find the maximum volume of the objects that can be put in the knapsack given that the total mass of the object does not exceed 7 grams\n",
    "'''\n",
    "\n",
    "#Recursion\n",
    "def recursion(W, wt, val, n, vol):\n",
    " \n",
    "    if n == 0 or W == 0:\n",
    "        return 0\n",
    " \n",
    "    if (wt[n-1] > W):\n",
    "        return recursion(W, wt, val, n-1, vol)\n",
    "\n",
    "    else:\n",
    "        return max(vol[n-1] + recursion(W-wt[n-1], wt, val, n-1, vol), recursion(W, wt, val, n-1, vol)) \n",
    "\n",
    "#Dynamic\n",
    "def tabulation(W, wt, val, n, vol):\n",
    "    table = [[0 for x in range(W+1)] for x in range (n)]\n",
    "\n",
    "    for i in range(len(table)): \n",
    "        for j in range(len(table[0])):\n",
    "\n",
    "            if i == 0:\n",
    "                if j<wt[i]:\n",
    "                    table[i][j] = 0\n",
    "                else:\n",
    "                    table[i][j] = vol[i]\n",
    "        \n",
    "            if i >0:\n",
    "\n",
    "                if wt[i] > j:\n",
    "                    table[i][j] = table[i-1][j]\n",
    "                else:\n",
    "                    table[i][j] = max(vol[i]+table[i-1][j-wt[i]], table[i-1][j])\n",
    "\n",
    "    return table[i][j]\n",
    "\n",
    "#Memoization \n",
    " \n",
    "t = [[-1 for i in range(W + 1)] for j in range(n + 1)]\n",
    " \n",
    "def knapsack(wt, val, W, n, vol):  \n",
    "    \n",
    "    if n == 0 or W == 0:\n",
    "        return 0\n",
    "\n",
    "    if t[n][W] != -1:\n",
    "        return t[n][W]\n",
    "\n",
    "    if wt[n-1] <= W:\n",
    "        t[n][W] = max(vol[n-1] + knapsack(wt, val, W-wt[n-1], n-1, vol),knapsack(wt, val, W, n-1,vol))\n",
    "        return t[n][W]\n",
    "\n",
    "    elif (wt[n-1] > W):\n",
    "        t[n][W] = knapsack(wt, val, W, n-1, vol)\n",
    "        return t[n][W]\n",
    "\n",
    "val = [4, 1, 7,5]\n",
    "wt = [3, 1, 5,4]\n",
    "W = 7\n",
    "n = len(vol) \n",
    "vol = [23,50,10] # in centimeters cube\n",
    "print('recursion:', str(recursion(W, wt, val, n, vol)))\n",
    "print('DP tabulation:', str(tabulation(W, wt, val, n, vol)))\n",
    "print('DP memoization', str(knapsack(wt, val, W, n, vol)))\n"
   ]
  },
  {
   "cell_type": "markdown",
   "id": "d97e864e",
   "metadata": {},
   "source": [
    "Fibonacci Numbers"
   ]
  },
  {
   "cell_type": "code",
   "execution_count": 27,
   "id": "31c2484f",
   "metadata": {},
   "outputs": [
    {
     "data": {
      "text/plain": [
       "34"
      ]
     },
     "execution_count": 27,
     "metadata": {},
     "output_type": "execute_result"
    }
   ],
   "source": [
    "#Example Codes using Recursion\n",
    " \n",
    "def Fibonacci(n):\n",
    "    if n<0:\n",
    "        print(\"Incorrect input\")\n",
    "    # First Fibonacci number is 0\n",
    "    elif n==0:\n",
    "        return 0\n",
    "    # Second Fibonacci number is 1\n",
    "    elif n==1:\n",
    "        return 1\n",
    "    else:\n",
    "        return Fibonacci(n-1)+Fibonacci(n-2)\n",
    " \n",
    " \n",
    "Fibonacci(9)\n",
    " "
   ]
  },
  {
   "cell_type": "markdown",
   "id": "f44e88aa",
   "metadata": {},
   "source": [
    "Task 2: Create a sample program that find the nth number of Fibonacci Series using Dynamic Programming"
   ]
  },
  {
   "cell_type": "code",
   "execution_count": 6,
   "id": "745871be",
   "metadata": {},
   "outputs": [
    {
     "output_type": "stream",
     "name": "stdout",
     "text": [
      "21\n"
     ]
    }
   ],
   "source": [
    "def fib(n): \n",
    "\n",
    "    fib_series = [0,1]\n",
    "\n",
    "    for i in range(2, n+1):\n",
    "        fib_series.append(fib_series[i-1]+ fib_series[i-2])\n",
    "    return fib_series[-1]\n",
    "\n",
    "print(fib(8))\n"
   ]
  },
  {
   "cell_type": "markdown",
   "id": "070ddd75",
   "metadata": {},
   "source": [
    "#### Supplementary Problem:\n",
    "* Choose a real-life problem\n",
    "* Use recursion and dynamic programming to solve the problem"
   ]
  },
  {
   "source": [
    "#### Recursion Example\n",
    "\n",
    "Use recursion to find the longest common string in two strings. Real-life application can include seperating letters from a word that makes the word incorrect when compared to a correct version of the word. "
   ],
   "cell_type": "markdown",
   "metadata": {}
  },
  {
   "cell_type": "code",
   "execution_count": 24,
   "metadata": {},
   "outputs": [
    {
     "output_type": "execute_result",
     "data": {
      "text/plain": [
       "'brdy'"
      ]
     },
     "metadata": {},
     "execution_count": 24
    }
   ],
   "source": [
    "def com_s(s1, s2, i, i2):\n",
    "    if i == len(s1) or i2 == len(s2):\n",
    "        return ''\n",
    "    if s1[i] == s2[i2]:\n",
    "        return s1[i] + com_s(s1, s2, i+1, i2+1)\n",
    "    B = com_s(s1, s2, i+1, i2)\n",
    "    A = com_s(s1, s2, i, i2+1)\n",
    "    if len(A)>len(B):\n",
    "        return A\n",
    "    else:\n",
    "        return B\n",
    "com_s('bruudy','broody',0,0)\n",
    "\n",
    "#the resulting string 'brdy' is common and therefore the letters 'uu' in the first string is incorrect and should be replaced with 'oo' to make it correct and make it the same spelling as the 2nd word.\n"
   ]
  },
  {
   "source": [
    "#### Dynamic Programming Example\n",
    "\n",
    "Use Dynamic Programming to maximize the total duration of music you can listen to given a storage space as a constraint. "
   ],
   "cell_type": "markdown",
   "metadata": {}
  },
  {
   "cell_type": "code",
   "execution_count": 28,
   "id": "73b071b6",
   "metadata": {},
   "outputs": [
    {
     "output_type": "stream",
     "name": "stdout",
     "text": [
      "the total duration of music you can listen to given 50 megabytes is 1650.54 seconds\n"
     ]
    }
   ],
   "source": [
    "def tabulation(W, wt, val, n):\n",
    "    table = [[0 for x in range(W+1)] for x in range (n)]\n",
    "\n",
    "    for i in range(len(table)): \n",
    "        for j in range(len(table[0])):\n",
    "\n",
    "            if i == 0:\n",
    "                if j<wt[i]:\n",
    "                    table[i][j] = 0\n",
    "                else:\n",
    "                    table[i][j] = val[i]\n",
    "        \n",
    "            if i >0:\n",
    "\n",
    "                if wt[i] > j:\n",
    "                    table[i][j] = table[i-1][j]\n",
    "                else:\n",
    "                    table[i][j] = max(val[i]+table[i-1][j-wt[i]], table[i-1][j])\n",
    "\n",
    "    return table[i][j]\n",
    "        \n",
    "duration = [360,420,180,190.5,340,160,120,190.54] #in seconds\n",
    "size = [10,15,5,8,9,5,3,6] #in megabytes\n",
    "n = len(duration)\n",
    "W = 50\n",
    "print(f'the total duration of music you can listen to given {W} megabytes is '+ str(tabulation(W, size, duration, n))+ ' seconds')"
   ]
  },
  {
   "cell_type": "markdown",
   "id": "bb0ed6a9",
   "metadata": {},
   "source": [
    "#### Conclusion"
   ]
  },
  {
   "source": [
    "In conclusion, recurssion algoithms, while they helps solve repetive subproblems, can cause inefficieny in your program. A step-up from recurssive algorithms is called dynamic programming (DP). DP may or may not use recurssions but one thing that it does use is a data structure like a list or dictionary to save the solutions to sub problems. The lab was very difficult for me to create and actaully took me days to study its contents. In the end, I was able to master the use of recurssion and DP algorithms to help me solve tasks, that has time complexities that are exponential, in a much faster way "
   ],
   "cell_type": "markdown",
   "metadata": {}
  }
 ],
 "metadata": {
  "kernelspec": {
   "name": "python392jvsc74a57bd08432bf4ecb8928d64f270203b8f351837d7762493b2a0af9890ef9f49c0ffb02",
   "display_name": "Python 3.9.2 64-bit"
  },
  "language_info": {
   "codemirror_mode": {
    "name": "ipython",
    "version": 3
   },
   "file_extension": ".py",
   "mimetype": "text/x-python",
   "name": "python",
   "nbconvert_exporter": "python",
   "pygments_lexer": "ipython3",
   "version": "3.9.2"
  },
  "metadata": {
   "interpreter": {
    "hash": "8432bf4ecb8928d64f270203b8f351837d7762493b2a0af9890ef9f49c0ffb02"
   }
  }
 },
 "nbformat": 4,
 "nbformat_minor": 5
}