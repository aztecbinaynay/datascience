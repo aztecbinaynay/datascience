{
  "nbformat": 4,
  "nbformat_minor": 0,
  "metadata": {
    "colab": {
      "name": "Data Analysis.ipynb",
      "provenance": []
    },
    "kernelspec": {
      "name": "python3",
      "display_name": "Python 3"
    },
    "language_info": {
      "name": "python"
    }
  },
  "cells": [
    {
      "cell_type": "markdown",
      "metadata": {
        "id": "LYm8eqq50WAj"
      },
      "source": [
        "# Data Analysis\n",
        "\n",
        "Multiple types of analytics provide organizations and people with information that can drive innovation, improve efficiency and mitigate risk.\n",
        "1. **Descriptive analytics**- Relies solely on historical data to provide regular reports on events that have already happened. \n",
        "2. **Predictive analytics** - Can infer missing data and establish a future trend line based on past data. It uses simulation models and forecasting to suggest what could happen. \n",
        "3. **Prescriptive analytics** - Recommends actions or decisions based on a complex set of targets, constraints, and choices. \n"
      ]
    },
    {
      "cell_type": "markdown",
      "metadata": {
        "id": "tkaqXJL-08A2"
      },
      "source": [
        "## Exploratory Data Analysis\n",
        "\n",
        "Exploratory data analysis is a set of procedures designed to produce descriptive and graphical summaries of data with the notion that the results may reveal interesting patterns\n",
        "\n",
        "**Observations, Variables, and Values**\n",
        "\n",
        "* A variable is anything that varies from one instance to another and is something that can be measured, manipulated or controlled. \n",
        "* The recordings of the values, patterns and occurrences for a set of variables is an observation.\n",
        "* The set of values for a specific observation is called a data point."
      ]
    },
    {
      "cell_type": "markdown",
      "metadata": {
        "id": "xmIMoWp31rWS"
      },
      "source": [
        "Categorical variables include:\n",
        "\n",
        "* Nominal – Two or more categories or names that identify the object\n",
        "* Ordinal – Two or more categories in which order matter in the value\n",
        "\n",
        "Numerical variables include:\n",
        "\n",
        "* Continuous – quantitative along a continuum or range of values\n",
        "* Ratio - Interval variables where zero (0) means none\n",
        "* Discrete - Quantitative with a specific value from a finite set of values"
      ]
    },
    {
      "cell_type": "markdown",
      "metadata": {
        "id": "UY1DQpH815JL"
      },
      "source": [
        "## Statistical Analysis\n",
        "\n",
        "Statistics is the collection and analysis of data using mathematical techniques.\n",
        "\n",
        "Sample and Population\n",
        "\n",
        "* A population is a group of similar entities such as people, objects, or events that share some common set of characteristics.\n",
        "* A sample is a representative group from the population.\n"
      ]
    },
    {
      "cell_type": "markdown",
      "metadata": {
        "id": "iMESa0YJ2N5D"
      },
      "source": [
        "Descriptive statistics \n",
        "\n",
        "* describe or summarize the values and observations of a data set.\n",
        "\n",
        "Inferential statistics\n",
        "\n",
        "* process of collecting, analyzing and interpreting data gathered from a sample to make generalizations or predictions about a population\n",
        "\n",
        "\n"
      ]
    },
    {
      "cell_type": "markdown",
      "metadata": {
        "id": "6mexwwEn2RXJ"
      },
      "source": [
        "## Analysis using Descriptive Statistics\n",
        "\n",
        "Descriptive statistics summarize and organize characteristics of a data set. \n",
        "A data set is a collection of responses or observations from a sample or entire population.\n",
        "\n",
        "Types of descriptive statistics\n",
        "\n",
        "There are 3 main types of descriptive statistics:\n",
        "* The distribution concerns the frequency of each value.\n",
        "* The central tendency concerns the averages of the values. The mean, median and mode are the measures of central tendency\n",
        "* The variability or dispersion concerns how spread out the values are.\n"
      ]
    },
    {
      "cell_type": "code",
      "metadata": {
        "colab": {
          "base_uri": "https://localhost:8080/"
        },
        "id": "4aZGgn-d3AYq",
        "outputId": "a2f2cd27-5a10-4fda-d98a-d6d6847d4a0e"
      },
      "source": [
        "from google.colab import drive\n",
        "drive.mount('/content/drive')"
      ],
      "execution_count": null,
      "outputs": [
        {
          "output_type": "stream",
          "text": [
            "Mounted at /content/drive\n"
          ],
          "name": "stdout"
        }
      ]
    },
    {
      "cell_type": "code",
      "metadata": {
        "id": "lv2hY3J_3lTb"
      },
      "source": [
        "#set the location of the data file\n",
        "filepath = '/content/drive/My Drive/Colab Notebooks/Dataset/rpi_describe.csv'"
      ],
      "execution_count": null,
      "outputs": []
    },
    {
      "cell_type": "markdown",
      "metadata": {
        "id": "KT9eoBuW1goR"
      },
      "source": [
        "# Load the data\n",
        "\n",
        "import pandas as pd\n",
        "import matplotlib.pyplot as plt\n",
        "%matplotlib inline\n",
        "\n",
        "data = pd.read_csv(filepath)\n",
        "data"
      ]
    },
    {
      "cell_type": "code",
      "metadata": {
        "id": "3gXVv2A4Hk5k",
        "colab": {
          "base_uri": "https://localhost:8080/",
          "height": 195
        },
        "outputId": "c2a0145a-4eaf-4fa0-acb7-97c731a79cde"
      },
      "source": [
        "data.head()"
      ],
      "execution_count": null,
      "outputs": [
        {
          "output_type": "execute_result",
          "data": {
            "text/html": [
              "<div>\n",
              "<style scoped>\n",
              "    .dataframe tbody tr th:only-of-type {\n",
              "        vertical-align: middle;\n",
              "    }\n",
              "\n",
              "    .dataframe tbody tr th {\n",
              "        vertical-align: top;\n",
              "    }\n",
              "\n",
              "    .dataframe thead th {\n",
              "        text-align: right;\n",
              "    }\n",
              "</style>\n",
              "<table border=\"1\" class=\"dataframe\">\n",
              "  <thead>\n",
              "    <tr style=\"text-align: right;\">\n",
              "      <th></th>\n",
              "      <th>weight</th>\n",
              "    </tr>\n",
              "  </thead>\n",
              "  <tbody>\n",
              "    <tr>\n",
              "      <th>0</th>\n",
              "      <td>20.440</td>\n",
              "    </tr>\n",
              "    <tr>\n",
              "      <th>1</th>\n",
              "      <td>20.244</td>\n",
              "    </tr>\n",
              "    <tr>\n",
              "      <th>2</th>\n",
              "      <td>20.549</td>\n",
              "    </tr>\n",
              "    <tr>\n",
              "      <th>3</th>\n",
              "      <td>20.755</td>\n",
              "    </tr>\n",
              "    <tr>\n",
              "      <th>4</th>\n",
              "      <td>20.740</td>\n",
              "    </tr>\n",
              "  </tbody>\n",
              "</table>\n",
              "</div>"
            ],
            "text/plain": [
              "   weight\n",
              "0  20.440\n",
              "1  20.244\n",
              "2  20.549\n",
              "3  20.755\n",
              "4  20.740"
            ]
          },
          "metadata": {
            "tags": []
          },
          "execution_count": 7
        }
      ]
    },
    {
      "cell_type": "code",
      "metadata": {
        "colab": {
          "base_uri": "https://localhost:8080/",
          "height": 195
        },
        "id": "lJJPa2JR34yM",
        "outputId": "e86571ce-60dc-4dae-a829-4dc3459ed0cf"
      },
      "source": [
        "data.tail()"
      ],
      "execution_count": null,
      "outputs": [
        {
          "output_type": "execute_result",
          "data": {
            "text/html": [
              "<div>\n",
              "<style scoped>\n",
              "    .dataframe tbody tr th:only-of-type {\n",
              "        vertical-align: middle;\n",
              "    }\n",
              "\n",
              "    .dataframe tbody tr th {\n",
              "        vertical-align: top;\n",
              "    }\n",
              "\n",
              "    .dataframe thead th {\n",
              "        text-align: right;\n",
              "    }\n",
              "</style>\n",
              "<table border=\"1\" class=\"dataframe\">\n",
              "  <thead>\n",
              "    <tr style=\"text-align: right;\">\n",
              "      <th></th>\n",
              "      <th>weight</th>\n",
              "    </tr>\n",
              "  </thead>\n",
              "  <tbody>\n",
              "    <tr>\n",
              "      <th>9995</th>\n",
              "      <td>20.419</td>\n",
              "    </tr>\n",
              "    <tr>\n",
              "      <th>9996</th>\n",
              "      <td>20.554</td>\n",
              "    </tr>\n",
              "    <tr>\n",
              "      <th>9997</th>\n",
              "      <td>20.768</td>\n",
              "    </tr>\n",
              "    <tr>\n",
              "      <th>9998</th>\n",
              "      <td>20.829</td>\n",
              "    </tr>\n",
              "    <tr>\n",
              "      <th>9999</th>\n",
              "      <td>20.667</td>\n",
              "    </tr>\n",
              "  </tbody>\n",
              "</table>\n",
              "</div>"
            ],
            "text/plain": [
              "      weight\n",
              "9995  20.419\n",
              "9996  20.554\n",
              "9997  20.768\n",
              "9998  20.829\n",
              "9999  20.667"
            ]
          },
          "metadata": {
            "tags": []
          },
          "execution_count": 8
        }
      ]
    },
    {
      "cell_type": "code",
      "metadata": {
        "colab": {
          "base_uri": "https://localhost:8080/",
          "height": 284
        },
        "id": "P8D2G9VS37Tg",
        "outputId": "034118c3-6dc4-4ebc-a246-2ae086842b4a"
      },
      "source": [
        " # Use pandas to view a table of descriptive statistics for the file.\n",
        "data.describe()"
      ],
      "execution_count": null,
      "outputs": [
        {
          "output_type": "execute_result",
          "data": {
            "text/html": [
              "<div>\n",
              "<style scoped>\n",
              "    .dataframe tbody tr th:only-of-type {\n",
              "        vertical-align: middle;\n",
              "    }\n",
              "\n",
              "    .dataframe tbody tr th {\n",
              "        vertical-align: top;\n",
              "    }\n",
              "\n",
              "    .dataframe thead th {\n",
              "        text-align: right;\n",
              "    }\n",
              "</style>\n",
              "<table border=\"1\" class=\"dataframe\">\n",
              "  <thead>\n",
              "    <tr style=\"text-align: right;\">\n",
              "      <th></th>\n",
              "      <th>weight</th>\n",
              "    </tr>\n",
              "  </thead>\n",
              "  <tbody>\n",
              "    <tr>\n",
              "      <th>count</th>\n",
              "      <td>10000.000000</td>\n",
              "    </tr>\n",
              "    <tr>\n",
              "      <th>mean</th>\n",
              "      <td>20.499212</td>\n",
              "    </tr>\n",
              "    <tr>\n",
              "      <th>std</th>\n",
              "      <td>0.199874</td>\n",
              "    </tr>\n",
              "    <tr>\n",
              "      <th>min</th>\n",
              "      <td>19.752000</td>\n",
              "    </tr>\n",
              "    <tr>\n",
              "      <th>25%</th>\n",
              "      <td>20.365000</td>\n",
              "    </tr>\n",
              "    <tr>\n",
              "      <th>50%</th>\n",
              "      <td>20.500000</td>\n",
              "    </tr>\n",
              "    <tr>\n",
              "      <th>75%</th>\n",
              "      <td>20.635000</td>\n",
              "    </tr>\n",
              "    <tr>\n",
              "      <th>max</th>\n",
              "      <td>21.171000</td>\n",
              "    </tr>\n",
              "  </tbody>\n",
              "</table>\n",
              "</div>"
            ],
            "text/plain": [
              "             weight\n",
              "count  10000.000000\n",
              "mean      20.499212\n",
              "std        0.199874\n",
              "min       19.752000\n",
              "25%       20.365000\n",
              "50%       20.500000\n",
              "75%       20.635000\n",
              "max       21.171000"
            ]
          },
          "metadata": {
            "tags": []
          },
          "execution_count": 9
        }
      ]
    },
    {
      "cell_type": "markdown",
      "metadata": {
        "id": "p9ZyeTOMKrcM"
      },
      "source": [
        "The count displays the total number of data in a specific column \n",
        "\n",
        "The mean is the average of the data of the specific column\n",
        "\n",
        "The std is the standard deviation of the data of the specific column\n",
        "\n",
        "The min is the lowest value in the specific column\n",
        "\n",
        "The max is the highest value in the specific column\n",
        "\n",
        "In statistics, a percentile (or a centile) is a score below which a given percentage of scores in its frequency distribution falls (exclusive definition) or a score at or below which a given percentage falls (inclusive definition). For example, the 50th percentile (the median) is the score below which (exclusive) or at or below which (inclusive) 50% of the scores in the distribution may be found.\n",
        "\n",
        "By default the lower percentile is 25 and the upper percentile is 75. The 50 percentile is the same as the median."
      ]
    },
    {
      "cell_type": "markdown",
      "metadata": {
        "id": "XuUxwnRyMbAm"
      },
      "source": [
        "Percentile scores have a variety of uses. Anytime that a set of data needs to be broken into digestible chunks, percentiles are helpful. They are often used to interpret test scores—such as SAT scores—so that test-takers can compare their performance to that of other students. For example, a student might earn a score of 90 percent on an exam. That sounds pretty impressive; however, it becomes less so when a score of 90 percent corresponds to the 20th percentile, meaning only 20 percent of the class earned a score of 90 percent or lower."
      ]
    },
    {
      "cell_type": "code",
      "metadata": {
        "colab": {
          "base_uri": "https://localhost:8080/",
          "height": 402
        },
        "id": "dKL-eE6t3_y-",
        "outputId": "0f028f95-1f9a-4d59-8916-7f527510fd6b"
      },
      "source": [
        "data['rounded'] = data.weight.round(2)\n",
        "data\n"
      ],
      "execution_count": null,
      "outputs": [
        {
          "output_type": "execute_result",
          "data": {
            "text/html": [
              "<div>\n",
              "<style scoped>\n",
              "    .dataframe tbody tr th:only-of-type {\n",
              "        vertical-align: middle;\n",
              "    }\n",
              "\n",
              "    .dataframe tbody tr th {\n",
              "        vertical-align: top;\n",
              "    }\n",
              "\n",
              "    .dataframe thead th {\n",
              "        text-align: right;\n",
              "    }\n",
              "</style>\n",
              "<table border=\"1\" class=\"dataframe\">\n",
              "  <thead>\n",
              "    <tr style=\"text-align: right;\">\n",
              "      <th></th>\n",
              "      <th>weight</th>\n",
              "      <th>rounded</th>\n",
              "    </tr>\n",
              "  </thead>\n",
              "  <tbody>\n",
              "    <tr>\n",
              "      <th>0</th>\n",
              "      <td>20.440</td>\n",
              "      <td>20.44</td>\n",
              "    </tr>\n",
              "    <tr>\n",
              "      <th>1</th>\n",
              "      <td>20.244</td>\n",
              "      <td>20.24</td>\n",
              "    </tr>\n",
              "    <tr>\n",
              "      <th>2</th>\n",
              "      <td>20.549</td>\n",
              "      <td>20.55</td>\n",
              "    </tr>\n",
              "    <tr>\n",
              "      <th>3</th>\n",
              "      <td>20.755</td>\n",
              "      <td>20.76</td>\n",
              "    </tr>\n",
              "    <tr>\n",
              "      <th>4</th>\n",
              "      <td>20.740</td>\n",
              "      <td>20.74</td>\n",
              "    </tr>\n",
              "    <tr>\n",
              "      <th>...</th>\n",
              "      <td>...</td>\n",
              "      <td>...</td>\n",
              "    </tr>\n",
              "    <tr>\n",
              "      <th>9995</th>\n",
              "      <td>20.419</td>\n",
              "      <td>20.42</td>\n",
              "    </tr>\n",
              "    <tr>\n",
              "      <th>9996</th>\n",
              "      <td>20.554</td>\n",
              "      <td>20.55</td>\n",
              "    </tr>\n",
              "    <tr>\n",
              "      <th>9997</th>\n",
              "      <td>20.768</td>\n",
              "      <td>20.77</td>\n",
              "    </tr>\n",
              "    <tr>\n",
              "      <th>9998</th>\n",
              "      <td>20.829</td>\n",
              "      <td>20.83</td>\n",
              "    </tr>\n",
              "    <tr>\n",
              "      <th>9999</th>\n",
              "      <td>20.667</td>\n",
              "      <td>20.67</td>\n",
              "    </tr>\n",
              "  </tbody>\n",
              "</table>\n",
              "<p>10000 rows × 2 columns</p>\n",
              "</div>"
            ],
            "text/plain": [
              "      weight  rounded\n",
              "0     20.440    20.44\n",
              "1     20.244    20.24\n",
              "2     20.549    20.55\n",
              "3     20.755    20.76\n",
              "4     20.740    20.74\n",
              "...      ...      ...\n",
              "9995  20.419    20.42\n",
              "9996  20.554    20.55\n",
              "9997  20.768    20.77\n",
              "9998  20.829    20.83\n",
              "9999  20.667    20.67\n",
              "\n",
              "[10000 rows x 2 columns]"
            ]
          },
          "metadata": {
            "tags": []
          },
          "execution_count": 11
        }
      ]
    },
    {
      "cell_type": "markdown",
      "metadata": {
        "id": "kT_6TS0w4Jf2"
      },
      "source": [
        "Create a new column in the dataframe called \"diff\" and populate that column with the amount of weight over or under the target value of 20 ounces. Use the rounded value for the calculation"
      ]
    },
    {
      "cell_type": "code",
      "metadata": {
        "colab": {
          "base_uri": "https://localhost:8080/",
          "height": 195
        },
        "id": "M-VuhH5K4Mr3",
        "outputId": "b8eaa1f5-b366-44cc-af9e-a07f128eebbf"
      },
      "source": [
        "data['diff'] = data['rounded'] - 20\n",
        "data.head()"
      ],
      "execution_count": null,
      "outputs": [
        {
          "output_type": "execute_result",
          "data": {
            "text/html": [
              "<div>\n",
              "<style scoped>\n",
              "    .dataframe tbody tr th:only-of-type {\n",
              "        vertical-align: middle;\n",
              "    }\n",
              "\n",
              "    .dataframe tbody tr th {\n",
              "        vertical-align: top;\n",
              "    }\n",
              "\n",
              "    .dataframe thead th {\n",
              "        text-align: right;\n",
              "    }\n",
              "</style>\n",
              "<table border=\"1\" class=\"dataframe\">\n",
              "  <thead>\n",
              "    <tr style=\"text-align: right;\">\n",
              "      <th></th>\n",
              "      <th>weight</th>\n",
              "      <th>rounded</th>\n",
              "      <th>diff</th>\n",
              "    </tr>\n",
              "  </thead>\n",
              "  <tbody>\n",
              "    <tr>\n",
              "      <th>0</th>\n",
              "      <td>20.440</td>\n",
              "      <td>20.44</td>\n",
              "      <td>0.44</td>\n",
              "    </tr>\n",
              "    <tr>\n",
              "      <th>1</th>\n",
              "      <td>20.244</td>\n",
              "      <td>20.24</td>\n",
              "      <td>0.24</td>\n",
              "    </tr>\n",
              "    <tr>\n",
              "      <th>2</th>\n",
              "      <td>20.549</td>\n",
              "      <td>20.55</td>\n",
              "      <td>0.55</td>\n",
              "    </tr>\n",
              "    <tr>\n",
              "      <th>3</th>\n",
              "      <td>20.755</td>\n",
              "      <td>20.76</td>\n",
              "      <td>0.76</td>\n",
              "    </tr>\n",
              "    <tr>\n",
              "      <th>4</th>\n",
              "      <td>20.740</td>\n",
              "      <td>20.74</td>\n",
              "      <td>0.74</td>\n",
              "    </tr>\n",
              "  </tbody>\n",
              "</table>\n",
              "</div>"
            ],
            "text/plain": [
              "   weight  rounded  diff\n",
              "0  20.440    20.44  0.44\n",
              "1  20.244    20.24  0.24\n",
              "2  20.549    20.55  0.55\n",
              "3  20.755    20.76  0.76\n",
              "4  20.740    20.74  0.74"
            ]
          },
          "metadata": {
            "tags": []
          },
          "execution_count": 12
        }
      ]
    },
    {
      "cell_type": "code",
      "metadata": {
        "id": "xOsQB-e14Pv0"
      },
      "source": [
        "#Display Descriptive Statistics in Text\n",
        "count = data['rounded'].count()\n",
        "mean = data['rounded'].mean()\n",
        "median = data['rounded'].median()\n",
        "std = data['rounded'].std()\n",
        "rng = data['rounded'].max() - data.rounded.min()\n",
        "countstring = \"There are {} records in the data.\".format(count)\n",
        "meanstring = 'The mean of the distribution is {} and the median is {}.'.format(mean, median)\n",
        "stdstring = 'The standard deviation of the distribution is {}.'.format(std)\n",
        "rangestring = 'The minimum value is {}, the maximum value is {}, and the range is {}.'.format(data.rounded.min(),data.rounded.max(),rng)\n"
      ],
      "execution_count": null,
      "outputs": []
    },
    {
      "cell_type": "code",
      "metadata": {
        "colab": {
          "base_uri": "https://localhost:8080/"
        },
        "id": "_twjfste4YGR",
        "outputId": "86c4885f-49e8-4750-a238-ae158a930675"
      },
      "source": [
        "print(countstring)\n",
        "print(meanstring)\n",
        "print(stdstring)\n",
        "print(rangestring)"
      ],
      "execution_count": null,
      "outputs": [
        {
          "output_type": "stream",
          "text": [
            "There are 10000 records in the data.\n",
            "The mean of the distribution is 20.49915999999995 and the median is 20.5.\n",
            "The standard deviation of the distribution is 0.19990740530822973.\n",
            "The minimum value is 19.75, the maximum value is 21.17, and the range is 1.4200000000000017.\n"
          ],
          "name": "stdout"
        }
      ]
    },
    {
      "cell_type": "markdown",
      "metadata": {
        "id": "ZZudZmfDNkKE"
      },
      "source": [
        "The Mean, Median and Mode are the three measures of central tendency. Mean is the arithmetic average of a data set. This is found by adding the numbers in a data set and dividing by the number of observations in the data set. The median is the middle number in a data set when the numbers are listed in either ascending or descending order. The mode is the value that occurs the most often in a data set and the range is the difference between the highest and lowest values in a data set."
      ]
    },
    {
      "cell_type": "markdown",
      "metadata": {
        "id": "Pi5IpIemNwSA"
      },
      "source": [
        "#### The Mean\n",
        "\n",
        "![mean.JPG](data:image/jpeg;base64,/9j/4AAQSkZJRgABAQEAeAB4AAD/4REERXhpZgAATU0AKgAAAAgABAE7AAIAAAATAAAISodpAAQAAAABAAAIXpydAAEAAAAmAAAQ1uocAAcAAAgMAAAAPgAAAAAc6gAAAAgAAAAAAAAAAAAAAAAAAAAAAAAAAAAAAAAAAAAAAAAAAAAAAAAAAAAAAAAAAAAAAAAAAAAAAAAAAAAAAAAAAAAAAAAAAAAAAAAAAAAAAAAAAAAAAAAAAAAAAAAAAAAAAAAAAAAAAAAAAAAAAAAAAAAAAAAAAAAAAAAAAAAAAAAAAAAAAAAAAAAAAAAAAAAAAAAAAAAAAAAAAAAAAAAAAAAAAAAAAAAAAAAAAAAAAAAAAAAAAAAAAAAAAAAAAAAAAAAAAAAAAAAAAAAAAAAAAAAAAAAAAAAAAAAAAAAAAAAAAAAAAAAAAAAAAAAAAAAAAAAAAAAAAAAAAAAAAAAAAAAAAAAAAAAAAAAAAAAAAAAAAAAAAAAAAAAAAAAAAAAAAAAAAAAAAAAAAAAAAAAAAAAAAAAAAAAAAAAAAAAAAAAAAAAAAAAAAAAAAAAAAAAAAAAAAAAAAAAAAAAAAAAAAAAAAAAAAAAAAAAAAAAAAAAAAAAAAAAAAAAAAAAAAAAAAAAAAAAAAAAAAAAAAAAAAAAAAAAAAAAAAAAAAAAAAAAAAAAAAAAAAAAAAAAAAAAAAAAAAAAAAAAAAAAAAAAAAAAAAAAAAAAAAAAAAAAAAAAAAAAAAAAAAAAAAAAAAAAAAAAAAAAAAAAAAAAAAAAAAAAAAAAAAAAAAAAAAAAAAAAAAAAAAAAAAAAAAAAAAAAAAAAAAAAAAAAAAAAAAAAAAAAAAAAAAAAAAAAAAAAAAAAAAAAAAAAAAAAAAAAAAAAAAAAAAAAAAAAAAAAAAAAAAAAAAAAAAAAAAAAAAAAAAAAAAAAAAAAAAAAAAAAAAAAAAAAAAAAAAAAAAAAAAAAAAAAAAAAAAAAAAAAAAAAAAAAAAAAAAAAAAAAAAAAAAAAAAAAAAAAAAAAAAAAAAAAAAAAAAAAAAAAAAAAAAAAAAAAAAAAAAAAAAAAAAAAAAAAAAAAAAAAAAAAAAAAAAAAAAAAAAAAAAAAAAAAAAAAAAAAAAAAAAAAAAAAAAAAAAAAAAAAAAAAAAAAAAAAAAAAAAAAAAAAAAAAAAAAAAAAAAAAAAAAAAAAAAAAAAAAAAAAAAAAAAAAAAAAAAAAAAAAAAAAAAAAAAAAAAAAAAAAAAAAAAAAAAAAAAAAAAAAAAAAAAAAAAAAAAAAAAAAAAAAAAAAAAAAAAAAAAAAAAAAAAAAAAAAAAAAAAAAAAAAAAAAAAAAAAAAAAAAAAAAAAAAAAAAAAAAAAAAAAAAAAAAAAAAAAAAAAAAAAAAAAAAAAAAAAAAAAAAAAAAAAAAAAAAAAAAAAAAAAAAAAAAAAAAAAAAAAAAAAAAAAAAAAAAAAAAAAAAAAAAAAAAAAAAAAAAAAAAAAAAAAAAAAAAAAAAAAAAAAAAAAAAAAAAAAAAAAAAAAAAAAAAAAAAAAAAAAAAAAAAAAAAAAAAAAAAAAAAAAAAAAAAAAAAAAAAAAAAAAAAAAAAAAAAAAAAAAAAAAAAAAAAAAAAAAAAAAAAAAAAAAAAAAAAAAAAAAAAAAAAAAAAAAAAAAAAAAAAAAAAAAAAAAAAAAAAAAAAAAAAAAAAAAAAAAAAAAAAAAAAAAAAAAAAAAAAAAAAAAAAAAAAAAAAAAAAAAAAAAAAAAAAAAAAAAAAAAAAAAAAAAAAAAAAAAAAAAAAAAAAAAAAAAAAAAAAAAAAAAAAAAAAAAAAAAAAAAAAAAAAAAAAAAAAAAAAAAAAAAAAAAAAAAAAAAAAAAAAAAAAAAAAAAAAAAAAAAAAAAAAAAAAAAAAAAAAAAAAAAAAAAAAAAAAAAAAAAAAAAAAAAAAAAAAAAAAAAAAAAAAAAAAAAAAAAAAAAAAAAAAAAAAAAAAAAAAAAAAAAAAAAAAAAAAAAAAAAAAAAAAAAAAAAAAAAAAAAAAAAAAAAAAAAAAAAAAAAAAAAAAAAAAAAAAAAAAAAAAAAAAAAAAAAAAAAAAAAAAAAAAAAAAAAAAAAAAAAAAAAAAAAAAAAAAAAAAAAAAAAAAAAAAAAAAAAAAAAAAAAAAAAAAAAAAAAAAAAAAAAAAAAAAAAAAAAAAAAAAAAAAAAAAAAAAAAAAAAAAAAAAAAAAAAAAAAAAAAAAAAAAAAAAAAAAAAAAAAAAAAAAAAAAAAAAAAAAAAAAAAAAAAAAAAAAAAAAAAAAAAAAAAAAAAAAAAAAAAAAAAAAAAAAAAAAAAAAAAAAAAAAAAAAAAAAAAAAAAAAAAAAAAAAAAAAAAAAAAAAAAAAAAAAAAAAAAAAAAAAAAAAAAAAAAAAAAAAAAAAAAAAAAAAAAAAAAAAAAAAAAAAAAAAAAAAAAAAAAAAAAAAAAAAAAAAAAAAAAAAAAAAAAAAAAAAAAAAAAAAAAAAAAAAAAAAAAAAAAAAAAAAAAAAAAAAAAAAAAAAAAAAAAAAAAAAAAAAAAAAAAAAAAAAAAAAAAAAAAAAAAAAAAAAAAAAAAAAAAAAAAAAAAAAAAAAAAAAAAAAAAAAAAAAAAAAAAAAAAAAAAAAAAAAAAAAAAAAAAAAAAAAAAAAAAAAAAAAAAAAAAAAAAAAAAAAAAAAAAAAAAAAAAAAAAAAAAAAAAAAAAAAAAAAAAAAAAAAAAAAAAAAAAAAAAAAAAAAAAAAAAAAAAAAAAAAAAAAAAAAAAAAAAAAAAAAAAAAAAAAAAAAAAAAAAAAAAAAAAAAAAAAAAAAAAAAAAAAAAAAAAAAAAAAAAAAAAAAAAAAAAAAAAAAAAAAAAEFsb25pY2EgVmlsbGFudWV2YQAAAAWQAwACAAAAFAAAEKyQBAACAAAAFAAAEMCSkQACAAAAAzM4AACSkgACAAAAAzM4AADqHAAHAAAIDAAACKAAAAAAHOoAAAAIAAAAAAAAAAAAAAAAAAAAAAAAAAAAAAAAAAAAAAAAAAAAAAAAAAAAAAAAAAAAAAAAAAAAAAAAAAAAAAAAAAAAAAAAAAAAAAAAAAAAAAAAAAAAAAAAAAAAAAAAAAAAAAAAAAAAAAAAAAAAAAAAAAAAAAAAAAAAAAAAAAAAAAAAAAAAAAAAAAAAAAAAAAAAAAAAAAAAAAAAAAAAAAAAAAAAAAAAAAAAAAAAAAAAAAAAAAAAAAAAAAAAAAAAAAAAAAAAAAAAAAAAAAAAAAAAAAAAAAAAAAAAAAAAAAAAAAAAAAAAAAAAAAAAAAAAAAAAAAAAAAAAAAAAAAAAAAAAAAAAAAAAAAAAAAAAAAAAAAAAAAAAAAAAAAAAAAAAAAAAAAAAAAAAAAAAAAAAAAAAAAAAAAAAAAAAAAAAAAAAAAAAAAAAAAAAAAAAAAAAAAAAAAAAAAAAAAAAAAAAAAAAAAAAAAAAAAAAAAAAAAAAAAAAAAAAAAAAAAAAAAAAAAAAAAAAAAAAAAAAAAAAAAAAAAAAAAAAAAAAAAAAAAAAAAAAAAAAAAAAAAAAAAAAAAAAAAAAAAAAAAAAAAAAAAAAAAAAAAAAAAAAAAAAAAAAAAAAAAAAAAAAAAAAAAAAAAAAAAAAAAAAAAAAAAAAAAAAAAAAAAAAAAAAAAAAAAAAAAAAAAAAAAAAAAAAAAAAAAAAAAAAAAAAAAAAAAAAAAAAAAAAAAAAAAAAAAAAAAAAAAAAAAAAAAAAAAAAAAAAAAAAAAAAAAAAAAAAAAAAAAAAAAAAAAAAAAAAAAAAAAAAAAAAAAAAAAAAAAAAAAAAAAAAAAAAAAAAAAAAAAAAAAAAAAAAAAAAAAAAAAAAAAAAAAAAAAAAAAAAAAAAAAAAAAAAAAAAAAAAAAAAAAAAAAAAAAAAAAAAAAAAAAAAAAAAAAAAAAAAAAAAAAAAAAAAAAAAAAAAAAAAAAAAAAAAAAAAAAAAAAAAAAAAAAAAAAAAAAAAAAAAAAAAAAAAAAAAAAAAAAAAAAAAAAAAAAAAAAAAAAAAAAAAAAAAAAAAAAAAAAAAAAAAAAAAAAAAAAAAAAAAAAAAAAAAAAAAAAAAAAAAAAAAAAAAAAAAAAAAAAAAAAAAAAAAAAAAAAAAAAAAAAAAAAAAAAAAAAAAAAAAAAAAAAAAAAAAAAAAAAAAAAAAAAAAAAAAAAAAAAAAAAAAAAAAAAAAAAAAAAAAAAAAAAAAAAAAAAAAAAAAAAAAAAAAAAAAAAAAAAAAAAAAAAAAAAAAAAAAAAAAAAAAAAAAAAAAAAAAAAAAAAAAAAAAAAAAAAAAAAAAAAAAAAAAAAAAAAAAAAAAAAAAAAAAAAAAAAAAAAAAAAAAAAAAAAAAAAAAAAAAAAAAAAAAAAAAAAAAAAAAAAAAAAAAAAAAAAAAAAAAAAAAAAAAAAAAAAAAAAAAAAAAAAAAAAAAAAAAAAAAAAAAAAAAAAAAAAAAAAAAAAAAAAAAAAAAAAAAAAAAAAAAAAAAAAAAAAAAAAAAAAAAAAAAAAAAAAAAAAAAAAAAAAAAAAAAAAAAAAAAAAAAAAAAAAAAAAAAAAAAAAAAAAAAAAAAAAAAAAAAAAAAAAAAAAAAAAAAAAAAAAAAAAAAAAAAAAAAAAAAAAAAAAAAAAAAAAAAAAAAAAAAAAAAAAAAAAAAAAAAAAAAAAAAAAAAAAAAAAAAAAAAAAAAAAAAAAAAAAAAAAAAAAAAAAAAAAAAAAAAAAAAAAAAAAAAAAAAAAAAAAAAAAAAAAAAAAAAAAAAAAAAAAAAAAAAAAAAAAAAAAAAAAAAAAAAAAAAAAAAAAAAAAAAAAAAAAAAAAAAAAAAAAAAAAAAAAAAAAAAAAAAAAAAAAAAAAAAAAAAAAAAAAAAAAAAAAAAAAAAAAAAAAAAAAAAAAAAAAAAAAAAAAAAAAAAAAAAAAAAAAAAAAAAAAAAAAAAAAAAAAAAAAAAAAAAAAAAAAAAAAAAAAAAAAAAAAAAAAAAAAAAAAAAAAAAAAAAAAAAAAAAAAAAAAAAAAAAAAAAAAAAAAAAAAAAAAAAAAAAAAAAAAAAAAAAAAAAAAAAAAAAAAAAAAAAAAAAAAAAAAAAAAAAAAAAAAAAAAAAAAAAAAAAAAAAAAAAAAAAAAAAAAAAAAAAAAAAAAAAAAAAAAAAAAAAAAAAAAAAAAAAAAAAAAAAAAAAAAAAAAAAAAAAAAAAAAAAAAAAAAAAAAAAAAAAAAAAAAAAAAAAAAAAAAAAAAAAAAAAAAAAAAAAAAAAAAAAAAAAAAAAAAAAAAAAAAAAAAAAAAAAAAAAAAAAAAAAAAAAAAAAAAAAAAAAAAAAAAAAAAAAAAAAAAAAAAAAAAAAAAAAAAAAAAAAAAAAAAAAAAAAAAAAAAAAAAAAAAAAAAAAAAAAAAAAAAAAAAAAAAAAAAAAAAAAAAAAAAAAAAAAAAAAAAAAAAAAAAAAAAAAAAAAAAAAAAAAAAAAAAAAAAAAAAAAAAAAAAAAAAAAAAAAAAAAAAAAAAAAAAAAAAAAAAAAAAAAAAAAAAAAAAAAAAAAAAAAAAAAAAAAAAAAAAAAAAAAAAAAAAAAAAAAAAAAAAAAAAAAAAAAAAAAAAAAAAAAAAAAAAAAAAAAAAAAAAAAAAAAAAAAAAAAAAAAAAAAAAAAAAAAAAAAAAAAAAAAAAAAAAAAAAAAAAAAAAAAAAAAAAAAAAAAAAAAAAAAAAAAAAAAAAAAAAAAAAAyMDIxOjA2OjAyIDA4OjU1OjAzADIwMjE6MDY6MDIgMDg6NTU6MDMAAABBAGwAbwBuAGkAYwBhACAAVgBpAGwAbABhAG4AdQBlAHYAYQAAAP/hCyVodHRwOi8vbnMuYWRvYmUuY29tL3hhcC8xLjAvADw/eHBhY2tldCBiZWdpbj0n77u/JyBpZD0nVzVNME1wQ2VoaUh6cmVTek5UY3prYzlkJz8+DQo8eDp4bXBtZXRhIHhtbG5zOng9ImFkb2JlOm5zOm1ldGEvIj48cmRmOlJERiB4bWxuczpyZGY9Imh0dHA6Ly93d3cudzMub3JnLzE5OTkvMDIvMjItcmRmLXN5bnRheC1ucyMiPjxyZGY6RGVzY3JpcHRpb24gcmRmOmFib3V0PSJ1dWlkOmZhZjViZGQ1LWJhM2QtMTFkYS1hZDMxLWQzM2Q3NTE4MmYxYiIgeG1sbnM6ZGM9Imh0dHA6Ly9wdXJsLm9yZy9kYy9lbGVtZW50cy8xLjEvIi8+PHJkZjpEZXNjcmlwdGlvbiByZGY6YWJvdXQ9InV1aWQ6ZmFmNWJkZDUtYmEzZC0xMWRhLWFkMzEtZDMzZDc1MTgyZjFiIiB4bWxuczp4bXA9Imh0dHA6Ly9ucy5hZG9iZS5jb20veGFwLzEuMC8iPjx4bXA6Q3JlYXRlRGF0ZT4yMDIxLTA2LTAyVDA4OjU1OjAzLjM4NDwveG1wOkNyZWF0ZURhdGU+PC9yZGY6RGVzY3JpcHRpb24+PHJkZjpEZXNjcmlwdGlvbiByZGY6YWJvdXQ9InV1aWQ6ZmFmNWJkZDUtYmEzZC0xMWRhLWFkMzEtZDMzZDc1MTgyZjFiIiB4bWxuczpkYz0iaHR0cDovL3B1cmwub3JnL2RjL2VsZW1lbnRzLzEuMS8iPjxkYzpjcmVhdG9yPjxyZGY6U2VxIHhtbG5zOnJkZj0iaHR0cDovL3d3dy53My5vcmcvMTk5OS8wMi8yMi1yZGYtc3ludGF4LW5zIyI+PHJkZjpsaT5BbG9uaWNhIFZpbGxhbnVldmE8L3JkZjpsaT48L3JkZjpTZXE+DQoJCQk8L2RjOmNyZWF0b3I+PC9yZGY6RGVzY3JpcHRpb24+PC9yZGY6UkRGPjwveDp4bXBtZXRhPg0KICAgICAgICAgICAgICAgICAgICAgICAgICAgICAgICAgICAgICAgICAgICAgICAgICAgICAgICAgICAgICAgICAgICAgICAgICAgICAgICAgICAgICAgICAgICAgICAgICAgIAogICAgICAgICAgICAgICAgICAgICAgICAgICAgICAgICAgICAgICAgICAgICAgICAgICAgICAgICAgICAgICAgICAgICAgICAgICAgICAgICAgICAgICAgICAgICAgICAgICAgCiAgICAgICAgICAgICAgICAgICAgICAgICAgICAgICAgICAgICAgICAgICAgICAgICAgICAgICAgICAgICAgICAgICAgICAgICAgICAgICAgICAgICAgICAgICAgICAgICAgICAKICAgICAgICAgICAgICAgICAgICAgICAgICAgICAgICAgICAgICAgICAgICAgICAgICAgICAgICAgICAgICAgICAgICAgICAgICAgICAgICAgICAgICAgICAgICAgICAgICAgIAogICAgICAgICAgICAgICAgICAgICAgICAgICAgICAgICAgICAgICAgICAgICAgICAgICAgICAgICAgICAgICAgICAgICAgICAgICAgICAgICAgICAgICAgICAgICAgICAgICAgCiAgICAgICAgICAgICAgICAgICAgICAgICAgICAgICAgICAgICAgICAgICAgICAgICAgICAgICAgICAgICAgICAgICAgICAgICAgICAgICAgICAgICAgICAgICAgICAgICAgICAKICAgICAgICAgICAgICAgICAgICAgICAgICAgICAgICAgICAgICAgICAgICAgICAgICAgICAgICAgICAgICAgICAgICAgICAgICAgICAgICAgICAgICAgICAgICAgICAgICAgIAogICAgICAgICAgICAgICAgICAgICAgICAgICAgICAgICAgICAgICAgICAgICAgICAgICAgICAgICAgICAgICAgICAgICAgICAgICAgICAgICAgICAgICAgICAgICAgICAgICAgCiAgICAgICAgICAgICAgICAgICAgICAgICAgICAgICAgICAgICAgICAgICAgICAgICAgICAgICAgICAgICAgICAgICAgICAgICAgICAgICAgICAgICAgICAgICAgICAgICAgICAKICAgICAgICAgICAgICAgICAgICAgICAgICAgICAgICAgICAgICAgICAgICAgICAgICAgICAgICAgICAgICAgICAgICAgICAgICAgICAgICAgICAgICAgICAgICAgICAgICAgIAogICAgICAgICAgICAgICAgICAgICAgICAgICAgICAgICAgICAgICAgICAgICAgICAgICAgICAgICAgICAgICAgICAgICAgICAgICAgICAgICAgICAgICAgICAgICAgICAgICAgCiAgICAgICAgICAgICAgICAgICAgICAgICAgICAgICAgICAgICAgICAgICAgICAgICAgICAgICAgICAgICAgICAgICAgICAgICAgICAgICAgICAgICAgICAgICAgICAgICAgICAKICAgICAgICAgICAgICAgICAgICAgICAgICAgICAgICAgICAgICAgICAgICAgICAgICAgICAgICAgICAgICAgICAgICAgICAgICAgICAgICAgICAgICAgICAgICAgICAgICAgIAogICAgICAgICAgICAgICAgICAgICAgICAgICAgICAgICAgICAgICAgICAgICAgICAgICAgICAgICAgICAgICAgICAgICAgICAgICAgICAgICAgICAgICAgICAgICAgICAgICAgCiAgICAgICAgICAgICAgICAgICAgICAgICAgICAgICAgICAgICAgICAgICAgICAgICAgICAgICAgICAgICAgICAgICAgICAgICAgICAgICAgICAgICAgICAgICAgICAgICAgICAKICAgICAgICAgICAgICAgICAgICAgICAgICAgICAgICAgICAgICAgICAgICAgICAgICAgICAgICAgICAgICAgICAgICAgICAgICAgICAgICAgICAgICAgICAgICAgICAgICAgIAogICAgICAgICAgICAgICAgICAgICAgICAgICAgICAgICAgICAgICAgICAgICAgICAgICAgICAgICAgICAgICAgICAgICAgICAgICAgICAgICAgICAgICAgICAgICAgICAgICAgCiAgICAgICAgICAgICAgICAgICAgICAgICAgICAgICAgICAgICAgICAgICAgICAgICAgICAgICAgICAgICAgICAgICAgICAgICAgICAgICAgICAgICAgICAgICAgICAgICAgICAKICAgICAgICAgICAgICAgICAgICAgICAgICAgICAgICAgICAgICAgICAgICAgICAgICAgICAgICAgICAgICAgICAgICAgICAgICAgICAgICAgICAgICAgICAgICAgICAgICAgIAogICAgICAgICAgICAgICAgICAgICAgICAgICAgICAgICAgICAgICAgICAgICAgICAgICAgICAgICAgICAgICAgICAgICAgICAgICAgICAgICAgICAgICAgICAgICAgICAgICAgCiAgICAgICAgICAgICAgICAgICAgICAgICAgICA8P3hwYWNrZXQgZW5kPSd3Jz8+/9sAQwAHBQUGBQQHBgUGCAcHCAoRCwoJCQoVDxAMERgVGhkYFRgXGx4nIRsdJR0XGCIuIiUoKSssKxogLzMvKjInKisq/9sAQwEHCAgKCQoUCwsUKhwYHCoqKioqKioqKioqKioqKioqKioqKioqKioqKioqKioqKioqKioqKioqKioqKioqKioq/8AAEQgAZQC6AwEiAAIRAQMRAf/EAB8AAAEFAQEBAQEBAAAAAAAAAAABAgMEBQYHCAkKC//EALUQAAIBAwMCBAMFBQQEAAABfQECAwAEEQUSITFBBhNRYQcicRQygZGhCCNCscEVUtHwJDNicoIJChYXGBkaJSYnKCkqNDU2Nzg5OkNERUZHSElKU1RVVldYWVpjZGVmZ2hpanN0dXZ3eHl6g4SFhoeIiYqSk5SVlpeYmZqio6Slpqeoqaqys7S1tre4ubrCw8TFxsfIycrS09TV1tfY2drh4uPk5ebn6Onq8fLz9PX29/j5+v/EAB8BAAMBAQEBAQEBAQEAAAAAAAABAgMEBQYHCAkKC//EALURAAIBAgQEAwQHBQQEAAECdwABAgMRBAUhMQYSQVEHYXETIjKBCBRCkaGxwQkjM1LwFWJy0QoWJDThJfEXGBkaJicoKSo1Njc4OTpDREVGR0hJSlNUVVZXWFlaY2RlZmdoaWpzdHV2d3h5eoKDhIWGh4iJipKTlJWWl5iZmqKjpKWmp6ipqrKztLW2t7i5usLDxMXGx8jJytLT1NXW19jZ2uLj5OXm5+jp6vLz9PX29/j5+v/aAAwDAQACEQMRAD8A+kaKKKACiiigAooooAKKKKACiiigAooooAKKKKACiiigAooooAKKKKACiiigAooooAKKKKACiiigAooooAKKKKACiiigAooooAKKK45viNanxhc+GYND1afUrcFig+zoJEH8SF5V3Ag59cduDR1sHS52NFYX/CQal/0KGtf9/rL/AOSKxtc+JkPhpFk1zwx4htICQDP5EMka5OOWSUgUAdtRTYpEmhSWJg6OoZWHQg9DTqA3CiiigAooooAKKKKACiiigAooooAKKKKACiiigAooooAKKKKACuF+Jfg651uzt9c8PMYfEOknzbWROsqjkxn19s9+OhNd1UV1dQWNnLdXkqwwQoXkkc4CqBkk0n3Guxz/AIE8Y2/jTw5HfRqIbuI+VeWx6wyDqMeh6j/6xrobm2hvLWW2uokmhlUpJG4yrKeCCK47wd4chXxLqvi6K2l09dWAEVmSV3IOfNdOzsecdgeeSa7WqlruiVpsU9J02LR9JttOt5JZIbaMRxtK25to6AnAzgcfhXNa54/OjaZcayulm40W0uPs81yLgLI7b9hMUe3DgNxksucHGRzXYnpXi3ijxgnjLRNLs5rBtNtU1pP7SVpA4toEfAaYgARbmPRsfdz05pauS/rqPRRv/WzO/wDDnjR9c8SX2jXOmPZ3FpBHcEiUyBVcZCv8oCvgg4BYdfm4rqqydI1tdZu7lrGNZNNiCrDeK3y3D87tnGCoG35gcEkgdK1qYgooopDCiiigAooooAKKKKACiiigDG1m3aFJb248T3WkWqgbiPsyxx/8Ckibr7ms9ZbYG0/4r+c/bRi1HmWP7/t8n7n5vwrQ1FNKPiGym1G+iFzbwySW1nJIoyeN0oU8kqoIz2BPrXmngrwto/iLwVdazrc0tjDquttdgwyCLzFEhWOJjjlS5PHqRiiOr/rvb+vQHt/Xa57BbxPDbpHJPJcMowZZAoZ/c7QB+QFSUVy+vTeFE1QjXPEX9n3WwZh/t6W0wOx8tZVH445oA6iiuF+0+AP+hx/8uyf/AOP1veG5NBkS4/4R7V/7TUFfNP8Aasl7sPOOXdtueemM0AblcD4h1a/u/FC2t34Y1u80axYOq2sCMt3MDkFtzr8i9QO55PAGe7nErW8gtnSOYoRG8iF1VscEqCCRntkZ9RWL9k8Wf9BvRf8AwTy//JNHW4dLFD/hObn/AKEvxP8A+A0P/wAdrC8SeNfGNzYva+FfBWpwTyjaLu9CDys9wqsQT7k/ga6z7J4s/wCg3ov/AIJ5f/kmj7J4s/6Dei/+CeX/AOSaLX3C9i9oWmLoug2WnIxb7NCsZc9XYDlj7k5P41frC+yeLP8AoN6L/wCCeX/5Jo+yeLP+g3ov/gnl/wDkmm3d3ElZWN2isaC18TrcRm51fSZIQ4MiR6VKjMueQGNwQDjvg49DWzSGFFFFABRRRQAUUUUAFFFFABRRRQBzmueCNM17W4tVupLiK5S3a1cwso82JicoSVJXOSMoVOCRmk0nwPp+ji2hhuryaxspDLZ2MzqYrdiScjChmxk43s2O1dJRQtAeu4UUUUAFFFFABRRRQAV5L8QvFHijwr4ja70jVJ7rSrHybjUbaWGEhElkZVRSIw2MKeSxPI5r1quM0nSrfxRp/imS9G+DV7uW1U+kUS+SCP8AgSuw+tJ3vddNfXyGrWs+uha8Y6lc/wDCBy6xoGqy2cghWa2khjjkE5YAIpDq3BLL0wfetfQ7HULDT1TV9Wm1S5YAvLJFHGFOOQoRRxn1yfevJPBGq3N7Z6b4B1Pm+0nWMTqT1t4d0in6b1VfpivbarTdbP8AInXZ7r+v69QooopDCiiigAooooAKKKKACiiigAooooAKKKKACiiigAooooAKKKKAKOrW+pXNkY9Gv4LCcnmaa1M4Awei715zjk5HtVDwhoV/4b0OPTL/AFOLUVh4ilS1MLYJJO7523Ek9eK3aKAOctfBdlafEK88WRPi4u7Rbd4tvAYEZfOepCqMY7e9dHRRR0sHW4UUUUAFFFFABRRRQAUUUUAFFFFABRRRQAUUUUAFFFFABRRRQAUUUUAFFFFABRRRQAUUUUAFFFFABRRRQB//2Q==)\n"
      ]
    },
    {
      "cell_type": "markdown",
      "metadata": {
        "id": "ja3Y3XYiOFlK"
      },
      "source": [
        "![mean2.JPG](data:image/jpeg;base64,/9j/4AAQSkZJRgABAQEAeAB4AAD/4REERXhpZgAATU0AKgAAAAgABAE7AAIAAAATAAAISodpAAQAAAABAAAIXpydAAEAAAAmAAAQ1uocAAcAAAgMAAAAPgAAAAAc6gAAAAgAAAAAAAAAAAAAAAAAAAAAAAAAAAAAAAAAAAAAAAAAAAAAAAAAAAAAAAAAAAAAAAAAAAAAAAAAAAAAAAAAAAAAAAAAAAAAAAAAAAAAAAAAAAAAAAAAAAAAAAAAAAAAAAAAAAAAAAAAAAAAAAAAAAAAAAAAAAAAAAAAAAAAAAAAAAAAAAAAAAAAAAAAAAAAAAAAAAAAAAAAAAAAAAAAAAAAAAAAAAAAAAAAAAAAAAAAAAAAAAAAAAAAAAAAAAAAAAAAAAAAAAAAAAAAAAAAAAAAAAAAAAAAAAAAAAAAAAAAAAAAAAAAAAAAAAAAAAAAAAAAAAAAAAAAAAAAAAAAAAAAAAAAAAAAAAAAAAAAAAAAAAAAAAAAAAAAAAAAAAAAAAAAAAAAAAAAAAAAAAAAAAAAAAAAAAAAAAAAAAAAAAAAAAAAAAAAAAAAAAAAAAAAAAAAAAAAAAAAAAAAAAAAAAAAAAAAAAAAAAAAAAAAAAAAAAAAAAAAAAAAAAAAAAAAAAAAAAAAAAAAAAAAAAAAAAAAAAAAAAAAAAAAAAAAAAAAAAAAAAAAAAAAAAAAAAAAAAAAAAAAAAAAAAAAAAAAAAAAAAAAAAAAAAAAAAAAAAAAAAAAAAAAAAAAAAAAAAAAAAAAAAAAAAAAAAAAAAAAAAAAAAAAAAAAAAAAAAAAAAAAAAAAAAAAAAAAAAAAAAAAAAAAAAAAAAAAAAAAAAAAAAAAAAAAAAAAAAAAAAAAAAAAAAAAAAAAAAAAAAAAAAAAAAAAAAAAAAAAAAAAAAAAAAAAAAAAAAAAAAAAAAAAAAAAAAAAAAAAAAAAAAAAAAAAAAAAAAAAAAAAAAAAAAAAAAAAAAAAAAAAAAAAAAAAAAAAAAAAAAAAAAAAAAAAAAAAAAAAAAAAAAAAAAAAAAAAAAAAAAAAAAAAAAAAAAAAAAAAAAAAAAAAAAAAAAAAAAAAAAAAAAAAAAAAAAAAAAAAAAAAAAAAAAAAAAAAAAAAAAAAAAAAAAAAAAAAAAAAAAAAAAAAAAAAAAAAAAAAAAAAAAAAAAAAAAAAAAAAAAAAAAAAAAAAAAAAAAAAAAAAAAAAAAAAAAAAAAAAAAAAAAAAAAAAAAAAAAAAAAAAAAAAAAAAAAAAAAAAAAAAAAAAAAAAAAAAAAAAAAAAAAAAAAAAAAAAAAAAAAAAAAAAAAAAAAAAAAAAAAAAAAAAAAAAAAAAAAAAAAAAAAAAAAAAAAAAAAAAAAAAAAAAAAAAAAAAAAAAAAAAAAAAAAAAAAAAAAAAAAAAAAAAAAAAAAAAAAAAAAAAAAAAAAAAAAAAAAAAAAAAAAAAAAAAAAAAAAAAAAAAAAAAAAAAAAAAAAAAAAAAAAAAAAAAAAAAAAAAAAAAAAAAAAAAAAAAAAAAAAAAAAAAAAAAAAAAAAAAAAAAAAAAAAAAAAAAAAAAAAAAAAAAAAAAAAAAAAAAAAAAAAAAAAAAAAAAAAAAAAAAAAAAAAAAAAAAAAAAAAAAAAAAAAAAAAAAAAAAAAAAAAAAAAAAAAAAAAAAAAAAAAAAAAAAAAAAAAAAAAAAAAAAAAAAAAAAAAAAAAAAAAAAAAAAAAAAAAAAAAAAAAAAAAAAAAAAAAAAAAAAAAAAAAAAAAAAAAAAAAAAAAAAAAAAAAAAAAAAAAAAAAAAAAAAAAAAAAAAAAAAAAAAAAAAAAAAAAAAAAAAAAAAAAAAAAAAAAAAAAAAAAAAAAAAAAAAAAAAAAAAAAAAAAAAAAAAAAAAAAAAAAAAAAAAAAAAAAAAAAAAAAAAAAAAAAAAAAAAAAAAAAAAAAAAAAAAAAAAAAAAAAAAAAAAAAAAAAAAAAAAAAAAAAAAAAAAAAAAAAAAAAAAAAAAAAAAAAAAAAAAAAAAAAAAAAAAAAAAAAAAAAAAAAAAAAAAAAAAAAAAAAAAAAAAAAAAAAAAAAAAAAAAAAAAAAAAAAAAAAAAAAAAAAAAAAAAAAAAAAAAAAAAAAAAAAAAAAAAAAAAAAAAAAAAAAAAAAAAAAAAAAAAAAAAAAAAAAAAAAAAAAAAAAAAAAAAAAAAAAAAAAAAAAAAAAAAAAAAAAAAAAAAAAAAAAAAAAAAAAAAAAAAAAAAAAAAAAAAAAAAAAAAAAAAAAAAAAAAAAAAAAAAAAAAAAAAAAAAAAAAAAAAAAAAAAAAAAAAAAAAAAAAAAAAAAAAAAAAAAAAAAAAAAAAAAAAAAAAAAAAAAAAAAAAAAAAAAAAAAAAAAAAAAAAAAAAAAAAAAAAAAAAAAAAAAAAAAAAAAAAAAAAAAAAAAAAAAAAAAAAAAAAAAAAAAAAAAAAAAAAAAAAAAAAAAAAAAAAAAAAAAAAAAAAAAAAAAAAAAAAAAAAAAAAAAAAAAAAAAAAAAAAAAAAAAAAAAAAAAAAAAAAAAAAAAAAAAAAAAAAAAAAAAAAAAAAAAAAAAAAAAAAAAAAAAAAAAAAAAAAAAAAAAAAAAAAAAAAAAAAAAAAAAAAAAAAAAAAAAAAAAAAAAAAAAAAAAAAAAAAAAAAAAAAAAAAAAAAAAAAAAAAAAAAAAAAAAAAAAAAAAAAAAAAAAAAAAAAAAAAAAAAAAAAAAAAAAAAAAAAAAAAAAAAAAAAAAAAAAAAAAAAAAAAAAAAAAAAAAAAAAAAAAAAAAAAAAAAAAAAAAAAAAAAAAAAAAAAAAAAAAAAAAAAAAAAAAAAAAAAAAAAAAAAAAAAAAAAAAAAAAAAAAAAAAAAAAAAAEFsb25pY2EgVmlsbGFudWV2YQAAAAWQAwACAAAAFAAAEKyQBAACAAAAFAAAEMCSkQACAAAAAzY4AACSkgACAAAAAzY4AADqHAAHAAAIDAAACKAAAAAAHOoAAAAIAAAAAAAAAAAAAAAAAAAAAAAAAAAAAAAAAAAAAAAAAAAAAAAAAAAAAAAAAAAAAAAAAAAAAAAAAAAAAAAAAAAAAAAAAAAAAAAAAAAAAAAAAAAAAAAAAAAAAAAAAAAAAAAAAAAAAAAAAAAAAAAAAAAAAAAAAAAAAAAAAAAAAAAAAAAAAAAAAAAAAAAAAAAAAAAAAAAAAAAAAAAAAAAAAAAAAAAAAAAAAAAAAAAAAAAAAAAAAAAAAAAAAAAAAAAAAAAAAAAAAAAAAAAAAAAAAAAAAAAAAAAAAAAAAAAAAAAAAAAAAAAAAAAAAAAAAAAAAAAAAAAAAAAAAAAAAAAAAAAAAAAAAAAAAAAAAAAAAAAAAAAAAAAAAAAAAAAAAAAAAAAAAAAAAAAAAAAAAAAAAAAAAAAAAAAAAAAAAAAAAAAAAAAAAAAAAAAAAAAAAAAAAAAAAAAAAAAAAAAAAAAAAAAAAAAAAAAAAAAAAAAAAAAAAAAAAAAAAAAAAAAAAAAAAAAAAAAAAAAAAAAAAAAAAAAAAAAAAAAAAAAAAAAAAAAAAAAAAAAAAAAAAAAAAAAAAAAAAAAAAAAAAAAAAAAAAAAAAAAAAAAAAAAAAAAAAAAAAAAAAAAAAAAAAAAAAAAAAAAAAAAAAAAAAAAAAAAAAAAAAAAAAAAAAAAAAAAAAAAAAAAAAAAAAAAAAAAAAAAAAAAAAAAAAAAAAAAAAAAAAAAAAAAAAAAAAAAAAAAAAAAAAAAAAAAAAAAAAAAAAAAAAAAAAAAAAAAAAAAAAAAAAAAAAAAAAAAAAAAAAAAAAAAAAAAAAAAAAAAAAAAAAAAAAAAAAAAAAAAAAAAAAAAAAAAAAAAAAAAAAAAAAAAAAAAAAAAAAAAAAAAAAAAAAAAAAAAAAAAAAAAAAAAAAAAAAAAAAAAAAAAAAAAAAAAAAAAAAAAAAAAAAAAAAAAAAAAAAAAAAAAAAAAAAAAAAAAAAAAAAAAAAAAAAAAAAAAAAAAAAAAAAAAAAAAAAAAAAAAAAAAAAAAAAAAAAAAAAAAAAAAAAAAAAAAAAAAAAAAAAAAAAAAAAAAAAAAAAAAAAAAAAAAAAAAAAAAAAAAAAAAAAAAAAAAAAAAAAAAAAAAAAAAAAAAAAAAAAAAAAAAAAAAAAAAAAAAAAAAAAAAAAAAAAAAAAAAAAAAAAAAAAAAAAAAAAAAAAAAAAAAAAAAAAAAAAAAAAAAAAAAAAAAAAAAAAAAAAAAAAAAAAAAAAAAAAAAAAAAAAAAAAAAAAAAAAAAAAAAAAAAAAAAAAAAAAAAAAAAAAAAAAAAAAAAAAAAAAAAAAAAAAAAAAAAAAAAAAAAAAAAAAAAAAAAAAAAAAAAAAAAAAAAAAAAAAAAAAAAAAAAAAAAAAAAAAAAAAAAAAAAAAAAAAAAAAAAAAAAAAAAAAAAAAAAAAAAAAAAAAAAAAAAAAAAAAAAAAAAAAAAAAAAAAAAAAAAAAAAAAAAAAAAAAAAAAAAAAAAAAAAAAAAAAAAAAAAAAAAAAAAAAAAAAAAAAAAAAAAAAAAAAAAAAAAAAAAAAAAAAAAAAAAAAAAAAAAAAAAAAAAAAAAAAAAAAAAAAAAAAAAAAAAAAAAAAAAAAAAAAAAAAAAAAAAAAAAAAAAAAAAAAAAAAAAAAAAAAAAAAAAAAAAAAAAAAAAAAAAAAAAAAAAAAAAAAAAAAAAAAAAAAAAAAAAAAAAAAAAAAAAAAAAAAAAAAAAAAAAAAAAAAAAAAAAAAAAAAAAAAAAAAAAAAAAAAAAAAAAAAAAAAAAAAAAAAAAAAAAAAAAAAAAAAAAAAAAAAAAAAAAAAAAAAAAAAAAAAAAAAAAAAAAAAAAAAAAAAAAAAAAAAAAAAAAAAAAAAAAAAAAAAAAAAAAAAAAAAAAAAAAAAAAAAAAAAAAAAAAAAAAAAAAAAAAAAAAAAAAAAAAAAAAAAAAAAAAAAAAAAAAAAAAAAAAAAAAAAAAAAAAAAAAAAAAAAAAAAAAAAAAAAAAAAAAAAAAAAAAAAAAAAAAAAAAAAAAAAAAAAAAAAAAAAAAAAAAAAAAAAAAAAAAAAAAAAAAAAAAAAAAAAAAAAAAAAAAAAAAAAAAAAAAAAAAAAAAAAAAAAAAAAAAAAAAAAAAAAAAAAAAAAAAAAAAAAAAAAAAAAAAAAAAAAAAAAAAAAAAAAAAAAAAAAAAAAAAAAAAAAAAAAAAAAAAAAAAAAAAAAAAAAAAAAAAAAAAAAAAAAAAAAAAAAAAAAAAAAAAAAAAAAAAAAAAAAAAAAAAAAAAAAAAAAAAAAAAAAAAAAAAAAAAAAAAAAAAAAAAAAAAAAAAAAAAAAAAAAAAAAAAAAAAAAAAAAAAAAAAAAAAAAAAAAAAAAAAAAAAAAAAAAAAAAAAAAAAAAAAAAAAAAAAAAAAAAAAAAAAAAAAAAAAAAAAAAAAAAAAAAAAAAAAAAAAAAAAAAAAAAAAAAAAAAAAAAAAAAAAAAAAAAAAAAAAAAAAAAAAAAAAAAAAAAAAAAAAAAAAAAAAAAAAAAAAAAAAAAAAAAAAAAAAAAAAAAAAAAAAAAAAAAAAAAAAAAAAAAAAAAAAAAAAAAAAAAAAAAAAAAAAAAAAAAAAAAAAAAAAAAAAAAAAAAAAAAAAAAAAAAAAAAAAAAAAAAAAAAAAAAAAAAAAAAAAAAAAAAAAAAAAAAAAAAAAAAAAAAAAAAAAAAAAAAAAAAAAAAAAAAAAAAAAAAAAAAAAAAAAyMDIxOjA2OjAyIDA4OjU1OjE1ADIwMjE6MDY6MDIgMDg6NTU6MTUAAABBAGwAbwBuAGkAYwBhACAAVgBpAGwAbABhAG4AdQBlAHYAYQAAAP/hCyVodHRwOi8vbnMuYWRvYmUuY29tL3hhcC8xLjAvADw/eHBhY2tldCBiZWdpbj0n77u/JyBpZD0nVzVNME1wQ2VoaUh6cmVTek5UY3prYzlkJz8+DQo8eDp4bXBtZXRhIHhtbG5zOng9ImFkb2JlOm5zOm1ldGEvIj48cmRmOlJERiB4bWxuczpyZGY9Imh0dHA6Ly93d3cudzMub3JnLzE5OTkvMDIvMjItcmRmLXN5bnRheC1ucyMiPjxyZGY6RGVzY3JpcHRpb24gcmRmOmFib3V0PSJ1dWlkOmZhZjViZGQ1LWJhM2QtMTFkYS1hZDMxLWQzM2Q3NTE4MmYxYiIgeG1sbnM6ZGM9Imh0dHA6Ly9wdXJsLm9yZy9kYy9lbGVtZW50cy8xLjEvIi8+PHJkZjpEZXNjcmlwdGlvbiByZGY6YWJvdXQ9InV1aWQ6ZmFmNWJkZDUtYmEzZC0xMWRhLWFkMzEtZDMzZDc1MTgyZjFiIiB4bWxuczp4bXA9Imh0dHA6Ly9ucy5hZG9iZS5jb20veGFwLzEuMC8iPjx4bXA6Q3JlYXRlRGF0ZT4yMDIxLTA2LTAyVDA4OjU1OjE1LjY4MzwveG1wOkNyZWF0ZURhdGU+PC9yZGY6RGVzY3JpcHRpb24+PHJkZjpEZXNjcmlwdGlvbiByZGY6YWJvdXQ9InV1aWQ6ZmFmNWJkZDUtYmEzZC0xMWRhLWFkMzEtZDMzZDc1MTgyZjFiIiB4bWxuczpkYz0iaHR0cDovL3B1cmwub3JnL2RjL2VsZW1lbnRzLzEuMS8iPjxkYzpjcmVhdG9yPjxyZGY6U2VxIHhtbG5zOnJkZj0iaHR0cDovL3d3dy53My5vcmcvMTk5OS8wMi8yMi1yZGYtc3ludGF4LW5zIyI+PHJkZjpsaT5BbG9uaWNhIFZpbGxhbnVldmE8L3JkZjpsaT48L3JkZjpTZXE+DQoJCQk8L2RjOmNyZWF0b3I+PC9yZGY6RGVzY3JpcHRpb24+PC9yZGY6UkRGPjwveDp4bXBtZXRhPg0KICAgICAgICAgICAgICAgICAgICAgICAgICAgICAgICAgICAgICAgICAgICAgICAgICAgICAgICAgICAgICAgICAgICAgICAgICAgICAgICAgICAgICAgICAgICAgICAgICAgIAogICAgICAgICAgICAgICAgICAgICAgICAgICAgICAgICAgICAgICAgICAgICAgICAgICAgICAgICAgICAgICAgICAgICAgICAgICAgICAgICAgICAgICAgICAgICAgICAgICAgCiAgICAgICAgICAgICAgICAgICAgICAgICAgICAgICAgICAgICAgICAgICAgICAgICAgICAgICAgICAgICAgICAgICAgICAgICAgICAgICAgICAgICAgICAgICAgICAgICAgICAKICAgICAgICAgICAgICAgICAgICAgICAgICAgICAgICAgICAgICAgICAgICAgICAgICAgICAgICAgICAgICAgICAgICAgICAgICAgICAgICAgICAgICAgICAgICAgICAgICAgIAogICAgICAgICAgICAgICAgICAgICAgICAgICAgICAgICAgICAgICAgICAgICAgICAgICAgICAgICAgICAgICAgICAgICAgICAgICAgICAgICAgICAgICAgICAgICAgICAgICAgCiAgICAgICAgICAgICAgICAgICAgICAgICAgICAgICAgICAgICAgICAgICAgICAgICAgICAgICAgICAgICAgICAgICAgICAgICAgICAgICAgICAgICAgICAgICAgICAgICAgICAKICAgICAgICAgICAgICAgICAgICAgICAgICAgICAgICAgICAgICAgICAgICAgICAgICAgICAgICAgICAgICAgICAgICAgICAgICAgICAgICAgICAgICAgICAgICAgICAgICAgIAogICAgICAgICAgICAgICAgICAgICAgICAgICAgICAgICAgICAgICAgICAgICAgICAgICAgICAgICAgICAgICAgICAgICAgICAgICAgICAgICAgICAgICAgICAgICAgICAgICAgCiAgICAgICAgICAgICAgICAgICAgICAgICAgICAgICAgICAgICAgICAgICAgICAgICAgICAgICAgICAgICAgICAgICAgICAgICAgICAgICAgICAgICAgICAgICAgICAgICAgICAKICAgICAgICAgICAgICAgICAgICAgICAgICAgICAgICAgICAgICAgICAgICAgICAgICAgICAgICAgICAgICAgICAgICAgICAgICAgICAgICAgICAgICAgICAgICAgICAgICAgIAogICAgICAgICAgICAgICAgICAgICAgICAgICAgICAgICAgICAgICAgICAgICAgICAgICAgICAgICAgICAgICAgICAgICAgICAgICAgICAgICAgICAgICAgICAgICAgICAgICAgCiAgICAgICAgICAgICAgICAgICAgICAgICAgICAgICAgICAgICAgICAgICAgICAgICAgICAgICAgICAgICAgICAgICAgICAgICAgICAgICAgICAgICAgICAgICAgICAgICAgICAKICAgICAgICAgICAgICAgICAgICAgICAgICAgICAgICAgICAgICAgICAgICAgICAgICAgICAgICAgICAgICAgICAgICAgICAgICAgICAgICAgICAgICAgICAgICAgICAgICAgIAogICAgICAgICAgICAgICAgICAgICAgICAgICAgICAgICAgICAgICAgICAgICAgICAgICAgICAgICAgICAgICAgICAgICAgICAgICAgICAgICAgICAgICAgICAgICAgICAgICAgCiAgICAgICAgICAgICAgICAgICAgICAgICAgICAgICAgICAgICAgICAgICAgICAgICAgICAgICAgICAgICAgICAgICAgICAgICAgICAgICAgICAgICAgICAgICAgICAgICAgICAKICAgICAgICAgICAgICAgICAgICAgICAgICAgICAgICAgICAgICAgICAgICAgICAgICAgICAgICAgICAgICAgICAgICAgICAgICAgICAgICAgICAgICAgICAgICAgICAgICAgIAogICAgICAgICAgICAgICAgICAgICAgICAgICAgICAgICAgICAgICAgICAgICAgICAgICAgICAgICAgICAgICAgICAgICAgICAgICAgICAgICAgICAgICAgICAgICAgICAgICAgCiAgICAgICAgICAgICAgICAgICAgICAgICAgICAgICAgICAgICAgICAgICAgICAgICAgICAgICAgICAgICAgICAgICAgICAgICAgICAgICAgICAgICAgICAgICAgICAgICAgICAKICAgICAgICAgICAgICAgICAgICAgICAgICAgICAgICAgICAgICAgICAgICAgICAgICAgICAgICAgICAgICAgICAgICAgICAgICAgICAgICAgICAgICAgICAgICAgICAgICAgIAogICAgICAgICAgICAgICAgICAgICAgICAgICAgICAgICAgICAgICAgICAgICAgICAgICAgICAgICAgICAgICAgICAgICAgICAgICAgICAgICAgICAgICAgICAgICAgICAgICAgCiAgICAgICAgICAgICAgICAgICAgICAgICAgICA8P3hwYWNrZXQgZW5kPSd3Jz8+/9sAQwAHBQUGBQQHBgUGCAcHCAoRCwoJCQoVDxAMERgVGhkYFRgXGx4nIRsdJR0XGCIuIiUoKSssKxogLzMvKjInKisq/9sAQwEHCAgKCQoUCwsUKhwYHCoqKioqKioqKioqKioqKioqKioqKioqKioqKioqKioqKioqKioqKioqKioqKioqKioq/8AAEQgAfQFhAwEiAAIRAQMRAf/EAB8AAAEFAQEBAQEBAAAAAAAAAAABAgMEBQYHCAkKC//EALUQAAIBAwMCBAMFBQQEAAABfQECAwAEEQUSITFBBhNRYQcicRQygZGhCCNCscEVUtHwJDNicoIJChYXGBkaJSYnKCkqNDU2Nzg5OkNERUZHSElKU1RVVldYWVpjZGVmZ2hpanN0dXZ3eHl6g4SFhoeIiYqSk5SVlpeYmZqio6Slpqeoqaqys7S1tre4ubrCw8TFxsfIycrS09TV1tfY2drh4uPk5ebn6Onq8fLz9PX29/j5+v/EAB8BAAMBAQEBAQEBAQEAAAAAAAABAgMEBQYHCAkKC//EALURAAIBAgQEAwQHBQQEAAECdwABAgMRBAUhMQYSQVEHYXETIjKBCBRCkaGxwQkjM1LwFWJy0QoWJDThJfEXGBkaJicoKSo1Njc4OTpDREVGR0hJSlNUVVZXWFlaY2RlZmdoaWpzdHV2d3h5eoKDhIWGh4iJipKTlJWWl5iZmqKjpKWmp6ipqrKztLW2t7i5usLDxMXGx8jJytLT1NXW19jZ2uLj5OXm5+jp6vLz9PX29/j5+v/aAAwDAQACEQMRAD8A+kaKKKACiiigAooooAKKKKACiiigAooooAKKKKACiiigAooooAKKKKACiiigAooooAKKKKACiiigAooooAKKKKACiiigAooooAKKKKACiiigAooooAKKKKACiiigArJ13XP7Ek0tfs/n/wBoX8dnnft8vcGO7oc429OOvWtauM+I0MtxH4bit7l7SV9cgCzxqrNGdknIDAg/iDQt16r8w6P0f5G9r2t/2Iunn7P5/wBtvorP7+3ZvJG7oc4x0/WrNzrGmWV5DaXmo2lvcz/6mCWdVeT/AHVJyfwriPFGkapZXHh+W+8SXmpRf21bDyJre3Rc5POUjU/rWKtpd6jJ4vt9Q1Hw/a772ZLr+07R3njhx+6YP5qgKEwV44Oe9JbP5/8Atv8AmO2v3fr/AJHqFxrOmWl19mutRtIJ9yL5Uk6q2XJCDBOcsQceuDilOsaYuqDTTqNoL8jcLUzr5pHrszn9K4vQNKt5fiFfPeCDUbq00axWK6kQNlv3mXGemSoOa5jR7C81PwWqX2teH7GX7buuZZ7RxeRXQmzy5lHz7sAHb0IwMVVtbf1vb+vuJ6X/AK2uez0VFDdQXDSpBPHK0L+XKEcExtgHa2OhwQcH1FS0hhRRRQAUUUUAFFFFABRRRQAUUUUAFFFFABRRRQAUUUUAFFFFABRRRQAUUUUAFFFFABRRRQAUUUUAFFFFABRRRQAUUUUAFFFFABRRRQAVFPaW90YjdW8UxhkEsRkQN5bjowz0IyeR61LXP+Nk8Qf8IzPN4RuRDqMH7xYzGr+eo6p8wOCex9R70m7ajSvobc9rb3Xl/aoIpvKkEkfmIG2OOjDPQj1qvd6LpV/dxXV9plnc3EP+qmmt1d4/oxGR+Fc34TvX8XeHYNVsfE2qrv8AlmhMdruhkH3kP7nqP1GD3p3iDTfF9lai98PeIJb1rciSSxu7WEm4UHJRXRFwSOBx+IpvR6iWq0OqW1t0u5LpIIluJVVJJggDuozgE9SBk4+pqu2i6U+qDUn0yza/XgXRt1Mo/wCB4z+tWoZRNBHKFZQ6hgrqVIyM4IPQ0+jZhujN0bRk0j7c4laaW+u3upXIxy2AAB6BVUfhWlRRQAUUUUAFFFFABRRVW41O0tNQtLG4l2XN6XECbSd+wbm5AwMD1oAtUUVFc3MVnaTXNy2yGFDJI2CdqgZJwOelGwbktFYkviWEanoVvaxefBrSyPHPuK7FWPeDtIycg+2K26Ng3CiiigAooooAKKKKACiiigAoqK5uYrO0mubltkMKGSRsE7VAyTgc9Kqx6k90dOm062N1Y3iGRrneE8pCu5DtPJ3cDHbvQBfooooAKKKKACiiigAooooAKKKKACiiigAooooAKKKKACiiigAoorK8R62vh/RpL37PNcyZCRRQxO5Zj0yFBIUdScHgdzgUthrU5aPRrnQPi0s3h0xtY6xE02q2ROBAy/dnHoWPGO53e5Xvq4rSPFeg6bbu082p3F7cN5l1cHRrseY/sPK4UDgDsB65NQa/8R8WwtPC2lapfajckRQySadNFDCzHAZy6jgZzwO3an0SFu7nbXf/AB4z/wDXNv5V5FZWCaJ8H9EvdIiIvdXNnb3lw900bNEzfc8zny152ggcBuK9ejiP2RYbhzM2wK7kY3nGCeOmfaqcegaXH4fTQxZRvpiRCEW0mXXYOg+bJP160rWb+X4X/MN7fP8AT8jzbWdB1PSfD/iKaPSbHRNMk0S4WWztL9p1klAG2TaUUKcbgSOuRmta60bT/D134U1PRFaG/vLyK2ndZGZryJ42L+YSfnxjdk9MVqa34IsoPB+t23h6xZ7+8sJLeNprhpHOVOEDyMdq57ZArR0Xwdo2lTW97BYCO8ihCKWld1hyAGCKSVTP+yBVLf7vzf8Awwnt9/5I89t7NNI+Gms+ItNRl1Z7y5t/tTTMDDE12VYKeQgxzkDg81vaPoGo6Trtve2+l6f4esRbyrevBqbT/aBtysjK0agspGd5OcE5rtLXRNOs9Ll06C1T7HM0jSQyEurmRiz53ZyCWPHTmqml+END0a48+wstsgQxo0szy+Wp6qgdjsHsuBU9LeX6FPe/n+pxGiaXBod/oU2p2ciXNxOqR6/pl4JU1JmUkCcMN21+vRgCBhhWdZabrviXR7rV4NJsjq7XU3lavLqrJNaskhAQIIztVQACm7BGc9a9FsfBXh/TdQjvLPTxHLCxaFTK7Rwk9THGWKIeT90DrRceCvD93qUl9PpytLK4klUSusUrD+J4wdjnjqQarrf+un9dBf1+f9dTk7Hwzpuva540bWrf7S6XaBAznbE32aM71GeGz/F14FVLLTrHV7z4dX+qWdvd3d1Zu0880Ss8pWAFSxIycHkZ716RbaRY2k99NbwbHv3Elyd7HzGChM8nj5VA4xVOXwnos2m6fYvaEQabt+ybJpFaHAwMOGDdODk8980lovu/BO4rfr+Oxwuu6XAlzres6lanVrRZ2ddX029AvNLVAAUVG4XYQT8pJOTlTXaeKrSz1PwNqC3cMd5CLN5U8+MN8wQlWwRwe9F74K8PahfyXl3pweSZg8yiV1jmYdC8YYI54H3ga25Io5YWikRWjdSrIRwQeMVLV6fL/X9f1qWnafMeYw6Hp00fw8sRbLDazW8sksUH7sSMbdS27bjOT19e9Rau0vhXS/GFj4dzaWsVxZCKJJTGtsJtqyFW52A8nI6E5rvrDwpo2mfYvsdq6fYGdrXdcSP5W9drAbmPGOAOg7Yq02i6c8t/JJaJIdRVUuhJlllVV2gFTxjBxwKuTu211IirJJ9DkPDnh7U9L8VWtzbaNYaJYtBIl3Fbai0/2k8FHKmNfmB/i5JDGrfjLSm1fXNPQQ2erx28Mjy6Jc3XleaCVAmAwQxXkfMMfN1BrZ0nwnouiXP2jTrMpME2I8s0kpjX+6m9jsXgcLgcVNrHh3S9dMLanbF5IM+VNHK8UkeeoDoQwB7jPNJ9BrS5wdlJafavCcdiL6KO31u6he3v3DvauIZMxBhkFR/DyeO9V/GYD3fj9ckf6FpwJB5HzvXfSeEdCl0OPSG09BZRSeaiI7KyyZzvDg7g2Sfmznk81BF4G8OwWt7bx6diO/VFuszSFpthJUsxbJOSec5Pcmh67/1og2/rzucxqvhPR7Tx94es7S3eG31KG5F/GkzgXgjVWXzefn5JJz175rK1jTreytta0SzDwadDr+miGCOQqIRJ5TMEI5Xkk8dD0r1GfS7O51Oz1CeHddWQdbeTcRsDgBuAcHIA65qtceGtJu5riW4tN73FxDcynzHG6SLHltweMbRwODjnNNaNf11uHR/10ONk8I6LF8TYdLhs/L0260uS5ubJJGEM8iyqqs6Zwxw5698HtVSNLW302fw/5N1dwnxBLa2Onpc+XG6iMSeXI5yREPmOBnoBg9K9GbS7NtZTVWhzexwNbrLuPEZYMVxnHVRzjNUrvwnol/az291Yh0uLn7W58xwwmwBvVgcocD+EipXS/n/6VdfhoN/191vzOBs9NQQ+N9E1DSrG3s7WyiuodPimNzDBI0cnzJuRdp+VTgKMHnvV3TLO3sJvh2ljbRQK1rNIUiQKGc2wJJx3J6mux0zwnomjPdNp1gsTXkax3JLs/nAZxu3E5PzHJPJzyaLDwpo2mfYvsdq6fYGdrXdcSP5W9drAbmPGOAOg7Yp9/O34X/r5Cetvn+n9fM8/XTrKb4WT+MLiRk8RLFJd/wBoeYfNjmVjiIc8KCAmzpjjFalhoGn+JfHHiM6/aC4H2eyzbyMdisYjk7em4dj1HbGa6d/BXh+TVDqDacpmMvnlfMfymk/vmLOwtnncVznmtKDTLS21K7v4IdtzeBBO+4nfsGF4JwMA9qOgPcx/h/LLN4D0triV5nWNo98jZYhXZRk9+AK6Oq2nada6TYR2WnxeVbxZ2JuLYySTyST1JqzTbu7iWiCiiikMKKKKACiiigAooooAKKKKACiiigAooooAKpX+r2OlzWkd/N5JvJhBASjFWkIyFJAwCccZxnpV2sXxhDps/hHURrkhis1hLvKv3oyOVZf9oEAj3xSbsrjSu7F6bV7K31e20uWbF7dI8kUKozEquNzEgYUcgZOMngVcrgPhpLc302pXviQOviXEUVxFIgUxQbAYtoyeG+Zj/tFh2q54viu77xp4a0yDVL7T7e6S7Nx9jmMbSBUQgZ7fXqMnGKpq1kSnc7OivL7i+1PU9Z1i1jh8TzR6XKLOzfS7iNFVljUl5N0imRiWzhgVxj1NWrKPWde8XWdhr1/qGnt/wj8U93a2dyYQZ/NZScqflP8Aukdhkjiktdv60b/Qb0vf+tUv1PRqK8ru77V3sbbRRrd6klr4oTTvt8cgE0kBiLgMcYYgNg5ByVBIzVrUZ7xfFEvh2NfEt9Y6ZZxPu067VZpJJCx3SytIjEALgAHHXPajpfv/AJX/AFDZ2/rex6VRXnTjxXc+G9J/tKDVTFFPOt9FaTRxXssQJELZVgM4wWCNknp3FVrrxDc2nh22s9I1PVNSN5q/2MhoQl9aJsLtCTKRl/l4dsHDdyAaP6/r7w/r+vuPTqK8o1S68Qad4d1/7Mmvafp4tYntptTuVeeKfzQGCOsjMVKkHBPY4610MunXGleL9KtBrGp3MGrwXEd2k90xyyoGDx4I8o9fuYHPtQK52Ntd295G0lpPFOiu0bNE4YBlOGXI7gjBHapa8v8ADul6jB4A1b/hG5rw3kmrTxsDdszmJLlgwjMjFVkKZ+bjJ5JzzW/4PnjGtXlpFqOrLtgR20rWVZ54TkjzFlYnch6YBYAjqOlC1/ryuN6f152OxrO1bWrfRnsFuklc392lpF5YBw7AkE5I4+U9M/SsLUhca/47l0SS/vLKxs7BLllspzC87yOyjLrhgFCdARknmuV1WW+vY7LRbjUZ3fTfFcNpFf8AymUxmEuMkjBcB9ucdgetEdWv662B6J+Sf5XPWKK4OaPVtD8SXmiaJqdzcm+0ia6tf7RnM5t7hGVQdzZO07xwcgEVW0a9k0rU4xdX2vWl6LSWSfTtXJnW8ZFyWikDFFIPOFPIP3RSurX/AK6/5Ds72/rp/mei0V5Ro2o+JNQs9J1m0s/Ect/dSQzXDyzRfYXhcjeqx+YdqhT8pC7uBnqa0dG0jUtft/E9w3iDVkuE1G9tbKNLtljgwcKcDk4OMZOBjAxzlu6vfpf8Lf5i7fL8b/5Ho1FcLpev3HiLVdImW5e1hsdLa81BQxCiZsxhHAPIUpKcHuBWNFqd7a3eg6lZ3HiG6jv76KCa+vJES0uo5MjKQb90fYqQg4HJOeXbW39b2FfS/wDW1z0ebU7aO3vZIGN29kD50FriSUMF3bNo53EEYHfIqzDJ50Ecux496htjjDLkdCOxry+CxXSLX4j3Vhd36T2wdYpGvpnK/wCio275mOWB6MeQOAcVsxtdeI/ENto9xqN9a2drpEF3J9kuGikuJJCRlpF+bA2dARktzSWv4fim/wBBvTX1/Bpfqd1RXlt7qOrmO30VdYu1ez8TxWAvo3AklhaEuFc9GI3YORzgEgmtYwaxpWua7o2hanczySaSl3Z/2hOZvJnLOnDPk4O0cHgGjpf+tr/kO2tv63t+Z3lFcH4YlNt4ktrSbUNds7mS3cz6drOZhcsMZkil3FRtPUKcYP3RXeU7E3CiiikMKKKKACiiigAooooAKKKKACiiigAooooAKKKKACiiigArM1nQrbXTZrfSTGC1uFuPIRgEmZfuhxjJAPOMjkDOa06hub21svK+2XMNv50gii82QLvc9FGepOOg5oApTaFbS+JLbW0kmhu4YWgbyyAs8ZOQrgg5weRjGDn1p13otve67p2qyvKJ9PWVYlUja3mABtwxn+EYwRVye6t7Xy/tU8UPmyCOPzHC73PRRnqT6VLQBgX3hC2utVn1Cz1HUdLnugouvsMwRbjAwCwZTg443Lg471iXPhiW4+I6m3n1OwtrfQ44Ir23kJO4TN8hZwyscYOGye/vXdUULT+vK36g9U1/W6f6HPReCtMhsNPtY3ucWN8NQ81pA0k83zZaRiOc7jnGO2MVNq3he31PUo9Sgvb3Tb9I/JNzYyKrPHnOxgysrDPIyMjsa26KA/r9Tn7nwdZz21ksd7qFvd2O/wAm/juN0438uCzhgwJ7EEcDAGKb/wAIRpTaPNYzvdzyTXIu3vZJj9o88YCyBxjaQAAMADAxjFdFRQBzcvgu3utJvbHUdW1W++2KiSTTzqWVVbcAqhQg577cn1rWutIgu9W0/UZHkE1h5nlKpG1t67Tnj0HbFXqKAOa/4QXTTbX1s1zem3urr7ZHEJgPss24v5kTABlO455JH4Vc0fw1DpV9Nfy317qV7LGIjc3sisyxg5CAKqqBk56ZPetmihabA9TG1jw1b6tew30d5eadfQoYlurKQK5QnJQhgysM88g4PTFUbnwDpFzo1rpzSXiJb3ovzMk5E0s/Pzu/Uk7s8Y6DGAMV09VYNTtLnUruwgl3XNmEM8e0jZvGV5IwcgdqA/r9DHt/BOnBL/8AtOe81eTUIfs80t9KGbyv7i7QoUZOeBnPOadp3hC3stRgvLrUtS1OS2RktlvpldYAwwcBVGSRxlsnHeugooA5ux8E2mnTxi01LVI7CGTzYtOW5xBG2cgDA37c87S232rT0fRbfREvFtXlcXl3LdyeYQcPIckDAHHp/OtGigDG0rwtpmjvqptY2YatcNPcLIQRlhgqOOF5Jx6sayofh1p8X2FDquryQabcRz2VvJdBo4NhyFA2/MuOPmyQOhFddRQtP67bBv8A13OeuvBtlc3OsSfa72KPWYDFd28br5ZJQJ5gypIbaAOuPan3/hK1vGs5re9vtPvLOD7PHd2kirI0fHysGUqw4zyvB6YrTuNUs7XU7TT55tt1ehzBHtJ3hAC3IGBgEdat0Ac+ngvTIrOwt42uB9ivxqHmmTc883OWkYg7s7jnp2xgDFWNR8Labqt9eXGoLJMLyyWyliLYQxhmYEY5DZbrnsK2KKP6/T8g/r8b/mYOm+E4LDU4r+51PUtTnt0aO2N9MrCBWxnaFVckgAZbJ963qKoaxrmn6DapcarceSkjiOMKjO0jHoqqoLMeDwBRcLdi/RTYpFmhSRM7XUMMqQcH2PIpXcRozucKoyT7UPTcFrsLRVbTdRtdX0y31DT5fOtbmMSRSbSu5T0OCAR+NWaACiiigAooooAKKKrW2o2l5dXdvbTCSWzkEc6gEbGKhgOevBB49aALNFFFABRRRQAUUUUAFFFFABXDfFLTYtY0/QdOuHdI7nWoYy8bYZcpJyD6jrXc1k67of8Abcmlt9o8j+z7+O8xs3eZtDDb1GM7uvPTpR1V+6/Md7J27P8AI4m91i5vLLR9K1kgaxpev2kN1xjzlydky+zjn2OR2rp/Hepalpfh+GXRbhLe7lvraBZJIw64eVVIIPbB7YPoRTfEfgm21/xBo+srcNaXWmzpIxVNwuI1O4RtyOh5B5xk8c1peItE/t6wt7b7R9n8m7gud2zdny5A+3GR1xjPahdL99fTT/IT307f5nJax4g1DSdYtvDt3r92ki2pu7jUrfSvPlfc5CRrGiMqAYOSQeg75NQQ+J/EOow6HbQXhtJrjVZrKS6lsCn2mFYmdZBE4BUkY9BuHccV1eseHbi71iHWNG1L+zdRjhNu7vAJo5oid210yp4PIIIxk9c1z/ibTtQj1LwjbSazLJetqcr/AGwwoNp8iQ4CYxt7YyTjvnmiPn/Wv+QPrb+tP8yHWNf1/wAO2XiXTrjU/tl1Z6YNQsb5rdFcAsylXUDYcFeDgcHmn6vr2saBHpen6jrcj3WrM8z3lvphkNrGiKSkcSKxJLMMMwbGTntWlP4Gn1DTNbXVtX+06lq9sLVrpbYIkEYztVY9x7sSctkk1p614cbUxp9xZXzWOo6aSbe6WMOMFdrKyE/MpGOMg8Dmjp/Xn/wLh1+/8l+tzl7fxR4gk8P6wun/AGrUJLOaFbe/l0x4pHhcje3klV3ug3cKADxx6vh8XXOl6FrWpJrlv4htbG2V41li8i7imJwEkjVVwpyMHAPUYPWuhfw/qt1pMsN74juftzTJNFc20KwpCV6KI8ncp7qzHOe1VF8Em/k1GbxNqA1Ge/sxZM1vbi3WOIEtwNzHdk5ySenAofX+un+f/DsF0/rqYml+KdTGtWcC6ne6vHeJILkTaNJapaMELKyM0agrkbcMWPI5qPTdZ8UJ4P8AD3iW91tbn7XLax3Fl9kjVHSVwm7cBuDjcDwQvbFdVp+h63AypqfiRr23ijZEjWzWNnyMAyNk7iOvyheahj8HeX4J0rw99uz/AGe9s32jyf8AWeTIr/d3cZ246nGe9NW5vmvuu7ku9vk/v6GLpFrqVn468YT22oXN/PDbwNHbzLEqzOY2KKSqAjB4GCOvOaf4W1zU73V7OK48Qx3FxJGWv9Kv7P7JNAducwrtDMA3B3Fhjnd67k3heV/EOpX8OpyQW2qWyw3MEaFZAyqVV45QwKEBvQ9O1QWnhTUW1bTrvXNd/tFNLLNaqtosTlihTdI+47jgnoFBPJFKOm/9b/1/kU/6/D+v8yj8R7K4uP7AaDU7m0X+17ePZEkRAYscP8yE7h2GceoNVbfT9WvPiB4ni03WW04JDZ7p1t0kkd/LOPvDaB1yAMnsRXUeJdCfXtPgigu/sdza3Ud1BMYvMVXQ5GVyMjrxkUaXoUlhrmpanNdieTUEgV1WLYFMaFSep65zjt70ktGvP9ED3v5fqcW/j2+udN0C1uLt9Oub61lnu7yzsXumXy32YSMKwG5ucsCABjqRXT+CtavdXs75L4zTi0uTFDdzWj2zXMe0MGKMBggkqcAA4yKqw+BpbKx0s6ZqxttT01ZY47s24dJY5G3Mjx7uRnHRgQRnNdDpNne2dqy6lqLahcO5dpPKWNV4A2qo6Lx3JPXmqXW/9a/5C7HIC68Tare+KPsevCxi0u7KWqLaRuTiFH2uWHK5Pb5uTz0FWvDfia/1nxNYpM6pa3Xh6DUDAqjCyu5BIOM9OMZxWzYeHfsMmut9q3/2vcGfHl48rMapjr833c5461lReCbzT10mXRtaW0vbDTk06WWSzEqXES4wdm4bSCCRyeveiOlr9l+Tv+Nhy1Tt5/mv0uYzeI/EF0mnw2upLBLc+I7qwaRrdHAgQSELjA5G0YPXI5zyDdtP+EouPFGp+Hm8TERWkEVyl6LKL7QfM3AIRjZtGwnO3JyKuWHgRrJdO8zVnuHstWm1JpHgAaUyK4KnBAH385A7dBW1a6J9m8V6hrX2jd9st4YPJ2Y2eWXOd2ec7+mOMUktNf60X6g921/Wr/Q4Bb7V/EGseDJDeRWuoZ1OCa6SEN/qyIyyqeATtzzkDPQ9K0r7xfqnha11+z1O4XUrrTxbNaXTQbTIs7FF3pGOSrA/dAyMYGau/wDCAXMLaTLY661tcaZNeTJILUMJDcOW2sC3QZwe57FatJ4GjutN1WPXNQkvb7VWRpryKMQmPy/9UI1ydu08jJPOc0Pb+u49LmBB4s1SC4uIbfU77VYpNPuJjcXOjva/ZJkTcuC0aqynng5OQOTXU+C/7Yn0C21DXdVW+lvbeKZY0t1iWHK5IGOTnIyT36ADimp4f1qe0urfWPEf2tJrWS3RYrJYl+YY3v8AMSzD2KjrxWxpNh/Zei2Wn+Z5v2W3SHzNu3dtUDOOcdKff5fr/wAAnt8/0/4JzEdxr/iTUdYfStYGlW+m3TWkEQtkl891UFmkLAnblsALtOB1rBu7u88U6n4E1NdQudNkupJ1eK3WJlhkWGQOy70bOSCOcjHQA811N14V1CPUL6fQNcOmQ6k/mXUJtVmw+0KXjJI2MQBnIYZGcVKng+2tpfDgsJjDb6CX2RMu4yhoinLZGD82ScHNJbL5f8Erq/n/AMAl8Xaxc6Lokb2AjN5dXMNnA0oyiPI4UMwGMgZJx3xWVJdaxoOuWmm6rqp1a11WGZUkkgSKSGVE34GwAFCueoyCByc10OvaLBr+kvY3EkkJ3rJFNFjfFIjBlcZ4yCBWZaeF72TVE1HX9YGo3FvC8NqI7UQRw7xhnK7m3OQAM5AxnAGalpuLX9bf5jVk0cboFzr/AIf+Fuia+mrLNaW8EHm6b9mQIYGYKcP9/eAc5zjIxitXXdf1i31/UIp9cTw+sLKNNW5swbS7BUHMs5U4yxK4VlIxnBqzYfD6+t9E07Qr7xE95o9mY2e3+xqjzFCGCl9xwm4A7cZxxuq/qvhTU75tQgtfEUkOnaln7RbXFsJ2QMu1hE7MNgI7EMAemKuTu215/p/XUiOiSf8AX9fIx9b8XXR8SS6QdTuNIFnbRSSzWGmvemWVwTtB8tgqADuATnjGKgTxF4m1qTwva214NJn1AXqXcj2X3hFgLIqSDKkjkA9N3IOK6GbwjcWmoR33hrVf7Nm+yx2syzW/2iOZI+EJXcpDAEjOfqKsDw1M2saJqN1qklzNpaTq7SxKGnMoAz8uAoGOBg8fnRp+f6hroY154i1PQI/Elpf3X2y6tbeKfTnaNVMnmL5argAA/vlP/fQqPWNT1WznSxn8Tvb3FvZxsVsNMN3PLJg7nmVY2CISOAAueee1but+FINb8QaRqks7RHTnLPEFyLgZDKrc/wALqrDr0qC88K3x1+91HR9cfTk1JUW8i+yrKxKLtDRsT8h28chh7VLvbz/q3/BK0v5HJyXV94m1L4f6w+pXFnJfGVmigjiKROIHLMu5CfmxjBJwOmDzWreeLNVtJfEMMUkckyavbadYebGNkPmpHycYLAF2bk+2auw+Bp7TRPD1rZ6sI7zQXYxXL2u5ZAysrApuH8Ldd3X8qsz+CYboa2Li8kB1S8ivIniQK9rJGiBSpJIJBQHp3xiqduZ9v+Cv0uLov67/APAKxvNa8O6/ZWGpaqdVt9TimEcslukckE0ab+NgAKEA9RkEDk5rF03WfFCeD/D3iW91tbn7XLax3Fl9kjVHSVwm7cBuDjcDwQvbFdNaeF72TVE1HX9YGo3FvC8NqI7UQRw7xhnK7m3OQAM5AxnAGabH4O8vwTpXh77dn+z3tm+0eT/rPJkV/u7uM7cdTjPeiO+vl913f8BPy8/0sYmu69rFtr+oQ3GuJ4fWFlXTVubMG0uxtBzLOVOMsSuFZSMZwa72BpGt42n2eYUBfyzlc45we4rmtV8KanfNqEFr4ikh07Us/aLa4thOyBl2sInZhsBHYhgD0xW6bF4ND+wabcG1eO38mCZkEhiIXCtg8Njg4PWkvh/r+v66Desv6/r+upcoqO3SSO2iSeXzpVQB5Nu3e2OTgdM+lSUAFFFFABRRRQAUUUUAFFFFABRRRQAUUUUAFFFFABRRRQAUUUUAFFFFABRRRQAUUUUAFFFFABRRRQAUUUUAFFFFABRRRQAUUUUAFFFFABRRRQAUUUUAFFFFABRRRQAUUUUAf//Z)"
      ]
    },
    {
      "cell_type": "markdown",
      "metadata": {
        "id": "y7jIWRzMOIIQ"
      },
      "source": [
        "#### The Median\n",
        "\n",
        "If the total number of observations (n) is an odd number, then the formula is given below:\n",
        "\n",
        "![median.JPG](data:image/jpeg;base64,/9j/4AAQSkZJRgABAQEAeAB4AAD/4REERXhpZgAATU0AKgAAAAgABAE7AAIAAAATAAAISodpAAQAAAABAAAIXpydAAEAAAAmAAAQ1uocAAcAAAgMAAAAPgAAAAAc6gAAAAgAAAAAAAAAAAAAAAAAAAAAAAAAAAAAAAAAAAAAAAAAAAAAAAAAAAAAAAAAAAAAAAAAAAAAAAAAAAAAAAAAAAAAAAAAAAAAAAAAAAAAAAAAAAAAAAAAAAAAAAAAAAAAAAAAAAAAAAAAAAAAAAAAAAAAAAAAAAAAAAAAAAAAAAAAAAAAAAAAAAAAAAAAAAAAAAAAAAAAAAAAAAAAAAAAAAAAAAAAAAAAAAAAAAAAAAAAAAAAAAAAAAAAAAAAAAAAAAAAAAAAAAAAAAAAAAAAAAAAAAAAAAAAAAAAAAAAAAAAAAAAAAAAAAAAAAAAAAAAAAAAAAAAAAAAAAAAAAAAAAAAAAAAAAAAAAAAAAAAAAAAAAAAAAAAAAAAAAAAAAAAAAAAAAAAAAAAAAAAAAAAAAAAAAAAAAAAAAAAAAAAAAAAAAAAAAAAAAAAAAAAAAAAAAAAAAAAAAAAAAAAAAAAAAAAAAAAAAAAAAAAAAAAAAAAAAAAAAAAAAAAAAAAAAAAAAAAAAAAAAAAAAAAAAAAAAAAAAAAAAAAAAAAAAAAAAAAAAAAAAAAAAAAAAAAAAAAAAAAAAAAAAAAAAAAAAAAAAAAAAAAAAAAAAAAAAAAAAAAAAAAAAAAAAAAAAAAAAAAAAAAAAAAAAAAAAAAAAAAAAAAAAAAAAAAAAAAAAAAAAAAAAAAAAAAAAAAAAAAAAAAAAAAAAAAAAAAAAAAAAAAAAAAAAAAAAAAAAAAAAAAAAAAAAAAAAAAAAAAAAAAAAAAAAAAAAAAAAAAAAAAAAAAAAAAAAAAAAAAAAAAAAAAAAAAAAAAAAAAAAAAAAAAAAAAAAAAAAAAAAAAAAAAAAAAAAAAAAAAAAAAAAAAAAAAAAAAAAAAAAAAAAAAAAAAAAAAAAAAAAAAAAAAAAAAAAAAAAAAAAAAAAAAAAAAAAAAAAAAAAAAAAAAAAAAAAAAAAAAAAAAAAAAAAAAAAAAAAAAAAAAAAAAAAAAAAAAAAAAAAAAAAAAAAAAAAAAAAAAAAAAAAAAAAAAAAAAAAAAAAAAAAAAAAAAAAAAAAAAAAAAAAAAAAAAAAAAAAAAAAAAAAAAAAAAAAAAAAAAAAAAAAAAAAAAAAAAAAAAAAAAAAAAAAAAAAAAAAAAAAAAAAAAAAAAAAAAAAAAAAAAAAAAAAAAAAAAAAAAAAAAAAAAAAAAAAAAAAAAAAAAAAAAAAAAAAAAAAAAAAAAAAAAAAAAAAAAAAAAAAAAAAAAAAAAAAAAAAAAAAAAAAAAAAAAAAAAAAAAAAAAAAAAAAAAAAAAAAAAAAAAAAAAAAAAAAAAAAAAAAAAAAAAAAAAAAAAAAAAAAAAAAAAAAAAAAAAAAAAAAAAAAAAAAAAAAAAAAAAAAAAAAAAAAAAAAAAAAAAAAAAAAAAAAAAAAAAAAAAAAAAAAAAAAAAAAAAAAAAAAAAAAAAAAAAAAAAAAAAAAAAAAAAAAAAAAAAAAAAAAAAAAAAAAAAAAAAAAAAAAAAAAAAAAAAAAAAAAAAAAAAAAAAAAAAAAAAAAAAAAAAAAAAAAAAAAAAAAAAAAAAAAAAAAAAAAAAAAAAAAAAAAAAAAAAAAAAAAAAAAAAAAAAAAAAAAAAAAAAAAAAAAAAAAAAAAAAAAAAAAAAAAAAAAAAAAAAAAAAAAAAAAAAAAAAAAAAAAAAAAAAAAAAAAAAAAAAAAAAAAAAAAAAAAAAAAAAAAAAAAAAAAAAAAAAAAAAAAAAAAAAAAAAAAAAAAAAAAAAAAAAAAAAAAAAAAAAAAAAAAAAAAAAAAAAAAAAAAAAAAAAAAAAAAAAAAAAAAAAAAAAAAAAAAAAAAAAAAAAAAAAAAAAAAAAAAAAAAAAAAAAAAAAAAAAAAAAAAAAAAAAAAAAAAAAAAAAAAAAAAAAAAAAAAAAAAAAAAAAAAAAAAAAAAAAAAAAAAAAAAAAAAAAAAAAAAAAAAAAAAAAAAAAAAAAAAAAAAAAAAAAAAAAAAAAAAAAAAAAAAAAAAAAAAAAAAAAAAAAAAAAAAAAAAAAAAAAAAAAAAAAAAAAAAAAAAAAAAAAAAAAAAAAAAAAAAAAAAAAAAAAAAAAAAAAAAAAAAAAAAAAAAAAAAAAAAAAAAAAAAAAAAAAAAAAAAAAAAAAAAAAAAAAAAAAAAAAAAAAAAAAAAAAAAAAAAAAAAAAAAAAAAAAAAAAAAAAAAAAAAAAAAAAAAAAAAAAAAAAAAAAAAAAAAAAAAAAAAAAAAAAAAAAAAAAAAAAAAAAAAAAAAAAAAAAAAAAAAAAAAAAAAAAAAAAAAAAAAAAAAAAAAAAAAAAAAAAAAAAAAAAAAAAAAAAAAAAAAAAAAAAAAAAAAAAAAAAAAAAAAAAAAAAAAAAAAAAAAAAAAAAAAAAAAAAAAAAAAAAAAAAAAAAAAAAAAAAAAAAAAAAAAAAAAAAAAAAAAAAAAAAAAAAAAAAAAAAAAAAAAAAAAAAAAAAAAAAAAAAAAAAAAAAAAAAAAAAAAAAAAAAAAAAAAAAAAAAAAAAAAAAAAAAAAAAAAAAAAAAAAAAAAAAAAAAAAAAAAAAAAAAAAAAAAAAAAAAAAAAAAAAAAAAAAAAAAAAAAAAAAAAAAAAAAAAAAAAAAAAAAAAAAAAAAAAAAAAAAAAAAAAAAAAAAAAAAAAAAAAAAAAAAAAAAAAAAAAAAAAAAAAAAAAAAAAAAAAAAAAAAAAAAAAAAAAAAAAAAAAAAAAAAAAAAAAAAAAAAAAAEFsb25pY2EgVmlsbGFudWV2YQAAAAWQAwACAAAAFAAAEKyQBAACAAAAFAAAEMCSkQACAAAAAzE2AACSkgACAAAAAzE2AADqHAAHAAAIDAAACKAAAAAAHOoAAAAIAAAAAAAAAAAAAAAAAAAAAAAAAAAAAAAAAAAAAAAAAAAAAAAAAAAAAAAAAAAAAAAAAAAAAAAAAAAAAAAAAAAAAAAAAAAAAAAAAAAAAAAAAAAAAAAAAAAAAAAAAAAAAAAAAAAAAAAAAAAAAAAAAAAAAAAAAAAAAAAAAAAAAAAAAAAAAAAAAAAAAAAAAAAAAAAAAAAAAAAAAAAAAAAAAAAAAAAAAAAAAAAAAAAAAAAAAAAAAAAAAAAAAAAAAAAAAAAAAAAAAAAAAAAAAAAAAAAAAAAAAAAAAAAAAAAAAAAAAAAAAAAAAAAAAAAAAAAAAAAAAAAAAAAAAAAAAAAAAAAAAAAAAAAAAAAAAAAAAAAAAAAAAAAAAAAAAAAAAAAAAAAAAAAAAAAAAAAAAAAAAAAAAAAAAAAAAAAAAAAAAAAAAAAAAAAAAAAAAAAAAAAAAAAAAAAAAAAAAAAAAAAAAAAAAAAAAAAAAAAAAAAAAAAAAAAAAAAAAAAAAAAAAAAAAAAAAAAAAAAAAAAAAAAAAAAAAAAAAAAAAAAAAAAAAAAAAAAAAAAAAAAAAAAAAAAAAAAAAAAAAAAAAAAAAAAAAAAAAAAAAAAAAAAAAAAAAAAAAAAAAAAAAAAAAAAAAAAAAAAAAAAAAAAAAAAAAAAAAAAAAAAAAAAAAAAAAAAAAAAAAAAAAAAAAAAAAAAAAAAAAAAAAAAAAAAAAAAAAAAAAAAAAAAAAAAAAAAAAAAAAAAAAAAAAAAAAAAAAAAAAAAAAAAAAAAAAAAAAAAAAAAAAAAAAAAAAAAAAAAAAAAAAAAAAAAAAAAAAAAAAAAAAAAAAAAAAAAAAAAAAAAAAAAAAAAAAAAAAAAAAAAAAAAAAAAAAAAAAAAAAAAAAAAAAAAAAAAAAAAAAAAAAAAAAAAAAAAAAAAAAAAAAAAAAAAAAAAAAAAAAAAAAAAAAAAAAAAAAAAAAAAAAAAAAAAAAAAAAAAAAAAAAAAAAAAAAAAAAAAAAAAAAAAAAAAAAAAAAAAAAAAAAAAAAAAAAAAAAAAAAAAAAAAAAAAAAAAAAAAAAAAAAAAAAAAAAAAAAAAAAAAAAAAAAAAAAAAAAAAAAAAAAAAAAAAAAAAAAAAAAAAAAAAAAAAAAAAAAAAAAAAAAAAAAAAAAAAAAAAAAAAAAAAAAAAAAAAAAAAAAAAAAAAAAAAAAAAAAAAAAAAAAAAAAAAAAAAAAAAAAAAAAAAAAAAAAAAAAAAAAAAAAAAAAAAAAAAAAAAAAAAAAAAAAAAAAAAAAAAAAAAAAAAAAAAAAAAAAAAAAAAAAAAAAAAAAAAAAAAAAAAAAAAAAAAAAAAAAAAAAAAAAAAAAAAAAAAAAAAAAAAAAAAAAAAAAAAAAAAAAAAAAAAAAAAAAAAAAAAAAAAAAAAAAAAAAAAAAAAAAAAAAAAAAAAAAAAAAAAAAAAAAAAAAAAAAAAAAAAAAAAAAAAAAAAAAAAAAAAAAAAAAAAAAAAAAAAAAAAAAAAAAAAAAAAAAAAAAAAAAAAAAAAAAAAAAAAAAAAAAAAAAAAAAAAAAAAAAAAAAAAAAAAAAAAAAAAAAAAAAAAAAAAAAAAAAAAAAAAAAAAAAAAAAAAAAAAAAAAAAAAAAAAAAAAAAAAAAAAAAAAAAAAAAAAAAAAAAAAAAAAAAAAAAAAAAAAAAAAAAAAAAAAAAAAAAAAAAAAAAAAAAAAAAAAAAAAAAAAAAAAAAAAAAAAAAAAAAAAAAAAAAAAAAAAAAAAAAAAAAAAAAAAAAAAAAAAAAAAAAAAAAAAAAAAAAAAAAAAAAAAAAAAAAAAAAAAAAAAAAAAAAAAAAAAAAAAAAAAAAAAAAAAAAAAAAAAAAAAAAAAAAAAAAAAAAAAAAAAAAAAAAAAAAAAAAAAAAAAAAAAAAAAAAAAAAAAAAAAAAAAAAAAAAAAAAAAAAAAAAAAAAAAAAAAAAAAAAAAAAAAAAAAAAAAAAAAAAAAAAAAAAAAAAAAAAAAAAAAAAAAAAAAAAAAAAAAAAAAAAAAAAAAAAAAAAAAAAAAAAAAAAAAAAAAAAAAAAAAAAAAAAAAAAAAAAAAAAAAAAAAAAAAAAAAAAAAAAAAAAAAAAAAAAAAAAAAAAAAAAAAAAAAAAAAAAAAAAAAAAAAAAAAAAAAAAAAAAAAAAAAAAAAAAAAAAAAAAAAAAAAAAAAAAAAAAAAAAAAAAAAAAAAAAAAAAAAAAAAAAAAAAAAAAAAAAAAAAAAAAAAAAAAAAAAAAAAAAAAAAAAAAAAAAAAAAAAAAAAAAAAAAAAAAAAAAAAAAAAAAAAAAAAAAAAAAAAAAAAAAAAAAAAAAAAAAAAAAAAAAAAAAAAAAAAAAAAAAAAAAAAAAAAAAAAAAAAAAAAAAAAAAAAAAAAAAAAAAAAAAAAAAAAAAAAAAAAAAAAAAAAAAAAAAAAAAAAAAAAAAAAAAAAAAAAAAAAAAAAAAAAAAAAAAAAAAAAAAAAAAAAAAAAAAAAAAAAAAAAAAAAAAAAAAAAAAAAAAAAAAAAAAAAAAAAAAAAAAAAAAAAAAAAAAAAAAAAAAAAAAAAAAAAAAAAAAAAAAAAAAAAAAAAAAAAAAAAAAAAAAAAAAAAAAAAAAAAAAAAAAAAAAAAAAAAAAAAAAAAAAAAAAAAAAAAAAAAAAAAAAAAAAAAAAAAAAAAAAAAAAAAAAAAAAAAAAAAAAAAAAAAAAAAAAAAAAAAAAAAAAAAAAAAAAAAAAAAAAAAyMDIxOjA2OjAyIDA4OjU3OjExADIwMjE6MDY6MDIgMDg6NTc6MTEAAABBAGwAbwBuAGkAYwBhACAAVgBpAGwAbABhAG4AdQBlAHYAYQAAAP/hCyVodHRwOi8vbnMuYWRvYmUuY29tL3hhcC8xLjAvADw/eHBhY2tldCBiZWdpbj0n77u/JyBpZD0nVzVNME1wQ2VoaUh6cmVTek5UY3prYzlkJz8+DQo8eDp4bXBtZXRhIHhtbG5zOng9ImFkb2JlOm5zOm1ldGEvIj48cmRmOlJERiB4bWxuczpyZGY9Imh0dHA6Ly93d3cudzMub3JnLzE5OTkvMDIvMjItcmRmLXN5bnRheC1ucyMiPjxyZGY6RGVzY3JpcHRpb24gcmRmOmFib3V0PSJ1dWlkOmZhZjViZGQ1LWJhM2QtMTFkYS1hZDMxLWQzM2Q3NTE4MmYxYiIgeG1sbnM6ZGM9Imh0dHA6Ly9wdXJsLm9yZy9kYy9lbGVtZW50cy8xLjEvIi8+PHJkZjpEZXNjcmlwdGlvbiByZGY6YWJvdXQ9InV1aWQ6ZmFmNWJkZDUtYmEzZC0xMWRhLWFkMzEtZDMzZDc1MTgyZjFiIiB4bWxuczp4bXA9Imh0dHA6Ly9ucy5hZG9iZS5jb20veGFwLzEuMC8iPjx4bXA6Q3JlYXRlRGF0ZT4yMDIxLTA2LTAyVDA4OjU3OjExLjE2NDwveG1wOkNyZWF0ZURhdGU+PC9yZGY6RGVzY3JpcHRpb24+PHJkZjpEZXNjcmlwdGlvbiByZGY6YWJvdXQ9InV1aWQ6ZmFmNWJkZDUtYmEzZC0xMWRhLWFkMzEtZDMzZDc1MTgyZjFiIiB4bWxuczpkYz0iaHR0cDovL3B1cmwub3JnL2RjL2VsZW1lbnRzLzEuMS8iPjxkYzpjcmVhdG9yPjxyZGY6U2VxIHhtbG5zOnJkZj0iaHR0cDovL3d3dy53My5vcmcvMTk5OS8wMi8yMi1yZGYtc3ludGF4LW5zIyI+PHJkZjpsaT5BbG9uaWNhIFZpbGxhbnVldmE8L3JkZjpsaT48L3JkZjpTZXE+DQoJCQk8L2RjOmNyZWF0b3I+PC9yZGY6RGVzY3JpcHRpb24+PC9yZGY6UkRGPjwveDp4bXBtZXRhPg0KICAgICAgICAgICAgICAgICAgICAgICAgICAgICAgICAgICAgICAgICAgICAgICAgICAgICAgICAgICAgICAgICAgICAgICAgICAgICAgICAgICAgICAgICAgICAgICAgICAgIAogICAgICAgICAgICAgICAgICAgICAgICAgICAgICAgICAgICAgICAgICAgICAgICAgICAgICAgICAgICAgICAgICAgICAgICAgICAgICAgICAgICAgICAgICAgICAgICAgICAgCiAgICAgICAgICAgICAgICAgICAgICAgICAgICAgICAgICAgICAgICAgICAgICAgICAgICAgICAgICAgICAgICAgICAgICAgICAgICAgICAgICAgICAgICAgICAgICAgICAgICAKICAgICAgICAgICAgICAgICAgICAgICAgICAgICAgICAgICAgICAgICAgICAgICAgICAgICAgICAgICAgICAgICAgICAgICAgICAgICAgICAgICAgICAgICAgICAgICAgICAgIAogICAgICAgICAgICAgICAgICAgICAgICAgICAgICAgICAgICAgICAgICAgICAgICAgICAgICAgICAgICAgICAgICAgICAgICAgICAgICAgICAgICAgICAgICAgICAgICAgICAgCiAgICAgICAgICAgICAgICAgICAgICAgICAgICAgICAgICAgICAgICAgICAgICAgICAgICAgICAgICAgICAgICAgICAgICAgICAgICAgICAgICAgICAgICAgICAgICAgICAgICAKICAgICAgICAgICAgICAgICAgICAgICAgICAgICAgICAgICAgICAgICAgICAgICAgICAgICAgICAgICAgICAgICAgICAgICAgICAgICAgICAgICAgICAgICAgICAgICAgICAgIAogICAgICAgICAgICAgICAgICAgICAgICAgICAgICAgICAgICAgICAgICAgICAgICAgICAgICAgICAgICAgICAgICAgICAgICAgICAgICAgICAgICAgICAgICAgICAgICAgICAgCiAgICAgICAgICAgICAgICAgICAgICAgICAgICAgICAgICAgICAgICAgICAgICAgICAgICAgICAgICAgICAgICAgICAgICAgICAgICAgICAgICAgICAgICAgICAgICAgICAgICAKICAgICAgICAgICAgICAgICAgICAgICAgICAgICAgICAgICAgICAgICAgICAgICAgICAgICAgICAgICAgICAgICAgICAgICAgICAgICAgICAgICAgICAgICAgICAgICAgICAgIAogICAgICAgICAgICAgICAgICAgICAgICAgICAgICAgICAgICAgICAgICAgICAgICAgICAgICAgICAgICAgICAgICAgICAgICAgICAgICAgICAgICAgICAgICAgICAgICAgICAgCiAgICAgICAgICAgICAgICAgICAgICAgICAgICAgICAgICAgICAgICAgICAgICAgICAgICAgICAgICAgICAgICAgICAgICAgICAgICAgICAgICAgICAgICAgICAgICAgICAgICAKICAgICAgICAgICAgICAgICAgICAgICAgICAgICAgICAgICAgICAgICAgICAgICAgICAgICAgICAgICAgICAgICAgICAgICAgICAgICAgICAgICAgICAgICAgICAgICAgICAgIAogICAgICAgICAgICAgICAgICAgICAgICAgICAgICAgICAgICAgICAgICAgICAgICAgICAgICAgICAgICAgICAgICAgICAgICAgICAgICAgICAgICAgICAgICAgICAgICAgICAgCiAgICAgICAgICAgICAgICAgICAgICAgICAgICAgICAgICAgICAgICAgICAgICAgICAgICAgICAgICAgICAgICAgICAgICAgICAgICAgICAgICAgICAgICAgICAgICAgICAgICAKICAgICAgICAgICAgICAgICAgICAgICAgICAgICAgICAgICAgICAgICAgICAgICAgICAgICAgICAgICAgICAgICAgICAgICAgICAgICAgICAgICAgICAgICAgICAgICAgICAgIAogICAgICAgICAgICAgICAgICAgICAgICAgICAgICAgICAgICAgICAgICAgICAgICAgICAgICAgICAgICAgICAgICAgICAgICAgICAgICAgICAgICAgICAgICAgICAgICAgICAgCiAgICAgICAgICAgICAgICAgICAgICAgICAgICAgICAgICAgICAgICAgICAgICAgICAgICAgICAgICAgICAgICAgICAgICAgICAgICAgICAgICAgICAgICAgICAgICAgICAgICAKICAgICAgICAgICAgICAgICAgICAgICAgICAgICAgICAgICAgICAgICAgICAgICAgICAgICAgICAgICAgICAgICAgICAgICAgICAgICAgICAgICAgICAgICAgICAgICAgICAgIAogICAgICAgICAgICAgICAgICAgICAgICAgICAgICAgICAgICAgICAgICAgICAgICAgICAgICAgICAgICAgICAgICAgICAgICAgICAgICAgICAgICAgICAgICAgICAgICAgICAgCiAgICAgICAgICAgICAgICAgICAgICAgICAgICA8P3hwYWNrZXQgZW5kPSd3Jz8+/9sAQwAHBQUGBQQHBgUGCAcHCAoRCwoJCQoVDxAMERgVGhkYFRgXGx4nIRsdJR0XGCIuIiUoKSssKxogLzMvKjInKisq/9sAQwEHCAgKCQoUCwsUKhwYHCoqKioqKioqKioqKioqKioqKioqKioqKioqKioqKioqKioqKioqKioqKioqKioqKioq/8AAEQgAXwG9AwEiAAIRAQMRAf/EAB8AAAEFAQEBAQEBAAAAAAAAAAABAgMEBQYHCAkKC//EALUQAAIBAwMCBAMFBQQEAAABfQECAwAEEQUSITFBBhNRYQcicRQygZGhCCNCscEVUtHwJDNicoIJChYXGBkaJSYnKCkqNDU2Nzg5OkNERUZHSElKU1RVVldYWVpjZGVmZ2hpanN0dXZ3eHl6g4SFhoeIiYqSk5SVlpeYmZqio6Slpqeoqaqys7S1tre4ubrCw8TFxsfIycrS09TV1tfY2drh4uPk5ebn6Onq8fLz9PX29/j5+v/EAB8BAAMBAQEBAQEBAQEAAAAAAAABAgMEBQYHCAkKC//EALURAAIBAgQEAwQHBQQEAAECdwABAgMRBAUhMQYSQVEHYXETIjKBCBRCkaGxwQkjM1LwFWJy0QoWJDThJfEXGBkaJicoKSo1Njc4OTpDREVGR0hJSlNUVVZXWFlaY2RlZmdoaWpzdHV2d3h5eoKDhIWGh4iJipKTlJWWl5iZmqKjpKWmp6ipqrKztLW2t7i5usLDxMXGx8jJytLT1NXW19jZ2uLj5OXm5+jp6vLz9PX29/j5+v/aAAwDAQACEQMRAD8A+kaKKKACiiigAooooAKKKKACiiigAooooAKKKKACiiigAooooAKKKKACiiigAooooAKKKKACiiigAooooAKKKKACiiigAoqpdarp1hcwW99f2ttPcttgimmVGlPTCgnJP0q3QAUUUUAFFFFABRRRQAUUUUAFFFFABRRRQAUUUUAFFFFABRRRQAUUUUAFFFFABRRRQAUUUUAFFFFABRRRQAUUUUAFFFFABRRRQAUUUUAFFFFABVLV9Xs9D0uW/wBRk8uGPA4GWdicBVHUsTwAKu1wumy/8Jp8QLq9Y79H8Oym3tV/hmu8fPJ77Ado9yTRu7BsrnY6dcXF1p8M95aGzmkXc0BcOY/QEjjOOuO/c9as0EgAknAHUmuQg+JWi3GqDT44L83M0Qms0EAP21CxXdHgnj5Scvt456c0bvQOh19FYuh+J7XXL6/sFt7myv8ATmVbm1ugm9NwypyjMpBHoTW1QAUVi+KtQudN0y1lspPLeTUbSFjtByjzorDn1BIrao6X/rp/mHUKa8scbIruqlztQE43HGcD14FOryrXtKt9L+N3g37M905mW5Zzc3cs5zsPTex2jnoMChayS7g9It9j1WsvSddj1K6u7KaJrTULNsT2znJ2n7rqf4kYDg/UHBGK1K47x/a3Gn20Hi3SEzf6Nl5UHH2i1P8ArYz68fMPQrRez12Ha+x2NcX8RdR1eG30zS9GCJLqt9FAsy3TRSLg72A2qcLtUgtnIz0NdZp9/b6pptvf2TiS3uYlljYd1IyKytc8Oyatq+majb332WbT/NCBovMH7xQpYDIwwHQnI5PBoaaYk00YPiqS91Dxx4S0yG1ilmtzLqVzF55CJsXYp3bckbnODt5x0HbpfDWuDxFoaagLc2+6SSMpv3glHKEq2BlSVyDgfSqsXhXy9cvtTOoTNJcafHYQFhl4FXcS24k7mLHPbp3qbwt4fbw3o0Vg1410IkWNMIURVVcDC5OCeSTnkk+wAtrf1v8A5WB7/wBf1u2bVFFFABRRRQAUUUUAFFFFABRRRQAUUUUAFFFFABRRRQAUUUUAFFFFABRRRQAUUUUAFFFeFzadaaT8aNI1vTLWGzsptWl01I7eNUT5YlQtgDqXeT/vmhayUf6/q4PSLf8AXf8AQ90orG8SapJYWK29k6rfXe5IWIyIlAy8pHog59zgd68/+CfhrT5tAn8SXdnHcXl3fyyW1zcIHlRAduQx5BJ3ZI60LVvyB6JHrNFYdz4z0G0mljlviwgfZPLFBJLFA3pJIqlEP+8RV/U9Z0/R7VLjUblYUkYJGMFmlY9FRRksT6AE0eYeRdorye7l0jxX8ctDOlwoW062lu72RrcxSlx8iLIGAYFTtIDDoa6tL/T9f8dWZ07xLdIbCB3bTY1ZIrsElfM3EASKDkfLkAjqOaFql53/AAB6N+R1tFZep+I9L0e4S2vbhvtMiGRbeCF55Sg6tsjDNt98Yptt4q0K80q41Kz1S2ns7XiaaJ9wQ4Bwcd+Rx17UAa1Fc9F478Oz2xmt76Scqzo8ENrM86FDht0QUuuO5KitfTdSs9X06G/0y4S5tZ13RyoeGH+e1AFqiiigAooooAxfGOtf8I94M1XVQQHtrZmjz/fPC/8AjxFZ/wANNJ/sb4daTAwPnTQi5mJ6l5PnOfzx+FYXxzuGj+G5tkODeXsMH6lv/Za9Dt4lgtYoUGFjQKB6ADFEdm/l92v6hLdL1f6f5j3RZI2SQBlYEMD3Fed+DreG++KfifUYIo0tdLih0m0CDAQKMuo9MEV6LUFtZWtl5v2O2ht/OkMsvlRhd7nqxx1J9TQtHf8Ar+rX+8Hqrf1/Wx5r8ONUS78QatrUscj3PiLUZEgjXrFbW6kB2B6DJC/UivSb62lu7Robe9nsXJGJ7dYy6/QOrL+lNtdL0+xuJ57Kxtraa4bdNJDCqNKfViBkn61ao6JdrB1bOD8Y6JfxaTZtJ4o1acHU7JQskVoACbhAG+WAHI6jtkcgjiujg0PUIriOSTxTq06owJikitArj0O2AHB9iD71c1XSoNXtYoLlpFWK4iuFMZAO6Nw6jkHjKjPtV2mtF8/0QPf+vMK808YSxj43+CMuvEdznnplDivS6xJPBXhWWRpJfDWju7kszNYREsT1JO2ktJJ9gesWu5tg5GRyKZNEk8DwzKGjkUqynuCMEU22toLO1jtrOGOCCJQscUSBVQDsAOAKloaT0BXPPfhDcyW+jar4cuHLSaDqMtsm7qYixKn/ANCr0KvNPCbfY/jx4ysl4S4ggucD1Cr/APFmvS6d24xk+qDaTS7/AJ6/qFFFFIAorEv/ABhoenXM8FxeO8lsM3H2e3knFuPWQxqRHxz82OK4v4z3emXvgnTgr2sh1K7iht7zgiONiGd1bsCFGcdjS/r7x+p6fRWPoWtaRep/Z+lyur2cSA280EkLqmMK2x1BKnHBAxTbzxdolheyWtzeMHhZVmdIJHjgJ6CSRVKRnkfeI61T3siVtdm1RVPUtXsNHtRcandR28bMEQueXY9FUdWJ9Bk1Ut/FOj3NveTC6aFbFQ9ylzBJA8SkZDFHUNg4ODjntSGa9Fcz/wALE8L/AGeSb+0yRCxWZBbS74MHBMibd0Yz3YAe9XbzxbodhqMFjdX6pPcOkaYRmTc4yis4G1Sw5AJBPagDZorNg8RaVc+IrnQoLxH1O1iEs1uAcopxg5xg9RwD3FU7jxv4dtJ5Y7jU0RIXMctx5bmCNx/A02Ngb/ZLZ9qAN6iuV8XeOdK0Dwrc30OqWf2uSyM9jEZl3T5HyMq5ywzjpTfCfiq1n8B2Oo6rrNvfXKxRrdyQFXbzmAPl7Yx97kDaBk+lHfyDt5nWUVzfgwRT2d7qNt4gutahvbp5ENwCv2YA48oIcFcdwQPoKln8ceHreSRZNQzHFJ5UtykEj28T5xteZVManPGCwoA36KxtQ8W6HpWow2OoahHBPMVC7lYoC2doZwNqk7TjcRnBxSWfi7RL7UobC2vGM9wrNb74JES4CjJMbsoWTA5+UmjcDaooooAKKKKACiiigAooooAr6hex6dptze3BxFbRNK5PYKCT/KvIvGNo+j/DLwjq10pWe01SC/uTjkNKWkf/AMeNen694Z0vxNbLb61FPPAAQYku5YlbOPvBGAbp3zimf8Ilop0OPR5bV57CKRJUhuLiSXDKQV5ZicAgfLnHbFCve/mvwYPa3r+Rx3jPUZLT4ea74nug0dxqFt9ksY2GGhgc7V47M2S5/wCAj+GrGqQ3ng34BvDpwZLu001FLJwUZsb2HuNzH8K6PXvBOheJ5N2uW9xdLkERfbp0jBHQhFcKD74zWnbaVaWumHT1SSa2ZWVkupnnLA9QWkLEjnoTUtXi13/r9WNO0ovt/wAD/I4fRvCstr8NbbTdX1uzttDNor3P2a08lnRhuffK0jAg5OSFUntio9NRta+Ot884Bs9B06NLJP4QZQDvH4bhn2Fdba+D9EszF5drJJHCQ0MM9zLNFCR0KRuxVMdsAY7VJqPhfSNVvxe3lqxuPL8p5Ip5IjLHnOx9jDev+y2RWjfvc3r+RKVo2/rdHBeELnT9W8e+LNWuHymqXo0i0aLOXEcRLkMvQFVBz9Kf4OuLC5+IGpayRstYpF8P6PGqk8RqWfHt8uc+ma7jTPCOhaNqMl7penR2szknEbMI1JABKx52qSAASoBOKdp3hXRdJ1Ga+0+xWK4mZ3Lb2YKzkFyqkkJuwM7QM4GalaW8lb+vx+8ctb+v9fp9xw/w8vdlh4u8Z62wE8l7MrM5/wBXDCPlT2xnGPYVH8NbbTD8P4otYGbi5dtenjGQoUS5RiRxj92Dg9cGu3k8GeH5rye4l05X+0SebNA0jmCR/wC+0OfLLf7RXPvS2Pg/Q9N0q606zsilrdx+TMjTSMWjwRsDMxKqATgAgDJxjNLVLTeyX3f8Gz+Q9G9e9/6+V0cF4MvI/D3wi1rxldxKt5qT3F6zEcsSxWNc+men+9XSfC6CPSfBlhojuzX1vbJdXKlT+7MzM4Unpnrx/jXRt4f0p/Do0J7KNtMEIgFscldg6DPX8c571Jpej2Oi2pg06ExozbnZ5GkdzgDLOxLMcADkngAVWibttpb5E6tK++r+/wDpkWvJpj6Ww1yw+32m4Zg+wtd5PY+WqsT9ccVy/wBm8Af9Cd/5ac//AMYruqKQzjtPg8FLqVubDwr9nuRIPKm/4RmaHY2eDvMIC/UkYrsaKKAPMvjn/wAivox7DWIcn0+V69Nrzv442rTfDOe4jGWs7mGccdPm25/8ervbK4W7sLe5jOUmiWRT6gjNEfhfr+iCXxJ+X5N/5keo2c97brHbaldac4fcZbZYmYjB+X94jjHOemeBz1rN/wCEf1L/AKG/Wv8AvzZf/I9btFAGF/wj+pf9DfrX/fmy/wDkej/hH9S/6G/Wv+/Nl/8AI9btIzBELMcKoyTQBh/8I/qX/Q361/35sv8A5Ho/4R/Uv+hv1r/vzZf/ACPXMw+OtZ1zwve+J/C66ZcWNk8m+xmSXz2VOT+8yArFcEDaw56mur8KeJLbxb4ZtNZskaOO4U5jY5MbA4ZffBB570BsRf8ACP6l/wBDfrX/AH5sv/kej/hH9S/6G/Wv+/Nl/wDI9btFAFHTdPubDzftWr3upb8bftSQr5eM9PLjTrnvnoMY5zeoooA8x0r5v2lNaK8hdHQMR2OYq9OrzXwcv2742+NdRXlLdILUNjvtGR+aV6VQvgj6fm2wfxP+uiCsTxnqV1pHgnWNQ08E3NvaSPGQM7Tj734dfwrbprossbRyKrowIZWGQQexFTJXi0hxdmmed6FLZ+EvgQuoTMrPPYNdSuxyZ5pVyAT3JLBa5fwloV6niHwFoutxkDTtPuNS8uRejO52rz3XKn2r1G18FaBZzQvDYErbvvghlnkkhgb1jjZiiH/dAq5qugabrUkEl/A5mtyfJnhmeGWPIwQHQhgD3GcGrb97mX9b2/P8Cbe7y/10/r5nApqkR+MWveI55TFo2g6WLO4uACVaTcHKjHUjJ4HcD1rndQs9X0zSzct9i8QeD/EOqR3P2eQSwXRMzgjptJ5x1JzjoBXsNvoWlWujNpMFhAlg6sr2+wFXB67vUnuTyarWnhPSLO6huEhnmkgOYPtd3NcCE4xlBIzBDjj5QKS0a8v87v8A4HYb1v8A10sjh7i11XWvjrcJb3FrbJomno1mt3bNOn7zG51UOmD1G7PbpXTroelC91OXXNQXUdQeOGa6XIjEUUTF4wEU5Cbgx+YnPOSRWtqXhzTNWvI7u7hkW6jQxrcW1xJbyhSc7d8bKxXPOCcVLBoem22n3FlBaIkFyGE45LTbhglm6sSO5OaWqjZb6j05vLQ8++HXhjTfFHgO/vtfshcJr2oy3siMzKSA52DKkHAIJ/GpfEOkWs3xM8NaBbQ+XameXWbrJz5kiKFjH0GAMdhivQ7CwtdL0+Cx0+FYLa3QJFGvRVHaqmreHdM1ua3m1C3Yz2pJgnhmeGWPIwQHQhgD3GcGq0Uk47L9NvyT+ROrTvu/13/U8/8AHV09kfFviXSIglxZadFpguYxhjI7gyHP+wrJz2OfSq3jKxi0X4MaJ4UtNi3OqSW1qqjqzswd39/m7+4r09NG06PSG0tbOI2LqyPAy7lcN97OepJJJJ5JOayX8AeGpLZIZrB5fKKmGSW6meWDacqI5C++MD0UgVKVtOmn4Nt/fcq7vfrr+SS+6xyPxAuLTWtB8PeFtIctBf6qtk/ykfu7c4kx6gFRz7V0Pi/XdJsfC9/rMZ86XQXdIOGCLclNigdmx5mOM4Oe4Na914T0W8sbK0ls9sdgd1q0MzxSQnGCVdWDDPfnnvmprnw5pF34fbRLiwibTWXabfkDrnORznPOc5zzQ7tNPq/8v8gjZNeX/BPLdTuJvB/wKu9N02SQarGkX9oSqDmJ7g7m+b+9tOPUZFdB44htfDHwYOh2MSvJcQR2FrAgy00j4BIHc/eau0h8P6VBpEumLZpJZz586OYmXziepdmJLE+pJPFV9P8ACejaZdRXNvau88C7IJLm4kuDAvTEfmM2wY7LinK0rp7P8u39dxRurPqr/f3PN9X8Mwx3ngjwndR+dcXk0d5qZYlxJ9ngVMHP8OBjH19a1fE1/b3Hxe0sTP5Vj4X0+bULqQLnaXG1VwO+MHA613r6Jp8mvRa1JbBtQhgNvHMWPyoTkgDOOvfGar3XhbRr3Wl1W6sg94FVS/mMFcKcrvQHa+DyNwOD0p3bab7t/ovu0FbS3kl/n9+prI2+NWAIDDOCMGloopDCiiigAooooAKKKKACiiigAooooAKKKKACiiigAooooAKKKKACiiigAooooAzPEmkLr/hjUdKfgXdu8QJ7MRwfwODWF8LNUbUvh7YRz5W608GxuEPVHiO3B98YP412FcNLF/whXj2W/wDuaJ4hdVuG/htrvorH0V+hP97FC3t3/Pp+vzsD2v2/p/p+J3NFFFABRRSNkqdpwccEjOKAOL8WMLfSpfCXg2xt49S1ONgyQxiOO1jfh5pNo4zyB3J6Zwa2PBmg2Xhnwra6Pp1wtzHa7kklBB3Sbjvzjod2eO3SuTh+HPi+2u7u5tviI8Mt5KZZmXSUyzdByXzgDgDsOldn4X0R/Dvh6DTprxr6ZGeSW5ZNhld3LsxGTjlvWhbf1/Wn9eQ9/wCv6/r79aiiigAqG9u4bCxnvLpwkNvG0kjHsqjJP6VNXF+Nmk8SXkHgzTnI+1bZdUmT/l3tgc7c9mcjAHpk0nd6Lcatu9it8IrGZfCtzrd4hS5129lv2B6hWOFH5DP413tRwQRWtvHBboscUSBERRgKoGABUlU7X02JV92FFFFIYUUUUAFFFFABRRRQAUUUUAFFFFABRRRQAUUUUAFFFFABRRRQAUUUUAFFFFABRRRQAUUUUAFFFFABRRRQAUUUUAFFFFABRRRQAUUUUAFFFFABUF7ZW2o2M1nfQpPbzIUkjcZDA9qnoo3Ar2Fmun2ENpHJLKkKhFaZ97YHTJ6n6nmrFFFG4BRRRQAUUUUAFFFFABVHTNItdJWc2ys0tzKZZ55G3SSse7H2HAHQAYFXqKACiiigAooooAKKKKACiiigAooooAKKKKACiiigAooooAKKKKACiiigAooooAKKKKAP/9k=)"
      ]
    },
    {
      "cell_type": "markdown",
      "metadata": {
        "id": "4yvX5mKeOflP"
      },
      "source": [
        "If the total number of the observations (n) is an even number, then the formula is given below:"
      ]
    },
    {
      "cell_type": "markdown",
      "metadata": {
        "id": "0mlCOldMOjXQ"
      },
      "source": [
        "![median2.JPG](data:image/jpeg;base64,/9j/4AAQSkZJRgABAQEAeAB4AAD/4REERXhpZgAATU0AKgAAAAgABAE7AAIAAAATAAAISodpAAQAAAABAAAIXpydAAEAAAAmAAAQ1uocAAcAAAgMAAAAPgAAAAAc6gAAAAgAAAAAAAAAAAAAAAAAAAAAAAAAAAAAAAAAAAAAAAAAAAAAAAAAAAAAAAAAAAAAAAAAAAAAAAAAAAAAAAAAAAAAAAAAAAAAAAAAAAAAAAAAAAAAAAAAAAAAAAAAAAAAAAAAAAAAAAAAAAAAAAAAAAAAAAAAAAAAAAAAAAAAAAAAAAAAAAAAAAAAAAAAAAAAAAAAAAAAAAAAAAAAAAAAAAAAAAAAAAAAAAAAAAAAAAAAAAAAAAAAAAAAAAAAAAAAAAAAAAAAAAAAAAAAAAAAAAAAAAAAAAAAAAAAAAAAAAAAAAAAAAAAAAAAAAAAAAAAAAAAAAAAAAAAAAAAAAAAAAAAAAAAAAAAAAAAAAAAAAAAAAAAAAAAAAAAAAAAAAAAAAAAAAAAAAAAAAAAAAAAAAAAAAAAAAAAAAAAAAAAAAAAAAAAAAAAAAAAAAAAAAAAAAAAAAAAAAAAAAAAAAAAAAAAAAAAAAAAAAAAAAAAAAAAAAAAAAAAAAAAAAAAAAAAAAAAAAAAAAAAAAAAAAAAAAAAAAAAAAAAAAAAAAAAAAAAAAAAAAAAAAAAAAAAAAAAAAAAAAAAAAAAAAAAAAAAAAAAAAAAAAAAAAAAAAAAAAAAAAAAAAAAAAAAAAAAAAAAAAAAAAAAAAAAAAAAAAAAAAAAAAAAAAAAAAAAAAAAAAAAAAAAAAAAAAAAAAAAAAAAAAAAAAAAAAAAAAAAAAAAAAAAAAAAAAAAAAAAAAAAAAAAAAAAAAAAAAAAAAAAAAAAAAAAAAAAAAAAAAAAAAAAAAAAAAAAAAAAAAAAAAAAAAAAAAAAAAAAAAAAAAAAAAAAAAAAAAAAAAAAAAAAAAAAAAAAAAAAAAAAAAAAAAAAAAAAAAAAAAAAAAAAAAAAAAAAAAAAAAAAAAAAAAAAAAAAAAAAAAAAAAAAAAAAAAAAAAAAAAAAAAAAAAAAAAAAAAAAAAAAAAAAAAAAAAAAAAAAAAAAAAAAAAAAAAAAAAAAAAAAAAAAAAAAAAAAAAAAAAAAAAAAAAAAAAAAAAAAAAAAAAAAAAAAAAAAAAAAAAAAAAAAAAAAAAAAAAAAAAAAAAAAAAAAAAAAAAAAAAAAAAAAAAAAAAAAAAAAAAAAAAAAAAAAAAAAAAAAAAAAAAAAAAAAAAAAAAAAAAAAAAAAAAAAAAAAAAAAAAAAAAAAAAAAAAAAAAAAAAAAAAAAAAAAAAAAAAAAAAAAAAAAAAAAAAAAAAAAAAAAAAAAAAAAAAAAAAAAAAAAAAAAAAAAAAAAAAAAAAAAAAAAAAAAAAAAAAAAAAAAAAAAAAAAAAAAAAAAAAAAAAAAAAAAAAAAAAAAAAAAAAAAAAAAAAAAAAAAAAAAAAAAAAAAAAAAAAAAAAAAAAAAAAAAAAAAAAAAAAAAAAAAAAAAAAAAAAAAAAAAAAAAAAAAAAAAAAAAAAAAAAAAAAAAAAAAAAAAAAAAAAAAAAAAAAAAAAAAAAAAAAAAAAAAAAAAAAAAAAAAAAAAAAAAAAAAAAAAAAAAAAAAAAAAAAAAAAAAAAAAAAAAAAAAAAAAAAAAAAAAAAAAAAAAAAAAAAAAAAAAAAAAAAAAAAAAAAAAAAAAAAAAAAAAAAAAAAAAAAAAAAAAAAAAAAAAAAAAAAAAAAAAAAAAAAAAAAAAAAAAAAAAAAAAAAAAAAAAAAAAAAAAAAAAAAAAAAAAAAAAAAAAAAAAAAAAAAAAAAAAAAAAAAAAAAAAAAAAAAAAAAAAAAAAAAAAAAAAAAAAAAAAAAAAAAAAAAAAAAAAAAAAAAAAAAAAAAAAAAAAAAAAAAAAAAAAAAAAAAAAAAAAAAAAAAAAAAAAAAAAAAAAAAAAAAAAAAAAAAAAAAAAAAAAAAAAAAAAAAAAAAAAAAAAAAAAAAAAAAAAAAAAAAAAAAAAAAAAAAAAAAAAAAAAAAAAAAAAAAAAAAAAAAAAAAAAAAAAAAAAAAAAAAAAAAAAAAAAAAAAAAAAAAAAAAAAAAAAAAAAAAAAAAAAAAAAAAAAAAAAAAAAAAAAAAAAAAAAAAAAAAAAAAAAAAAAAAAAAAAAAAAAAAAAAAAAAAAAAAAAAAAAAAAAAAAAAAAAAAAAAAAAAAAAAAAAAAAAAAAAAAAAAAAAAAAAAAAAAAAAAAAAAAAAAAAAAAAAAAAAAAAAAAAAAAAAAAAAAAAAAAAAAAAAAAAAAAAAAAAAAAAAAAAAAAAAAAAAAAAAAAAAAAAAAAAAAAAAAAAAAAAAAAAAAAAAAAAAAAAAAAAAAAAAAAAAAAAAAAAAAAAAAAAAAAAAAAAAAAAAAAAAAAAAAAAAAAAAAAAAAAAAAAAAAAAAAAAAAAAAAAAAAAAAAAAAAAAAAAAAAAAAAAAAAAAAAAAAAAAAAAAAAAAAAAAAAAAAAAAAAAAAAAAAAAAAAAAAAAAAAAAAAAAAAAAAAAAAAAAAAAAAAAAAAAAAAAAAAAAAAAAAAAAAAAAAAAAAAAAAAAAAAAAAAAAAAAAAAAAAAAAAAAAAAAAAAAAAAAAAAAAAAAAAAAAAAAAAAAAAAAAAAAAAAAAAAAAAAAAAAAAAAAAAAAAAAAAAAAAAAAAAAAAAAAAAAAAAAAAAAAAAAAAAAAAAAAAAAAAAAAAAAAAAAAAAAAAAAAAAAAAAAAAAAAAAAAAAAAAAAAAAAAAAAAAAAAAAAAAAAAAAAAAAAAAAAAAAAAAAAAAAAAAAAAAAAAAAAAAAAAAAAAAAAAAAAAAAAEFsb25pY2EgVmlsbGFudWV2YQAAAAWQAwACAAAAFAAAEKyQBAACAAAAFAAAEMCSkQACAAAAAzUzAACSkgACAAAAAzUzAADqHAAHAAAIDAAACKAAAAAAHOoAAAAIAAAAAAAAAAAAAAAAAAAAAAAAAAAAAAAAAAAAAAAAAAAAAAAAAAAAAAAAAAAAAAAAAAAAAAAAAAAAAAAAAAAAAAAAAAAAAAAAAAAAAAAAAAAAAAAAAAAAAAAAAAAAAAAAAAAAAAAAAAAAAAAAAAAAAAAAAAAAAAAAAAAAAAAAAAAAAAAAAAAAAAAAAAAAAAAAAAAAAAAAAAAAAAAAAAAAAAAAAAAAAAAAAAAAAAAAAAAAAAAAAAAAAAAAAAAAAAAAAAAAAAAAAAAAAAAAAAAAAAAAAAAAAAAAAAAAAAAAAAAAAAAAAAAAAAAAAAAAAAAAAAAAAAAAAAAAAAAAAAAAAAAAAAAAAAAAAAAAAAAAAAAAAAAAAAAAAAAAAAAAAAAAAAAAAAAAAAAAAAAAAAAAAAAAAAAAAAAAAAAAAAAAAAAAAAAAAAAAAAAAAAAAAAAAAAAAAAAAAAAAAAAAAAAAAAAAAAAAAAAAAAAAAAAAAAAAAAAAAAAAAAAAAAAAAAAAAAAAAAAAAAAAAAAAAAAAAAAAAAAAAAAAAAAAAAAAAAAAAAAAAAAAAAAAAAAAAAAAAAAAAAAAAAAAAAAAAAAAAAAAAAAAAAAAAAAAAAAAAAAAAAAAAAAAAAAAAAAAAAAAAAAAAAAAAAAAAAAAAAAAAAAAAAAAAAAAAAAAAAAAAAAAAAAAAAAAAAAAAAAAAAAAAAAAAAAAAAAAAAAAAAAAAAAAAAAAAAAAAAAAAAAAAAAAAAAAAAAAAAAAAAAAAAAAAAAAAAAAAAAAAAAAAAAAAAAAAAAAAAAAAAAAAAAAAAAAAAAAAAAAAAAAAAAAAAAAAAAAAAAAAAAAAAAAAAAAAAAAAAAAAAAAAAAAAAAAAAAAAAAAAAAAAAAAAAAAAAAAAAAAAAAAAAAAAAAAAAAAAAAAAAAAAAAAAAAAAAAAAAAAAAAAAAAAAAAAAAAAAAAAAAAAAAAAAAAAAAAAAAAAAAAAAAAAAAAAAAAAAAAAAAAAAAAAAAAAAAAAAAAAAAAAAAAAAAAAAAAAAAAAAAAAAAAAAAAAAAAAAAAAAAAAAAAAAAAAAAAAAAAAAAAAAAAAAAAAAAAAAAAAAAAAAAAAAAAAAAAAAAAAAAAAAAAAAAAAAAAAAAAAAAAAAAAAAAAAAAAAAAAAAAAAAAAAAAAAAAAAAAAAAAAAAAAAAAAAAAAAAAAAAAAAAAAAAAAAAAAAAAAAAAAAAAAAAAAAAAAAAAAAAAAAAAAAAAAAAAAAAAAAAAAAAAAAAAAAAAAAAAAAAAAAAAAAAAAAAAAAAAAAAAAAAAAAAAAAAAAAAAAAAAAAAAAAAAAAAAAAAAAAAAAAAAAAAAAAAAAAAAAAAAAAAAAAAAAAAAAAAAAAAAAAAAAAAAAAAAAAAAAAAAAAAAAAAAAAAAAAAAAAAAAAAAAAAAAAAAAAAAAAAAAAAAAAAAAAAAAAAAAAAAAAAAAAAAAAAAAAAAAAAAAAAAAAAAAAAAAAAAAAAAAAAAAAAAAAAAAAAAAAAAAAAAAAAAAAAAAAAAAAAAAAAAAAAAAAAAAAAAAAAAAAAAAAAAAAAAAAAAAAAAAAAAAAAAAAAAAAAAAAAAAAAAAAAAAAAAAAAAAAAAAAAAAAAAAAAAAAAAAAAAAAAAAAAAAAAAAAAAAAAAAAAAAAAAAAAAAAAAAAAAAAAAAAAAAAAAAAAAAAAAAAAAAAAAAAAAAAAAAAAAAAAAAAAAAAAAAAAAAAAAAAAAAAAAAAAAAAAAAAAAAAAAAAAAAAAAAAAAAAAAAAAAAAAAAAAAAAAAAAAAAAAAAAAAAAAAAAAAAAAAAAAAAAAAAAAAAAAAAAAAAAAAAAAAAAAAAAAAAAAAAAAAAAAAAAAAAAAAAAAAAAAAAAAAAAAAAAAAAAAAAAAAAAAAAAAAAAAAAAAAAAAAAAAAAAAAAAAAAAAAAAAAAAAAAAAAAAAAAAAAAAAAAAAAAAAAAAAAAAAAAAAAAAAAAAAAAAAAAAAAAAAAAAAAAAAAAAAAAAAAAAAAAAAAAAAAAAAAAAAAAAAAAAAAAAAAAAAAAAAAAAAAAAAAAAAAAAAAAAAAAAAAAAAAAAAAAAAAAAAAAAAAAAAAAAAAAAAAAAAAAAAAAAAAAAAAAAAAAAAAAAAAAAAAAAAAAAAAAAAAAAAAAAAAAAAAAAAAAAAAAAAAAAAAAAAAAAAAAAAAAAAAAAAAAAAAAAAAAAAAAAAAAAAAAAAAAAAAAAAAAAAAAAAAAAAAAAAAAAAAAAAAAAAAAAAAAAAAAAAAAAAAAAAAAAAAAAAAAAAAAAAAAAAAAAAAAAAAAAAAAAAAAAAAAAAAAAAAAAAAAAAAAAAAAAAAAAAAAAAAAAAAAAAAAAAAAAAAAAAAAAAAAAAAAAAAAAAAAAAAAAAAAAAAAAAAAAAAAAAAAAAAAAAAAAAAAAAAAAAAAAAAAAAAAAAAAAAAAAAAAAAAAAAAAAAAAAAAAAAAAAAAAAAAAAAAAAAAAAAAAAAAAAAAAAAAAAAAAAAAAAAAAAAAAAAAAAAAAAAAAAAAAAAAAAAAAAAAAAAAAAAAAAAAAAAAAAAAAAAAAAAAAAAAAAAAAAAAAAAAAAAAAAAAAAAAAAAAAAAAAAAAAAAAAAAAAAAAAAAAAAAAAAAAAAAAAAAAAAAAAAAAAAAAAAAAAAAAAAAAAAAAAAAAAAAAAAAAAAAAAAAAAAAAAAAAAAAAAAAAAAAAAAAAAAAAAAAAAyMDIxOjA2OjAyIDA4OjU3OjI0ADIwMjE6MDY6MDIgMDg6NTc6MjQAAABBAGwAbwBuAGkAYwBhACAAVgBpAGwAbABhAG4AdQBlAHYAYQAAAP/hCyVodHRwOi8vbnMuYWRvYmUuY29tL3hhcC8xLjAvADw/eHBhY2tldCBiZWdpbj0n77u/JyBpZD0nVzVNME1wQ2VoaUh6cmVTek5UY3prYzlkJz8+DQo8eDp4bXBtZXRhIHhtbG5zOng9ImFkb2JlOm5zOm1ldGEvIj48cmRmOlJERiB4bWxuczpyZGY9Imh0dHA6Ly93d3cudzMub3JnLzE5OTkvMDIvMjItcmRmLXN5bnRheC1ucyMiPjxyZGY6RGVzY3JpcHRpb24gcmRmOmFib3V0PSJ1dWlkOmZhZjViZGQ1LWJhM2QtMTFkYS1hZDMxLWQzM2Q3NTE4MmYxYiIgeG1sbnM6ZGM9Imh0dHA6Ly9wdXJsLm9yZy9kYy9lbGVtZW50cy8xLjEvIi8+PHJkZjpEZXNjcmlwdGlvbiByZGY6YWJvdXQ9InV1aWQ6ZmFmNWJkZDUtYmEzZC0xMWRhLWFkMzEtZDMzZDc1MTgyZjFiIiB4bWxuczp4bXA9Imh0dHA6Ly9ucy5hZG9iZS5jb20veGFwLzEuMC8iPjx4bXA6Q3JlYXRlRGF0ZT4yMDIxLTA2LTAyVDA4OjU3OjI0LjUyOTwveG1wOkNyZWF0ZURhdGU+PC9yZGY6RGVzY3JpcHRpb24+PHJkZjpEZXNjcmlwdGlvbiByZGY6YWJvdXQ9InV1aWQ6ZmFmNWJkZDUtYmEzZC0xMWRhLWFkMzEtZDMzZDc1MTgyZjFiIiB4bWxuczpkYz0iaHR0cDovL3B1cmwub3JnL2RjL2VsZW1lbnRzLzEuMS8iPjxkYzpjcmVhdG9yPjxyZGY6U2VxIHhtbG5zOnJkZj0iaHR0cDovL3d3dy53My5vcmcvMTk5OS8wMi8yMi1yZGYtc3ludGF4LW5zIyI+PHJkZjpsaT5BbG9uaWNhIFZpbGxhbnVldmE8L3JkZjpsaT48L3JkZjpTZXE+DQoJCQk8L2RjOmNyZWF0b3I+PC9yZGY6RGVzY3JpcHRpb24+PC9yZGY6UkRGPjwveDp4bXBtZXRhPg0KICAgICAgICAgICAgICAgICAgICAgICAgICAgICAgICAgICAgICAgICAgICAgICAgICAgICAgICAgICAgICAgICAgICAgICAgICAgICAgICAgICAgICAgICAgICAgICAgICAgIAogICAgICAgICAgICAgICAgICAgICAgICAgICAgICAgICAgICAgICAgICAgICAgICAgICAgICAgICAgICAgICAgICAgICAgICAgICAgICAgICAgICAgICAgICAgICAgICAgICAgCiAgICAgICAgICAgICAgICAgICAgICAgICAgICAgICAgICAgICAgICAgICAgICAgICAgICAgICAgICAgICAgICAgICAgICAgICAgICAgICAgICAgICAgICAgICAgICAgICAgICAKICAgICAgICAgICAgICAgICAgICAgICAgICAgICAgICAgICAgICAgICAgICAgICAgICAgICAgICAgICAgICAgICAgICAgICAgICAgICAgICAgICAgICAgICAgICAgICAgICAgIAogICAgICAgICAgICAgICAgICAgICAgICAgICAgICAgICAgICAgICAgICAgICAgICAgICAgICAgICAgICAgICAgICAgICAgICAgICAgICAgICAgICAgICAgICAgICAgICAgICAgCiAgICAgICAgICAgICAgICAgICAgICAgICAgICAgICAgICAgICAgICAgICAgICAgICAgICAgICAgICAgICAgICAgICAgICAgICAgICAgICAgICAgICAgICAgICAgICAgICAgICAKICAgICAgICAgICAgICAgICAgICAgICAgICAgICAgICAgICAgICAgICAgICAgICAgICAgICAgICAgICAgICAgICAgICAgICAgICAgICAgICAgICAgICAgICAgICAgICAgICAgIAogICAgICAgICAgICAgICAgICAgICAgICAgICAgICAgICAgICAgICAgICAgICAgICAgICAgICAgICAgICAgICAgICAgICAgICAgICAgICAgICAgICAgICAgICAgICAgICAgICAgCiAgICAgICAgICAgICAgICAgICAgICAgICAgICAgICAgICAgICAgICAgICAgICAgICAgICAgICAgICAgICAgICAgICAgICAgICAgICAgICAgICAgICAgICAgICAgICAgICAgICAKICAgICAgICAgICAgICAgICAgICAgICAgICAgICAgICAgICAgICAgICAgICAgICAgICAgICAgICAgICAgICAgICAgICAgICAgICAgICAgICAgICAgICAgICAgICAgICAgICAgIAogICAgICAgICAgICAgICAgICAgICAgICAgICAgICAgICAgICAgICAgICAgICAgICAgICAgICAgICAgICAgICAgICAgICAgICAgICAgICAgICAgICAgICAgICAgICAgICAgICAgCiAgICAgICAgICAgICAgICAgICAgICAgICAgICAgICAgICAgICAgICAgICAgICAgICAgICAgICAgICAgICAgICAgICAgICAgICAgICAgICAgICAgICAgICAgICAgICAgICAgICAKICAgICAgICAgICAgICAgICAgICAgICAgICAgICAgICAgICAgICAgICAgICAgICAgICAgICAgICAgICAgICAgICAgICAgICAgICAgICAgICAgICAgICAgICAgICAgICAgICAgIAogICAgICAgICAgICAgICAgICAgICAgICAgICAgICAgICAgICAgICAgICAgICAgICAgICAgICAgICAgICAgICAgICAgICAgICAgICAgICAgICAgICAgICAgICAgICAgICAgICAgCiAgICAgICAgICAgICAgICAgICAgICAgICAgICAgICAgICAgICAgICAgICAgICAgICAgICAgICAgICAgICAgICAgICAgICAgICAgICAgICAgICAgICAgICAgICAgICAgICAgICAKICAgICAgICAgICAgICAgICAgICAgICAgICAgICAgICAgICAgICAgICAgICAgICAgICAgICAgICAgICAgICAgICAgICAgICAgICAgICAgICAgICAgICAgICAgICAgICAgICAgIAogICAgICAgICAgICAgICAgICAgICAgICAgICAgICAgICAgICAgICAgICAgICAgICAgICAgICAgICAgICAgICAgICAgICAgICAgICAgICAgICAgICAgICAgICAgICAgICAgICAgCiAgICAgICAgICAgICAgICAgICAgICAgICAgICAgICAgICAgICAgICAgICAgICAgICAgICAgICAgICAgICAgICAgICAgICAgICAgICAgICAgICAgICAgICAgICAgICAgICAgICAKICAgICAgICAgICAgICAgICAgICAgICAgICAgICAgICAgICAgICAgICAgICAgICAgICAgICAgICAgICAgICAgICAgICAgICAgICAgICAgICAgICAgICAgICAgICAgICAgICAgIAogICAgICAgICAgICAgICAgICAgICAgICAgICAgICAgICAgICAgICAgICAgICAgICAgICAgICAgICAgICAgICAgICAgICAgICAgICAgICAgICAgICAgICAgICAgICAgICAgICAgCiAgICAgICAgICAgICAgICAgICAgICAgICAgICA8P3hwYWNrZXQgZW5kPSd3Jz8+/9sAQwAHBQUGBQQHBgUGCAcHCAoRCwoJCQoVDxAMERgVGhkYFRgXGx4nIRsdJR0XGCIuIiUoKSssKxogLzMvKjInKisq/9sAQwEHCAgKCQoUCwsUKhwYHCoqKioqKioqKioqKioqKioqKioqKioqKioqKioqKioqKioqKioqKioqKioqKioqKioq/8AAEQgAZwJ9AwEiAAIRAQMRAf/EAB8AAAEFAQEBAQEBAAAAAAAAAAABAgMEBQYHCAkKC//EALUQAAIBAwMCBAMFBQQEAAABfQECAwAEEQUSITFBBhNRYQcicRQygZGhCCNCscEVUtHwJDNicoIJChYXGBkaJSYnKCkqNDU2Nzg5OkNERUZHSElKU1RVVldYWVpjZGVmZ2hpanN0dXZ3eHl6g4SFhoeIiYqSk5SVlpeYmZqio6Slpqeoqaqys7S1tre4ubrCw8TFxsfIycrS09TV1tfY2drh4uPk5ebn6Onq8fLz9PX29/j5+v/EAB8BAAMBAQEBAQEBAQEAAAAAAAABAgMEBQYHCAkKC//EALURAAIBAgQEAwQHBQQEAAECdwABAgMRBAUhMQYSQVEHYXETIjKBCBRCkaGxwQkjM1LwFWJy0QoWJDThJfEXGBkaJicoKSo1Njc4OTpDREVGR0hJSlNUVVZXWFlaY2RlZmdoaWpzdHV2d3h5eoKDhIWGh4iJipKTlJWWl5iZmqKjpKWmp6ipqrKztLW2t7i5usLDxMXGx8jJytLT1NXW19jZ2uLj5OXm5+jp6vLz9PX29/j5+v/aAAwDAQACEQMRAD8A+kaKKKACiiigAooooAKKKKACiiigAooooAKKKKACiiigAooooAKKKKACiiigAooooAg+xW39oC+8lRdCPyvNHBKZztPqM9M9MnHU1M6h0ZGzhhg4OP1paKPICG0tILG0itbOFIYIl2pGgwFFTUUUAFFFFABRRRQAUUUUAFFFFABRRRQAUUUUAFFFFABRRRQAyaGK4iMVxGksbdUdQwP4Gn0UUAFFFFABRRRQAUUUUAFFFFABRRRQAUUUUAFFFFABRRRQAUUUUAVdS0yz1eya01K3S4gYglW7EcggjkEHoRyKr6R4f0zQlm/sy28t5yDLLJI0skmOm53JY47ZPFaVFABRRRQAUUUUAFFFFABRRRQAUUUUAFFFFABRRRQAUUUUAFFFFABRRRQAUUUUAFFFFABRRRQAUUUUAFFFFABRRRQAUUUUAFFZ2pa5babe2Vk6yT3d9Jsht4QCxA+85yQAqjkk/QZJArRoAKKKztS1u10m9soL5ZI472Tyo7jA8tZP4UY5yC3OOMZGM5IyAaNFFcRoOpa3qvxK1ppkiTT9OijsmjS8dkWQgyF1XYAzYKg5xj1NHWwdLnWWeq6dqM08On39rdS2zbZ0gmV2iPPDAHg8Hr6VbrzHw54gnsJ9X8QS2Cz2uta+LSGVZ8SMgIhQqm3BAKk8sO/pz6dQtk/62T/UHo2v67BRRRQAUUUUAFFFFABRRRQAUUUUAFFFFABRRRQAUUUUAFFFFABRRRQAUVS1fV7PQ9Mlv9QkKQx4GFGWdicBVHdicACrNvK09rFK8LwM6BjFJjchI6HBIyPYmgCSiiigAooooAKKKKACiis6TXLWDxBFo9wskM9xEZLd3A2T4+8qnP3lGCQccHIzzgA0abJIkUbSSsqIgLMzHAUDqSaSYyLC5gRHlCnYrsVUnsCQDge+DXCeDte1ObRvEPiTWPLFi9xPLb4umkEccQ2bVUqAF+RjkHknoKTdr+SuNK9vWx2thqVjqlt9o0y8t7yDcV823lWRcjqMgkZqzXnfw+1K70bR/Duk6jp4E2spPd+cs+5wx/elnTaMA7wOCe3Hp6JVNW0JTuFFFFIYUUUUAFFFFABRRRQAUUUUAFFFFABRRRQAUUUUAFFFFABRRRQAUUUUAFFFFABRRRQAUUUUAFFFFABRRRQAUUUUAFFFFABRRQehpPRAcL4Im/4SDxh4m8RS5ZYbn+yrPPRIouWI/wB5jn8K0fiNczWPgi+vYLua2a3QsBAzI0rkFUXcpBX52U8dcY6E1jfBQlvADs/+tbULgyf726un1bTNZv5nSG90f7FuV44LzSnnZWXBBLeeoJ3DI+UY49M02vdS8l/wRp2k35v/ACOct7m50vxromn3OrXcrxafv1NpZWdZpJGWOJQnRTuDn5QOAc9zXU+KNGj8QeF9Q0yX/l4hYIw6o45Vh7hgD+FZ76L4hkvkvZNQ8PtdRrtSdtDkLqPQN9pyByfzrpaJe9G3qKPus5r4e6/J4l8B6ZqNwc3LR+VOfWRCVY/iRn8aNO8Jz6bcai8GquFvLme6UCLBEkgxlzu+cKPujCj1yQDWF8Gif+ET1FR/q11e5Ef0yK9Codpe93X52YLTTs/yujj/APhAvK0Lw/p1nqbQ/wBiksJDDu81yhUvjcNrAszA8gE9DXXRoIoVTcxCKBudsk47k96dXnfxEu7jVPFvhrwdG7x2eqSvNfFCVMsUYyY8+hwc/hRdt27sOl+yO1ste0jUrqS207VbK7uIv9ZFBcI7p9QDkVwFlrdvbfGTWvtmvyWek6fbpEYbzUWEL3MvzcB2xwMjA6Y4xT/iFtg8YeBtN0SFYryK9MqiFQvlWygBxgdFK54/2aoeBfsUPgjxP451OCNrjUZruYySDLCEZAj57EgjHfileyc+1/0/zfzQ7X93vb9f8vxPWPMTyvN3r5e3dvzxj1z6VU07WdL1cSHSdStL4RHEhtp1k2H0O0nFeU2NtqV38CdG8PpfWya1fIJbayu5gjXUCyF/LGTnBTHtjitHw/rlw3iHxFqmuaNdaXruj6QFNks6yW7RAFwUCjqSvq3setVK0W0+l/wFG7St1/zPRdQ1rStJaMarqdnZGThBc3Cx7vpuIzTrrVtOsWtxe39rbG5bbAJplTzT6Lk/MfpXm3w907xFqHhGXU5bfTHvNeDyzandTvLLtbIVfJ2AbQOi+Zj+VV/iF4atNN8J6To1ncTXNzqTWejQM5B2Ro+9mXjjJAzz2X0os07Py/ELpq68z1G31bTru9ns7TULWe5t/wDXQRTKzxf7yg5H40211nTL6GeWy1G0uY7ckTPDOriIjqGIPH41z8vw60lruS4t7i8tt1gNPSKKUCOGHI3bFxwWxyc989ea57wRFYX8PjPxJqMSJpl3M1osRGEFrAmzp7jP5VLe/o3+I1rb1/r9T0aLULOfTxfQXcElmy7xcJKDGV9dwOMe9R2Gr6bqkYk0zULW8QkqGt51kBI6jIJ6ZFeRaNpss+ueD/BFxE8emWlgdXvbZznzGZ2ZEf1CsRxW3D9gufj9qWpSmGCLSNPhtXkOBunlOFGfXDbR+VXb3rev4f8AB0Jvpf0/H/ganR6/4qubDxx4e8P6ckEh1FpJLp5ASY4kXPGCMEnPJz0q74qvbhdPGn6Pren6VrF2yi1a7ZSW5G7ah+8cZ7GuC0nw/wCHNR+K/ii+u9J0uLR9Gto7YpJbRiHzD87yMCNuRgjJqx41061ufGGkaDby5Oo3a6lfSkgeRa26/IgI+6mQce5J71C1Ub9f6/LUp6N26f1+eh6crfZrNWvJ1JjQebM2EUkDlvQDvVfTta0rWBIdJ1OzvhGcObadZNh99pOK4LV7seMPi1pnh92E2h2diNTliHKXbEjZu/vKMqQOnWoPFFs+s/GrTNK0uSS2K6ROmoXFuQGSFwwUZ9QcEZ9Qaera87/hf/IWiXpb8bf5noC+IdFe0nuk1ewa3tm2TzC5QpE3ozZwD7GrVlfWmpWq3On3UN3bv92WCQOjfQjivNfAmlaZd+OfFOvmGMWum3CWFnkfJEIYwrMB0zjAz2BPrVz4S3Mc2n6pqEkqxf27qlzeWduTgmIEKWA+vX8Kas/uuD0++39eh6LWfquqf2Y9gvk+b9su0tvvY2bgx3dOfu9Km1CS/jtg2lW1tcz7hlLm4aFceu5Uc59sfjXIeJbrxMZtF8/SNJQjU4ymzVZW3NtfAObcYHXnn6VPVeq/MOj9H+R3NFZFrc+JHuo1vdJ0qG3J+eSHU5JHUeym3UH8xWvTA4XVJjr3xg03R2+a00W0OpSp2aZjsjz/ALoJYfWux1GN5dNuEiuTaM0ZHnqMmMdyPfFcL4ZJb44eMvM+8ttaBcn+HYK7PVrbVLqNE0u7sbdCGEy3lk1wJAcYACypjvnOc57d19hW63/Njek38vyR5pZajff8Idot+2r36Xeq6qXtTLdOVgtFkaRtwJ+cCJDy+T8w56V6xDKk8KSxklJFDKSCOCMjg8iuak8Pa3NbQW8t34ceC2IMETaC5WIgYG0facDA9K6GyS7js0XUZ4Z7kZ3yQQmJG54wpZiOMfxH+lV5E9bk9Z11q32bxFp+l+Tu+2QzS+buxs8vZxjHOd/r2p+pTatF5f8AY9lZ3Wc+Z9qvHg2+mNsT57+lclqN14mPjvQy+kaSJha3floNUkKsMw5Jb7PkEcYGDnJ6Y5XUo7uorpbhrWRbKSOK4Kny3ljLop9SoIJHtkVR0+412S626rpunW0G0/Pbag8zZ7Da0KDHvn8K06BHn/hPWdduPil4j0fWtSS7isLeExLDB5MalgCSFyx792NaXxNs5JfBFzqFmdl9pDLqFrIOqtGcn8Cu4Y96xfC3/JdvGX/Xtbf+gLXZ+KgjeD9ZEuNhsZw2TjjyzUybVJS62v8AiXFL2jXTT8kTaZfx674etb6Bikd9bLKpHVQy5/MZrm08Ayr4Il8NnWXWFrZbVXjg2qsYbLkruOXfkFs9+AOczfC1nb4XaCZfvfZQBn0DED9MV1taTSUmkZQbcUznbvwqZ/E1pqsF+9vHb2q2wgROQgcOdrZG3dtUNwcgY4rflljghaWeRY40GWd2wFHqSafXnGrSSeKPjNbeHrwFtI0izF9Lbt924mJAXcP4gMggeoNTq2o+v+bK0Sb/AK7I7mw1fStbhl/srUrW+Rflka0uFfZn3U8GuA+G+v28mq69NqGvsYrjUWtdLtb7UC7GOPjKB2JOSe3pWd451ibTvio95o6fNpfh+eS+ZOhBVvLVsejbDz61VvdLs/C/7OAjS2jN9qsMJYhcvNNIwYc9SVHT6Uk9Ob5fi1+n4ja1Uf62/wCD+B7HdXdvY2r3N7PFbwRjLyyuEVR6kngUyx1Gy1S1Fzpl5b3kDEgS28qyKSPcEivO/FKa1dx+G7bRnsdW1jRVjur/AEie4VXlPlhQ5yR0JJ57kGsy28UPYfDjxl4ms7a9stZe9aK6guZVkFvN8qDYQoGFDDqM8ck03pzeX/AFG8uXz/4J6jca5pNpfx2N3qllBdy4EdvLcIsj56YUnJp8mq6dDqCWE1/ax3joXW2aZRIy/wB4LnJHB59q4LRvB2qzeAE0O8g02xhvY1lv75bh7iedjhnYhkUK59Szbe2cVS8W+H7LUPiR4e0Ihrpbu6k1W+80hvkSMIif7nykY9z602rS5f6/rf7hXuuZHpFrrWl31rNc2WpWdzbwEiWWGdXSMjk7iDgY96RNc0mTSm1NNUs2sF+9di4QxDnHL5x1965y88HaRpEOratPc3kkcs66hdxyyBlZYQzLEBjhAecewHTiuT0jSYrj4E6nc6vEJrnxBLJeLFn/AJbyuBCF/wCBbDU9Hb+v61+7zKtqr/1/Wn3nql1qNlY2X2y9vLe3tQATPLKqJg9DuJxTrW/tL6FZrK6guYmUOrwyB1KnoQR24PNebeFbZ9X+J17b3mZLHwnaw2dlE3KiUoN0uP72FIz6EUnw8h0u98T+MNTmjtxDq2pPZQQOo2zrGpL4H8QOcmq0vp2v8un33Jvpr5L/AD+46aPxVc3PxSk8N2qQGxtdPFxczEEuJGYBVBzgcHPSrWt3V5d61p+naDr+n2VzFMJr61k2yTSQDqFQ8jPrx9fXhvhtonh66vNd8SXmm6ZFb3Gr+RpnmQRhIgh2oY8jCksR06kVLFbWX/C2be3Nziy8Mwvc3V1KwBlu7lsAMfUgjA9sUo/Z+/8AX/gf8ON/a+79Pz/rQ9Pu7y2sLV7m+uIraBBl5ZnCKv1J4FQ2usabfWL3tjqFpc2iZLXEM6vGuOuWBwMVwmiu/i34va3NqS+ZZeHNlvZW7/dWVs7pcf3uCAfQis63s4/EHxe8VqrvFotvBbC+MZAWaaNlfa3Y8KwPfGRST281f0QPS/kejP4k0OPTU1CTWdPWykbaly10gjY+gbOCavwzRXEKTW8iSxSKGR0YMrA9wR1FeUeA/sOmeANe8dX8C+dfS3d0pcfdj3EBFHbcR268Z6Cul+FEP9n/AA90rTridTeC3+1PDn5o0ldmTI7DGfyNVbf5fiJ/5/gdrRRRSGFFFFABRRRQBzlr4+8O3fiGLQo7yaPU5clLa4sp4WIAJz86AdAfrXRk4GTwK8S1YBPiDoHi3gfbPEU1mrkdYlCwLz6ZRz/wKvR/F2oqbeXTFcpGLZ7rUJFOPKtlByM9i5BUe289qV/c5v62v+THb37L+tWiTSPHvh3Xr97TRrya9kSTy3aGynaNG56ybNg6dScGuirzv4L2K6f8OBqNwqwtqNxLeSE8BVzgfQYXP41pHx5NeaJea7oukC60azDs11cXPkNOqZ3NEmxtw4ONxTJqnpo/mJa7HZVjal4s0fSNYtNM1GeaG6vHWO3H2WVkkZjgKHClc/jx3xVbVfGNrYf2Xb2tvLealqwDWdkPkYrjJZyfuKB1PJ9Aa4y81G71z4zaZba3ZpYR+G7Oa+n2T+bESwADBiqnAyOqg5BpfaSf9W3Dpdf1fY9Olv7SC7gtZ7qGO4uM+TC8gDy45O1Tyce1T1wmm63p2v8AxGtI7/w+ItQi043ljdtJveOFm24dMARsc5Ay3B6g5Fa1x4skuPEN1onhywTUruxQPePLceTDCT91N4ViXPoBj1Io9QOlorjtK+Itrqvhi+1iPTbqH7JdCzW3kK7ppiVUKpBI5ZwM/jUei+OtR8QSahZ6b4fU32m3L290ZbzbbAqcfLL5ZZieeNnGOcZGQDtaKxfCPiaDxd4at9XtoXtxKWVonOSjKxUjPcZHWtK+votOtGuLhJ3RSARb28k78/7CKWP5UPTcCxRWF/wmGm/8+2tf+CO9/wDjVSQeKtPuLiOGO31YNIwUGTRrtFBPqzRAAe5IFAGzRRRQBwfw8iOia94o8NzZDQ35vrcH+KGYZGPoQQfeun8RW+rXWk+ToM0MNw0se9pmZR5W4bwCvIJXIBH5jrTdS0BbzWrHV7Sf7Jf2mYzIE3CaFj80TDIyOMg54PPPIMniGPWJdDni8ONbR6hIAscly5VUB6twrc46cYzS+yvL9P61+Y+r8/1MDwzc3cfj7XtLtrq4u9GtIoirXErSmG4bloxIxLHjBIJOM9q6PXdUh0TQL7U7lgsdrA8pz3wOB+J4rI8KaZr2ms0WrxaZbWccW2KGwmklLyFstJIzqCWPrzkkk1f13QF1+S0ivZz/AGfDKJprQJ/x8OpBQM2fug8lcckDnAwSSvG1/wCv62EnaVzK+GOjTaJ8PNNgvARdTK1zMD1DSEtg+4BA/Cusooqm7u4le2oVka34bs9dms7mWSa1vbFy9reWzASQkjBxuBUgjgggiteikMx9L8M2WmajNqTyT32pzII5L27YNIUH8IAAVF9lAFZo+Huk+W1o896+ktcG4/soyL9n3ltx6LvK7udpYrntXVUUAYmreFbPVNVtNUjmmsdRs42ihurZYyyoeq4kRl/HGeTzyam0vw9Z6WbuQGW6ub4g3VzcsGebAwAcAAADgKAAPStWijpYDmrPwTbWFn/Z9pquqRaUMhdPSZFRATkqHCiUDnpvq3c+E9Jub7RrkwGIaKWNnDEdsakgDlfbHFbVFABXM23gTTbR54obq9GnT3BuZNMMi/ZzITkn7u/GRnbu2+1dNRR1uHSxi6r4XttS1i31aG7utP1GCJoFurQpuaMnJRg6spGeemR2NZ1h8OtG03Wn1G2lvf3sqTzW8k++OaZM7ZWLAsWBYn72M4OOBXV0ULTb+v6/MHruc1H4E0uLVLy6Wa6+z3t0Ly4sS6+RJMMHefl3HkA7d23Panav4I0zWteGrXEt1FO1qbOdIZAq3EO7dsbIJAz/AHSpI4ziujoo2Aw9S8KWd9qtvqlrcXOmajbwm3S6s9gYxHnYVdWUjPPI47VPo3h2w0NrmW1WSS6u233N3O++WY9tzeg7AYA7AVq0UAYmieE9N0LQJ9ItvOmt7l5XnadwXkMn3skAeuKZ4b8H2HhmNFtJrm5MUXkQNcspMMWd2xdqgYzySck8ZJwK3qKNg3CsvWtMm1KTTGgZFFpfJcPvJGVVWBAwOvIrUooAKKKKAODuIjonxutrx/ltde042wbt58R3AH6p0rtb0XLafcDT2jW6MTCFpfuh8fKTjtnFU/EGhW/iDTPss7vDJHIs1vcR/fglU5V19wfzGR3q3i7j03AaG4vFi4YgxxySY9PmKgn6496X2bf13/r5D+1f+u39fM4aJtZ0jxp4YsBey3N3eW8r61ALiSaEBVGJVDn92N+QMYB6Y4r0GuK8P6R4xtdVjm1f+xgksxlvrm2nleacBWCoAyABASMDPAHqST2tV0J6hWVeaXNceKtM1NHjENnBcROpJ3EyGPGOMfwHP4Vq0UhhUVzE89rJFHPJbu6lRNEF3IfUbgRn6gipaKAOPsvh4lh4hutbt/Emti/vAq3EjG2IlC4wCPJwOnbFS/Eu/Nj8PtTjhBa5vo/sVvGvV5JTsAH5k/hXV1kXegLqPiO01O/nMsNgC1paBMKkpyDKxz8xxwvAxk9SeE1dcr2GnZ83Um8PaWNE8NadpYOfsdtHCT6lVAJ/OtGiiqbu7slKysFYmp+Fra/1qPWLa7utN1OOEwG6tCm54852MrqykZ56ZHrW3RSGYtj4S0ixsb628hrg6iCL2a4cvJc5GDub6HAAwB2AqpY+B9PtLixkubu91FNN/wCPCG8kVo7bAwCoVRuIHAZ9xHrXS0UAc/c+ELZ9eudY0++u9LvbtFS5ktVhJmCjAz5kbkcf3cVYh8LaRF4dn0T7L5llch/tCyOWaZnOWZm6liec/lWxRStpYOtznovB8BtY7PUNU1LUrCIBUs7qRBHgdFbYis49nLA981bTw3p6eKz4h2yG++yCzXLfIkYbdwOxzWtRVX1uHkR3EEV1bS29wgkilQo6HoykYI/KsHSPBdlpC2kS3t9d2lixaztbmRWjtzzgjCgtgEgby2O1dFRSA5658HWc2sXmo2t7fWD6gqrex2siqtyFGBklSynHGUKn3qPw/wCA9J8NXJfT3uWhUyG3tppA0dt5hG/ZxnnA5YsQOmMmulooDc5rQ/AumaC0C2013NbWsry2lrO6mO2dycsuFBJ5OCxYjJxilTwNpaeIrnVxJck3U8dzNalx5LzIMI5GNxI643bc84yBXSUUdbg9Tn7nwhbPrV1qmnX99pV1eqq3Zs2TFxtGFLB0bBA4yuD71Yt/C2mWXhy60Wwje1t7pJFlkjfMrM4wzl2yS/PU5rYopWVrDvrcwZPBuky+Bx4UkSQ6aIFg+/h8Aghs4+9kZ6de1W9F0K30SGQRTTXM823zbi4Kl32jao+UBQABgAADr3JNadFPq33F0S7BRRRQAUUUUAFYPi7xZpnhPQ7i61C9hgn8l2toXcB5nA4Cr1PJH0zW9RSkrqw07O5434qjhl+Dfhm50CaPUpNNvrRw1u27zJejDjoxdunXmrPxG1q20H4d6tZ3d/anxJrBT7TbrMC6B8fKB1CKgKg9D16mvW6Kcvev5v8Ay0/AUbq3l/wf8zibuwS++C8+l+FbmG926YbaGS2kDrIVXawBHc4I+prF8Lx+DrfwhptuzT6nfQ28fmaQbqW4dZgBkG2LFU+bPJUKOuQOa9Qopt3k33/4P+YkrJLt/X6HmcssOl/G6TWfEsi6fbPoyJYtcMAu/cN8YPQuOflBJOeM1T8Has118SfEN29nIb3U7yK3S1uUMckNokZPmshGQp+UDPUkCvWKKS0t8/xd/wDgeg3rf5fgrf8AB9TyzwPqMt14612+a28zU77UWtpIWODY2kK4Vm443HaAP4uo6Gq/gzU08KaJ4oivvMl8SzajcSiwRC1xOcDYyoOSh67ugyea9bopW0t5W/L/ACHfW/nf8/8AM8v+Fupw6f4BESRrPDZWb317dZztuGZmMWMfeVQM9xlfWmeFzf6F8Br/AFeGB31O+juL8qiksWkJw34Lg/hXqdFOXvJ+at/X4fcKOjXk7/1+P3nEfC4x2/hW00zT0SWxtLaMteo+VmuHy0ir2IUkDOepx2NdffPex2jNplvBcXGRtjuJ2hQjv8wRyPyqxRTk+Z3FFWVjC+1+LP8AoCaL/wCDiX/5GqSC68TtcRi50jSY4SwEjx6rK7KvchTbgE+2R9a2aKQwrJvfCvh7Urx7vUdB0y7uZMb5p7ON3bAwMsRk8AD8K1qKAML/AIQbwn/0K+i/+C+L/wCJo/4Qbwn/ANCvov8A4L4v/ia3aKAML/hBvCf/AEK+i/8Agvi/+Jo/4Qbwn/0K+i/+C+L/AOJrdooAwv8AhBvCf/Qr6L/4L4v/AImj/hBvCf8A0K+i/wDgvi/+JrdooAwv+EG8J/8AQr6L/wCC+L/4mj/hBvCf/Qr6L/4L4v8A4mt2igDC/wCEG8J/9Cvov/gvi/8AiaP+EG8J/wDQr6L/AOC+L/4mt2igDC/4Qbwn/wBCvov/AIL4v/iaP+EG8J/9Cvov/gvi/wDia3aKAML/AIQbwn/0K+i/+C+L/wCJo/4Qbwn/ANCvov8A4L4v/ia3aKAML/hBvCf/AEK+i/8Agvi/+Jo/4Qbwn/0K+i/+C+L/AOJrdooAwv8AhBvCf/Qr6L/4L4v/AImj/hBvCf8A0K+i/wDgvi/+JrdooAwv+EG8J/8AQr6L/wCC+L/4mj/hBvCf/Qr6L/4L4v8A4mt2igDC/wCEG8J/9Cvov/gvi/8AiaP+EG8J/wDQr6L/AOC+L/4mt2igDC/4Qbwn/wBCvov/AIL4v/iaP+EG8J/9Cvov/gvi/wDia3aKAML/AIQbwn/0K+i/+C+L/wCJo/4Qbwn/ANCvov8A4L4v/ia3aKAML/hBvCf/AEK+i/8Agvi/+Jo/4Qbwn/0K+i/+C+L/AOJrdrJ8UXmo6f4V1G60S1a61CKBjbwqu4s3bjvjrjvik3ZXGld2IP8AhBvCf/Qr6L/4L4v/AImj/hBvCf8A0K+i/wDgvi/+JrgvFc+s+HPh7ZeMbPUdWstUTyWurK/ummjk3kBlaM4VTz/Cq4GeB29Q0u8/tHSLO9MZiNzAkuw9V3KDj9aq2/loTfbz1Mz/AIQbwn/0K+i/+C+L/wCJo/4Qbwn/ANCvov8A4L4v/ia3aKQzC/4Qbwn/ANCvov8A4L4v/iaP+EG8J/8AQr6L/wCC+L/4mt2igDC/4Qbwn/0K+i/+C+L/AOJo/wCEG8J/9Cvov/gvi/8Aia3aKAML/hBvCf8A0K+i/wDgvi/+Jo/4Qbwn/wBCvov/AIL4v/ia3aKAML/hBvCf/Qr6L/4L4v8A4mj/AIQbwn/0K+i/+C+L/wCJrdooAwv+EG8J/wDQr6L/AOC+L/4mj/hBvCf/AEK+i/8Agvi/+JrdooAwv+EG8J/9Cvov/gvi/wDiaP8AhBvCf/Qr6L/4L4v/AImt2igDC/4Qbwn/ANCvov8A4L4v/iaP+EG8J/8AQr6L/wCC+L/4mt2igDC/4Qbwn/0K+i/+C+L/AOJo/wCEG8J/9Cvov/gvi/8Aia3aKAML/hBvCf8A0K+i/wDgvi/+Jo/4Qbwn/wBCvov/AIL4v/ia3aKAML/hBvCf/Qr6L/4L4v8A4mj/AIQbwn/0K+i/+C+L/wCJrdooAwv+EG8J/wDQr6L/AOC+L/4mj/hBvCf/AEK+i/8Agvi/+JrdooAwv+EG8J/9Cvov/gvi/wDiaP8AhBvCf/Qr6L/4L4v/AImt2igDC/4Qbwn/ANCvov8A4L4v/iav6boek6L5v9j6XZaf52PM+y26Rb8ZxnaBnGT+Zq9RQAUUUUAFFFFABRRRQAUUUUAFFFFABRRRQAUUUUAFFFFABRRRQAUUUUAFFFFABRRRQAUUUUAFFFFABRRRQAUUUUAFFFFABRRRQAUUUUAFFFFABRRRQAUUUUAFFFFABRRRQAUjMqIXdgqqMkk4AFLVXVNMtNZ0ufT9RjMtrcJslQOybl9MqQR+dJ3toNb6nB6v9h8cyrqGs3McXhTTCbiK3LgNqDqD+8YZ4jAztHVuvTFd/ZXCXen29zCjRxzRLIiMMFQRkAjsa4z/AIUv4A/6AH/k5P8A/F13CIscaog2qoAUDsKpWSsJ3buOooopAFFFFABRRRQAUUUUAFFFFABRRRQAUUUUAFFFFABRRRQAUUUUAFFFFABRRRQAUUUUAFFFFABRRRQAUUUUAFFFFABRRRQAUUUUAFFFFABRRRQAUUUUAFFFFABRRRQAUUUUAFFFFABRRRQAUUUUAFFFFABRRRQAUUUUAFFFFABRRRQAUUUUAFFFFABRRRQAUUUUAFFFFABRRRQAUUUUAFFFFABRRRQAUUUUAFFFFABRRRQAUUUUAFFFFABRRRQAUUUUAFFFFABRRRQAUUUUAFFFFABRRRQAUUUUAf/Z)"
      ]
    },
    {
      "cell_type": "markdown",
      "metadata": {
        "id": "iaZAXjs5OlNb"
      },
      "source": [
        "#### The Mode\n",
        "\n",
        "The mode is the most frequently occuring observation or value."
      ]
    },
    {
      "cell_type": "code",
      "metadata": {
        "colab": {
          "base_uri": "https://localhost:8080/"
        },
        "id": "YGTYW7s-4ZMa",
        "outputId": "9093b068-825b-4c3a-8840-3fbb40cb5f5e"
      },
      "source": [
        "count = data.rounded.count()\n",
        "stdstring = 'The standard deviation of the distribution is {:.2f}.'.format(std)\n",
        "print(stdstring)"
      ],
      "execution_count": null,
      "outputs": [
        {
          "output_type": "stream",
          "text": [
            "The standard deviation of the distribution is 0.20.\n"
          ],
          "name": "stdout"
        }
      ]
    },
    {
      "cell_type": "markdown",
      "metadata": {
        "id": "ahQJxxK1PjXg"
      },
      "source": [
        "#### Standard Deviation"
      ]
    },
    {
      "cell_type": "markdown",
      "metadata": {
        "id": "WbZ-c0CcMtgl"
      },
      "source": [
        "In statistics, the standard deviation is a measure of the amount of variation or dispersion of a set of values. A low standard deviation indicates that the values tend to be close to the mean (also called the expected value) of the set, while a high standard deviation indicates that the values are spread out over a wider range.\n",
        "\n",
        "![sd.JPG](data:image/jpeg;base64,/9j/4AAQSkZJRgABAQEAeAB4AAD/4REERXhpZgAATU0AKgAAAAgABAE7AAIAAAATAAAISodpAAQAAAABAAAIXpydAAEAAAAmAAAQ1uocAAcAAAgMAAAAPgAAAAAc6gAAAAgAAAAAAAAAAAAAAAAAAAAAAAAAAAAAAAAAAAAAAAAAAAAAAAAAAAAAAAAAAAAAAAAAAAAAAAAAAAAAAAAAAAAAAAAAAAAAAAAAAAAAAAAAAAAAAAAAAAAAAAAAAAAAAAAAAAAAAAAAAAAAAAAAAAAAAAAAAAAAAAAAAAAAAAAAAAAAAAAAAAAAAAAAAAAAAAAAAAAAAAAAAAAAAAAAAAAAAAAAAAAAAAAAAAAAAAAAAAAAAAAAAAAAAAAAAAAAAAAAAAAAAAAAAAAAAAAAAAAAAAAAAAAAAAAAAAAAAAAAAAAAAAAAAAAAAAAAAAAAAAAAAAAAAAAAAAAAAAAAAAAAAAAAAAAAAAAAAAAAAAAAAAAAAAAAAAAAAAAAAAAAAAAAAAAAAAAAAAAAAAAAAAAAAAAAAAAAAAAAAAAAAAAAAAAAAAAAAAAAAAAAAAAAAAAAAAAAAAAAAAAAAAAAAAAAAAAAAAAAAAAAAAAAAAAAAAAAAAAAAAAAAAAAAAAAAAAAAAAAAAAAAAAAAAAAAAAAAAAAAAAAAAAAAAAAAAAAAAAAAAAAAAAAAAAAAAAAAAAAAAAAAAAAAAAAAAAAAAAAAAAAAAAAAAAAAAAAAAAAAAAAAAAAAAAAAAAAAAAAAAAAAAAAAAAAAAAAAAAAAAAAAAAAAAAAAAAAAAAAAAAAAAAAAAAAAAAAAAAAAAAAAAAAAAAAAAAAAAAAAAAAAAAAAAAAAAAAAAAAAAAAAAAAAAAAAAAAAAAAAAAAAAAAAAAAAAAAAAAAAAAAAAAAAAAAAAAAAAAAAAAAAAAAAAAAAAAAAAAAAAAAAAAAAAAAAAAAAAAAAAAAAAAAAAAAAAAAAAAAAAAAAAAAAAAAAAAAAAAAAAAAAAAAAAAAAAAAAAAAAAAAAAAAAAAAAAAAAAAAAAAAAAAAAAAAAAAAAAAAAAAAAAAAAAAAAAAAAAAAAAAAAAAAAAAAAAAAAAAAAAAAAAAAAAAAAAAAAAAAAAAAAAAAAAAAAAAAAAAAAAAAAAAAAAAAAAAAAAAAAAAAAAAAAAAAAAAAAAAAAAAAAAAAAAAAAAAAAAAAAAAAAAAAAAAAAAAAAAAAAAAAAAAAAAAAAAAAAAAAAAAAAAAAAAAAAAAAAAAAAAAAAAAAAAAAAAAAAAAAAAAAAAAAAAAAAAAAAAAAAAAAAAAAAAAAAAAAAAAAAAAAAAAAAAAAAAAAAAAAAAAAAAAAAAAAAAAAAAAAAAAAAAAAAAAAAAAAAAAAAAAAAAAAAAAAAAAAAAAAAAAAAAAAAAAAAAAAAAAAAAAAAAAAAAAAAAAAAAAAAAAAAAAAAAAAAAAAAAAAAAAAAAAAAAAAAAAAAAAAAAAAAAAAAAAAAAAAAAAAAAAAAAAAAAAAAAAAAAAAAAAAAAAAAAAAAAAAAAAAAAAAAAAAAAAAAAAAAAAAAAAAAAAAAAAAAAAAAAAAAAAAAAAAAAAAAAAAAAAAAAAAAAAAAAAAAAAAAAAAAAAAAAAAAAAAAAAAAAAAAAAAAAAAAAAAAAAAAAAAAAAAAAAAAAAAAAAAAAAAAAAAAAAAAAAAAAAAAAAAAAAAAAAAAAAAAAAAAAAAAAAAAAAAAAAAAAAAAAAAAAAAAAAAAAAAAAAAAAAAAAAAAAAAAAAAAAAAAAAAAAAAAAAAAAAAAAAAAAAAAAAAAAAAAAAAAAAAAAAAAAAAAAAAAAAAAAAAAAAAAAAAAAAAAAAAAAAAAAAAAAAAAAAAAAAAAAAAAAAAAAAAAAAAAAAAAAAAAAAAAAAAAAAAAAAAAAAAAAAAAAAAAAAAAAAAAAAAAAAAAAAAAAAAAAAAAAAAAAAAAAAAAAAAAAAAAAAAAAAAAAAAAAAAAAAAAAAAAAAAAAAAAAAAAAAAAAAAAAAAAAAAAAAAAAAAAAAAAAAAAAAAAAAAAAAAAAAAAAAAAAAAAAAAAAAAAAAAAAAAAAAAAAAAAAAAAAAAAAAAAAAAAAAAAAAAAAAAAAAAAAAAAAAAAAAAAAAAAAAAAAAAAAAAAAAAAAAAAAAAAAAAAAAAAAAAAAAAAAAAAAAAAAAAAAAAAAAAAAAAAAAAAAAAAAAAAAAAAAAAAAAAAAAAAAAAAAAAAAAAAAAAAAAAAAAAAAAAAAAAAAAAAAAAAAAAAAAAAAAAAAAAAAAAAAAAAAAAAAAAAAAAAAAAAAAAAAAAAAAAAAAAAAAAAAAAAAAAAAAAAAAAAAAAAAAAAAAAAAAAAAAAAAAAAAAAAAAAAAAAAAAAAAAAAAAAAAAAAAAAAAAAAAAAAAAAAAAAAAAAAAAAAAAAAAAAAAAAAAAAAAAAAAAAAAAAAAAAAAAAAAAAAAAAAAAAAAAAAAAAAAAAAAAAAAAAAAAAAAAAAAAAAAAAAAAAAAAAAAAAAAAAAAAAAAAAAAAAAAAAAAAAAAAAAAAAAAAAAAAAAAAAAAAAAAAAAAAAAAAAAAAAAAAAAAAAAAAAAAAAAAAAAAAAAAAAAAAAAAAAAAAAAAAAAAAAAAAAAAAAAAAAAAAAAAAAAAAAAAAAAAAAAAAAAAAAAAAAAAAAAAAAAAAAAAAAAAAAAAAAAAAAAAAAAAAAAAAAAAAAAAAAAAAAAAAAAAAAAAAAAAAAAAAAAAAAAAAAAAAAAAAAAAAAAAAAAAAAAAAAAAAAAAAAAAAAAAAAAAAAAAAAAAAAAAAAAAAAAAAAAAAAAAAAAAAAAAAAAAAAAAAAAAAAAAAAAAAAAAAAAEFsb25pY2EgVmlsbGFudWV2YQAAAAWQAwACAAAAFAAAEKyQBAACAAAAFAAAEMCSkQACAAAAAzMxAACSkgACAAAAAzMxAADqHAAHAAAIDAAACKAAAAAAHOoAAAAIAAAAAAAAAAAAAAAAAAAAAAAAAAAAAAAAAAAAAAAAAAAAAAAAAAAAAAAAAAAAAAAAAAAAAAAAAAAAAAAAAAAAAAAAAAAAAAAAAAAAAAAAAAAAAAAAAAAAAAAAAAAAAAAAAAAAAAAAAAAAAAAAAAAAAAAAAAAAAAAAAAAAAAAAAAAAAAAAAAAAAAAAAAAAAAAAAAAAAAAAAAAAAAAAAAAAAAAAAAAAAAAAAAAAAAAAAAAAAAAAAAAAAAAAAAAAAAAAAAAAAAAAAAAAAAAAAAAAAAAAAAAAAAAAAAAAAAAAAAAAAAAAAAAAAAAAAAAAAAAAAAAAAAAAAAAAAAAAAAAAAAAAAAAAAAAAAAAAAAAAAAAAAAAAAAAAAAAAAAAAAAAAAAAAAAAAAAAAAAAAAAAAAAAAAAAAAAAAAAAAAAAAAAAAAAAAAAAAAAAAAAAAAAAAAAAAAAAAAAAAAAAAAAAAAAAAAAAAAAAAAAAAAAAAAAAAAAAAAAAAAAAAAAAAAAAAAAAAAAAAAAAAAAAAAAAAAAAAAAAAAAAAAAAAAAAAAAAAAAAAAAAAAAAAAAAAAAAAAAAAAAAAAAAAAAAAAAAAAAAAAAAAAAAAAAAAAAAAAAAAAAAAAAAAAAAAAAAAAAAAAAAAAAAAAAAAAAAAAAAAAAAAAAAAAAAAAAAAAAAAAAAAAAAAAAAAAAAAAAAAAAAAAAAAAAAAAAAAAAAAAAAAAAAAAAAAAAAAAAAAAAAAAAAAAAAAAAAAAAAAAAAAAAAAAAAAAAAAAAAAAAAAAAAAAAAAAAAAAAAAAAAAAAAAAAAAAAAAAAAAAAAAAAAAAAAAAAAAAAAAAAAAAAAAAAAAAAAAAAAAAAAAAAAAAAAAAAAAAAAAAAAAAAAAAAAAAAAAAAAAAAAAAAAAAAAAAAAAAAAAAAAAAAAAAAAAAAAAAAAAAAAAAAAAAAAAAAAAAAAAAAAAAAAAAAAAAAAAAAAAAAAAAAAAAAAAAAAAAAAAAAAAAAAAAAAAAAAAAAAAAAAAAAAAAAAAAAAAAAAAAAAAAAAAAAAAAAAAAAAAAAAAAAAAAAAAAAAAAAAAAAAAAAAAAAAAAAAAAAAAAAAAAAAAAAAAAAAAAAAAAAAAAAAAAAAAAAAAAAAAAAAAAAAAAAAAAAAAAAAAAAAAAAAAAAAAAAAAAAAAAAAAAAAAAAAAAAAAAAAAAAAAAAAAAAAAAAAAAAAAAAAAAAAAAAAAAAAAAAAAAAAAAAAAAAAAAAAAAAAAAAAAAAAAAAAAAAAAAAAAAAAAAAAAAAAAAAAAAAAAAAAAAAAAAAAAAAAAAAAAAAAAAAAAAAAAAAAAAAAAAAAAAAAAAAAAAAAAAAAAAAAAAAAAAAAAAAAAAAAAAAAAAAAAAAAAAAAAAAAAAAAAAAAAAAAAAAAAAAAAAAAAAAAAAAAAAAAAAAAAAAAAAAAAAAAAAAAAAAAAAAAAAAAAAAAAAAAAAAAAAAAAAAAAAAAAAAAAAAAAAAAAAAAAAAAAAAAAAAAAAAAAAAAAAAAAAAAAAAAAAAAAAAAAAAAAAAAAAAAAAAAAAAAAAAAAAAAAAAAAAAAAAAAAAAAAAAAAAAAAAAAAAAAAAAAAAAAAAAAAAAAAAAAAAAAAAAAAAAAAAAAAAAAAAAAAAAAAAAAAAAAAAAAAAAAAAAAAAAAAAAAAAAAAAAAAAAAAAAAAAAAAAAAAAAAAAAAAAAAAAAAAAAAAAAAAAAAAAAAAAAAAAAAAAAAAAAAAAAAAAAAAAAAAAAAAAAAAAAAAAAAAAAAAAAAAAAAAAAAAAAAAAAAAAAAAAAAAAAAAAAAAAAAAAAAAAAAAAAAAAAAAAAAAAAAAAAAAAAAAAAAAAAAAAAAAAAAAAAAAAAAAAAAAAAAAAAAAAAAAAAAAAAAAAAAAAAAAAAAAAAAAAAAAAAAAAAAAAAAAAAAAAAAAAAAAAAAAAAAAAAAAAAAAAAAAAAAAAAAAAAAAAAAAAAAAAAAAAAAAAAAAAAAAAAAAAAAAAAAAAAAAAAAAAAAAAAAAAAAAAAAAAAAAAAAAAAAAAAAAAAAAAAAAAAAAAAAAAAAAAAAAAAAAAAAAAAAAAAAAAAAAAAAAAAAAAAAAAAAAAAAAAAAAAAAAAAAAAAAAAAAAAAAAAAAAAAAAAAAAAAAAAAAAAAAAAAAAAAAAAAAAAAAAAAAAAAAAAAAAAAAAAAAAAAAAAAAAAAAAAAAAAAAAAAAAAAAAAAAAAAAAAAAAAAAAAAAAAAAAAAAAAAAAAAAAAAAAAAAAAAAAAAAAAAAAAAAAAAAAAAAAAAAAAAAAAAAAAAAAAAAAAAAAAAAAAAAAAAAAAAAAAAAAAAAAAAAAAAAAAAAAAAAAAAAAAAAAAAAAAAAAAAAAAAAAAAAAAAAAAAAAAAAAAAAAAAAAAAAAAAAAAAAAAAAAAAAAAAAAAAAAAAAAAAAAAAAAAAAAAAAAAAAAAAAAAAAAAAAAAAAAAAAAAAAAAAAAAAAAAAAAAAAAAAAAAAAAAAAAAAAAAAAAAAAAAAAAAAAAAAAAAAAAAAAAAAAAAAAAAAAAAAAAAAAAAAAAAAAAAAAAAAAAAAAAAAAAAAAAAAAAAAAAAAAAAAAAAAAAAAAAAAAAAAAAAAAAAAAAAAAAAAAAAAAAAAAAAAAAAAAAAAAAAAAAAAAAAAAAAAAAAAAAAAAAAAAAAAAAAAAAAAAAAAAAAAAAAAAAAAAAAAAAAAAAAAAAAAAyMDIxOjA2OjAyIDA5OjAwOjU2ADIwMjE6MDY6MDIgMDk6MDA6NTYAAABBAGwAbwBuAGkAYwBhACAAVgBpAGwAbABhAG4AdQBlAHYAYQAAAP/hCyVodHRwOi8vbnMuYWRvYmUuY29tL3hhcC8xLjAvADw/eHBhY2tldCBiZWdpbj0n77u/JyBpZD0nVzVNME1wQ2VoaUh6cmVTek5UY3prYzlkJz8+DQo8eDp4bXBtZXRhIHhtbG5zOng9ImFkb2JlOm5zOm1ldGEvIj48cmRmOlJERiB4bWxuczpyZGY9Imh0dHA6Ly93d3cudzMub3JnLzE5OTkvMDIvMjItcmRmLXN5bnRheC1ucyMiPjxyZGY6RGVzY3JpcHRpb24gcmRmOmFib3V0PSJ1dWlkOmZhZjViZGQ1LWJhM2QtMTFkYS1hZDMxLWQzM2Q3NTE4MmYxYiIgeG1sbnM6ZGM9Imh0dHA6Ly9wdXJsLm9yZy9kYy9lbGVtZW50cy8xLjEvIi8+PHJkZjpEZXNjcmlwdGlvbiByZGY6YWJvdXQ9InV1aWQ6ZmFmNWJkZDUtYmEzZC0xMWRhLWFkMzEtZDMzZDc1MTgyZjFiIiB4bWxuczp4bXA9Imh0dHA6Ly9ucy5hZG9iZS5jb20veGFwLzEuMC8iPjx4bXA6Q3JlYXRlRGF0ZT4yMDIxLTA2LTAyVDA5OjAwOjU2LjMwODwveG1wOkNyZWF0ZURhdGU+PC9yZGY6RGVzY3JpcHRpb24+PHJkZjpEZXNjcmlwdGlvbiByZGY6YWJvdXQ9InV1aWQ6ZmFmNWJkZDUtYmEzZC0xMWRhLWFkMzEtZDMzZDc1MTgyZjFiIiB4bWxuczpkYz0iaHR0cDovL3B1cmwub3JnL2RjL2VsZW1lbnRzLzEuMS8iPjxkYzpjcmVhdG9yPjxyZGY6U2VxIHhtbG5zOnJkZj0iaHR0cDovL3d3dy53My5vcmcvMTk5OS8wMi8yMi1yZGYtc3ludGF4LW5zIyI+PHJkZjpsaT5BbG9uaWNhIFZpbGxhbnVldmE8L3JkZjpsaT48L3JkZjpTZXE+DQoJCQk8L2RjOmNyZWF0b3I+PC9yZGY6RGVzY3JpcHRpb24+PC9yZGY6UkRGPjwveDp4bXBtZXRhPg0KICAgICAgICAgICAgICAgICAgICAgICAgICAgICAgICAgICAgICAgICAgICAgICAgICAgICAgICAgICAgICAgICAgICAgICAgICAgICAgICAgICAgICAgICAgICAgICAgICAgIAogICAgICAgICAgICAgICAgICAgICAgICAgICAgICAgICAgICAgICAgICAgICAgICAgICAgICAgICAgICAgICAgICAgICAgICAgICAgICAgICAgICAgICAgICAgICAgICAgICAgCiAgICAgICAgICAgICAgICAgICAgICAgICAgICAgICAgICAgICAgICAgICAgICAgICAgICAgICAgICAgICAgICAgICAgICAgICAgICAgICAgICAgICAgICAgICAgICAgICAgICAKICAgICAgICAgICAgICAgICAgICAgICAgICAgICAgICAgICAgICAgICAgICAgICAgICAgICAgICAgICAgICAgICAgICAgICAgICAgICAgICAgICAgICAgICAgICAgICAgICAgIAogICAgICAgICAgICAgICAgICAgICAgICAgICAgICAgICAgICAgICAgICAgICAgICAgICAgICAgICAgICAgICAgICAgICAgICAgICAgICAgICAgICAgICAgICAgICAgICAgICAgCiAgICAgICAgICAgICAgICAgICAgICAgICAgICAgICAgICAgICAgICAgICAgICAgICAgICAgICAgICAgICAgICAgICAgICAgICAgICAgICAgICAgICAgICAgICAgICAgICAgICAKICAgICAgICAgICAgICAgICAgICAgICAgICAgICAgICAgICAgICAgICAgICAgICAgICAgICAgICAgICAgICAgICAgICAgICAgICAgICAgICAgICAgICAgICAgICAgICAgICAgIAogICAgICAgICAgICAgICAgICAgICAgICAgICAgICAgICAgICAgICAgICAgICAgICAgICAgICAgICAgICAgICAgICAgICAgICAgICAgICAgICAgICAgICAgICAgICAgICAgICAgCiAgICAgICAgICAgICAgICAgICAgICAgICAgICAgICAgICAgICAgICAgICAgICAgICAgICAgICAgICAgICAgICAgICAgICAgICAgICAgICAgICAgICAgICAgICAgICAgICAgICAKICAgICAgICAgICAgICAgICAgICAgICAgICAgICAgICAgICAgICAgICAgICAgICAgICAgICAgICAgICAgICAgICAgICAgICAgICAgICAgICAgICAgICAgICAgICAgICAgICAgIAogICAgICAgICAgICAgICAgICAgICAgICAgICAgICAgICAgICAgICAgICAgICAgICAgICAgICAgICAgICAgICAgICAgICAgICAgICAgICAgICAgICAgICAgICAgICAgICAgICAgCiAgICAgICAgICAgICAgICAgICAgICAgICAgICAgICAgICAgICAgICAgICAgICAgICAgICAgICAgICAgICAgICAgICAgICAgICAgICAgICAgICAgICAgICAgICAgICAgICAgICAKICAgICAgICAgICAgICAgICAgICAgICAgICAgICAgICAgICAgICAgICAgICAgICAgICAgICAgICAgICAgICAgICAgICAgICAgICAgICAgICAgICAgICAgICAgICAgICAgICAgIAogICAgICAgICAgICAgICAgICAgICAgICAgICAgICAgICAgICAgICAgICAgICAgICAgICAgICAgICAgICAgICAgICAgICAgICAgICAgICAgICAgICAgICAgICAgICAgICAgICAgCiAgICAgICAgICAgICAgICAgICAgICAgICAgICAgICAgICAgICAgICAgICAgICAgICAgICAgICAgICAgICAgICAgICAgICAgICAgICAgICAgICAgICAgICAgICAgICAgICAgICAKICAgICAgICAgICAgICAgICAgICAgICAgICAgICAgICAgICAgICAgICAgICAgICAgICAgICAgICAgICAgICAgICAgICAgICAgICAgICAgICAgICAgICAgICAgICAgICAgICAgIAogICAgICAgICAgICAgICAgICAgICAgICAgICAgICAgICAgICAgICAgICAgICAgICAgICAgICAgICAgICAgICAgICAgICAgICAgICAgICAgICAgICAgICAgICAgICAgICAgICAgCiAgICAgICAgICAgICAgICAgICAgICAgICAgICAgICAgICAgICAgICAgICAgICAgICAgICAgICAgICAgICAgICAgICAgICAgICAgICAgICAgICAgICAgICAgICAgICAgICAgICAKICAgICAgICAgICAgICAgICAgICAgICAgICAgICAgICAgICAgICAgICAgICAgICAgICAgICAgICAgICAgICAgICAgICAgICAgICAgICAgICAgICAgICAgICAgICAgICAgICAgIAogICAgICAgICAgICAgICAgICAgICAgICAgICAgICAgICAgICAgICAgICAgICAgICAgICAgICAgICAgICAgICAgICAgICAgICAgICAgICAgICAgICAgICAgICAgICAgICAgICAgCiAgICAgICAgICAgICAgICAgICAgICAgICAgICA8P3hwYWNrZXQgZW5kPSd3Jz8+/9sAQwAHBQUGBQQHBgUGCAcHCAoRCwoJCQoVDxAMERgVGhkYFRgXGx4nIRsdJR0XGCIuIiUoKSssKxogLzMvKjInKisq/9sAQwEHCAgKCQoUCwsUKhwYHCoqKioqKioqKioqKioqKioqKioqKioqKioqKioqKioqKioqKioqKioqKioqKioqKioq/8AAEQgASwDcAwEiAAIRAQMRAf/EAB8AAAEFAQEBAQEBAAAAAAAAAAABAgMEBQYHCAkKC//EALUQAAIBAwMCBAMFBQQEAAABfQECAwAEEQUSITFBBhNRYQcicRQygZGhCCNCscEVUtHwJDNicoIJChYXGBkaJSYnKCkqNDU2Nzg5OkNERUZHSElKU1RVVldYWVpjZGVmZ2hpanN0dXZ3eHl6g4SFhoeIiYqSk5SVlpeYmZqio6Slpqeoqaqys7S1tre4ubrCw8TFxsfIycrS09TV1tfY2drh4uPk5ebn6Onq8fLz9PX29/j5+v/EAB8BAAMBAQEBAQEBAQEAAAAAAAABAgMEBQYHCAkKC//EALURAAIBAgQEAwQHBQQEAAECdwABAgMRBAUhMQYSQVEHYXETIjKBCBRCkaGxwQkjM1LwFWJy0QoWJDThJfEXGBkaJicoKSo1Njc4OTpDREVGR0hJSlNUVVZXWFlaY2RlZmdoaWpzdHV2d3h5eoKDhIWGh4iJipKTlJWWl5iZmqKjpKWmp6ipqrKztLW2t7i5usLDxMXGx8jJytLT1NXW19jZ2uLj5OXm5+jp6vLz9PX29/j5+v/aAAwDAQACEQMRAD8A+kaKKKACiiigAooooAKKKKACiiigAooooAKKKKACiiigAooooAKKKKACiiigAooooAKKKKACiiigAooooAKKKKACiiigAooooAKKKKACiiigArHu9Vvv7bk07SrO3uHht0mla4uGiC72YKAQjZPyHtWxWF4dP2q/1rUc7hPemCM+iQgR4/77Eh/Gjr/X9dQ6EpufEmDjSdKJ7Z1ST/5HoW58SlRu0nSge4GqSH/23px8T6UNauNIEs7X9siySwpaSsQrdGBC4I9xnnio73xbpOmvCL97u3WaRY0klsJ1j3McAF9m1ck9yKAHC58S7jnSdKx2/wCJpJ/8j0G58S/w6TpR576pIP8A23rQlvreG9gtHk/0i4DGOMAkkL1Jx0AyOT3IHerFAGR9p8R/9ArS/wDwZyf/ACPSC58S/wAWk6UPpqkh/wDbetiigDG+1eJt/wDyCNJ246/2rJn8vs9K1z4lx8uk6UT76pIP/betC9e9jgB063gnl3crPO0S49chG59sfjVZNSltYof7cjt7OSecQxCGZpkJI+UFii7STkDIxnAzkgUAQ/afEf8A0CtL/wDBnJ/8j1fsnvJIM6jBBBLu+5BOZVx65KLz7YrnvEd7rtlq9odNkQxyXFvHFaKFY3Clj55bK5UKmGDBsccjmupoW1w62CiiigAooooAKKKKAKuoanZ6VbCfULhYYywRc8l2PRVA5YnsBkmqdp4o0i91JNPiuXS+kBZbWeCSKXaBncUdQQv+0RgnjOa57xzY+I08Q6Hr3hywi1ZdN84S6e8wiLF1ADqTxkDI9eenJqTwhrVl4v1q41WfTrrTNZ0uM2FxZ3GD5Qch8g4yc7evHfjnNEdQlodnWVr/AIl0vwxZi71qWaC2PWZLWWVU5A+YopC8kAZxntWrXA/FX/iYW2geHF5Or6pEki+sSHc/9KOqXdoemrZvf8JxoSGI3M15ZxzMFSa9064t4iT0HmSRqoz9a6CuS+KM9va/C/XDchSjWpjQEfxsQq/qRWv4US6j8HaOmo7vtS2UIm3dd2wZz701rfyJ1VjWorMn1W8huHjj0DUZ1U4EscluFf3G6UH8wKamsXzyKreHNTQEgFmktsL7nE2aQzVoorOk16wi8SQaE03+nzW73KxjsikDJ+ueP900AWdQvI9P025vZziO3iaVz7KCT/KqXhizksfC+nwz/wCvMIkm95G+Zz/30xqv4wzNosenr97UbqK1I9UZgZP/ACGr1szzw2ttJPcypDBCheSSRgqooGSSTwAB3oXV/wBf1qD6f1/XU5Xx1pUqwQeJdHdIdY0n5otxwLmMn5oG9d3b/axjrXS+WmpaYEv7XCXEQ822mAbGRypxwfSuH1PxfazeIVubfWvCd3Y26g20c/iAQkSd3ZRG4JHQc8cnqeItS8bXOo262tt4g8G6WkrhZrmPxB50iR5+bYPLQBsZwSaFtYHvc3LGbHjzxHNOyILOyto4mlbCohEjkk9hnqf9msvRtY1XVPFEqQ+JYZtOtpbdDi3jZbp3iaR0QgAgY2kHJI5yTVuXX/CQ8QjUoPFGhFZ7b7LeRSahERKgJKH73JBZhg9Qx9BVi2134e2Uols9U8M28gXYHiuLdSF9Mg9OaEH9fgb1rrOl303lWOpWlzJz8kM6ueOvAPakOoXIJA0i9PuHh5/8iVw+ly+FNK1OxuofHGieXam5ZoVuIVDtM+7I+f5cABeh4Haup/4Tnwn/ANDRov8A4MIv/iqOgdTK8beIbrTNKZ7HUE0+/wDJDQ2biN5pHaVY1yDuGzLc4556jFJryXP/AArHX/7R1RNRngindLhIhH5bR5ZRxxuVlHPqKtXniLwDqMgk1DWPDd06qUDT3UDkKeoyT0qpq+u+ENR0mPSYPE2g21gzqLhI76Fcxg5KKAcDcRg+xNLpYadmmbB8P6frEtpqt/Hc/a/JiJCXkyIdpDgGNWCsA3PIOa3Kwh448JAYHifRcf8AYQi/+KragniureO4tpUmhlQPHJGwZXUjIII4II71T8iVtqPooopDCiiigAooooA5a20zxLpesate2v8AZt/HqVyJRDPM8BgCqEX5wj78qoJGBg55NX/DugHRjfXV1MtxqOpT+fdTIm1c42qqjJIVVAAyc9T3raoo2/IHqZuhJrUdg48RzWct15zlGs1ZUEeflB3c5x1/r1rl9V0HxRf+P9O18WekPbaXFNHb276jKrMz8eYSIDg7cfLz9a7qijqmHRo5W78N6h4lvrSXxU9rHY2comTTLN2kSWQfdaSRlUsB2UKBnqTXVUUUeQGZP4fs7m4eaSbUQznJEep3CKPoqyAD6AU1PDdjHIrrPqZKkEbtVuWH4gyYNatFABXm3jCxt9A+JfhTxFAhQ3l7JZ3chJJfzECoCT0AxwOlek1w3xgs5J/hzdXduM3GmzRXsR/ulHGT+RNK6TUv6t1/AduZOPf8+n4m3f8A+meNtKtsZSygmvH9nOIk/RpPyrermfCt3Hreo6nrkXMUwgt4W9USMOf/AB6Vh+FdNVWa0ZKaeq/r+mFFFFIY2SRIYmkmdY40BZnY4CgdSTVO21vSr2dIbPU7O4lkUukcVwjMyjqQAeR71JqcIuNLuYjALktG2IScCQ44XPua4jR/DGsaVc+FY/sUbx2FvLJdS+YoC3MpHmMRnJ+UyYxnJIzgDNC1dv66g9rnoNYnivxGfC+iyaibCa8jQqG2OqqpZlUbiTnkt2B6VdbT7ksSNXvFBPQJDx/5DrA8f6bqeoeCZtK0y0udTup3jO/fCmNsqud24oOgIGBR1QzrR0oqK2lea2SSWCS3dhzFKVLL7HaSPyJqWgQUUUUAFFFFABRRRQAUUUUAFFFFABRRRQAUUUUAFFFFABVHW9OXV9Bv9Oflbu3khOf9pSP61eopNXVhp2dznfAGgy+GvAml6XdJsuYYczruDYkYlmGRwcE4/CuiooqpO7uSlZWCiiikMKKKKACiiigAooooAKKKKACiiigAooooA//Z)"
      ]
    },
    {
      "cell_type": "markdown",
      "metadata": {
        "id": "M6T3i4xtO285"
      },
      "source": [
        "How do you calculate the standard deviation?\n",
        "\n",
        "Step 1: Compute the mean for the given data set.\n",
        "\n",
        "Step 2: Subtract the mean from each observation and calculate the square in each instance.\n",
        "\n",
        "Step 3: Find the mean of those squared deviations.\n",
        "\n",
        "Step 4: Finally, take the square root obtained mean to get the standard deviation."
      ]
    },
    {
      "cell_type": "markdown",
      "metadata": {
        "id": "_S3jnGw04iXM"
      },
      "source": [
        "### San Francisco Crime"
      ]
    },
    {
      "cell_type": "code",
      "metadata": {
        "id": "DqJI0hOz4lCf"
      },
      "source": [
        "%matplotlib inline\n",
        "import numpy as np\n",
        "import pandas as pd\n",
        "import matplotlib.pyplot as plt\n",
        "import folium "
      ],
      "execution_count": null,
      "outputs": []
    },
    {
      "cell_type": "code",
      "metadata": {
        "id": "skmuRXRo4mUg"
      },
      "source": [
        "dataset_path = '/content/drive/My Drive/Colab Notebooks/Dataset/Map-Crime_Incidents-Previous_Three_Months.csv'\n",
        "\n",
        "# read the original dataset (in comma separated values format) into a DataFrame\n",
        "SF = pd.read_csv(dataset_path)"
      ],
      "execution_count": null,
      "outputs": []
    },
    {
      "cell_type": "code",
      "metadata": {
        "colab": {
          "base_uri": "https://localhost:8080/",
          "height": 279
        },
        "id": "AQBluNVZ4bR8",
        "outputId": "81dea496-7748-494d-b2a9-50df99a274ee"
      },
      "source": [
        "SF.head()"
      ],
      "execution_count": null,
      "outputs": [
        {
          "output_type": "execute_result",
          "data": {
            "text/html": [
              "<div>\n",
              "<style scoped>\n",
              "    .dataframe tbody tr th:only-of-type {\n",
              "        vertical-align: middle;\n",
              "    }\n",
              "\n",
              "    .dataframe tbody tr th {\n",
              "        vertical-align: top;\n",
              "    }\n",
              "\n",
              "    .dataframe thead th {\n",
              "        text-align: right;\n",
              "    }\n",
              "</style>\n",
              "<table border=\"1\" class=\"dataframe\">\n",
              "  <thead>\n",
              "    <tr style=\"text-align: right;\">\n",
              "      <th></th>\n",
              "      <th>IncidntNum</th>\n",
              "      <th>Category</th>\n",
              "      <th>Descript</th>\n",
              "      <th>DayOfWeek</th>\n",
              "      <th>Date</th>\n",
              "      <th>Time</th>\n",
              "      <th>PdDistrict</th>\n",
              "      <th>Resolution</th>\n",
              "      <th>Address</th>\n",
              "      <th>X</th>\n",
              "      <th>Y</th>\n",
              "      <th>Location</th>\n",
              "    </tr>\n",
              "  </thead>\n",
              "  <tbody>\n",
              "    <tr>\n",
              "      <th>0</th>\n",
              "      <td>NaN</td>\n",
              "      <td>LARCENY/THEFT</td>\n",
              "      <td>GRAND THEFT FROM UNLOCKED AUTO</td>\n",
              "      <td>Sunday</td>\n",
              "      <td>08/31/2014 07:00:00 AM +0000</td>\n",
              "      <td>20:30</td>\n",
              "      <td>CENTRAL</td>\n",
              "      <td>NONE</td>\n",
              "      <td>HYDE ST / CALIFORNIA ST</td>\n",
              "      <td>-122.417393</td>\n",
              "      <td>37.790974</td>\n",
              "      <td>(37.7909741243888, -122.417392830334)</td>\n",
              "    </tr>\n",
              "    <tr>\n",
              "      <th>1</th>\n",
              "      <td>NaN</td>\n",
              "      <td>LARCENY/THEFT</td>\n",
              "      <td>GRAND THEFT FROM LOCKED AUTO</td>\n",
              "      <td>Sunday</td>\n",
              "      <td>08/31/2014 07:00:00 AM +0000</td>\n",
              "      <td>14:30</td>\n",
              "      <td>CENTRAL</td>\n",
              "      <td>NONE</td>\n",
              "      <td>COLUMBUS AV / JACKSON ST</td>\n",
              "      <td>-122.404418</td>\n",
              "      <td>37.796302</td>\n",
              "      <td>(37.7963018736036, -122.404417620748)</td>\n",
              "    </tr>\n",
              "    <tr>\n",
              "      <th>2</th>\n",
              "      <td>NaN</td>\n",
              "      <td>LARCENY/THEFT</td>\n",
              "      <td>GRAND THEFT FROM LOCKED AUTO</td>\n",
              "      <td>Sunday</td>\n",
              "      <td>08/31/2014 07:00:00 AM +0000</td>\n",
              "      <td>11:30</td>\n",
              "      <td>CENTRAL</td>\n",
              "      <td>NONE</td>\n",
              "      <td>SUTTER ST / STOCKTON ST</td>\n",
              "      <td>-122.406959</td>\n",
              "      <td>37.789435</td>\n",
              "      <td>(37.7894347630337, -122.406958660602)</td>\n",
              "    </tr>\n",
              "    <tr>\n",
              "      <th>3</th>\n",
              "      <td>NaN</td>\n",
              "      <td>DRUG/NARCOTIC</td>\n",
              "      <td>POSSESSION OF METH-AMPHETAMINE</td>\n",
              "      <td>Sunday</td>\n",
              "      <td>08/31/2014 07:00:00 AM +0000</td>\n",
              "      <td>17:49</td>\n",
              "      <td>MISSION</td>\n",
              "      <td>ARREST, BOOKED</td>\n",
              "      <td>16TH ST / MISSION ST</td>\n",
              "      <td>-122.419672</td>\n",
              "      <td>37.765050</td>\n",
              "      <td>(37.7650501214965, -122.419671780296)</td>\n",
              "    </tr>\n",
              "    <tr>\n",
              "      <th>4</th>\n",
              "      <td>NaN</td>\n",
              "      <td>DRUG/NARCOTIC</td>\n",
              "      <td>POSSESSION OF COCAINE</td>\n",
              "      <td>Sunday</td>\n",
              "      <td>08/31/2014 07:00:00 AM +0000</td>\n",
              "      <td>18:05</td>\n",
              "      <td>NORTHERN</td>\n",
              "      <td>ARREST, BOOKED</td>\n",
              "      <td>LARKIN ST / OFARRELL ST</td>\n",
              "      <td>-122.417904</td>\n",
              "      <td>37.785167</td>\n",
              "      <td>(37.7851670875814, -122.417903977564)</td>\n",
              "    </tr>\n",
              "  </tbody>\n",
              "</table>\n",
              "</div>"
            ],
            "text/plain": [
              "   IncidntNum       Category  ...          Y                               Location\n",
              "0         NaN  LARCENY/THEFT  ...  37.790974  (37.7909741243888, -122.417392830334)\n",
              "1         NaN  LARCENY/THEFT  ...  37.796302  (37.7963018736036, -122.404417620748)\n",
              "2         NaN  LARCENY/THEFT  ...  37.789435  (37.7894347630337, -122.406958660602)\n",
              "3         NaN  DRUG/NARCOTIC  ...  37.765050  (37.7650501214965, -122.419671780296)\n",
              "4         NaN  DRUG/NARCOTIC  ...  37.785167  (37.7851670875814, -122.417903977564)\n",
              "\n",
              "[5 rows x 12 columns]"
            ]
          },
          "metadata": {
            "tags": []
          },
          "execution_count": 18
        }
      ]
    },
    {
      "cell_type": "code",
      "metadata": {
        "colab": {
          "base_uri": "https://localhost:8080/"
        },
        "id": "ZeX-Uti24zFN",
        "outputId": "a7a22881-7696-4f18-87bf-543cc57d78fe"
      },
      "source": [
        "SF.columns"
      ],
      "execution_count": null,
      "outputs": [
        {
          "output_type": "execute_result",
          "data": {
            "text/plain": [
              "Index(['IncidntNum', 'Category', 'Descript', 'DayOfWeek', 'Date', 'Time',\n",
              "       'PdDistrict', 'Resolution', 'Address', 'X', 'Y', 'Location'],\n",
              "      dtype='object')"
            ]
          },
          "metadata": {
            "tags": []
          },
          "execution_count": 19
        }
      ]
    },
    {
      "cell_type": "code",
      "metadata": {
        "colab": {
          "base_uri": "https://localhost:8080/"
        },
        "id": "4G1tO_4T41GM",
        "outputId": "a37c491f-2891-4671-cb7a-d0a6beeaa980"
      },
      "source": [
        "len(SF)"
      ],
      "execution_count": null,
      "outputs": [
        {
          "output_type": "execute_result",
          "data": {
            "text/plain": [
              "30760"
            ]
          },
          "metadata": {
            "tags": []
          },
          "execution_count": 20
        }
      ]
    },
    {
      "cell_type": "code",
      "metadata": {
        "colab": {
          "base_uri": "https://localhost:8080/"
        },
        "id": "9jYkHaHb43en",
        "outputId": "8da84601-7dfd-4616-ee8c-fa61aa846bf5"
      },
      "source": [
        "SF.dtypes"
      ],
      "execution_count": null,
      "outputs": [
        {
          "output_type": "execute_result",
          "data": {
            "text/plain": [
              "IncidntNum    float64\n",
              "Category       object\n",
              "Descript       object\n",
              "DayOfWeek      object\n",
              "Date           object\n",
              "Time           object\n",
              "PdDistrict     object\n",
              "Resolution     object\n",
              "Address        object\n",
              "X             float64\n",
              "Y             float64\n",
              "Location       object\n",
              "dtype: object"
            ]
          },
          "metadata": {
            "tags": []
          },
          "execution_count": 21
        }
      ]
    },
    {
      "cell_type": "code",
      "metadata": {
        "id": "YQFHM5yT45mk"
      },
      "source": [
        "#  Extract the month and day from the Date field\n",
        "SF['Month'] = SF['Date'].apply(lambda row: int(row[0:2]))\n",
        "SF['Day'] = SF['Date'].apply(lambda row: int(row[3:5]))"
      ],
      "execution_count": null,
      "outputs": []
    },
    {
      "cell_type": "code",
      "metadata": {
        "colab": {
          "base_uri": "https://localhost:8080/"
        },
        "id": "1MMhq10v48bh",
        "outputId": "a1ba533d-07a2-41d1-b716-ada02c8b0c06"
      },
      "source": [
        "print(SF['Month'][0:2])\n",
        "print(SF['Day'][0:2])"
      ],
      "execution_count": null,
      "outputs": [
        {
          "output_type": "stream",
          "text": [
            "0    8\n",
            "1    8\n",
            "Name: Month, dtype: int64\n",
            "0    31\n",
            "1    31\n",
            "Name: Day, dtype: int64\n"
          ],
          "name": "stdout"
        }
      ]
    },
    {
      "cell_type": "code",
      "metadata": {
        "colab": {
          "base_uri": "https://localhost:8080/"
        },
        "id": "nf8x4LA44-uG",
        "outputId": "0ed7f8d1-7086-4d63-9065-07311d5f2dd0"
      },
      "source": [
        "print(type(SF['Month'][0]))"
      ],
      "execution_count": null,
      "outputs": [
        {
          "output_type": "stream",
          "text": [
            "<class 'numpy.int64'>\n"
          ],
          "name": "stdout"
        }
      ]
    },
    {
      "cell_type": "code",
      "metadata": {
        "colab": {
          "base_uri": "https://localhost:8080/"
        },
        "id": "gF7y-0tH5Az8",
        "outputId": "1fd9bf24-07ae-46ba-c261-403e3bc6bee0"
      },
      "source": [
        "SF.columns"
      ],
      "execution_count": null,
      "outputs": [
        {
          "output_type": "execute_result",
          "data": {
            "text/plain": [
              "Index(['IncidntNum', 'Category', 'Descript', 'DayOfWeek', 'Date', 'Time',\n",
              "       'PdDistrict', 'Resolution', 'Address', 'X', 'Y', 'Location', 'Month',\n",
              "       'Day'],\n",
              "      dtype='object')"
            ]
          },
          "metadata": {
            "tags": []
          },
          "execution_count": 25
        }
      ]
    },
    {
      "cell_type": "code",
      "metadata": {
        "colab": {
          "base_uri": "https://localhost:8080/"
        },
        "id": "YUQaX6RE5DF0",
        "outputId": "660286a5-123b-4a7e-cb5c-f5f32ab332f0"
      },
      "source": [
        "# Summarize variables to obtain statistical information\n",
        "CountCategory = SF['Category'].value_counts()\n",
        "SF['Category'].value_counts(ascending=True)\n",
        "print(CountCategory)"
      ],
      "execution_count": null,
      "outputs": [
        {
          "output_type": "stream",
          "text": [
            "LARCENY/THEFT                  8205\n",
            "OTHER OFFENSES                 4004\n",
            "NON-CRIMINAL                   3653\n",
            "ASSAULT                        2518\n",
            "VEHICLE THEFT                  1885\n",
            "VANDALISM                      1611\n",
            "WARRANTS                       1583\n",
            "DRUG/NARCOTIC                  1292\n",
            "BURGLARY                       1257\n",
            "MISSING PERSON                 1135\n",
            "ROBBERY                         862\n",
            "SUSPICIOUS OCC                  682\n",
            "FRAUD                           574\n",
            "WEAPON LAWS                     322\n",
            "TRESPASS                        259\n",
            "DRUNKENNESS                     142\n",
            "KIDNAPPING                      128\n",
            "SEX OFFENSES, FORCIBLE          123\n",
            "DRIVING UNDER THE INFLUENCE      93\n",
            "FORGERY/COUNTERFEITING           88\n",
            "DISORDERLY CONDUCT               69\n",
            "RUNAWAY                          61\n",
            "ARSON                            60\n",
            "PROSTITUTION                     44\n",
            "LIQUOR LAWS                      38\n",
            "EMBEZZLEMENT                     19\n",
            "SUICIDE                          14\n",
            "FAMILY OFFENSES                   9\n",
            "STOLEN PROPERTY                   7\n",
            "EXTORTION                         7\n",
            "SEX OFFENSES, NON FORCIBLE        5\n",
            "LOITERING                         5\n",
            "BAD CHECKS                        3\n",
            "PORNOGRAPHY/OBSCENE MAT           1\n",
            "GAMBLING                          1\n",
            "BRIBERY                           1\n",
            "Name: Category, dtype: int64\n"
          ],
          "name": "stdout"
        }
      ]
    },
    {
      "cell_type": "markdown",
      "metadata": {
        "id": "TceFKLHb5H4x"
      },
      "source": [
        "Which PdDistrict had the most incidents of reported crime?"
      ]
    },
    {
      "cell_type": "code",
      "metadata": {
        "colab": {
          "base_uri": "https://localhost:8080/"
        },
        "id": "lW3HI1ul5In-",
        "outputId": "75abd8e7-90d8-4548-9672-8cc4718342f3"
      },
      "source": [
        "print(SF['PdDistrict'].value_counts(ascending=True))"
      ],
      "execution_count": null,
      "outputs": [
        {
          "output_type": "stream",
          "text": [
            "RICHMOND      1622\n",
            "PARK          1800\n",
            "TARAVAL       2038\n",
            "TENDERLOIN    2449\n",
            "INGLESIDE     2613\n",
            "BAYVIEW       2970\n",
            "NORTHERN      3205\n",
            "CENTRAL       3867\n",
            "MISSION       4011\n",
            "SOUTHERN      6185\n",
            "Name: PdDistrict, dtype: int64\n"
          ],
          "name": "stdout"
        }
      ]
    },
    {
      "cell_type": "markdown",
      "metadata": {
        "id": "7t_NoqnU5LMV"
      },
      "source": [
        "Subset the data into smaller data frames"
      ]
    },
    {
      "cell_type": "code",
      "metadata": {
        "colab": {
          "base_uri": "https://localhost:8080/",
          "height": 754
        },
        "id": "LP7AYckB5QmR",
        "outputId": "cec5bbd3-1fdd-4913-95a6-14b0be0b36eb"
      },
      "source": [
        "AugustCrimes = SF[SF['Month'] == 8]\n",
        "AugustCrimes"
      ],
      "execution_count": null,
      "outputs": [
        {
          "output_type": "execute_result",
          "data": {
            "text/html": [
              "<div>\n",
              "<style scoped>\n",
              "    .dataframe tbody tr th:only-of-type {\n",
              "        vertical-align: middle;\n",
              "    }\n",
              "\n",
              "    .dataframe tbody tr th {\n",
              "        vertical-align: top;\n",
              "    }\n",
              "\n",
              "    .dataframe thead th {\n",
              "        text-align: right;\n",
              "    }\n",
              "</style>\n",
              "<table border=\"1\" class=\"dataframe\">\n",
              "  <thead>\n",
              "    <tr style=\"text-align: right;\">\n",
              "      <th></th>\n",
              "      <th>IncidntNum</th>\n",
              "      <th>Category</th>\n",
              "      <th>Descript</th>\n",
              "      <th>DayOfWeek</th>\n",
              "      <th>Date</th>\n",
              "      <th>Time</th>\n",
              "      <th>PdDistrict</th>\n",
              "      <th>Resolution</th>\n",
              "      <th>Address</th>\n",
              "      <th>X</th>\n",
              "      <th>Y</th>\n",
              "      <th>Location</th>\n",
              "      <th>Month</th>\n",
              "      <th>Day</th>\n",
              "    </tr>\n",
              "  </thead>\n",
              "  <tbody>\n",
              "    <tr>\n",
              "      <th>0</th>\n",
              "      <td>NaN</td>\n",
              "      <td>LARCENY/THEFT</td>\n",
              "      <td>GRAND THEFT FROM UNLOCKED AUTO</td>\n",
              "      <td>Sunday</td>\n",
              "      <td>08/31/2014 07:00:00 AM +0000</td>\n",
              "      <td>20:30</td>\n",
              "      <td>CENTRAL</td>\n",
              "      <td>NONE</td>\n",
              "      <td>HYDE ST / CALIFORNIA ST</td>\n",
              "      <td>-122.417393</td>\n",
              "      <td>37.790974</td>\n",
              "      <td>(37.7909741243888, -122.417392830334)</td>\n",
              "      <td>8</td>\n",
              "      <td>31</td>\n",
              "    </tr>\n",
              "    <tr>\n",
              "      <th>1</th>\n",
              "      <td>NaN</td>\n",
              "      <td>LARCENY/THEFT</td>\n",
              "      <td>GRAND THEFT FROM LOCKED AUTO</td>\n",
              "      <td>Sunday</td>\n",
              "      <td>08/31/2014 07:00:00 AM +0000</td>\n",
              "      <td>14:30</td>\n",
              "      <td>CENTRAL</td>\n",
              "      <td>NONE</td>\n",
              "      <td>COLUMBUS AV / JACKSON ST</td>\n",
              "      <td>-122.404418</td>\n",
              "      <td>37.796302</td>\n",
              "      <td>(37.7963018736036, -122.404417620748)</td>\n",
              "      <td>8</td>\n",
              "      <td>31</td>\n",
              "    </tr>\n",
              "    <tr>\n",
              "      <th>2</th>\n",
              "      <td>NaN</td>\n",
              "      <td>LARCENY/THEFT</td>\n",
              "      <td>GRAND THEFT FROM LOCKED AUTO</td>\n",
              "      <td>Sunday</td>\n",
              "      <td>08/31/2014 07:00:00 AM +0000</td>\n",
              "      <td>11:30</td>\n",
              "      <td>CENTRAL</td>\n",
              "      <td>NONE</td>\n",
              "      <td>SUTTER ST / STOCKTON ST</td>\n",
              "      <td>-122.406959</td>\n",
              "      <td>37.789435</td>\n",
              "      <td>(37.7894347630337, -122.406958660602)</td>\n",
              "      <td>8</td>\n",
              "      <td>31</td>\n",
              "    </tr>\n",
              "    <tr>\n",
              "      <th>3</th>\n",
              "      <td>NaN</td>\n",
              "      <td>DRUG/NARCOTIC</td>\n",
              "      <td>POSSESSION OF METH-AMPHETAMINE</td>\n",
              "      <td>Sunday</td>\n",
              "      <td>08/31/2014 07:00:00 AM +0000</td>\n",
              "      <td>17:49</td>\n",
              "      <td>MISSION</td>\n",
              "      <td>ARREST, BOOKED</td>\n",
              "      <td>16TH ST / MISSION ST</td>\n",
              "      <td>-122.419672</td>\n",
              "      <td>37.765050</td>\n",
              "      <td>(37.7650501214965, -122.419671780296)</td>\n",
              "      <td>8</td>\n",
              "      <td>31</td>\n",
              "    </tr>\n",
              "    <tr>\n",
              "      <th>4</th>\n",
              "      <td>NaN</td>\n",
              "      <td>DRUG/NARCOTIC</td>\n",
              "      <td>POSSESSION OF COCAINE</td>\n",
              "      <td>Sunday</td>\n",
              "      <td>08/31/2014 07:00:00 AM +0000</td>\n",
              "      <td>18:05</td>\n",
              "      <td>NORTHERN</td>\n",
              "      <td>ARREST, BOOKED</td>\n",
              "      <td>LARKIN ST / OFARRELL ST</td>\n",
              "      <td>-122.417904</td>\n",
              "      <td>37.785167</td>\n",
              "      <td>(37.7851670875814, -122.417903977564)</td>\n",
              "      <td>8</td>\n",
              "      <td>31</td>\n",
              "    </tr>\n",
              "    <tr>\n",
              "      <th>...</th>\n",
              "      <td>...</td>\n",
              "      <td>...</td>\n",
              "      <td>...</td>\n",
              "      <td>...</td>\n",
              "      <td>...</td>\n",
              "      <td>...</td>\n",
              "      <td>...</td>\n",
              "      <td>...</td>\n",
              "      <td>...</td>\n",
              "      <td>...</td>\n",
              "      <td>...</td>\n",
              "      <td>...</td>\n",
              "      <td>...</td>\n",
              "      <td>...</td>\n",
              "    </tr>\n",
              "    <tr>\n",
              "      <th>9715</th>\n",
              "      <td>NaN</td>\n",
              "      <td>NON-CRIMINAL</td>\n",
              "      <td>AIDED CASE, MENTAL DISTURBED</td>\n",
              "      <td>Friday</td>\n",
              "      <td>08/01/2014 07:00:00 AM +0000</td>\n",
              "      <td>19:55</td>\n",
              "      <td>MISSION</td>\n",
              "      <td>NONE</td>\n",
              "      <td>1100.0 Block of POTRERO AV</td>\n",
              "      <td>-122.406497</td>\n",
              "      <td>37.754279</td>\n",
              "      <td>(37.7542787119615, -122.406496573501)</td>\n",
              "      <td>8</td>\n",
              "      <td>1</td>\n",
              "    </tr>\n",
              "    <tr>\n",
              "      <th>9716</th>\n",
              "      <td>NaN</td>\n",
              "      <td>OTHER OFFENSES</td>\n",
              "      <td>MISCELLANEOUS INVESTIGATION</td>\n",
              "      <td>Friday</td>\n",
              "      <td>08/01/2014 07:00:00 AM +0000</td>\n",
              "      <td>22:47</td>\n",
              "      <td>RICHMOND</td>\n",
              "      <td>NONE</td>\n",
              "      <td>1500.0 Block of BRODERICK ST</td>\n",
              "      <td>-122.441458</td>\n",
              "      <td>37.784427</td>\n",
              "      <td>(37.7844267703853, -122.441458405736)</td>\n",
              "      <td>8</td>\n",
              "      <td>1</td>\n",
              "    </tr>\n",
              "    <tr>\n",
              "      <th>9717</th>\n",
              "      <td>NaN</td>\n",
              "      <td>ASSAULT</td>\n",
              "      <td>THREATS AGAINST LIFE</td>\n",
              "      <td>Friday</td>\n",
              "      <td>08/01/2014 07:00:00 AM +0000</td>\n",
              "      <td>23:55</td>\n",
              "      <td>BAYVIEW</td>\n",
              "      <td>NONE</td>\n",
              "      <td>400.0 Block of TUNNEL AV</td>\n",
              "      <td>-122.401364</td>\n",
              "      <td>37.709748</td>\n",
              "      <td>(37.7097484169623, -122.401363713536)</td>\n",
              "      <td>8</td>\n",
              "      <td>1</td>\n",
              "    </tr>\n",
              "    <tr>\n",
              "      <th>9718</th>\n",
              "      <td>NaN</td>\n",
              "      <td>DRIVING UNDER THE INFLUENCE</td>\n",
              "      <td>DRIVING WHILE UNDER THE INFLUENCE OF ALCOHOL</td>\n",
              "      <td>Friday</td>\n",
              "      <td>08/01/2014 07:00:00 AM +0000</td>\n",
              "      <td>23:38</td>\n",
              "      <td>NORTHERN</td>\n",
              "      <td>ARREST, BOOKED</td>\n",
              "      <td>OAK ST / LAGUNA ST</td>\n",
              "      <td>-122.425892</td>\n",
              "      <td>37.774599</td>\n",
              "      <td>(37.7745985957044, -122.425891675136)</td>\n",
              "      <td>8</td>\n",
              "      <td>1</td>\n",
              "    </tr>\n",
              "    <tr>\n",
              "      <th>9719</th>\n",
              "      <td>NaN</td>\n",
              "      <td>SEX OFFENSES, FORCIBLE</td>\n",
              "      <td>ASSAULT TO RAPE WITH BODILY FORCE</td>\n",
              "      <td>Friday</td>\n",
              "      <td>08/01/2014 07:00:00 AM +0000</td>\n",
              "      <td>00:01</td>\n",
              "      <td>MISSION</td>\n",
              "      <td>NONE</td>\n",
              "      <td>1000.0 Block of POTRERO AV</td>\n",
              "      <td>-122.406657</td>\n",
              "      <td>37.756826</td>\n",
              "      <td>(37.7568256145719, -122.406656623063)</td>\n",
              "      <td>8</td>\n",
              "      <td>1</td>\n",
              "    </tr>\n",
              "  </tbody>\n",
              "</table>\n",
              "<p>9720 rows × 14 columns</p>\n",
              "</div>"
            ],
            "text/plain": [
              "      IncidntNum                     Category  ... Month Day\n",
              "0            NaN                LARCENY/THEFT  ...     8  31\n",
              "1            NaN                LARCENY/THEFT  ...     8  31\n",
              "2            NaN                LARCENY/THEFT  ...     8  31\n",
              "3            NaN                DRUG/NARCOTIC  ...     8  31\n",
              "4            NaN                DRUG/NARCOTIC  ...     8  31\n",
              "...          ...                          ...  ...   ...  ..\n",
              "9715         NaN                 NON-CRIMINAL  ...     8   1\n",
              "9716         NaN               OTHER OFFENSES  ...     8   1\n",
              "9717         NaN                      ASSAULT  ...     8   1\n",
              "9718         NaN  DRIVING UNDER THE INFLUENCE  ...     8   1\n",
              "9719         NaN       SEX OFFENSES, FORCIBLE  ...     8   1\n",
              "\n",
              "[9720 rows x 14 columns]"
            ]
          },
          "metadata": {
            "tags": []
          },
          "execution_count": 28
        }
      ]
    },
    {
      "cell_type": "markdown",
      "metadata": {
        "id": "aAOZPsQ15YqT"
      },
      "source": [
        "How many burglaries were reported in the month of August?"
      ]
    },
    {
      "cell_type": "code",
      "metadata": {
        "colab": {
          "base_uri": "https://localhost:8080/"
        },
        "id": "rtyccbDp5S77",
        "outputId": "a4dfce75-3f57-4862-fae4-283545232160"
      },
      "source": [
        "AugustCrimes = SF[SF['Month'] == 8]\n",
        "AugustCrimesB = SF[SF['Category'] == 'BURGLARY']\n",
        "len(AugustCrimesB)"
      ],
      "execution_count": null,
      "outputs": [
        {
          "output_type": "execute_result",
          "data": {
            "text/plain": [
              "1257"
            ]
          },
          "metadata": {
            "tags": []
          },
          "execution_count": 29
        }
      ]
    },
    {
      "cell_type": "markdown",
      "metadata": {
        "id": "Z8BWBOLP5gN1"
      },
      "source": [
        "To create a subset of the SF data frame for a specific day, use the function query operand to compare Month and Day at the same time."
      ]
    },
    {
      "cell_type": "code",
      "metadata": {
        "colab": {
          "base_uri": "https://localhost:8080/",
          "height": 758
        },
        "id": "pzp4eqUO5g7t",
        "outputId": "7a44fe92-12e5-4b6a-815f-6269b7c960be"
      },
      "source": [
        "Crime0704 = SF.query('Month == 7 and Day == 4')\n",
        "Crime0704"
      ],
      "execution_count": null,
      "outputs": [
        {
          "output_type": "execute_result",
          "data": {
            "text/html": [
              "<div>\n",
              "<style scoped>\n",
              "    .dataframe tbody tr th:only-of-type {\n",
              "        vertical-align: middle;\n",
              "    }\n",
              "\n",
              "    .dataframe tbody tr th {\n",
              "        vertical-align: top;\n",
              "    }\n",
              "\n",
              "    .dataframe thead th {\n",
              "        text-align: right;\n",
              "    }\n",
              "</style>\n",
              "<table border=\"1\" class=\"dataframe\">\n",
              "  <thead>\n",
              "    <tr style=\"text-align: right;\">\n",
              "      <th></th>\n",
              "      <th>IncidntNum</th>\n",
              "      <th>Category</th>\n",
              "      <th>Descript</th>\n",
              "      <th>DayOfWeek</th>\n",
              "      <th>Date</th>\n",
              "      <th>Time</th>\n",
              "      <th>PdDistrict</th>\n",
              "      <th>Resolution</th>\n",
              "      <th>Address</th>\n",
              "      <th>X</th>\n",
              "      <th>Y</th>\n",
              "      <th>Location</th>\n",
              "      <th>Month</th>\n",
              "      <th>Day</th>\n",
              "    </tr>\n",
              "  </thead>\n",
              "  <tbody>\n",
              "    <tr>\n",
              "      <th>19087</th>\n",
              "      <td>NaN</td>\n",
              "      <td>LARCENY/THEFT</td>\n",
              "      <td>GRAND THEFT FROM LOCKED AUTO</td>\n",
              "      <td>Friday</td>\n",
              "      <td>07/04/2014 07:00:00 AM +0000</td>\n",
              "      <td>22:30</td>\n",
              "      <td>SOUTHERN</td>\n",
              "      <td>NONE</td>\n",
              "      <td>8TH ST / MISSION ST</td>\n",
              "      <td>-122.413161</td>\n",
              "      <td>37.777457</td>\n",
              "      <td>(37.7774566612104, -122.41316085097)</td>\n",
              "      <td>7</td>\n",
              "      <td>4</td>\n",
              "    </tr>\n",
              "    <tr>\n",
              "      <th>19088</th>\n",
              "      <td>NaN</td>\n",
              "      <td>LARCENY/THEFT</td>\n",
              "      <td>GRAND THEFT FROM LOCKED AUTO</td>\n",
              "      <td>Friday</td>\n",
              "      <td>07/04/2014 07:00:00 AM +0000</td>\n",
              "      <td>18:15</td>\n",
              "      <td>SOUTHERN</td>\n",
              "      <td>NONE</td>\n",
              "      <td>CLEMENTINA ST / 9TH ST</td>\n",
              "      <td>-122.412174</td>\n",
              "      <td>37.774201</td>\n",
              "      <td>(37.7742011047558, -122.412173767284)</td>\n",
              "      <td>7</td>\n",
              "      <td>4</td>\n",
              "    </tr>\n",
              "    <tr>\n",
              "      <th>19089</th>\n",
              "      <td>NaN</td>\n",
              "      <td>BURGLARY</td>\n",
              "      <td>BURGLARY,RESIDENCE UNDER CONSTRT, FORCIBLE ENTRY</td>\n",
              "      <td>Friday</td>\n",
              "      <td>07/04/2014 07:00:00 AM +0000</td>\n",
              "      <td>00:50</td>\n",
              "      <td>TARAVAL</td>\n",
              "      <td>NONE</td>\n",
              "      <td>0.0 Block of MENDOSA AV</td>\n",
              "      <td>-122.466414</td>\n",
              "      <td>37.748011</td>\n",
              "      <td>(37.74801131976, -122.466413792313)</td>\n",
              "      <td>7</td>\n",
              "      <td>4</td>\n",
              "    </tr>\n",
              "    <tr>\n",
              "      <th>19090</th>\n",
              "      <td>NaN</td>\n",
              "      <td>NON-CRIMINAL</td>\n",
              "      <td>LOST PROPERTY</td>\n",
              "      <td>Friday</td>\n",
              "      <td>07/04/2014 07:00:00 AM +0000</td>\n",
              "      <td>19:00</td>\n",
              "      <td>PARK</td>\n",
              "      <td>NONE</td>\n",
              "      <td>CASTRO ST / 16TH ST</td>\n",
              "      <td>-122.435318</td>\n",
              "      <td>37.764102</td>\n",
              "      <td>(37.7641020287474, -122.435318423327)</td>\n",
              "      <td>7</td>\n",
              "      <td>4</td>\n",
              "    </tr>\n",
              "    <tr>\n",
              "      <th>19091</th>\n",
              "      <td>NaN</td>\n",
              "      <td>ASSAULT</td>\n",
              "      <td>BATTERY</td>\n",
              "      <td>Friday</td>\n",
              "      <td>07/04/2014 07:00:00 AM +0000</td>\n",
              "      <td>21:00</td>\n",
              "      <td>NORTHERN</td>\n",
              "      <td>NONE</td>\n",
              "      <td>1000.0 Block of POLK ST</td>\n",
              "      <td>-122.419783</td>\n",
              "      <td>37.785894</td>\n",
              "      <td>(37.7858942309362, -122.419782905411)</td>\n",
              "      <td>7</td>\n",
              "      <td>4</td>\n",
              "    </tr>\n",
              "    <tr>\n",
              "      <th>...</th>\n",
              "      <td>...</td>\n",
              "      <td>...</td>\n",
              "      <td>...</td>\n",
              "      <td>...</td>\n",
              "      <td>...</td>\n",
              "      <td>...</td>\n",
              "      <td>...</td>\n",
              "      <td>...</td>\n",
              "      <td>...</td>\n",
              "      <td>...</td>\n",
              "      <td>...</td>\n",
              "      <td>...</td>\n",
              "      <td>...</td>\n",
              "      <td>...</td>\n",
              "    </tr>\n",
              "    <tr>\n",
              "      <th>19423</th>\n",
              "      <td>NaN</td>\n",
              "      <td>LARCENY/THEFT</td>\n",
              "      <td>GRAND THEFT FROM LOCKED AUTO</td>\n",
              "      <td>Friday</td>\n",
              "      <td>07/04/2014 07:00:00 AM +0000</td>\n",
              "      <td>19:25</td>\n",
              "      <td>SOUTHERN</td>\n",
              "      <td>NONE</td>\n",
              "      <td>THE EMBARCADEROSOUTH ST / BRYANT ST</td>\n",
              "      <td>-122.388007</td>\n",
              "      <td>37.787103</td>\n",
              "      <td>(37.7871027247862, -122.388007401911)</td>\n",
              "      <td>7</td>\n",
              "      <td>4</td>\n",
              "    </tr>\n",
              "    <tr>\n",
              "      <th>19424</th>\n",
              "      <td>NaN</td>\n",
              "      <td>OTHER OFFENSES</td>\n",
              "      <td>LOST/STOLEN LICENSE PLATE</td>\n",
              "      <td>Friday</td>\n",
              "      <td>07/04/2014 07:00:00 AM +0000</td>\n",
              "      <td>11:00</td>\n",
              "      <td>INGLESIDE</td>\n",
              "      <td>NONE</td>\n",
              "      <td>0.0 Block of FRATESSA CT</td>\n",
              "      <td>-122.399762</td>\n",
              "      <td>37.716129</td>\n",
              "      <td>(37.7161291670703, -122.399761873261)</td>\n",
              "      <td>7</td>\n",
              "      <td>4</td>\n",
              "    </tr>\n",
              "    <tr>\n",
              "      <th>19425</th>\n",
              "      <td>NaN</td>\n",
              "      <td>LARCENY/THEFT</td>\n",
              "      <td>GRAND THEFT FROM LOCKED AUTO</td>\n",
              "      <td>Friday</td>\n",
              "      <td>07/04/2014 07:00:00 AM +0000</td>\n",
              "      <td>20:30</td>\n",
              "      <td>SOUTHERN</td>\n",
              "      <td>NONE</td>\n",
              "      <td>THE EMBARCADEROSOUTH ST / HARRISON ST</td>\n",
              "      <td>-122.388486</td>\n",
              "      <td>37.789573</td>\n",
              "      <td>(37.7895727625927, -122.388485562387)</td>\n",
              "      <td>7</td>\n",
              "      <td>4</td>\n",
              "    </tr>\n",
              "    <tr>\n",
              "      <th>19426</th>\n",
              "      <td>NaN</td>\n",
              "      <td>LARCENY/THEFT</td>\n",
              "      <td>GRAND THEFT FROM LOCKED AUTO</td>\n",
              "      <td>Friday</td>\n",
              "      <td>07/04/2014 07:00:00 AM +0000</td>\n",
              "      <td>08:00</td>\n",
              "      <td>SOUTHERN</td>\n",
              "      <td>NONE</td>\n",
              "      <td>11TH ST / HARRISON ST</td>\n",
              "      <td>-122.412483</td>\n",
              "      <td>37.770631</td>\n",
              "      <td>(37.7706305911072, -122.41248326348)</td>\n",
              "      <td>7</td>\n",
              "      <td>4</td>\n",
              "    </tr>\n",
              "    <tr>\n",
              "      <th>19427</th>\n",
              "      <td>NaN</td>\n",
              "      <td>LARCENY/THEFT</td>\n",
              "      <td>PETTY THEFT OF PROPERTY</td>\n",
              "      <td>Friday</td>\n",
              "      <td>07/04/2014 07:00:00 AM +0000</td>\n",
              "      <td>15:30</td>\n",
              "      <td>RICHMOND</td>\n",
              "      <td>NONE</td>\n",
              "      <td>3900.0 Block of GEARY BL</td>\n",
              "      <td>-122.461295</td>\n",
              "      <td>37.781181</td>\n",
              "      <td>(37.7811812287207, -122.461294686397)</td>\n",
              "      <td>7</td>\n",
              "      <td>4</td>\n",
              "    </tr>\n",
              "  </tbody>\n",
              "</table>\n",
              "<p>341 rows × 14 columns</p>\n",
              "</div>"
            ],
            "text/plain": [
              "       IncidntNum        Category  ... Month Day\n",
              "19087         NaN   LARCENY/THEFT  ...     7   4\n",
              "19088         NaN   LARCENY/THEFT  ...     7   4\n",
              "19089         NaN        BURGLARY  ...     7   4\n",
              "19090         NaN    NON-CRIMINAL  ...     7   4\n",
              "19091         NaN         ASSAULT  ...     7   4\n",
              "...           ...             ...  ...   ...  ..\n",
              "19423         NaN   LARCENY/THEFT  ...     7   4\n",
              "19424         NaN  OTHER OFFENSES  ...     7   4\n",
              "19425         NaN   LARCENY/THEFT  ...     7   4\n",
              "19426         NaN   LARCENY/THEFT  ...     7   4\n",
              "19427         NaN   LARCENY/THEFT  ...     7   4\n",
              "\n",
              "[341 rows x 14 columns]"
            ]
          },
          "metadata": {
            "tags": []
          },
          "execution_count": 30
        }
      ]
    },
    {
      "cell_type": "markdown",
      "metadata": {
        "id": "V3JAk_fd5vof"
      },
      "source": [
        "## Analysis Using Correlation\n",
        "\n",
        "* “Correlation does not imply causation”\n",
        "* Causation is a relationship in which one thing changes, or is created, directly because of something else.\n",
        "* Correlation is a relationship between phenomena in which two or more things change at a similar rate.\n",
        "* Correlations can be positive or negative\n",
        "* Correlations can be calculated for multiple variables simultaneously\n",
        "* Heat map\n",
        "  \n",
        "  values for correlation coefficients relate to one another\n"
      ]
    },
    {
      "cell_type": "code",
      "metadata": {
        "id": "cN0FCwZa5jki"
      },
      "source": [
        "import pandas as pd\n",
        "brainFile = '/content/drive/My Drive/Colab Notebooks/Dataset/brainsize.txt'\n",
        "\n",
        "brainFrame = pd.read_csv(brainFile)"
      ],
      "execution_count": null,
      "outputs": []
    },
    {
      "cell_type": "code",
      "metadata": {
        "colab": {
          "base_uri": "https://localhost:8080/",
          "height": 195
        },
        "id": "Xo8cN0VR5FVb",
        "outputId": "60c7da78-b597-448c-9cbf-fc3f9b2fd72c"
      },
      "source": [
        "brainFrame.head()"
      ],
      "execution_count": null,
      "outputs": [
        {
          "output_type": "execute_result",
          "data": {
            "text/html": [
              "<div>\n",
              "<style scoped>\n",
              "    .dataframe tbody tr th:only-of-type {\n",
              "        vertical-align: middle;\n",
              "    }\n",
              "\n",
              "    .dataframe tbody tr th {\n",
              "        vertical-align: top;\n",
              "    }\n",
              "\n",
              "    .dataframe thead th {\n",
              "        text-align: right;\n",
              "    }\n",
              "</style>\n",
              "<table border=\"1\" class=\"dataframe\">\n",
              "  <thead>\n",
              "    <tr style=\"text-align: right;\">\n",
              "      <th></th>\n",
              "      <th>Gender</th>\n",
              "      <th>FSIQ</th>\n",
              "      <th>VIQ</th>\n",
              "      <th>PIQ</th>\n",
              "      <th>Weight</th>\n",
              "      <th>Height</th>\n",
              "      <th>MRI_Count</th>\n",
              "    </tr>\n",
              "  </thead>\n",
              "  <tbody>\n",
              "    <tr>\n",
              "      <th>0</th>\n",
              "      <td>Female</td>\n",
              "      <td>133</td>\n",
              "      <td>132</td>\n",
              "      <td>124</td>\n",
              "      <td>118.0</td>\n",
              "      <td>64.5</td>\n",
              "      <td>816932</td>\n",
              "    </tr>\n",
              "    <tr>\n",
              "      <th>1</th>\n",
              "      <td>Male</td>\n",
              "      <td>140</td>\n",
              "      <td>150</td>\n",
              "      <td>124</td>\n",
              "      <td>NaN</td>\n",
              "      <td>72.5</td>\n",
              "      <td>1001121</td>\n",
              "    </tr>\n",
              "    <tr>\n",
              "      <th>2</th>\n",
              "      <td>Male</td>\n",
              "      <td>139</td>\n",
              "      <td>123</td>\n",
              "      <td>150</td>\n",
              "      <td>143.0</td>\n",
              "      <td>73.3</td>\n",
              "      <td>1038437</td>\n",
              "    </tr>\n",
              "    <tr>\n",
              "      <th>3</th>\n",
              "      <td>Male</td>\n",
              "      <td>133</td>\n",
              "      <td>129</td>\n",
              "      <td>128</td>\n",
              "      <td>172.0</td>\n",
              "      <td>68.8</td>\n",
              "      <td>965353</td>\n",
              "    </tr>\n",
              "    <tr>\n",
              "      <th>4</th>\n",
              "      <td>Female</td>\n",
              "      <td>137</td>\n",
              "      <td>132</td>\n",
              "      <td>134</td>\n",
              "      <td>147.0</td>\n",
              "      <td>65.0</td>\n",
              "      <td>951545</td>\n",
              "    </tr>\n",
              "  </tbody>\n",
              "</table>\n",
              "</div>"
            ],
            "text/plain": [
              "   Gender  FSIQ  VIQ  PIQ  Weight  Height  MRI_Count\n",
              "0  Female   133  132  124   118.0    64.5     816932\n",
              "1    Male   140  150  124     NaN    72.5    1001121\n",
              "2    Male   139  123  150   143.0    73.3    1038437\n",
              "3    Male   133  129  128   172.0    68.8     965353\n",
              "4  Female   137  132  134   147.0    65.0     951545"
            ]
          },
          "metadata": {
            "tags": []
          },
          "execution_count": 33
        }
      ]
    },
    {
      "cell_type": "code",
      "metadata": {
        "colab": {
          "base_uri": "https://localhost:8080/",
          "height": 284
        },
        "id": "Sd7vqYT66YRl",
        "outputId": "f7c26f93-1ee3-4ecf-e809-27ea7c137f02"
      },
      "source": [
        "brainFrame.describe()"
      ],
      "execution_count": null,
      "outputs": [
        {
          "output_type": "execute_result",
          "data": {
            "text/html": [
              "<div>\n",
              "<style scoped>\n",
              "    .dataframe tbody tr th:only-of-type {\n",
              "        vertical-align: middle;\n",
              "    }\n",
              "\n",
              "    .dataframe tbody tr th {\n",
              "        vertical-align: top;\n",
              "    }\n",
              "\n",
              "    .dataframe thead th {\n",
              "        text-align: right;\n",
              "    }\n",
              "</style>\n",
              "<table border=\"1\" class=\"dataframe\">\n",
              "  <thead>\n",
              "    <tr style=\"text-align: right;\">\n",
              "      <th></th>\n",
              "      <th>FSIQ</th>\n",
              "      <th>VIQ</th>\n",
              "      <th>PIQ</th>\n",
              "      <th>Weight</th>\n",
              "      <th>Height</th>\n",
              "      <th>MRI_Count</th>\n",
              "    </tr>\n",
              "  </thead>\n",
              "  <tbody>\n",
              "    <tr>\n",
              "      <th>count</th>\n",
              "      <td>40.000000</td>\n",
              "      <td>40.000000</td>\n",
              "      <td>40.00000</td>\n",
              "      <td>38.000000</td>\n",
              "      <td>39.000000</td>\n",
              "      <td>4.000000e+01</td>\n",
              "    </tr>\n",
              "    <tr>\n",
              "      <th>mean</th>\n",
              "      <td>113.450000</td>\n",
              "      <td>112.350000</td>\n",
              "      <td>111.02500</td>\n",
              "      <td>151.052632</td>\n",
              "      <td>68.525641</td>\n",
              "      <td>9.087550e+05</td>\n",
              "    </tr>\n",
              "    <tr>\n",
              "      <th>std</th>\n",
              "      <td>24.082071</td>\n",
              "      <td>23.616107</td>\n",
              "      <td>22.47105</td>\n",
              "      <td>23.478509</td>\n",
              "      <td>3.994649</td>\n",
              "      <td>7.228205e+04</td>\n",
              "    </tr>\n",
              "    <tr>\n",
              "      <th>min</th>\n",
              "      <td>77.000000</td>\n",
              "      <td>71.000000</td>\n",
              "      <td>72.00000</td>\n",
              "      <td>106.000000</td>\n",
              "      <td>62.000000</td>\n",
              "      <td>7.906190e+05</td>\n",
              "    </tr>\n",
              "    <tr>\n",
              "      <th>25%</th>\n",
              "      <td>89.750000</td>\n",
              "      <td>90.000000</td>\n",
              "      <td>88.25000</td>\n",
              "      <td>135.250000</td>\n",
              "      <td>66.000000</td>\n",
              "      <td>8.559185e+05</td>\n",
              "    </tr>\n",
              "    <tr>\n",
              "      <th>50%</th>\n",
              "      <td>116.500000</td>\n",
              "      <td>113.000000</td>\n",
              "      <td>115.00000</td>\n",
              "      <td>146.500000</td>\n",
              "      <td>68.000000</td>\n",
              "      <td>9.053990e+05</td>\n",
              "    </tr>\n",
              "    <tr>\n",
              "      <th>75%</th>\n",
              "      <td>135.500000</td>\n",
              "      <td>129.750000</td>\n",
              "      <td>128.00000</td>\n",
              "      <td>172.000000</td>\n",
              "      <td>70.500000</td>\n",
              "      <td>9.500780e+05</td>\n",
              "    </tr>\n",
              "    <tr>\n",
              "      <th>max</th>\n",
              "      <td>144.000000</td>\n",
              "      <td>150.000000</td>\n",
              "      <td>150.00000</td>\n",
              "      <td>192.000000</td>\n",
              "      <td>77.000000</td>\n",
              "      <td>1.079549e+06</td>\n",
              "    </tr>\n",
              "  </tbody>\n",
              "</table>\n",
              "</div>"
            ],
            "text/plain": [
              "             FSIQ         VIQ        PIQ      Weight     Height     MRI_Count\n",
              "count   40.000000   40.000000   40.00000   38.000000  39.000000  4.000000e+01\n",
              "mean   113.450000  112.350000  111.02500  151.052632  68.525641  9.087550e+05\n",
              "std     24.082071   23.616107   22.47105   23.478509   3.994649  7.228205e+04\n",
              "min     77.000000   71.000000   72.00000  106.000000  62.000000  7.906190e+05\n",
              "25%     89.750000   90.000000   88.25000  135.250000  66.000000  8.559185e+05\n",
              "50%    116.500000  113.000000  115.00000  146.500000  68.000000  9.053990e+05\n",
              "75%    135.500000  129.750000  128.00000  172.000000  70.500000  9.500780e+05\n",
              "max    144.000000  150.000000  150.00000  192.000000  77.000000  1.079549e+06"
            ]
          },
          "metadata": {
            "tags": []
          },
          "execution_count": 34
        }
      ]
    },
    {
      "cell_type": "code",
      "metadata": {
        "id": "RMgGbz836ab2"
      },
      "source": [
        "# separate the data\n",
        "menDf = brainFrame[(brainFrame.Gender == 'Male')]\n",
        "womenDf = brainFrame[(brainFrame.Gender == 'Female')]"
      ],
      "execution_count": null,
      "outputs": []
    },
    {
      "cell_type": "code",
      "metadata": {
        "colab": {
          "base_uri": "https://localhost:8080/",
          "height": 276
        },
        "id": "CXKwElf86c3Q",
        "outputId": "ddb9aa71-2861-4df5-8d17-eb82923434cd"
      },
      "source": [
        "# Plot the graphs\n",
        "menMeanSmarts = menDf[[\"PIQ\", \"FSIQ\", \"VIQ\"]].mean(axis=1)\n",
        "plt.scatter(menMeanSmarts, menDf[\"MRI_Count\"])\n",
        "plt.show()\n",
        "%matplotlib inline"
      ],
      "execution_count": null,
      "outputs": [
        {
          "output_type": "display_data",
          "data": {
            "image/png": "[encoded data removed]",
            "text/plain": [
              "<Figure size 432x288 with 1 Axes>"
            ]
          },
          "metadata": {
            "tags": [],
            "needs_background": "light"
          }
        }
      ]
    },
    {
      "cell_type": "code",
      "metadata": {
        "colab": {
          "base_uri": "https://localhost:8080/",
          "height": 276
        },
        "id": "HMdelzpn6fTY",
        "outputId": "9d464267-82f4-4cb8-fded-3b04e19cafdd"
      },
      "source": [
        "womenMeanSmarts = womenDf[[\"PIQ\", \"FSIQ\", \"VIQ\"]].mean(axis=1)\n",
        "plt.scatter(womenMeanSmarts, womenDf[\"MRI_Count\"])\n",
        "\n",
        "plt.show()\n",
        "%matplotlib inline"
      ],
      "execution_count": null,
      "outputs": [
        {
          "output_type": "display_data",
          "data": {
            "image/png": "[encoded data removed]",
            "text/plain": [
              "<Figure size 432x288 with 1 Axes>"
            ]
          },
          "metadata": {
            "tags": [],
            "needs_background": "light"
          }
        }
      ]
    },
    {
      "cell_type": "code",
      "metadata": {
        "colab": {
          "base_uri": "https://localhost:8080/",
          "height": 225
        },
        "id": "8TEviwLZ6jpF",
        "outputId": "92f1a4b4-6c50-4a96-b564-6688c2edc16a"
      },
      "source": [
        "brainFrame.corr(method='pearson')"
      ],
      "execution_count": null,
      "outputs": [
        {
          "output_type": "execute_result",
          "data": {
            "text/html": [
              "<div>\n",
              "<style scoped>\n",
              "    .dataframe tbody tr th:only-of-type {\n",
              "        vertical-align: middle;\n",
              "    }\n",
              "\n",
              "    .dataframe tbody tr th {\n",
              "        vertical-align: top;\n",
              "    }\n",
              "\n",
              "    .dataframe thead th {\n",
              "        text-align: right;\n",
              "    }\n",
              "</style>\n",
              "<table border=\"1\" class=\"dataframe\">\n",
              "  <thead>\n",
              "    <tr style=\"text-align: right;\">\n",
              "      <th></th>\n",
              "      <th>FSIQ</th>\n",
              "      <th>VIQ</th>\n",
              "      <th>PIQ</th>\n",
              "      <th>Weight</th>\n",
              "      <th>Height</th>\n",
              "      <th>MRI_Count</th>\n",
              "    </tr>\n",
              "  </thead>\n",
              "  <tbody>\n",
              "    <tr>\n",
              "      <th>FSIQ</th>\n",
              "      <td>1.000000</td>\n",
              "      <td>0.946639</td>\n",
              "      <td>0.934125</td>\n",
              "      <td>-0.051483</td>\n",
              "      <td>-0.086002</td>\n",
              "      <td>0.357641</td>\n",
              "    </tr>\n",
              "    <tr>\n",
              "      <th>VIQ</th>\n",
              "      <td>0.946639</td>\n",
              "      <td>1.000000</td>\n",
              "      <td>0.778135</td>\n",
              "      <td>-0.076088</td>\n",
              "      <td>-0.071068</td>\n",
              "      <td>0.337478</td>\n",
              "    </tr>\n",
              "    <tr>\n",
              "      <th>PIQ</th>\n",
              "      <td>0.934125</td>\n",
              "      <td>0.778135</td>\n",
              "      <td>1.000000</td>\n",
              "      <td>0.002512</td>\n",
              "      <td>-0.076723</td>\n",
              "      <td>0.386817</td>\n",
              "    </tr>\n",
              "    <tr>\n",
              "      <th>Weight</th>\n",
              "      <td>-0.051483</td>\n",
              "      <td>-0.076088</td>\n",
              "      <td>0.002512</td>\n",
              "      <td>1.000000</td>\n",
              "      <td>0.699614</td>\n",
              "      <td>0.513378</td>\n",
              "    </tr>\n",
              "    <tr>\n",
              "      <th>Height</th>\n",
              "      <td>-0.086002</td>\n",
              "      <td>-0.071068</td>\n",
              "      <td>-0.076723</td>\n",
              "      <td>0.699614</td>\n",
              "      <td>1.000000</td>\n",
              "      <td>0.601712</td>\n",
              "    </tr>\n",
              "    <tr>\n",
              "      <th>MRI_Count</th>\n",
              "      <td>0.357641</td>\n",
              "      <td>0.337478</td>\n",
              "      <td>0.386817</td>\n",
              "      <td>0.513378</td>\n",
              "      <td>0.601712</td>\n",
              "      <td>1.000000</td>\n",
              "    </tr>\n",
              "  </tbody>\n",
              "</table>\n",
              "</div>"
            ],
            "text/plain": [
              "               FSIQ       VIQ       PIQ    Weight    Height  MRI_Count\n",
              "FSIQ       1.000000  0.946639  0.934125 -0.051483 -0.086002   0.357641\n",
              "VIQ        0.946639  1.000000  0.778135 -0.076088 -0.071068   0.337478\n",
              "PIQ        0.934125  0.778135  1.000000  0.002512 -0.076723   0.386817\n",
              "Weight    -0.051483 -0.076088  0.002512  1.000000  0.699614   0.513378\n",
              "Height    -0.086002 -0.071068 -0.076723  0.699614  1.000000   0.601712\n",
              "MRI_Count  0.357641  0.337478  0.386817  0.513378  0.601712   1.000000"
            ]
          },
          "metadata": {
            "tags": []
          },
          "execution_count": 38
        }
      ]
    },
    {
      "cell_type": "code",
      "metadata": {
        "colab": {
          "base_uri": "https://localhost:8080/",
          "height": 225
        },
        "id": "5CcmJIgI6kgf",
        "outputId": "e2990c7a-65a3-41b2-ca54-6cd46c2e33cc"
      },
      "source": [
        "womenDf.corr(method='pearson')"
      ],
      "execution_count": null,
      "outputs": [
        {
          "output_type": "execute_result",
          "data": {
            "text/html": [
              "<div>\n",
              "<style scoped>\n",
              "    .dataframe tbody tr th:only-of-type {\n",
              "        vertical-align: middle;\n",
              "    }\n",
              "\n",
              "    .dataframe tbody tr th {\n",
              "        vertical-align: top;\n",
              "    }\n",
              "\n",
              "    .dataframe thead th {\n",
              "        text-align: right;\n",
              "    }\n",
              "</style>\n",
              "<table border=\"1\" class=\"dataframe\">\n",
              "  <thead>\n",
              "    <tr style=\"text-align: right;\">\n",
              "      <th></th>\n",
              "      <th>FSIQ</th>\n",
              "      <th>VIQ</th>\n",
              "      <th>PIQ</th>\n",
              "      <th>Weight</th>\n",
              "      <th>Height</th>\n",
              "      <th>MRI_Count</th>\n",
              "    </tr>\n",
              "  </thead>\n",
              "  <tbody>\n",
              "    <tr>\n",
              "      <th>FSIQ</th>\n",
              "      <td>1.000000</td>\n",
              "      <td>0.955717</td>\n",
              "      <td>0.939382</td>\n",
              "      <td>0.038192</td>\n",
              "      <td>-0.059011</td>\n",
              "      <td>0.325697</td>\n",
              "    </tr>\n",
              "    <tr>\n",
              "      <th>VIQ</th>\n",
              "      <td>0.955717</td>\n",
              "      <td>1.000000</td>\n",
              "      <td>0.802652</td>\n",
              "      <td>-0.021889</td>\n",
              "      <td>-0.146453</td>\n",
              "      <td>0.254933</td>\n",
              "    </tr>\n",
              "    <tr>\n",
              "      <th>PIQ</th>\n",
              "      <td>0.939382</td>\n",
              "      <td>0.802652</td>\n",
              "      <td>1.000000</td>\n",
              "      <td>0.113901</td>\n",
              "      <td>-0.001242</td>\n",
              "      <td>0.396157</td>\n",
              "    </tr>\n",
              "    <tr>\n",
              "      <th>Weight</th>\n",
              "      <td>0.038192</td>\n",
              "      <td>-0.021889</td>\n",
              "      <td>0.113901</td>\n",
              "      <td>1.000000</td>\n",
              "      <td>0.552357</td>\n",
              "      <td>0.446271</td>\n",
              "    </tr>\n",
              "    <tr>\n",
              "      <th>Height</th>\n",
              "      <td>-0.059011</td>\n",
              "      <td>-0.146453</td>\n",
              "      <td>-0.001242</td>\n",
              "      <td>0.552357</td>\n",
              "      <td>1.000000</td>\n",
              "      <td>0.174541</td>\n",
              "    </tr>\n",
              "    <tr>\n",
              "      <th>MRI_Count</th>\n",
              "      <td>0.325697</td>\n",
              "      <td>0.254933</td>\n",
              "      <td>0.396157</td>\n",
              "      <td>0.446271</td>\n",
              "      <td>0.174541</td>\n",
              "      <td>1.000000</td>\n",
              "    </tr>\n",
              "  </tbody>\n",
              "</table>\n",
              "</div>"
            ],
            "text/plain": [
              "               FSIQ       VIQ       PIQ    Weight    Height  MRI_Count\n",
              "FSIQ       1.000000  0.955717  0.939382  0.038192 -0.059011   0.325697\n",
              "VIQ        0.955717  1.000000  0.802652 -0.021889 -0.146453   0.254933\n",
              "PIQ        0.939382  0.802652  1.000000  0.113901 -0.001242   0.396157\n",
              "Weight     0.038192 -0.021889  0.113901  1.000000  0.552357   0.446271\n",
              "Height    -0.059011 -0.146453 -0.001242  0.552357  1.000000   0.174541\n",
              "MRI_Count  0.325697  0.254933  0.396157  0.446271  0.174541   1.000000"
            ]
          },
          "metadata": {
            "tags": []
          },
          "execution_count": 39
        }
      ]
    },
    {
      "cell_type": "code",
      "metadata": {
        "colab": {
          "base_uri": "https://localhost:8080/",
          "height": 225
        },
        "id": "jB6tJDwO6mhq",
        "outputId": "62099eac-d0fc-48a1-d91f-db1c160348dc"
      },
      "source": [
        "menDf.corr(method='pearson')"
      ],
      "execution_count": null,
      "outputs": [
        {
          "output_type": "execute_result",
          "data": {
            "text/html": [
              "<div>\n",
              "<style scoped>\n",
              "    .dataframe tbody tr th:only-of-type {\n",
              "        vertical-align: middle;\n",
              "    }\n",
              "\n",
              "    .dataframe tbody tr th {\n",
              "        vertical-align: top;\n",
              "    }\n",
              "\n",
              "    .dataframe thead th {\n",
              "        text-align: right;\n",
              "    }\n",
              "</style>\n",
              "<table border=\"1\" class=\"dataframe\">\n",
              "  <thead>\n",
              "    <tr style=\"text-align: right;\">\n",
              "      <th></th>\n",
              "      <th>FSIQ</th>\n",
              "      <th>VIQ</th>\n",
              "      <th>PIQ</th>\n",
              "      <th>Weight</th>\n",
              "      <th>Height</th>\n",
              "      <th>MRI_Count</th>\n",
              "    </tr>\n",
              "  </thead>\n",
              "  <tbody>\n",
              "    <tr>\n",
              "      <th>FSIQ</th>\n",
              "      <td>1.000000</td>\n",
              "      <td>0.944400</td>\n",
              "      <td>0.930694</td>\n",
              "      <td>-0.278140</td>\n",
              "      <td>-0.356110</td>\n",
              "      <td>0.498369</td>\n",
              "    </tr>\n",
              "    <tr>\n",
              "      <th>VIQ</th>\n",
              "      <td>0.944400</td>\n",
              "      <td>1.000000</td>\n",
              "      <td>0.766021</td>\n",
              "      <td>-0.350453</td>\n",
              "      <td>-0.355588</td>\n",
              "      <td>0.413105</td>\n",
              "    </tr>\n",
              "    <tr>\n",
              "      <th>PIQ</th>\n",
              "      <td>0.930694</td>\n",
              "      <td>0.766021</td>\n",
              "      <td>1.000000</td>\n",
              "      <td>-0.156863</td>\n",
              "      <td>-0.287676</td>\n",
              "      <td>0.568237</td>\n",
              "    </tr>\n",
              "    <tr>\n",
              "      <th>Weight</th>\n",
              "      <td>-0.278140</td>\n",
              "      <td>-0.350453</td>\n",
              "      <td>-0.156863</td>\n",
              "      <td>1.000000</td>\n",
              "      <td>0.406542</td>\n",
              "      <td>-0.076875</td>\n",
              "    </tr>\n",
              "    <tr>\n",
              "      <th>Height</th>\n",
              "      <td>-0.356110</td>\n",
              "      <td>-0.355588</td>\n",
              "      <td>-0.287676</td>\n",
              "      <td>0.406542</td>\n",
              "      <td>1.000000</td>\n",
              "      <td>0.301543</td>\n",
              "    </tr>\n",
              "    <tr>\n",
              "      <th>MRI_Count</th>\n",
              "      <td>0.498369</td>\n",
              "      <td>0.413105</td>\n",
              "      <td>0.568237</td>\n",
              "      <td>-0.076875</td>\n",
              "      <td>0.301543</td>\n",
              "      <td>1.000000</td>\n",
              "    </tr>\n",
              "  </tbody>\n",
              "</table>\n",
              "</div>"
            ],
            "text/plain": [
              "               FSIQ       VIQ       PIQ    Weight    Height  MRI_Count\n",
              "FSIQ       1.000000  0.944400  0.930694 -0.278140 -0.356110   0.498369\n",
              "VIQ        0.944400  1.000000  0.766021 -0.350453 -0.355588   0.413105\n",
              "PIQ        0.930694  0.766021  1.000000 -0.156863 -0.287676   0.568237\n",
              "Weight    -0.278140 -0.350453 -0.156863  1.000000  0.406542  -0.076875\n",
              "Height    -0.356110 -0.355588 -0.287676  0.406542  1.000000   0.301543\n",
              "MRI_Count  0.498369  0.413105  0.568237 -0.076875  0.301543   1.000000"
            ]
          },
          "metadata": {
            "tags": []
          },
          "execution_count": 40
        }
      ]
    },
    {
      "cell_type": "code",
      "metadata": {
        "colab": {
          "base_uri": "https://localhost:8080/",
          "height": 300
        },
        "id": "l57E_b6P6onq",
        "outputId": "79d56221-f64d-4ade-dbea-d53361d9d125"
      },
      "source": [
        "import seaborn as sns\n",
        "\n",
        "wcorr = womenDf.corr()\n",
        "sns.heatmap(wcorr)"
      ],
      "execution_count": null,
      "outputs": [
        {
          "output_type": "execute_result",
          "data": {
            "text/plain": [
              "<matplotlib.axes._subplots.AxesSubplot at 0x7f5b1f988250>"
            ]
          },
          "metadata": {
            "tags": []
          },
          "execution_count": 41
        },
        {
          "output_type": "display_data",
          "data": {
            "image/png": "[encoded data removed]",
            "text/plain": [
              "<Figure size 432x288 with 2 Axes>"
            ]
          },
          "metadata": {
            "tags": [],
            "needs_background": "light"
          }
        }
      ]
    },
    {
      "cell_type": "code",
      "metadata": {
        "colab": {
          "base_uri": "https://localhost:8080/",
          "height": 300
        },
        "id": "wCFjKXXJ6q5-",
        "outputId": "02777b2e-3b15-4511-a0ec-d1a04889065a"
      },
      "source": [
        "mcorr = menDf.corr()\n",
        "sns.heatmap(mcorr)"
      ],
      "execution_count": null,
      "outputs": [
        {
          "output_type": "execute_result",
          "data": {
            "text/plain": [
              "<matplotlib.axes._subplots.AxesSubplot at 0x7f5b1f91db10>"
            ]
          },
          "metadata": {
            "tags": []
          },
          "execution_count": 42
        },
        {
          "output_type": "display_data",
          "data": {
            "image/png": "[encoded data removed]",
            "text/plain": [
              "<Figure size 432x288 with 2 Axes>"
            ]
          },
          "metadata": {
            "tags": [],
            "needs_background": "light"
          }
        }
      ]
    },
    {
      "cell_type": "code",
      "metadata": {
        "colab": {
          "base_uri": "https://localhost:8080/",
          "height": 136
        },
        "id": "Gr5NXjk38LBi",
        "outputId": "faec8a9f-d01f-4c3b-8b4d-73d32ea482a7"
      },
      "source": [
        "# Check correlation of data prior to doing the analysis\n",
        "salesDist.corr()"
      ],
      "execution_count": null,
      "outputs": [
        {
          "output_type": "execute_result",
          "data": {
            "text/html": [
              "<div>\n",
              "<style scoped>\n",
              "    .dataframe tbody tr th:only-of-type {\n",
              "        vertical-align: middle;\n",
              "    }\n",
              "\n",
              "    .dataframe tbody tr th {\n",
              "        vertical-align: top;\n",
              "    }\n",
              "\n",
              "    .dataframe thead th {\n",
              "        text-align: right;\n",
              "    }\n",
              "</style>\n",
              "<table border=\"1\" class=\"dataframe\">\n",
              "  <thead>\n",
              "    <tr style=\"text-align: right;\">\n",
              "      <th></th>\n",
              "      <th>district</th>\n",
              "      <th>sales</th>\n",
              "      <th>stores</th>\n",
              "    </tr>\n",
              "  </thead>\n",
              "  <tbody>\n",
              "    <tr>\n",
              "      <th>district</th>\n",
              "      <td>1.000000</td>\n",
              "      <td>0.136103</td>\n",
              "      <td>-0.230617</td>\n",
              "    </tr>\n",
              "    <tr>\n",
              "      <th>sales</th>\n",
              "      <td>0.136103</td>\n",
              "      <td>1.000000</td>\n",
              "      <td>-0.912236</td>\n",
              "    </tr>\n",
              "    <tr>\n",
              "      <th>stores</th>\n",
              "      <td>-0.230617</td>\n",
              "      <td>-0.912236</td>\n",
              "      <td>1.000000</td>\n",
              "    </tr>\n",
              "  </tbody>\n",
              "</table>\n",
              "</div>"
            ],
            "text/plain": [
              "          district     sales    stores\n",
              "district  1.000000  0.136103 -0.230617\n",
              "sales     0.136103  1.000000 -0.912236\n",
              "stores   -0.230617 -0.912236  1.000000"
            ]
          },
          "metadata": {
            "tags": []
          },
          "execution_count": 47
        }
      ]
    }
  ]
}